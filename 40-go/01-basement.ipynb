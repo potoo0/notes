{
 "cells": [
  {
   "cell_type": "markdown",
   "id": "31b6cf01-f602-4db5-b443-4e0b6ca5e869",
   "metadata": {},
   "source": [
    "- [go doc effective_go](https://go.dev/doc/effective_go)\n",
    "- jupyter kernel: [GoNB](https://github.com/janpfeifer/gonb)"
   ]
  },
  {
   "cell_type": "markdown",
   "id": "4620a31c-a5d6-461a-a7c7-402d186f15af",
   "metadata": {
    "tags": []
   },
   "source": [
    "## 0. fmt\n",
    "\n",
    "[fmt doc](https://pkg.go.dev/fmt)"
   ]
  },
  {
   "cell_type": "markdown",
   "id": "70b07c3c-c054-4cbe-9667-dc7a39d435ee",
   "metadata": {},
   "source": [
    "General:\n",
    "\n",
    "| verb | doc |\n",
    "|:--|:--|\n",
    "| `%v`| the value in a default format, when printing structs, the plus flag (%+v) adds field names |\n",
    "| `%#v`| a Go-syntax representation of the value |\n",
    "| `%T`| a Go-syntax representation of the type of the value |\n",
    "| `%%`| a literal percent sign; consumes no value |\n",
    "\n",
    "Integer:\n",
    "\n",
    "| verb | doc |\n",
    "|:--|:--|\n",
    "| `%b`| base 2 |\n",
    "| `%c`| the character represented by the corresponding Unicode code point |\n",
    "| `%d`| base 10 |"
   ]
  },
  {
   "cell_type": "markdown",
   "id": "ca381ce4-6f04-450e-a18e-5b7809822cc2",
   "metadata": {},
   "source": [
    "- `any`: go 1.18 alias of interface{}: `type any = interface{}`\n",
    "- `Type assertions`: For an expression x of interface type, but not a type parameter, and a type T, the primary expression:  \n",
    "  `x.(T)`"
   ]
  },
  {
   "cell_type": "code",
   "execution_count": null,
   "id": "0f930e50-c54e-40c4-805d-7c6bb8d7a193",
   "metadata": {
    "tags": []
   },
   "outputs": [],
   "source": []
  },
  {
   "cell_type": "markdown",
   "id": "fa6c1eb9-f692-43a6-83d5-627b80803f94",
   "metadata": {},
   "source": [
    "## 1. variable\n",
    "\n",
    "`_`: blank identifier, 用来存储不需要的导包和变量"
   ]
  },
  {
   "cell_type": "code",
   "execution_count": 33,
   "id": "4f1c9f4d-deb8-4124-892d-005059deb6c1",
   "metadata": {
    "tags": []
   },
   "outputs": [
    {
     "name": "stderr",
     "output_type": "stream",
     "text": [
      "1 1\n",
      "0 1 2 2 3 300\n"
     ]
    }
   ],
   "source": [
    "%main\n",
    "// 变量\n",
    "var _ int\n",
    "_ = 10\n",
    "\n",
    "var _ = 10\n",
    "\n",
    "var (\n",
    "    _ int\n",
    "    _ = 'a'\n",
    ")\n",
    "var _, _ = 1, 1\n",
    "v1, v2 := 1, 1\n",
    "println(v1, v2)\n",
    "\n",
    "\n",
    "// 常量\n",
    "const _ = 10\n",
    "\n",
    "// 常量中 iota: 整数序号\n",
    "const (\n",
    "    c31 = iota\n",
    "    c32, c33 = iota, iota + 1\n",
    "    c34, c35\n",
    "    c36 = 100 * iota\n",
    ")\n",
    "println(c31, c32, c33, c34, c35, c36)"
   ]
  },
  {
   "cell_type": "code",
   "execution_count": null,
   "id": "12f93925-fa5f-48e6-9dfa-33157871386a",
   "metadata": {
    "tags": []
   },
   "outputs": [],
   "source": []
  },
  {
   "cell_type": "markdown",
   "id": "8d539c78-6a5c-48b8-adc3-c6f3683947e7",
   "metadata": {
    "tags": []
   },
   "source": [
    "## 2. function"
   ]
  },
  {
   "cell_type": "code",
   "execution_count": 37,
   "id": "51acbfb0-e955-44c6-9613-7cdb8af1bd6e",
   "metadata": {
    "tags": []
   },
   "outputs": [
    {
     "name": "stdout",
     "output_type": "stream",
     "text": [
      "main\n",
      "idx: 0, value: 1\n",
      "idx: 1, value: 2\n",
      "idx: 2, value: 3\n",
      "\n",
      "sum: 6 \n",
      "\n"
     ]
    }
   ],
   "source": [
    "/*\n",
    "func arrayStat(arr []int) (int, int) {\n",
    "    sum, avg := 0, 0\n",
    "    for idx, value := range arr {\n",
    "        sum += value\n",
    "        fmt.Printf(\"idx: %d, value: %d\\n\", idx, value)\n",
    "    }\n",
    "    return sum, avg\n",
    "}\n",
    "*/\n",
    "\n",
    "// Named result parameters\n",
    "func arrayStat(arr []int) (sum int, avg int) {\n",
    "    for idx, value := range arr {\n",
    "        sum += value\n",
    "        fmt.Printf(\"idx: %d, value: %d\\n\", idx, value)\n",
    "    }\n",
    "    return sum, avg\n",
    "}\n",
    "\n",
    "func main() {\n",
    "    fmt.Println(\"main\")\n",
    "\n",
    "    arr := []int{1, 2, 3}\n",
    "    sum, _ := arrayStat(arr)\n",
    "    fmt.Println(\"\\nsum:\", sum, \"\\n\")\n",
    "}"
   ]
  },
  {
   "cell_type": "markdown",
   "id": "d3eb36c4-4ec9-4eb8-bc92-819dac1f8b09",
   "metadata": {},
   "source": [
    "### defer\n",
    "\n",
    "The arguments to the deferred function (which include the receiver if the function is a method) are evaluated when the defer executes, not when the call executes.\n",
    "\n",
    "defer 的参数是在使用关键字 defer 处确定的，而不是真正执行时，所以不要担心 defer 的参数被改变"
   ]
  },
  {
   "cell_type": "code",
   "execution_count": 39,
   "id": "8f0ca1ab-8f45-4cd9-9fb5-5055a0ac0f0a",
   "metadata": {
    "tags": []
   },
   "outputs": [
    {
     "name": "stdout",
     "output_type": "stream",
     "text": [
      "main\n",
      "withDefer enter...\n",
      "defer in withDefer\n",
      "withDefer result: 2\n",
      " >>4 >>3 >>2 >>1 >>0"
     ]
    }
   ],
   "source": [
    "func withDefer(a int) int {\n",
    "    fmt.Println(\"withDefer enter...\")\n",
    "    defer fmt.Println(\"defer in withDefer\")\n",
    "    return a\n",
    "}\n",
    "\n",
    "func main() {\n",
    "    fmt.Println(\"main\")\n",
    "\n",
    "    a := withDefer(2)\n",
    "    fmt.Println(\"withDefer result:\", a)\n",
    "    \n",
    "\n",
    "    for i := 0; i < 5; i++ {\n",
    "        defer fmt.Printf(\" >>%d\", i)\n",
    "    }\n",
    "}"
   ]
  },
  {
   "cell_type": "markdown",
   "id": "b33e381e-3266-4f5e-b693-25bcc2c9fac6",
   "metadata": {},
   "source": [
    "## 3. pass by pointers vs. values"
   ]
  },
  {
   "cell_type": "code",
   "execution_count": 30,
   "id": "993be2c0-08ad-4a36-86c7-c69d9ca95ea2",
   "metadata": {
    "tags": []
   },
   "outputs": [
    {
     "name": "stdout",
     "output_type": "stream",
     "text": [
      "a: 0\n",
      "org: 0, after: 10\n",
      "a: 0, b: 10\n",
      "\n",
      "point:\n",
      "a: 0\n",
      "org: 0, after: 20\n",
      "a: 20, c: 20\n",
      "\n",
      "swap by point:\n",
      "b: 10, c: 20\n",
      "b: 20, c: 10\n"
     ]
    }
   ],
   "source": [
    "func passByValue(a int) int {\n",
    "    fmt.Printf(\"org: %d\", a)\n",
    "    a += 10\n",
    "    fmt.Printf(\", after: %d\\n\", a)\n",
    "    return a\n",
    "}\n",
    "\n",
    "func passValuePoint(pa *int) int {\n",
    "    fmt.Printf(\"org: %d\", *pa)\n",
    "    *pa += 20\n",
    "    fmt.Printf(\", after: %d\\n\", *pa)\n",
    "    return *pa\n",
    "}\n",
    "\n",
    "func swap(pa *int, pb *int) {\n",
    "    var temp int\n",
    "    temp = *pa\n",
    "    *pa = *pb\n",
    "    *pb = temp\n",
    "}\n",
    "\n",
    "func main() {\n",
    "    var a int\n",
    "    fmt.Printf(\"a: %d\\n\", a)\n",
    "    b := passByValue(a);\n",
    "    fmt.Printf(\"a: %d, b: %d\\n\", a, b)\n",
    "    \n",
    "    fmt.Printf(\"\\npoint:\\na: %d\\n\", a)\n",
    "    c := passValuePoint(&a)\n",
    "    fmt.Printf(\"a: %d, c: %d\\n\", a, c)\n",
    "    \n",
    "    fmt.Printf(\"\\nswap by point:\\nb: %d, c: %d\\n\", b, c)\n",
    "    swap(&b, &c)\n",
    "    fmt.Printf(\"b: %d, c: %d\\n\", b, c)\n",
    "}"
   ]
  },
  {
   "cell_type": "markdown",
   "id": "39884770-17a4-4d09-ae7b-c8b1ec350deb",
   "metadata": {},
   "source": [
    "## 4. arrays and slice"
   ]
  },
  {
   "cell_type": "markdown",
   "id": "9414d54d-a3d7-46e9-a1a6-c86c62b3f1a1",
   "metadata": {},
   "source": [
    "### 4.1 arrays\n",
    "\n",
    "- Arrays are **values**. Assigning one array to another copies all the elements.\n",
    "- In particular, if you pass an array to a function, it will receive a copy of the array, not a pointer to it.\n",
    "- The size of an array is part of its type. The types [10]int and [20]int are distinct."
   ]
  },
  {
   "cell_type": "code",
   "execution_count": 2,
   "id": "9b7bbcf1-2696-4b97-b26a-8d9a8e5297b7",
   "metadata": {
    "tags": []
   },
   "outputs": [],
   "source": [
    "func prtA3(arr [3]int) {\n",
    "    // if reflect.TypeOf(v).Kind() == reflect.Slice || reflect.TypeOf(v).Kind() == reflect.Array {\n",
    "        // arr := v.([3]int) // cannot cast to []any\n",
    "        fmt.Printf(\"array: %v,\\t type: %T,\\t len: %d,\\t cap: %d\\n\", arr, arr, len(arr), cap(arr))\n",
    "    // }\n",
    "}"
   ]
  },
  {
   "cell_type": "code",
   "execution_count": 36,
   "id": "42bcf3d1-8879-43e6-81ea-8e6dd1566f1f",
   "metadata": {
    "tags": []
   },
   "outputs": [
    {
     "name": "stdout",
     "output_type": "stream",
     "text": [
      "array: [1 0 0],\t type: [3]int,\t len: 3,\t cap: 3\n",
      "arr[1:2]: [0]\n",
      "0=1; 1=0; 2=0; \n",
      "array: [100 0 0],\t type: [3]int,\t len: 3,\t cap: 3\n",
      "array: [200 0 0],\t type: [3]int,\t len: 3,\t cap: 3\n",
      "array: [1 0 0],\t type: [3]int,\t len: 3,\t cap: 3\n",
      "array: [1 2 0],\t type: [3]int,\t len: 3,\t cap: 3\n"
     ]
    }
   ],
   "source": [
    "// array 是值类型，赋值和传递都是数组的复制; 数组长度也是类型的一部分, [3]int 与 [2]int 不一样\n",
    "func modifyArray(arr [3]int) {\n",
    "    // a copy of the org array\n",
    "    arr[0] = 100\n",
    "    prtA3(arr)\n",
    "\n",
    "    arr2 := arr\n",
    "    arr2[0] = 200\n",
    "    prtA3(arr2)\n",
    "}\n",
    "\n",
    "func iterArr(arr [3]int) {\n",
    "    for idx, value := range arr {\n",
    "        fmt.Printf(\"%d=%d; \", idx, value)\n",
    "    }\n",
    "    fmt.Println(\"\")\n",
    "}\n",
    "\n",
    "func main() {\n",
    "    var arr [3]int\n",
    "    arr = [3]int{1}\n",
    "    prtA3(arr)\n",
    "    // part of array\n",
    "    fmt.Printf(\"arr[1:2]: %+v\\n\", arr[1:2])\n",
    "    iterArr(arr)\n",
    "    modifyArray(arr)\n",
    "    prtA3(arr)\n",
    "    arr2 := [3]int{1, 2}\n",
    "    prtA3(arr2)\n",
    "}"
   ]
  },
  {
   "cell_type": "markdown",
   "id": "93cc2034-49a2-44e4-b6ff-b5486b0fef42",
   "metadata": {
    "tags": []
   },
   "source": [
    "### 4.2 slice"
   ]
  },
  {
   "cell_type": "code",
   "execution_count": 61,
   "id": "ed062056-de2c-40e0-b000-0de86e85a661",
   "metadata": {
    "tags": []
   },
   "outputs": [],
   "source": [
    "// go 1.18+ generics\n",
    "func prtSlice[T int | float32 | string](varName string, slice []T) {\n",
    "    if slice != nil {\n",
    "        fmt.Printf(\"%s:\\t %v, type: %T,\\t len: %d,\\t cap: %d\\n\", varName, slice, slice, len(slice), cap(slice))\n",
    "    } else {\n",
    "        fmt.Println(\"empty slice, plz alloc\")\n",
    "    }\n",
    "}\n",
    "\n",
    "func remove(slice []int, idx int) []int {\n",
    "    return append(slice[:idx], slice[idx+1:]...)\n",
    "}"
   ]
  },
  {
   "cell_type": "code",
   "execution_count": 63,
   "id": "a5dd2d4d-391c-4218-b07b-c223617238f9",
   "metadata": {},
   "outputs": [
    {
     "name": "stdout",
     "output_type": "stream",
     "text": [
      "slice org:\t [1 2 3], type: []int,\t len: 3,\t cap: 3\n",
      "empty slice, plz alloc\n",
      "sl1 make with len:\t [0 0 0 0 0 0 0 0 0 0 0 0 0 0 0 0 0 0], type: []int,\t len: 18,\t cap: 18\n",
      "sl2 make with len:\t [0 0 0 0 0 0 0 0 0 0 0 0 0 0 0], type: []int,\t len: 15,\t cap: 15\n",
      "sl2 make with len and cap:\t [0 0 0 0 0], type: []int,\t len: 5,\t cap: 7\n",
      "sl3:\t [100 0 0 0 0], type: []int,\t len: 5,\t cap: 7\n",
      "sl4 copy from sl3:\t [100 0 0 0 0], type: []int,\t len: 5,\t cap: 7\n",
      "sl41 slice from sl4:\t [0 0], type: []int,\t len: 2,\t cap: 5\n",
      "sl3:\t [100 0 0 0 0], type: []int,\t len: 5,\t cap: 7\n",
      "sl5 deep copy from sl3:\t [200], type: []int,\t len: 1,\t cap: 1\n",
      "sl3 append 301(no change, return new slice):\t [100 0 0 0 0], type: []int,\t len: 5,\t cap: 7\n",
      "sl6 append res:\t [100 0 0 0 0 301], type: []int,\t len: 6,\t cap: 7\n",
      "sl5 append 302,303(no change, return new slice):\t [200], type: []int,\t len: 1,\t cap: 1\n",
      "sl5 append res:\t [200 302 303], type: []int,\t len: 3,\t cap: 3\n",
      "sl3 remove at 2:\t [100 0 0 0 0], type: []int,\t len: 5,\t cap: 7\n",
      "sl3 remove res at 2:\t [100 0 0 0], type: []int,\t len: 4,\t cap: 7\n",
      "100,200,300,400,500,"
     ]
    }
   ],
   "source": [
    "%main\n",
    "slice := []int{1, 2, 3}\n",
    "prtSlice(\"slice org\", slice)\n",
    "\n",
    "// def and alloc by make\n",
    "var sl1 []int\n",
    "prtSlice(\"sl1 def\", sl1)\n",
    "sl1 = make([]int, 18)\n",
    "prtSlice(\"sl1 make with len\", sl1)\n",
    "\n",
    "var sl2 = make([]int, 15)\n",
    "prtSlice(\"sl2 make with len\", sl2)\n",
    "\n",
    "// make alloc cap and len\n",
    "sl3 := make([]int, 5, 7)\n",
    "prtSlice(\"sl2 make with len and cap\", sl3)\n",
    "\n",
    "// shallow copy\n",
    "sl4 := sl3\n",
    "sl41 := sl4[2:4]\n",
    "sl4[0] = 100\n",
    "prtSlice(\"sl3\", sl3)\n",
    "prtSlice(\"sl4 copy from sl3\", sl4)\n",
    "prtSlice(\"sl41 slice from sl4\", sl41)\n",
    "\n",
    "// deep copy, limit by dest cap\n",
    "sl5 := make([]int, 1)\n",
    "copy(sl5, sl3)\n",
    "sl5[0] = 200\n",
    "prtSlice(\"sl3\", sl3)\n",
    "prtSlice(\"sl5 deep copy from sl3\", sl5)\n",
    "\n",
    "// append sufficient cap\n",
    "sl6 := append(sl3, 301)\n",
    "prtSlice(\"sl3 append 301(no change, return new slice)\", sl3)\n",
    "prtSlice(\"sl6 append res\", sl6)\n",
    "// append insufficient cap \n",
    "sl7 := append(sl5, 302, 303)\n",
    "prtSlice(\"sl5 append 302,303(no change, return new slice)\", sl5)\n",
    "prtSlice(\"sl5 append res\", sl7)\n",
    "\n",
    "// remove ele by idx\n",
    "sl3Removed := remove(sl3, 2)\n",
    "prtSlice(\"sl3 remove at 2\", sl3)\n",
    "prtSlice(\"sl3 remove res at 2\", sl3Removed)\n",
    "\n",
    "// multi-dim\n",
    "multiDim := [][]int{\n",
    "    {100, 200},\n",
    "    {300},\n",
    "    {400, 500},\n",
    "}\n",
    "for _, fst := range multiDim {\n",
    "    for _, value := range fst {\n",
    "        fmt.Print(value, \",\")\n",
    "    }\n",
    "}"
   ]
  },
  {
   "cell_type": "markdown",
   "id": "b9693a73-d3d3-4f10-b142-27f233a2c37b",
   "metadata": {},
   "source": [
    "#### 函数传递注意\n",
    "\n",
    "slice 在函数传递如果参数不是指针时，传递的是 slice 的 header，此函数参数指向的是原 slice，修改会影响原 slice，但如果使用 append，remove 等会创建新 slice 的操作不会影响原 slice，除非传递指针，map 也类似。\n",
    "如下例子:"
   ]
  },
  {
   "cell_type": "code",
   "execution_count": 65,
   "id": "91480415-be05-48bf-9677-70842ab1b269",
   "metadata": {
    "tags": []
   },
   "outputs": [
    {
     "name": "stdout",
     "output_type": "stream",
     "text": [
      "slice before pass header:\t [1 2 3], type: []int,\t len: 3,\t cap: 3\n",
      "sl2 (slice):\t [1 200 3], type: []int,\t len: 3,\t cap: 3\n",
      "slice new:\t [1 200 3 10], type: []int,\t len: 4,\t cap: 6\n",
      "slice after pass header:\t [1 200 3], type: []int,\t len: 3,\t cap: 3\n",
      "-----------\n",
      "slice before pass pointer:\t [1 200 3], type: []int,\t len: 3,\t cap: 3\n",
      "sl2 (slice):\t [1 200 3], type: []int,\t len: 3,\t cap: 3\n",
      "slice new:\t [1 200 3 10], type: []int,\t len: 4,\t cap: 6\n",
      "slice after pass pointer:\t [1 200 3 10], type: []int,\t len: 4,\t cap: 6\n"
     ]
    }
   ],
   "source": [
    "func passSliceHeader(sl []int) {\n",
    "    // 下面的这些操作都是原 slice\n",
    "    // 此 sl sl2 指向的不是具体的 slice 而是其 header\n",
    "    // sl -> slice's header -> slice\n",
    "    sl2 := sl\n",
    "    sl2[1] = 200\n",
    "    prtSlice(\"sl2 (slice)\", sl2)\n",
    "\n",
    "    // append 会生成新 slice\n",
    "    // 此 sl 指向的是一个新 slice 的 header，没有改变原 sl 指向的 header 指向的值\n",
    "    // (sl -> slice's header -> slice) ==> (sl -> new slice's header -> new slice)\n",
    "    // sl = append(sl, 10) 分解等于\n",
    "    tmp := append(sl, 10); sl = tmp\n",
    "    prtSlice(\"slice new\", sl)\n",
    "}\n",
    "\n",
    "func passSlicePointer(sp *[]int) {\n",
    "    // sp 就是原 slice 的 header，直接指向的是具体的 slice 内存空间\n",
    "    // sl=slice's header -> slice\n",
    "    sl2 := *sp\n",
    "    sl2[1] = 200\n",
    "    prtSlice(\"sl2 (slice)\", sl2)\n",
    "\n",
    "    // append 会生成新 slice\n",
    "    // 此 sl 直接指向 slice 内存空间\n",
    "    // (sl=slice's header -> slice) => (sl=slice's header -> new slice)\n",
    "    // sl = append(sl, 10) 等于两步\n",
    "    tmp := append(*sp, 10); *sp = tmp\n",
    "    prtSlice(\"slice new\", *sp)\n",
    "}\n",
    "\n",
    "func main() {\n",
    "    slice := []int{1, 2, 3}\n",
    "    prtSlice(\"slice before pass header\", slice)\n",
    "    passSliceHeader(slice)\n",
    "    prtSlice(\"slice after pass header\", slice)\n",
    "    fmt.Println(\"-----------\")\n",
    "\n",
    "    prtSlice(\"slice before pass pointer\", slice)\n",
    "    passSlicePointer(&slice)\n",
    "    prtSlice(\"slice after pass pointer\", slice)\n",
    "}"
   ]
  },
  {
   "cell_type": "markdown",
   "id": "37a0f38b-ac74-41c6-a063-7a142c440452",
   "metadata": {},
   "source": [
    "## 5. map"
   ]
  },
  {
   "cell_type": "code",
   "execution_count": 98,
   "id": "54df9b81-fd97-4bce-97df-f495f9597ad6",
   "metadata": {
    "tags": []
   },
   "outputs": [
    {
     "name": "stdout",
     "output_type": "stream",
     "text": [
      "nil map\n",
      "mp1: map[1:10 2:20], len=2\n",
      "mp2: map[1:10 2:20]\n",
      "mp3: map[1:10 2:20]\n",
      "mp3 after delete: map[2:20]\n",
      "key=1 not exists!\n",
      "key= 2 value= 20\n",
      "mp modified: map[1:100 2:20 100:100]\n",
      "mp3 after pass: map[1:100 2:20 100:100]\n"
     ]
    }
   ],
   "source": [
    "func passMap(mp map[int]int) {\n",
    "    mp[1] = 100\n",
    "    mp[100] = 100\n",
    "    fmt.Printf(\"mp modified: %v\\n\", mp)\n",
    "}\n",
    "\n",
    "func main() {\n",
    "    // def map\n",
    "    var mp1 map[int]int\n",
    "    if mp1 == nil {\n",
    "        fmt.Println(\"nil map\")\n",
    "    }\n",
    "    // alloc, init with len = 1\n",
    "    mp1 = make(map[int]int, 1)\n",
    "    mp1[1] = 10\n",
    "    mp1[2] = 20\n",
    "    fmt.Printf(\"mp1: %v, len=%d\\n\", mp1, len(mp1))\n",
    "\n",
    "    // def and init\n",
    "    mp2 := make(map[int]int, 2)\n",
    "    mp2[1] = 10\n",
    "    mp2[2] = 20\n",
    "    fmt.Printf(\"mp2: %v\\n\", mp2)\n",
    "\n",
    "    // def, init with value\n",
    "    mp3 := map[int]int {\n",
    "        1: 10,\n",
    "        2: 20,\n",
    "    }\n",
    "    fmt.Printf(\"mp3: %v\\n\", mp3)\n",
    "\n",
    "    // delete kv by key\n",
    "    delete(mp3, 1)\n",
    "    fmt.Printf(\"mp3 after delete: %v\\n\", mp3)\n",
    "\n",
    "    // check key exist\n",
    "    _, exists := mp3[1]\n",
    "    if !exists {\n",
    "        fmt.Println(\"key=1 not exists!\")\n",
    "    }\n",
    "\n",
    "    // iter map\n",
    "    for k, v := range mp3 {\n",
    "        fmt.Println(\"key=\", k, \"value=\", v)\n",
    "    }\n",
    "\n",
    "    // pass to func, same to slice\n",
    "    passMap(mp3)\n",
    "    fmt.Printf(\"mp3 after pass: %v\\n\", mp3)\n",
    "}"
   ]
  },
  {
   "cell_type": "markdown",
   "id": "061ea942-8060-4aef-b17c-3c94bb0e672a",
   "metadata": {},
   "source": [
    "## 6. struct"
   ]
  },
  {
   "cell_type": "markdown",
   "id": "e16a681b-9c10-484c-b227-70d6f3424462",
   "metadata": {},
   "source": [
    "### 6.1 base\n",
    "\n",
    "与 `array/slice/map` 不同的是 `struct` 声明后就可以直接使用，其默认值不是 `nil`。\n",
    "> nil is the zero value for `pointers`, `interfaces`, `maps`, `slices`, `channels` and `function` types, representing an uninitialized value."
   ]
  },
  {
   "cell_type": "code",
   "execution_count": 125,
   "id": "0be648ec-ea04-417c-a11f-d2f80bef6ca9",
   "metadata": {
    "tags": []
   },
   "outputs": [
    {
     "name": "stdout",
     "output_type": "stream",
     "text": [
      "cat: {name:snow age:0}\n",
      "cat2: {name:1 age:2}\n",
      "cat3: {name: age:0}\n",
      "cat4: &{name: age:0}\n",
      "cat3 after pass: {name: age:0}\n",
      "cat3 after pass pointer: {name: age:10}\n"
     ]
    }
   ],
   "source": [
    "type Cat struct {\n",
    "    name string\n",
    "    age int\n",
    "}\n",
    "\n",
    "func passStruct(cat Cat) {\n",
    "    // copy\n",
    "    cat.age = 10\n",
    "}\n",
    "\n",
    "func passStructPointer(cat *Cat) {\n",
    "    // (*cat).age simply to cat.age\n",
    "    // (*cat).age = 10\n",
    "    cat.age = 10\n",
    "}\n",
    "\n",
    "func main() {\n",
    "    // 声明后就可以直接使用\n",
    "    var cat Cat\n",
    "    cat.name = \"snow\"\n",
    "    fmt.Printf(\"cat: %+v\\n\", cat)\n",
    "    \n",
    "    // init with value\n",
    "    cat2 := Cat{\"1\", 2}\n",
    "    fmt.Printf(\"cat2: %+v\\n\", cat2)\n",
    "\n",
    "    // init with new: returned is a pointer to a newly allocated zero value of that type.\n",
    "    var cat3 Cat\n",
    "    cat3 = *new(Cat)\n",
    "    fmt.Printf(\"cat3: %+v\\n\", cat3)\n",
    "    var cat4 *Cat\n",
    "    cat4 = new(Cat)\n",
    "    fmt.Printf(\"cat4: %+v\\n\", cat4)\n",
    "\n",
    "    passStruct(cat3)\n",
    "    fmt.Printf(\"cat3 after pass: %+v\\n\", cat3)\n",
    "\n",
    "    passStructPointer(&cat3)\n",
    "    fmt.Printf(\"cat3 after pass pointer: %+v\\n\", cat3)\n",
    "}"
   ]
  },
  {
   "cell_type": "markdown",
   "id": "d81f4fa4-2197-4213-8f7c-c328fc6d25ce",
   "metadata": {},
   "source": [
    "### 6.2 OOP\n",
    "\n",
    "1. 封装: `func` 关键字后写类型，可绑定方法到对应类型上，方法名小写则对包外不可见;\n",
    "2. 关于 interface: 本质是一个指针，只要实现了其方法的 struct 就是其实现类;\n",
    "3. 组合(可嵌套多个): struct 嵌套了匿名 struct（也可以是指针）或者 interface;\n",
    "4. 多态: ..."
   ]
  },
  {
   "cell_type": "code",
   "execution_count": 191,
   "id": "f47c2282-066a-4b07-a5b1-09fd144d76c1",
   "metadata": {
    "tags": []
   },
   "outputs": [
    {
     "name": "stdout",
     "output_type": "stream",
     "text": [
      "pet need a sleep\n",
      "pet: {nickName:snow age:2}\n"
     ]
    }
   ],
   "source": [
    "// 封装\n",
    "type Pet struct {\n",
    "    nickName string\n",
    "    age int\n",
    "}\n",
    "\n",
    "// 为类定义方法，首字母小写将对外不可见（封装特性）\n",
    "func (*Pet) Sleep() {\n",
    "    fmt.Println(\"pet need a sleep\")\n",
    "}\n",
    "\n",
    "func (p *Pet) IncAge() {\n",
    "    p.age += 1\n",
    "}\n",
    "\n",
    "func main() {\n",
    "    pet := Pet{\"snow\", 1}\n",
    "    pet.IncAge()\n",
    "    pet.Sleep()\n",
    "    fmt.Printf(\"pet: %+v\\n\", pet)\n",
    "}"
   ]
  },
  {
   "cell_type": "code",
   "execution_count": 192,
   "id": "228cb5a0-f4a8-458e-8058-bb28155093fb",
   "metadata": {
    "tags": []
   },
   "outputs": [
    {
     "name": "stdout",
     "output_type": "stream",
     "text": [
      "eating... fish\n"
     ]
    }
   ],
   "source": [
    "// interface\n",
    "type Animal interface {\n",
    "    Sleep()\n",
    "    Speek() string\n",
    "    Eat(food string)\n",
    "}\n",
    "// 为 Pet 实现 Speek/Eat，则 Pet 就是 Animal 的实现类。\n",
    "func (p *Pet) Speek() string {\n",
    "    words := \"zzz\"\n",
    "    fmt.Println(\"speeking...\", words)\n",
    "    return words\n",
    "}\n",
    "func (p *Pet) Eat(food string) {\n",
    "    fmt.Println(\"eating...\", food)\n",
    "}\n",
    "\n",
    "func main() {\n",
    "    var pet Animal\n",
    "    pet = &Pet{\"snow\", 1}\n",
    "    pet.Eat(\"fish\")\n",
    "}"
   ]
  },
  {
   "cell_type": "code",
   "execution_count": 193,
   "id": "05d1e021-eafb-4085-ac6f-cec635da548e",
   "metadata": {
    "tags": []
   },
   "outputs": [
    {
     "name": "stdout",
     "output_type": "stream",
     "text": [
      "dog need a sleep\n",
      "dog: {Pet:{nickName:sniff age:3} color:white}\n",
      "\n",
      "dog2: {Pet:{nickName: age:3} color:brown}\n",
      "\n",
      "pet need a sleep\n",
      "bunny: {Pet:<nil> color:}\n",
      "\n",
      "pet need a sleep\n",
      "bunny2: {Pet:0xc000096030 color:white}\n",
      "\n",
      "speeking... zzz\n",
      "bird: {Animal:0xc000096060 color:brown}\n"
     ]
    }
   ],
   "source": [
    "// 组合结构体\n",
    "type Dog struct {\n",
    "    Pet\n",
    "    color string\n",
    "}\n",
    "\n",
    "// 重写父类方法\n",
    "func (*Dog) Sleep() {\n",
    "    fmt.Println(\"dog need a sleep\")\n",
    "}\n",
    "\n",
    "// 组合结构体指针\n",
    "type Bunny struct {\n",
    "    *Pet\n",
    "    color string\n",
    "}\n",
    "\n",
    "// 组合接口\n",
    "type Bird struct {\n",
    "    Animal\n",
    "    color string\n",
    "}\n",
    "\n",
    "func main() {\n",
    "    dog := Dog{Pet{\"sniff\", 2}, \"white\"}\n",
    "    dog.Sleep()\n",
    "    dog.IncAge()\n",
    "    fmt.Printf(\"dog: %+v\\n\\n\", dog)\n",
    "\n",
    "    var dog2 Dog\n",
    "    dog2.age = 3\n",
    "    dog2.color = \"brown\"\n",
    "    fmt.Printf(\"dog2: %+v\\n\\n\", dog2)\n",
    "    \n",
    "    bunny := Bunny{}\n",
    "    bunny.Sleep()\n",
    "    // bunny.age = 3 pet is nil, cannot assign\n",
    "    fmt.Printf(\"bunny: %+v\\n\\n\", bunny)\n",
    "    \n",
    "    bunny2 := Bunny{new(Pet), \"white\"}\n",
    "    bunny.Sleep()\n",
    "    bunny2.age = 3\n",
    "    fmt.Printf(\"bunny2: %+v\\n\\n\", bunny2)\n",
    "\n",
    "    bird := Bird{new(Pet), \"brown\"}\n",
    "    _ = bird.Speek()\n",
    "    fmt.Printf(\"bird: %+v\\n\", bird)\n",
    "}"
   ]
  },
  {
   "cell_type": "markdown",
   "id": "19cf72ff-48a4-4b3b-a306-f01ad9cd602c",
   "metadata": {},
   "source": [
    "## 7. reflect\n",
    "\n",
    "一篇很详细的介绍博客: [GO反射的实现原理](https://draveness.me/golang/docs/part2-foundation/ch04-basic/golang-reflect/)"
   ]
  },
  {
   "cell_type": "markdown",
   "id": "a912cf92-31fe-42bd-a0b0-41db1b00ba72",
   "metadata": {},
   "source": [
    "### 7.1 关于类型断言\n",
    "\n",
    "关于类型断言：\n",
    "1. 获取变量的动态类型\n",
    "2. 判断是否实现目标接口, 判断是否实现接口是线性查找是否实现接口的所有函数，如果接口定义的函数越多则速度越慢，所以实际中尽量少用 type-switch 过多类型"
   ]
  },
  {
   "cell_type": "code",
   "execution_count": 33,
   "id": "b9b53277-da4e-48c2-a57a-f5c1fbd15785",
   "metadata": {
    "tags": []
   },
   "outputs": [
    {
     "name": "stdout",
     "output_type": "stream",
     "text": [
      "str str\n",
      "sleeptype=Animal, value={name:mow}\n"
     ]
    }
   ],
   "source": [
    "\n",
    "type Animal interface {\n",
    "    Sleep()\n",
    "    Speek() string\n",
    "    Eat(food string)\n",
    "}\n",
    "\n",
    "type CatNO1 struct {\n",
    "    name string\n",
    "}\n",
    "\n",
    "func (CatNO1) Sleep() {\n",
    "    fmt.Print(\"sleep\")\n",
    "}\n",
    "func (CatNO1) Speek() string {\n",
    "    fmt.Print(\"speek\")\n",
    "    return \"mow\"\n",
    "}\n",
    "func (CatNO1) Eat(food string){\n",
    "    fmt.Println(\"eat. \", food)\n",
    "}\n",
    "\n",
    "func main() {\n",
    "    a := \"str\"\n",
    "\n",
    "    var anyType any\n",
    "    anyType = a\n",
    "\n",
    "    fmt.Println(anyType, anyType.(string))\n",
    "\n",
    "    var ani Animal\n",
    "    ani = CatNO1{\"mow\"}\n",
    "    ani.(CatNO1).Sleep()\n",
    "    \n",
    "    var aniAnyType any\n",
    "    aniAnyType = ani\n",
    "    \n",
    "    // type-switch 类型判断\n",
    "    switch v := aniAnyType.(type) {\n",
    "    case int:\n",
    "        fmt.Printf(\"type=int, value=%v\\n\", v)\n",
    "    case string:\n",
    "        fmt.Printf(\"type=string, value=%v\\n\", v)\n",
    "    case Animal:\n",
    "        fmt.Printf(\"type=Animal, value=%+v\\n\", v)\n",
    "    default:\n",
    "        fmt.Printf(\"unkown type!\\n\")\n",
    "    }\n",
    "}"
   ]
  },
  {
   "cell_type": "markdown",
   "id": "aa9760cd-b056-40d7-952b-c0c99e5afdbb",
   "metadata": {},
   "source": [
    "### 7.1 `TypeOf`/`ValueOf`\n",
    "\n",
    "- `reflect.TypeOf` 获取类型\n",
    "- `reflect.ValueOf` 获取数据\n"
   ]
  },
  {
   "cell_type": "code",
   "execution_count": null,
   "id": "c90ac17c-8620-418b-94b7-e207ebaae608",
   "metadata": {},
   "outputs": [],
   "source": []
  }
 ],
 "metadata": {
  "kernelspec": {
   "display_name": "Go (gonb)",
   "language": "go",
   "name": "go"
  },
  "language_info": {
   "codemirror_mode": "",
   "file_extension": ".go",
   "mimetype": "",
   "name": "go",
   "nbconvert_exporter": "",
   "pygments_lexer": "",
   "version": "go1.20.1"
  }
 },
 "nbformat": 4,
 "nbformat_minor": 5
}
