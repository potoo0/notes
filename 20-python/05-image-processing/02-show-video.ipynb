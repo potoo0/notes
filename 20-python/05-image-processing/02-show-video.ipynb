{
 "cells": [
  {
   "cell_type": "code",
   "execution_count": 1,
   "metadata": {},
   "outputs": [],
   "source": [
    "from IPython.display import clear_output, Image, display_png\n",
    "import time\n",
    "import cv2"
   ]
  },
  {
   "cell_type": "code",
   "execution_count": 4,
   "metadata": {},
   "outputs": [
    {
     "name": "stdout",
     "output_type": "stream",
     "text": [
      "Released Video Resource\n"
     ]
    }
   ],
   "source": [
    "current_time = 0\n",
    "\n",
    "# 图像处理函数\n",
    "def addFPS(img):\n",
    "    '''add FPS to frame'''\n",
    "    global current_time\n",
    "    if current_time == 0:\n",
    "        current_time = time.time()\n",
    "    else:\n",
    "        last_time = current_time\n",
    "        current_time = time.time()\n",
    "        fps = 1. / (current_time - last_time)\n",
    "        text = \"FPS: %d\" % fps\n",
    "        cv2.putText(img, text , (0, 100), cv2.FONT_HERSHEY_TRIPLEX, 2, (255, 127, 39), 2)\n",
    "    return img\n",
    "\n",
    "\n",
    "def encodePng(imageArray):\n",
    "    '''wraps data to be displayed.'''\n",
    "    ret, png = cv2.imencode('.png', imageArray)\n",
    "    return Image(data=png)\n",
    "\n",
    "\n",
    "def resizeFrame(frame, rate=1):\n",
    "    '''resize frame'''\n",
    "    height, width, _ = frame.shape\n",
    "    frame = cv2.resize(frame, (int(width / rate), int(height / rate)))\n",
    "    return frame\n",
    "\n",
    "\n",
    "def main(total_fm, rate=3):\n",
    "    cnt = 0\n",
    "    video = cv2.VideoCapture(1)\n",
    "\n",
    "    while cnt < total_fm and video.isOpened():\n",
    "        try:\n",
    "            cnt = cnt + 1\n",
    "            clear_output(wait=True)\n",
    "            ret, frame = video.read()\n",
    "            if not ret:\n",
    "                break\n",
    "\n",
    "            frame = addFPS(cv2.flip(frame,1))\n",
    "    #             frame = resizeFrame(frame, rate)\n",
    "            encode_png = encodePng(frame)\n",
    "            display_png(encode_png)\n",
    "\n",
    "            time.sleep(0.02)  # 控制读取速度，就是帧率。其受摄像头本身影响\n",
    "        except KeyboardInterrupt:\n",
    "            break\n",
    "    video.release()\n",
    "    print(\"Released Video Resource\")\n",
    "\n",
    "\n",
    "if __name__ == '__main__':\n",
    "    main(100)\n"
   ]
  },
  {
   "cell_type": "code",
   "execution_count": 3,
   "metadata": {},
   "outputs": [],
   "source": [
    "if __name__ == '__main__':\n",
    "    cam = cv2.VideoCapture(1)\n",
    "    ret_FPS = cam.set(cv2.CAP_PROP_FPS, 30)\n",
    "    ret_Wid = cam.set(cv2.CAP_PROP_FRAME_WIDTH, 320)\n",
    "    ret_Hei = cam.set(cv2.CAP_PROP_FRAME_HEIGHT, 240)\n",
    "    \n",
    "    ret, frame = cam.read()\n",
    "    if not ret:\n",
    "        raise Exception('wrong.')\n",
    "\n",
    "    height = frame.shape[0]\n",
    "    width = frame.shape[1]"
   ]
  },
  {
   "cell_type": "code",
   "execution_count": 4,
   "metadata": {},
   "outputs": [
    {
     "name": "stdout",
     "output_type": "stream",
     "text": [
      "True\n"
     ]
    }
   ],
   "source": [
    "print(ret_FPS)"
   ]
  },
  {
   "cell_type": "code",
   "execution_count": null,
   "metadata": {},
   "outputs": [],
   "source": []
  }
 ],
 "metadata": {
  "kernelspec": {
   "display_name": "Python 3",
   "language": "python",
   "name": "python3"
  },
  "language_info": {
   "codemirror_mode": {
    "name": "ipython",
    "version": 3
   },
   "file_extension": ".py",
   "mimetype": "text/x-python",
   "name": "python",
   "nbconvert_exporter": "python",
   "pygments_lexer": "ipython3",
   "version": "3.6.4"
  }
 },
 "nbformat": 4,
 "nbformat_minor": 2
}
