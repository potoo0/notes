{
 "cells": [
  {
   "cell_type": "code",
   "execution_count": 1,
   "metadata": {},
   "outputs": [],
   "source": [
    "from IPython.core.interactiveshell import InteractiveShell\n",
    "InteractiveShell.ast_node_interactivity = 'all'"
   ]
  },
  {
   "cell_type": "code",
   "execution_count": 14,
   "metadata": {},
   "outputs": [],
   "source": [
    "import numpy as np\n",
    "import potrace\n",
    "import cv2\n",
    "import matplotlib.pyplot as plt\n",
    "\n",
    "%matplotlib inline\n"
   ]
  },
  {
   "cell_type": "code",
   "execution_count": 23,
   "metadata": {},
   "outputs": [
    {
     "data": {
      "text/plain": [
       "(537, 440)"
      ]
     },
     "execution_count": 23,
     "metadata": {},
     "output_type": "execute_result"
    }
   ],
   "source": [
    "imgPath = './a.png'\n",
    "img = cv2.imread(imgPath, 0)  \n",
    "img.shape"
   ]
  },
  {
   "cell_type": "code",
   "execution_count": 27,
   "metadata": {},
   "outputs": [],
   "source": [
    "img = img / 255"
   ]
  },
  {
   "cell_type": "code",
   "execution_count": 28,
   "metadata": {},
   "outputs": [
    {
     "data": {
      "text/plain": [
       "<matplotlib.image.AxesImage at 0x7f48461c14a8>"
      ]
     },
     "execution_count": 28,
     "metadata": {},
     "output_type": "execute_result"
    },
    {
     "data": {
      "image/png": "[encoded data removed]",
      "text/plain": [
       "<Figure size 432x288 with 1 Axes>"
      ]
     },
     "metadata": {
      "needs_background": "light"
     },
     "output_type": "display_data"
    }
   ],
   "source": [
    "plt.imshow(img)"
   ]
  },
  {
   "cell_type": "code",
   "execution_count": null,
   "metadata": {},
   "outputs": [],
   "source": [
    "data = img\n",
    "\n",
    "# Create a bitmap from the array\n",
    "bmp = potrace.Bitmap(data)\n",
    "\n",
    "# Trace the bitmap to a path\n",
    "path = bmp.trace()\n",
    "\n",
    "# Iterate over path curves\n",
    "for curve in path:\n",
    "    print(\"start_point =\", curve.start_point)\n",
    "    for segment in curve:\n",
    "        print(segment)\n",
    "        end_point_x, end_point_y = segment.end_point\n",
    "        if segment.is_corner:\n",
    "            c_x, c_y = segment.c\n",
    "        else:\n",
    "            c1_x, c1_y = segment.c1\n",
    "            c2_x, c2_y = segment.c2"
   ]
  },
  {
   "cell_type": "code",
   "execution_count": null,
   "metadata": {},
   "outputs": [],
   "source": []
  },
  {
   "cell_type": "code",
   "execution_count": 7,
   "metadata": {},
   "outputs": [
    {
     "name": "stdout",
     "output_type": "stream",
     "text": [
      "start_point = (8.0, 16.0)\n",
      "CornerSegment(c=(8.0, 8.0), end_point=(16.0, 8.0))\n",
      "CornerSegment(c=(24.0, 8.0), end_point=(24.0, 16.0))\n",
      "CornerSegment(c=(24.0, 24.0), end_point=(16.0, 24.0))\n",
      "CornerSegment(c=(8.0, 24.0), end_point=(8.0, 16.0))\n"
     ]
    }
   ],
   "source": [
    "# Make a numpy array with a rectangle in the middle\n",
    "data = np.zeros((32, 32), np.uint32)\n",
    "data[8:32-8, 8:32-8] = 1\n",
    "\n",
    "# Create a bitmap from the array\n",
    "bmp = potrace.Bitmap(data)\n",
    "\n",
    "# Trace the bitmap to a path\n",
    "path = bmp.trace()\n",
    "\n",
    "# Iterate over path curves\n",
    "for curve in path:\n",
    "    print(\"start_point =\", curve.start_point)\n",
    "    for segment in curve:\n",
    "        print(segment)\n",
    "        end_point_x, end_point_y = segment.end_point\n",
    "        if segment.is_corner:\n",
    "            c_x, c_y = segment.c\n",
    "        else:\n",
    "            c1_x, c1_y = segment.c1\n",
    "            c2_x, c2_y = segment.c2"
   ]
  },
  {
   "cell_type": "code",
   "execution_count": null,
   "metadata": {},
   "outputs": [],
   "source": []
  },
  {
   "cell_type": "code",
   "execution_count": null,
   "metadata": {},
   "outputs": [],
   "source": []
  },
  {
   "cell_type": "code",
   "execution_count": null,
   "metadata": {},
   "outputs": [],
   "source": []
  }
 ],
 "metadata": {
  "kernelspec": {
   "display_name": "Python 3",
   "language": "python",
   "name": "python3"
  },
  "language_info": {
   "codemirror_mode": {
    "name": "ipython",
    "version": 3
   },
   "file_extension": ".py",
   "mimetype": "text/x-python",
   "name": "python",
   "nbconvert_exporter": "python",
   "pygments_lexer": "ipython3",
   "version": "3.6.8"
  }
 },
 "nbformat": 4,
 "nbformat_minor": 4
}
