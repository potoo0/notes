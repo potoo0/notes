{
 "cells": [
  {
   "cell_type": "code",
   "execution_count": 1,
   "metadata": {},
   "outputs": [],
   "source": [
    "from icecream import ic"
   ]
  },
  {
   "cell_type": "code",
   "execution_count": null,
   "metadata": {},
   "outputs": [],
   "source": []
  },
  {
   "cell_type": "markdown",
   "metadata": {},
   "source": [
    "## 1. simple"
   ]
  },
  {
   "cell_type": "code",
   "execution_count": 44,
   "metadata": {},
   "outputs": [
    {
     "name": "stdout",
     "output_type": "stream",
     "text": [
      "├── \u001b[36mp1\u001b[39m\n",
      "└── \u001b[36mp2\u001b[39m\n",
      "    ├── \u001b[36mp21\u001b[39m\n",
      "    ├── \u001b[36mp22\u001b[39m\n",
      "    └── \u001b[36mp23\u001b[39m\n",
      "        └── \u001b[36mp231\u001b[39m\n"
     ]
    }
   ],
   "source": [
    "from colorama import Fore\n",
    "\n",
    "# prefix components:\n",
    "space = \"    \"\n",
    "branch = \"│   \"\n",
    "# pointers:\n",
    "tee = \"├── \"\n",
    "last = \"└── \"\n",
    "\n",
    "\n",
    "def tree(contents: list, prefix: str = \"\"):\n",
    "    # contents each get pointers that are ├── with a final └── :\n",
    "    pointers = [tee] * (len(contents) - 1) + [last]\n",
    "    for pointer, d in zip(pointers, contents):\n",
    "        yield prefix + pointer + Fore.CYAN + d.get(\"name\") + Fore.RESET\n",
    "        if d.get(\"c\") and isinstance(d.get(\"c\"), list):\n",
    "            extension = branch if pointer == tee else space\n",
    "            # i.e. space because last, └── , above so no more |\n",
    "            yield from tree(d.get(\"c\"), prefix=prefix + extension)\n",
    "\n",
    "\n",
    "contents = [\n",
    "    dict(name=\"p1\"),\n",
    "    dict(\n",
    "        name=\"p2\",\n",
    "        c=[dict(name=\"p21\"), dict(name=\"p22\"), dict(name=\"p23\", c=[dict(name=\"p231\")])],\n",
    "    ),\n",
    "]\n",
    "for d in tree(contents):\n",
    "    print(d)"
   ]
  },
  {
   "cell_type": "markdown",
   "metadata": {},
   "source": [
    "## 2. more"
   ]
  },
  {
   "cell_type": "code",
   "execution_count": 3,
   "metadata": {},
   "outputs": [],
   "source": [
    "# https://stackoverflow.com/a/59109706\n",
    "from itertools import islice\n",
    "from pathlib import Path\n",
    "from colorama import Fore\n",
    "\n",
    "space =  \"    \"\n",
    "branch = \"│   \"\n",
    "tee =    \"├── \"\n",
    "last =   \"└── \"\n",
    "\n",
    "\n",
    "def tree(dir_path: Path, level: int = -1, only_dir: bool = False, len_limit: int = 1000):\n",
    "    \"\"\"Given a directory Path object print a visual tree structure\"\"\"\n",
    "    dir_path = Path(dir_path)  # accept string coerceable to Path\n",
    "    files = 0\n",
    "    directories = 0\n",
    "\n",
    "    def inner(dir_path: Path, prefix: str = \"\", level=-1):\n",
    "        nonlocal files, directories\n",
    "        if not level:\n",
    "            return  # 0, stop iterating\n",
    "\n",
    "        if only_dir:\n",
    "            contents = [d for d in dir_path.iterdir() if d.is_dir()]\n",
    "        else:\n",
    "            contents = list(dir_path.iterdir())\n",
    "\n",
    "        pointers = [tee] * (len(contents) - 1) + [last]\n",
    "        for pointer, path in zip(pointers, contents):\n",
    "            if path.is_dir():\n",
    "                yield prefix + pointer + Fore.CYAN + path.name + Fore.RESET\n",
    "                directories += 1\n",
    "                extension = branch if pointer == tee else space\n",
    "                yield from inner(path, prefix=prefix + extension, level=level - 1)\n",
    "            elif not only_dir:\n",
    "                yield prefix + pointer + path.name\n",
    "                files += 1\n",
    "\n",
    "    if not dir_path.is_dir():\n",
    "        return\n",
    "    print(dir_path.name)\n",
    "\n",
    "    iterator = inner(dir_path, level=level)\n",
    "    for line in islice(iterator, len_limit):\n",
    "        print(line)\n",
    "\n",
    "    if next(iterator, None):\n",
    "        print(f\"... len_limit, {len_limit}, reached, counted:\")\n",
    "    print(f\"\\n{directories} directories\" + (f\", {files} files\" if files else \"\"))\n"
   ]
  },
  {
   "cell_type": "code",
   "execution_count": 4,
   "metadata": {},
   "outputs": [],
   "source": [
    "tree(Path('/tmp/f1'), len_limit=2)"
   ]
  },
  {
   "cell_type": "code",
   "execution_count": 15,
   "metadata": {},
   "outputs": [],
   "source": [
    "from pathlib import Path\n",
    "\n",
    "\n",
    "def tree_to_obj(dir_path: Path, level: int = -1, only_dir: bool = False, len_limit: int = 1000):\n",
    "    \"\"\"Given a directory Path object build a tree structure\"\"\"\n",
    "    dir_path = Path(dir_path)  # accept string coerceable to Path\n",
    "\n",
    "    def inner(dir_path: Path, parent: dict):\n",
    "        for path in list(dir_path.iterdir()):\n",
    "            _is_dir = path.is_dir()\n",
    "            content_obj = {\n",
    "                'name': path.name,\n",
    "                'directory': _is_dir,\n",
    "                'fullName': f'{parent.get(\"fullName\")}/{path.name}'\n",
    "            }\n",
    "            parent_child = parent.get('children', [])\n",
    "            parent_child.append(content_obj)\n",
    "            parent['children'] = parent_child\n",
    "            if _is_dir:\n",
    "                inner(path, content_obj)\n",
    "\n",
    "    if not dir_path.is_dir():\n",
    "        print(f'{dir_path} is not a valid dir!')\n",
    "        return\n",
    "    print(dir_path.name)\n",
    "\n",
    "    dir_obj = {'name': dir_path.name, 'fullName': dir_path.name, 'directory': True}\n",
    "    inner(dir_path, dir_obj)\n",
    "    return dir_obj"
   ]
  },
  {
   "cell_type": "code",
   "execution_count": 19,
   "metadata": {},
   "outputs": [],
   "source": [
    "from IPython.core import display"
   ]
  },
  {
   "cell_type": "code",
   "execution_count": 20,
   "metadata": {},
   "outputs": [
    {
     "name": "stdout",
     "output_type": "stream",
     "text": [
      "0-Java\n"
     ]
    },
    {
     "data": {
      "application/json": {
       "children": [
        {
         "directory": false,
         "fullName": "0-Java/04-map.ipynb",
         "name": "04-map.ipynb"
        },
        {
         "directory": false,
         "fullName": "0-Java/10-beanUtils.ipynb",
         "name": "10-beanUtils.ipynb"
        },
        {
         "children": [
          {
           "directory": false,
           "fullName": "0-Java/mapper/CatMapper.class",
           "name": "CatMapper.class"
          },
          {
           "directory": false,
           "fullName": "0-Java/mapper/CatMapper.java",
           "name": "CatMapper.java"
          },
          {
           "children": [
            {
             "directory": false,
             "fullName": "0-Java/mapper/.ipynb_checkpoints/CatMapper-checkpoint.java",
             "name": "CatMapper-checkpoint.java"
            }
           ],
           "directory": true,
           "fullName": "0-Java/mapper/.ipynb_checkpoints",
           "name": ".ipynb_checkpoints"
          }
         ],
         "directory": true,
         "fullName": "0-Java/mapper",
         "name": "mapper"
        },
        {
         "directory": false,
         "fullName": "0-Java/temp.ipynb",
         "name": "temp.ipynb"
        },
        {
         "directory": false,
         "fullName": "0-Java/02-regularExp.ipynb",
         "name": "02-regularExp.ipynb"
        },
        {
         "directory": false,
         "fullName": "0-Java/11-LineCellMagic.ipynb",
         "name": "11-LineCellMagic.ipynb"
        },
        {
         "directory": false,
         "fullName": "0-Java/12-VariableName.ipynb",
         "name": "12-VariableName.ipynb"
        },
        {
         "directory": false,
         "fullName": "0-Java/09-restTemplate.ipynb",
         "name": "09-restTemplate.ipynb"
        },
        {
         "directory": false,
         "fullName": "0-Java/04-gson.ipynb",
         "name": "04-gson.ipynb"
        },
        {
         "directory": false,
         "fullName": "0-Java/0-lombok-readme.md",
         "name": "0-lombok-readme.md"
        },
        {
         "children": [
          {
           "directory": false,
           "fullName": "0-Java/vo/Pet.class",
           "name": "Pet.class"
          },
          {
           "directory": false,
           "fullName": "0-Java/vo/BaseTreeNodeVO$BaseTreeNodeVOBuilder.class",
           "name": "BaseTreeNodeVO$BaseTreeNodeVOBuilder.class"
          },
          {
           "directory": false,
           "fullName": "0-Java/vo/BaseTreeNodeVO.class",
           "name": "BaseTreeNodeVO.class"
          },
          {
           "children": [
            {
             "directory": false,
             "fullName": "0-Java/vo/libs/lombok.jar",
             "name": "lombok.jar"
            }
           ],
           "directory": true,
           "fullName": "0-Java/vo/libs",
           "name": "libs"
          },
          {
           "directory": false,
           "fullName": "0-Java/vo/Cat.java",
           "name": "Cat.java"
          },
          {
           "directory": false,
           "fullName": "0-Java/vo/AccountVO.class",
           "name": "AccountVO.class"
          },
          {
           "directory": false,
           "fullName": "0-Java/vo/AccountBaseVO$AccountBaseVOBuilder.class",
           "name": "AccountBaseVO$AccountBaseVOBuilder.class"
          },
          {
           "directory": false,
           "fullName": "0-Java/vo/Pet$PetBuilder.class",
           "name": "Pet$PetBuilder.class"
          },
          {
           "directory": false,
           "fullName": "0-Java/vo/Cat.class",
           "name": "Cat.class"
          },
          {
           "directory": false,
           "fullName": "0-Java/vo/TestVO.java",
           "name": "TestVO.java"
          },
          {
           "directory": false,
           "fullName": "0-Java/vo/BaseTreeNodeVO.java",
           "name": "BaseTreeNodeVO.java"
          },
          {
           "directory": false,
           "fullName": "0-Java/vo/AccountVO$AccountVOBuilder.class",
           "name": "AccountVO$AccountVOBuilder.class"
          },
          {
           "directory": false,
           "fullName": "0-Java/vo/Pet.java",
           "name": "Pet.java"
          },
          {
           "directory": false,
           "fullName": "0-Java/vo/Cat$CatBuilder.class",
           "name": "Cat$CatBuilder.class"
          },
          {
           "children": [
            {
             "directory": false,
             "fullName": "0-Java/vo/.ipynb_checkpoints/BaseTreeNodeVO-checkpoint.java",
             "name": "BaseTreeNodeVO-checkpoint.java"
            },
            {
             "directory": false,
             "fullName": "0-Java/vo/.ipynb_checkpoints/TestVO-checkpoint.java",
             "name": "TestVO-checkpoint.java"
            },
            {
             "directory": false,
             "fullName": "0-Java/vo/.ipynb_checkpoints/Cat-checkpoint.java",
             "name": "Cat-checkpoint.java"
            },
            {
             "directory": false,
             "fullName": "0-Java/vo/.ipynb_checkpoints/AccountVO-checkpoint.java",
             "name": "AccountVO-checkpoint.java"
            },
            {
             "directory": false,
             "fullName": "0-Java/vo/.ipynb_checkpoints/AccountBaseVO-checkpoint.java",
             "name": "AccountBaseVO-checkpoint.java"
            }
           ],
           "directory": true,
           "fullName": "0-Java/vo/.ipynb_checkpoints",
           "name": ".ipynb_checkpoints"
          },
          {
           "directory": false,
           "fullName": "0-Java/vo/TestVO.class",
           "name": "TestVO.class"
          },
          {
           "directory": false,
           "fullName": "0-Java/vo/AccountBaseVO.class",
           "name": "AccountBaseVO.class"
          },
          {
           "directory": false,
           "fullName": "0-Java/vo/AccountVO.java",
           "name": "AccountVO.java"
          },
          {
           "directory": false,
           "fullName": "0-Java/vo/AccountBaseVO.java",
           "name": "AccountBaseVO.java"
          }
         ],
         "directory": true,
         "fullName": "0-Java/vo",
         "name": "vo"
        },
        {
         "children": [
          {
           "directory": false,
           "fullName": "0-Java/assets/lombok_annotation_processor.png",
           "name": "lombok_annotation_processor.png"
          },
          {
           "children": [
            {
             "directory": false,
             "fullName": "0-Java/assets/.ipynb_checkpoints/lombok_annotation_processor-checkpoint.png",
             "name": "lombok_annotation_processor-checkpoint.png"
            }
           ],
           "directory": true,
           "fullName": "0-Java/assets/.ipynb_checkpoints",
           "name": ".ipynb_checkpoints"
          }
         ],
         "directory": true,
         "fullName": "0-Java/assets",
         "name": "assets"
        },
        {
         "directory": false,
         "fullName": "0-Java/08-callMethodByStr.ipynb",
         "name": "08-callMethodByStr.ipynb"
        },
        {
         "directory": false,
         "fullName": "0-Java/00-Dependency.ipynb",
         "name": "00-Dependency.ipynb"
        },
        {
         "directory": false,
         "fullName": "0-Java/Untitled.ipynb",
         "name": "Untitled.ipynb"
        },
        {
         "children": [
          {
           "directory": false,
           "fullName": "0-Java/.ipynb_checkpoints/10-beanUtils-checkpoint.ipynb",
           "name": "10-beanUtils-checkpoint.ipynb"
          },
          {
           "directory": false,
           "fullName": "0-Java/.ipynb_checkpoints/00-Dependency-checkpoint.ipynb",
           "name": "00-Dependency-checkpoint.ipynb"
          },
          {
           "directory": false,
           "fullName": "0-Java/.ipynb_checkpoints/04-fastjson-checkpoint.ipynb",
           "name": "04-fastjson-checkpoint.ipynb"
          },
          {
           "directory": false,
           "fullName": "0-Java/.ipynb_checkpoints/03-String2Date-checkpoint.ipynb",
           "name": "03-String2Date-checkpoint.ipynb"
          },
          {
           "directory": false,
           "fullName": "0-Java/.ipynb_checkpoints/12-VariableName-checkpoint.ipynb",
           "name": "12-VariableName-checkpoint.ipynb"
          },
          {
           "directory": false,
           "fullName": "0-Java/.ipynb_checkpoints/07-singleton-checkpoint.ipynb",
           "name": "07-singleton-checkpoint.ipynb"
          },
          {
           "directory": false,
           "fullName": "0-Java/.ipynb_checkpoints/Untitled-checkpoint.ipynb",
           "name": "Untitled-checkpoint.ipynb"
          },
          {
           "directory": false,
           "fullName": "0-Java/.ipynb_checkpoints/11-LineCellMagic-checkpoint.ipynb",
           "name": "11-LineCellMagic-checkpoint.ipynb"
          },
          {
           "directory": false,
           "fullName": "0-Java/.ipynb_checkpoints/0-lombok-readme-checkpoint.md",
           "name": "0-lombok-readme-checkpoint.md"
          },
          {
           "directory": false,
           "fullName": "0-Java/.ipynb_checkpoints/09-restTemplate-checkpoint.ipynb",
           "name": "09-restTemplate-checkpoint.ipynb"
          },
          {
           "directory": false,
           "fullName": "0-Java/.ipynb_checkpoints/04-gson-checkpoint.ipynb",
           "name": "04-gson-checkpoint.ipynb"
          },
          {
           "directory": false,
           "fullName": "0-Java/.ipynb_checkpoints/temp-checkpoint.ipynb",
           "name": "temp-checkpoint.ipynb"
          },
          {
           "directory": false,
           "fullName": "0-Java/.ipynb_checkpoints/08-callMethodByStr-checkpoint.ipynb",
           "name": "08-callMethodByStr-checkpoint.ipynb"
          },
          {
           "directory": false,
           "fullName": "0-Java/.ipynb_checkpoints/02-regularExp-checkpoint.ipynb",
           "name": "02-regularExp-checkpoint.ipynb"
          },
          {
           "directory": false,
           "fullName": "0-Java/.ipynb_checkpoints/06-cidrToRange-checkpoint.ipynb",
           "name": "06-cidrToRange-checkpoint.ipynb"
          },
          {
           "directory": false,
           "fullName": "0-Java/.ipynb_checkpoints/02-sort-checkpoint.ipynb",
           "name": "02-sort-checkpoint.ipynb"
          },
          {
           "directory": false,
           "fullName": "0-Java/.ipynb_checkpoints/04-map-checkpoint.ipynb",
           "name": "04-map-checkpoint.ipynb"
          },
          {
           "directory": false,
           "fullName": "0-Java/.ipynb_checkpoints/04-stringFormat-checkpoint.ipynb",
           "name": "04-stringFormat-checkpoint.ipynb"
          },
          {
           "directory": false,
           "fullName": "0-Java/.ipynb_checkpoints/05-AnnotationProcessorPlugin-Copy1-checkpoint.ipynb",
           "name": "05-AnnotationProcessorPlugin-Copy1-checkpoint.ipynb"
          },
          {
           "directory": false,
           "fullName": "0-Java/.ipynb_checkpoints/01-stream-checkpoint.ipynb",
           "name": "01-stream-checkpoint.ipynb"
          }
         ],
         "directory": true,
         "fullName": "0-Java/.ipynb_checkpoints",
         "name": ".ipynb_checkpoints"
        },
        {
         "directory": false,
         "fullName": "0-Java/02-sort.ipynb",
         "name": "02-sort.ipynb"
        },
        {
         "directory": false,
         "fullName": "0-Java/04-stringFormat.ipynb",
         "name": "04-stringFormat.ipynb"
        },
        {
         "directory": false,
         "fullName": "0-Java/06-cidrToRange.ipynb",
         "name": "06-cidrToRange.ipynb"
        },
        {
         "directory": false,
         "fullName": "0-Java/07-singleton.ipynb",
         "name": "07-singleton.ipynb"
        },
        {
         "directory": false,
         "fullName": "0-Java/05-AnnotationProcessorPlugin-Copy1.ipynb",
         "name": "05-AnnotationProcessorPlugin-Copy1.ipynb"
        },
        {
         "directory": false,
         "fullName": "0-Java/03-String2Date.ipynb",
         "name": "03-String2Date.ipynb"
        },
        {
         "directory": false,
         "fullName": "0-Java/01-stream.ipynb",
         "name": "01-stream.ipynb"
        },
        {
         "children": [
          {
           "directory": false,
           "fullName": "0-Java/predict/avgAlgo.ipynb",
           "name": "avgAlgo.ipynb"
          },
          {
           "children": [
            {
             "directory": false,
             "fullName": "0-Java/predict/.ipynb_checkpoints/avgAlgo-checkpoint.ipynb",
             "name": "avgAlgo-checkpoint.ipynb"
            }
           ],
           "directory": true,
           "fullName": "0-Java/predict/.ipynb_checkpoints",
           "name": ".ipynb_checkpoints"
          }
         ],
         "directory": true,
         "fullName": "0-Java/predict",
         "name": "predict"
        },
        {
         "directory": false,
         "fullName": "0-Java/04-fastjson.ipynb",
         "name": "04-fastjson.ipynb"
        }
       ],
       "directory": true,
       "fullName": "0-Java",
       "name": "0-Java"
      },
      "text/plain": [
       "<IPython.core.display.JSON object>"
      ]
     },
     "execution_count": 20,
     "metadata": {
      "application/json": {
       "expanded": false,
       "root": "root"
      }
     },
     "output_type": "execute_result"
    }
   ],
   "source": [
    "display.JSON(tree_to_obj(Path('0-Java')))"
   ]
  },
  {
   "cell_type": "markdown",
   "metadata": {},
   "source": [
    "## 3. for json"
   ]
  },
  {
   "cell_type": "code",
   "execution_count": 3,
   "metadata": {},
   "outputs": [],
   "source": [
    "import json\n",
    "resources = json.loads(\"\"\"\n",
    "[{\"id\": 18, \"pid\": -1, \"name\": \"prj_test\", \"fullName\": \"prj_test\", \"description\": \"\", \"children\": [{\"id\": 20, \"pid\": 18, \"name\": \"aaa.sh\", \"fullName\": \"prj_test/aaa.sh\", \"description\": \"aaa\", \"children\": [], \"type\": \"FILE\", \"idValue\": \"20_0\", \"dirctory\": false, \"directory\": false}, {\"id\": 19, \"pid\": 18, \"name\": \"task1.sh\", \"fullName\": \"prj_test/task1.sh\", \"description\": \"task1desc\", \"children\": [], \"type\": \"FILE\", \"idValue\": \"19_0\", \"dirctory\": false, \"directory\": false}], \"type\": \"FILE\", \"idValue\": \"18_1\", \"dirctory\": true, \"directory\": true}, {\"id\": 22, \"pid\": -1, \"name\": \"prj_yovole_ubp_ds\", \"fullName\": \"prj_yovole_ubp_ds\", \"description\": \"客户等级分级ubp project\", \"children\": [{\"id\": 26, \"pid\": 22, \"name\": \"test-cal-fact-core-asset-detail-hbase.sql\", \"fullName\": \"prj_yovole_ubp_ds/test-cal-fact-core-asset-detail-hbase.sql\", \"description\": \"\", \"children\": [], \"type\": \"FILE\", \"idValue\": \"26_0\", \"dirctory\": false, \"directory\": false}, {\"id\": 28, \"pid\": 22, \"name\": \"test-cal-fact-customer-hbase.sql\", \"fullName\": \"prj_yovole_ubp_ds/test-cal-fact-customer-hbase.sql\", \"description\": \"\", \"children\": [], \"type\": \"FILE\", \"idValue\": \"28_0\", \"dirctory\": false, \"directory\": false}, {\"id\": 24, \"pid\": 22, \"name\": \"test-create-external-table.sql\", \"fullName\": \"prj_yovole_ubp_ds/test-create-external-table.sql\", \"description\": \"\", \"children\": [], \"type\": \"FILE\", \"idValue\": \"24_0\", \"dirctory\": false, \"directory\": false}, {\"id\": 27, \"pid\": 22, \"name\": \"ubp_cal_fact_cdh_dmw_tables.sh\", \"fullName\": \"prj_yovole_ubp_ds/ubp_cal_fact_cdh_dmw_tables.sh\", \"description\": \"\", \"children\": [], \"type\": \"FILE\", \"idValue\": \"27_0\", \"dirctory\": false, \"directory\": false}, {\"id\": 25, \"pid\": 22, \"name\": \"ubp_cal_fact_cdh_ods_tables.sh\", \"fullName\": \"prj_yovole_ubp_ds/ubp_cal_fact_cdh_ods_tables.sh\", \"description\": \"\", \"children\": [], \"type\": \"FILE\", \"idValue\": \"25_0\", \"dirctory\": false, \"directory\": false}, {\"id\": 23, \"pid\": 22, \"name\": \"ubp_init_common_tables.sh\", \"fullName\": \"prj_yovole_ubp_ds/ubp_init_common_tables.sh\", \"description\": \"\", \"children\": [], \"type\": \"FILE\", \"idValue\": \"23_0\", \"dirctory\": false, \"directory\": false}], \"type\": \"FILE\", \"idValue\": \"22_1\", \"dirctory\": true, \"directory\": true}, {\"id\": 29, \"pid\": -1, \"name\": \"test-dir-1\", \"fullName\": \"test-dir-1\", \"description\": \"desc\", \"children\": [{\"id\": 30, \"pid\": 29, \"name\": \"test-dir-1-1\", \"fullName\": \"test-dir-1/test-dir-1-1\", \"description\": \"desc 1-1\", \"children\": [{\"id\": 32, \"pid\": 30, \"name\": \"test-dir-1-1-1\", \"fullName\": \"test-dir-1/test-dir-1-1/test-dir-1-1-1\", \"description\": \"desc 1-1-1\", \"children\": [], \"type\": \"FILE\", \"idValue\": \"32_1\", \"dirctory\": true, \"directory\": true}], \"type\": \"FILE\", \"idValue\": \"30_1\", \"dirctory\": true, \"directory\": true}, {\"id\": 31, \"pid\": 29, \"name\": \"test-f-1-1.sh\", \"fullName\": \"test-dir-1/test-f-1-1.sh\", \"description\": \"desc f-1-1\", \"children\": [], \"type\": \"FILE\", \"idValue\": \"31_0\", \"dirctory\": false, \"directory\": false}], \"type\": \"FILE\", \"idValue\": \"29_1\", \"dirctory\": true, \"directory\": true}, {\"id\": 13, \"pid\": 1, \"name\": \"aaa.sh\", \"fullName\": \"xxx.sh\", \"description\": null, \"children\": [], \"type\": \"FILE\", \"idValue\": \"13_0\", \"dirctory\": false, \"directory\": false}, {\"id\": 21, \"pid\": -1, \"name\": \"dmp_cal_fact_cmp2_cp_table.sql\", \"fullName\": \"dmp_cal_fact_cmp2_cp_table.sql\", \"description\": \"\", \"children\": [], \"type\": \"FILE\", \"idValue\": \"21_0\", \"dirctory\": false, \"directory\": false}, {\"id\": 17, \"pid\": -1, \"name\": \"test.sh\", \"fullName\": \"test.sh\", \"description\": \"shtestdesc\", \"children\": [], \"type\": \"FILE\", \"idValue\": \"17_0\", \"dirctory\": false, \"directory\": false}]\n",
    "\"\"\")"
   ]
  },
  {
   "cell_type": "code",
   "execution_count": 4,
   "metadata": {},
   "outputs": [],
   "source": [
    "import IPython.display as disp"
   ]
  },
  {
   "cell_type": "code",
   "execution_count": 5,
   "metadata": {},
   "outputs": [
    {
     "data": {
      "application/json": [
       {
        "children": [
         {
          "children": [],
          "description": "aaa",
          "dirctory": false,
          "directory": false,
          "fullName": "prj_test/aaa.sh",
          "id": 20,
          "idValue": "20_0",
          "name": "aaa.sh",
          "pid": 18,
          "type": "FILE"
         },
         {
          "children": [],
          "description": "task1desc",
          "dirctory": false,
          "directory": false,
          "fullName": "prj_test/task1.sh",
          "id": 19,
          "idValue": "19_0",
          "name": "task1.sh",
          "pid": 18,
          "type": "FILE"
         }
        ],
        "description": "",
        "dirctory": true,
        "directory": true,
        "fullName": "prj_test",
        "id": 18,
        "idValue": "18_1",
        "name": "prj_test",
        "pid": -1,
        "type": "FILE"
       },
       {
        "children": [
         {
          "children": [],
          "description": "",
          "dirctory": false,
          "directory": false,
          "fullName": "prj_yovole_ubp_ds/test-cal-fact-core-asset-detail-hbase.sql",
          "id": 26,
          "idValue": "26_0",
          "name": "test-cal-fact-core-asset-detail-hbase.sql",
          "pid": 22,
          "type": "FILE"
         },
         {
          "children": [],
          "description": "",
          "dirctory": false,
          "directory": false,
          "fullName": "prj_yovole_ubp_ds/test-cal-fact-customer-hbase.sql",
          "id": 28,
          "idValue": "28_0",
          "name": "test-cal-fact-customer-hbase.sql",
          "pid": 22,
          "type": "FILE"
         },
         {
          "children": [],
          "description": "",
          "dirctory": false,
          "directory": false,
          "fullName": "prj_yovole_ubp_ds/test-create-external-table.sql",
          "id": 24,
          "idValue": "24_0",
          "name": "test-create-external-table.sql",
          "pid": 22,
          "type": "FILE"
         },
         {
          "children": [],
          "description": "",
          "dirctory": false,
          "directory": false,
          "fullName": "prj_yovole_ubp_ds/ubp_cal_fact_cdh_dmw_tables.sh",
          "id": 27,
          "idValue": "27_0",
          "name": "ubp_cal_fact_cdh_dmw_tables.sh",
          "pid": 22,
          "type": "FILE"
         },
         {
          "children": [],
          "description": "",
          "dirctory": false,
          "directory": false,
          "fullName": "prj_yovole_ubp_ds/ubp_cal_fact_cdh_ods_tables.sh",
          "id": 25,
          "idValue": "25_0",
          "name": "ubp_cal_fact_cdh_ods_tables.sh",
          "pid": 22,
          "type": "FILE"
         },
         {
          "children": [],
          "description": "",
          "dirctory": false,
          "directory": false,
          "fullName": "prj_yovole_ubp_ds/ubp_init_common_tables.sh",
          "id": 23,
          "idValue": "23_0",
          "name": "ubp_init_common_tables.sh",
          "pid": 22,
          "type": "FILE"
         }
        ],
        "description": "客户等级分级ubp project",
        "dirctory": true,
        "directory": true,
        "fullName": "prj_yovole_ubp_ds",
        "id": 22,
        "idValue": "22_1",
        "name": "prj_yovole_ubp_ds",
        "pid": -1,
        "type": "FILE"
       },
       {
        "children": [
         {
          "children": [
           {
            "children": [],
            "description": "desc 1-1-1",
            "dirctory": true,
            "directory": true,
            "fullName": "test-dir-1/test-dir-1-1/test-dir-1-1-1",
            "id": 32,
            "idValue": "32_1",
            "name": "test-dir-1-1-1",
            "pid": 30,
            "type": "FILE"
           }
          ],
          "description": "desc 1-1",
          "dirctory": true,
          "directory": true,
          "fullName": "test-dir-1/test-dir-1-1",
          "id": 30,
          "idValue": "30_1",
          "name": "test-dir-1-1",
          "pid": 29,
          "type": "FILE"
         },
         {
          "children": [],
          "description": "desc f-1-1",
          "dirctory": false,
          "directory": false,
          "fullName": "test-dir-1/test-f-1-1.sh",
          "id": 31,
          "idValue": "31_0",
          "name": "test-f-1-1.sh",
          "pid": 29,
          "type": "FILE"
         }
        ],
        "description": "desc",
        "dirctory": true,
        "directory": true,
        "fullName": "test-dir-1",
        "id": 29,
        "idValue": "29_1",
        "name": "test-dir-1",
        "pid": -1,
        "type": "FILE"
       },
       {
        "children": [],
        "description": null,
        "dirctory": false,
        "directory": false,
        "fullName": "xxx.sh",
        "id": 13,
        "idValue": "13_0",
        "name": "aaa.sh",
        "pid": 1,
        "type": "FILE"
       },
       {
        "children": [],
        "description": "",
        "dirctory": false,
        "directory": false,
        "fullName": "dmp_cal_fact_cmp2_cp_table.sql",
        "id": 21,
        "idValue": "21_0",
        "name": "dmp_cal_fact_cmp2_cp_table.sql",
        "pid": -1,
        "type": "FILE"
       },
       {
        "children": [],
        "description": "shtestdesc",
        "dirctory": false,
        "directory": false,
        "fullName": "test.sh",
        "id": 17,
        "idValue": "17_0",
        "name": "test.sh",
        "pid": -1,
        "type": "FILE"
       }
      ],
      "text/plain": [
       "<IPython.core.display.JSON object>"
      ]
     },
     "execution_count": 5,
     "metadata": {
      "application/json": {
       "expanded": false,
       "root": "root"
      }
     },
     "output_type": "execute_result"
    }
   ],
   "source": [
    "disp.JSON(resources)"
   ]
  },
  {
   "cell_type": "code",
   "execution_count": 45,
   "metadata": {},
   "outputs": [],
   "source": [
    "# https://stackoverflow.com/a/59109706\n",
    "from itertools import islice\n",
    "from colorama import Fore\n",
    "\n",
    "space = \"    \"\n",
    "branch = \"│   \"\n",
    "tee = \"├── \"\n",
    "last = \"└── \"\n",
    "\n",
    "\n",
    "def tree_3(resources: list, level: int = -1, only_dir=False, dir_first=True, len_limit: int = 1000):\n",
    "    \"\"\"Given a directory Path object print a visual tree structure\"\"\"\n",
    "    cnt_file = 0\n",
    "    cnt_dir = 0\n",
    "\n",
    "    def is_dir(data: dict):\n",
    "        d = data.get('directory')\n",
    "        return data.get('dirctory') if d is None else d\n",
    "\n",
    "    def sort_key(data: dict):\n",
    "        name = data.get('name', '{')\n",
    "        if not dir_first:\n",
    "            return name\n",
    "        return f'0{name}' if is_dir(data) else name\n",
    "\n",
    "    def inner(contents: list, prefix: str = \"\", level_=-1):\n",
    "        nonlocal cnt_file, cnt_dir\n",
    "        if not level_:\n",
    "            return  # 0, stop iterating\n",
    "        if not contents or not isinstance(contents, list):\n",
    "            return\n",
    "        # sort\n",
    "        contents.sort(key=lambda d: sort_key(d))\n",
    "\n",
    "        # build string\n",
    "        pointers = [tee] * (len(contents) - 1) + [last]\n",
    "        for pointer, path in zip(pointers, contents):\n",
    "            if is_dir(path):\n",
    "                yield prefix + pointer + Fore.CYAN + path['name'] + Fore.RESET\n",
    "                cnt_dir += 1\n",
    "                extension = branch if pointer == tee else space\n",
    "                yield from inner(path.get('children'), prefix=prefix + extension, level_=level_ - 1)\n",
    "            elif not only_dir:\n",
    "                yield prefix + pointer + path['name']\n",
    "                cnt_file += 1\n",
    "\n",
    "    print('resources')\n",
    "    iterator = inner(resources, level_=level)\n",
    "    for line in islice(iterator, len_limit):\n",
    "        print(line)\n",
    "\n",
    "    if next(iterator, None):\n",
    "        print(f\"... len_limit, {len_limit}, reached, counted:\")\n",
    "    print(f\"\\n{cnt_dir} directories\" + (f\", {cnt_file} files\" if cnt_file else \"\"))\n"
   ]
  },
  {
   "cell_type": "code",
   "execution_count": 46,
   "metadata": {},
   "outputs": [
    {
     "name": "stdout",
     "output_type": "stream",
     "text": [
      "resources\n",
      "├── \u001b[36mprj_test\u001b[39m\n",
      "│   ├── aaa.sh\n",
      "│   └── task1.sh\n",
      "├── \u001b[36mprj_yovole_ubp_ds\u001b[39m\n",
      "│   ├── test-cal-fact-core-asset-detail-hbase.sql\n",
      "│   ├── test-cal-fact-customer-hbase.sql\n",
      "│   ├── test-create-external-table.sql\n",
      "│   ├── ubp_cal_fact_cdh_dmw_tables.sh\n",
      "│   ├── ubp_cal_fact_cdh_ods_tables.sh\n",
      "│   └── ubp_init_common_tables.sh\n",
      "├── \u001b[36mtest-dir-1\u001b[39m\n",
      "│   ├── \u001b[36mtest-dir-1-1\u001b[39m\n",
      "│   │   └── \u001b[36mtest-dir-1-1-1\u001b[39m\n",
      "│   └── test-f-1-1.sh\n",
      "├── aaa.sh\n",
      "├── dmp_cal_fact_cmp2_cp_table.sql\n",
      "└── test.sh\n",
      "\n",
      "5 directories, 12 files\n"
     ]
    }
   ],
   "source": [
    "tree_3(resources)"
   ]
  },
  {
   "cell_type": "code",
   "execution_count": 43,
   "metadata": {},
   "outputs": [],
   "source": []
  },
  {
   "cell_type": "code",
   "execution_count": 47,
   "metadata": {},
   "outputs": [],
   "source": [
    "a = {}"
   ]
  },
  {
   "cell_type": "code",
   "execution_count": 50,
   "metadata": {},
   "outputs": [
    {
     "data": {
      "text/plain": [
       "222"
      ]
     },
     "execution_count": 50,
     "metadata": {},
     "output_type": "execute_result"
    }
   ],
   "source": [
    "a.pop('a', 222)"
   ]
  },
  {
   "cell_type": "code",
   "execution_count": null,
   "metadata": {},
   "outputs": [],
   "source": []
  }
 ],
 "metadata": {
  "kernelspec": {
   "display_name": "Python 3 (ipykernel)",
   "language": "python",
   "name": "python3"
  },
  "language_info": {
   "codemirror_mode": {
    "name": "ipython",
    "version": 3
   },
   "file_extension": ".py",
   "mimetype": "text/x-python",
   "name": "python",
   "nbconvert_exporter": "python",
   "pygments_lexer": "ipython3",
   "version": "3.8.5"
  }
 },
 "nbformat": 4,
 "nbformat_minor": 4
}
