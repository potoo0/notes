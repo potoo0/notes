{
 "cells": [
  {
   "cell_type": "code",
   "execution_count": 1,
   "metadata": {},
   "outputs": [],
   "source": [
    "from IPython.core.interactiveshell import InteractiveShell\n",
    "InteractiveShell.ast_node_interactivity = 'all'"
   ]
  },
  {
   "cell_type": "code",
   "execution_count": 2,
   "metadata": {},
   "outputs": [],
   "source": [
    "import numpy as np\n",
    "import copy\n",
    "from pprint import pprint"
   ]
  },
  {
   "cell_type": "markdown",
   "metadata": {},
   "source": [
    "## 1. Cramer's rule\n",
    "\n",
    "求解时间复杂度 $O(n^2)$，求解步骤:\n",
    "\n",
    "1. 求解条件: 系数矩阵为方阵;\n",
    "2. 求系数矩阵行列式:\n",
    "    $$\n",
    "    D = \\left|\n",
    "        \\begin{array}\\\\\n",
    "            a_{11} & a_{12} & ... & a_{1n}\\\\\n",
    "            a_{21} & a_{22} & ... & a_{2n}\\\\\n",
    "            ...    & ...    & ... & ...\\\\\n",
    "            a_{n1} & a_{n2} & ... & a_{nn}\\\\\n",
    "        \\end{array}\n",
    "    \\right|\n",
    "    $$\n",
    "  系数行列式 $D = 0$ 有无穷解，不再求解;\n",
    "3. 若 $D\\neq 0$ 则方程有唯一解，各自变量的解为:\n",
    "    $$\n",
    "    x_j = \\frac{D_{j}}{D}\n",
    "    $$\n",
    "    其中:\n",
    "    $$\n",
    "    D_{j}= \\left|\n",
    "        \\begin{array} \\\\\n",
    "            a_{11} & \\cdots & a_{1, j-1} & b_{1}  & \\cdots & a_{1 n} \\\\\n",
    "            \\vdots &        & \\vdots     & \\vdots &        & \\vdots \\\\\n",
    "            a_{n1} & \\cdots & a_{n, j-1} & b_{1}  & \\cdots & a_{n n}\n",
    "        \\end{array}\n",
    "    \\right|\n",
    "    $$\n",
    "4. 关于上面步骤的行列式:\n",
    "    行列式: 某一行或一列的代数余子式之和，表示为:\n",
    "    $$\n",
    "    D=a_{i 1} A_{i 1}+a_{i 2} A_{i 2}+\\ldots+a_{i n} A_{i n} \\quad(i=1,2, \\ldots, n)\n",
    "    $$\n",
    "    或者\n",
    "    $$\n",
    "    D=a_{1 j} A_{1 j}+a_{2 j} A_{2 j}+\\ldots+a_{n j} A_{n j} \\quad(j=1,2, \\ldots, n)\n",
    "    $$\n",
    "    其中 代数余子式 $A_{ij}$:\n",
    "    $$\n",
    "    A_{i j}=(-1)^{i+j} M_{i j}\n",
    "    $$\n",
    "    余子式 $M_{i j}$: 划去 aij 所在的行和列，剩余的保留顺序的行列式。"
   ]
  },
  {
   "cell_type": "code",
   "execution_count": 52,
   "metadata": {},
   "outputs": [
    {
     "name": "stdout",
     "output_type": "stream",
     "text": [
      "cramer_res == linalg_solve: \n",
      " [-3.   3.5]\n",
      "cramer_res == linalg_solve: \n",
      " [ 5.         -1.         -0.66666667]\n",
      "cramer_res == linalg_solve: \n",
      " [-27.57142857 -11.71428571  20.          -1.33333333]\n"
     ]
    }
   ],
   "source": [
    "def det(array):\n",
    "    # print('\\narray: \\n', array)\n",
    "    if len(array) == 1:\n",
    "        return array[0][0]\n",
    "\n",
    "    det_value = 0\n",
    "    for i in range(len(array)):\n",
    "        # print('array[i][0]: ', array[i][0])\n",
    "        M = []  # 余子式 Mij，划去 aij 所在的第 i 行与第 j 列的元素\n",
    "        for j in range(len(array)):\n",
    "            if j != i:\n",
    "                M.append(array[j][1:])\n",
    "        # print('array[j][1:]: ', array[j][1:])\n",
    "        det_value += (-1) ** i * array[i][0] * det(M)  # 代数余子式 Aij\n",
    "\n",
    "    return det_value\n",
    "\n",
    "\n",
    "def cramer(coeffi_array, beta):\n",
    "    # 判断输入维度\n",
    "    if len(coeffi_array) != len(beta):\n",
    "        raise ValueError('系数矩阵与常数项维度不同！')\n",
    "    if len(coeffi_array) != len(coeffi_array[0]):\n",
    "        raise ValueError('系数矩阵不是方阵！')\n",
    "\n",
    "    det_value = det(coeffi_array)  # 系数矩阵的行列式值\n",
    "    if det_value == 0:\n",
    "        raise ValueError('系数方阵行列式为 0，即存在自由向量，有无穷解')\n",
    "\n",
    "    coeffi_alter = []  # 存放每个 D_j\n",
    "    for i in range(len(beta)):  # 求每个 D_j\n",
    "        coeffi_alter.append(copy.deepcopy(coeffi_array))  # 深拷贝，否则深层嵌套拿到的不是数值\n",
    "        # coeffi_alter[i][:, i] = beta  # 实现步骤 3 中的 D_j\n",
    "        for j in range(len(coeffi_array)):\n",
    "            coeffi_alter[i][j][i] = beta[j]\n",
    "\n",
    "    x = []\n",
    "    for i in range(len(beta)):\n",
    "        x.append(det(coeffi_alter[i]) / det_value)\n",
    "\n",
    "    return x\n",
    "\n",
    "\n",
    "def line_equation(p, q):\n",
    "    ''' Ax + by = C:\n",
    "    return:\n",
    "        [[A, B], C]\n",
    "    '''\n",
    "    # 判断点坐标\n",
    "    if len(q) != 2 or len(q) != 2:\n",
    "        raise ValueError(\"此函数只可以接收二维点对。\")\n",
    "\n",
    "    A = q[1] - p[1]\n",
    "    B = p[0] - q[0]\n",
    "    C = p[0] * q[1] - q[0] * p[1]\n",
    "\n",
    "    return [A, B], C\n",
    "\n",
    "\n",
    "def check_result(coeffi_array, beta):\n",
    "    cramer_res = np.array(cramer(coeffi_array, beta))\n",
    "    linalg_solve = np.linalg.solve(np.array(coeffi_array), np.array(beta))\n",
    "    if np.sum(np.power(cramer_res - linalg_solve, 2)) < 1e-8:\n",
    "        print('cramer_res == linalg_solve: \\n', cramer_res)\n",
    "    else:\n",
    "        raise ValueError('自实现结果与 numpy.linalg.solve 不符，自实现不通过。')\n",
    "\n",
    "\n",
    "if __name__ == '__main__':\n",
    "    # 测试1：求解方程组 demo\n",
    "    coeffi_array_t1 = [[1, 2, 3], [4, 5, 6], [7, 8, 0]]\n",
    "    beta_t1 = [4, 5, 0]\n",
    "    cramer(coeffi_array_t1, beta_t1)\n",
    "\n",
    "    # 测试2：测试求两直线交点\n",
    "    p1 = [1, 2]\n",
    "    q1 = [2, 3]\n",
    "    coefA = line_equation(p1, q1)  # p1, q1 两点所在直线\n",
    "    p2 = [9, 2]\n",
    "    q2 = [2, 3]\n",
    "    coefB = line_equation(p2, q2)  # p2, q2 两点所在直线\n",
    "    # 两直线交点\n",
    "    coeffi_array = [coefA[0], coefB[0]]\n",
    "    beta = [coefA[1], coefB[1]]\n",
    "    cramer(coeffi_array, beta)\n",
    "\n",
    "    # 测试3：求解方程组测试用例\n",
    "    coeffi_array_t1 = [[1, 2], [3, 4]]\n",
    "    beta_t1 = [4, 5]\n",
    "    check_result(coeffi_array_t1, beta_t1)\n",
    "\n",
    "    coeffi_array_t2 = [[1, 2, 3], [3, 4, 6], [4, 5, 9]]\n",
    "    beta_t2 = [1, 7, 9]\n",
    "    check_result(coeffi_array_t2, beta_t2)\n",
    "\n",
    "    coeffi_array_t3 = [[1, 2, 3, 9], [3, -1, 4, 6],\n",
    "                       [4, -2.5, 5, 9], [1, 2, 3, 0]]\n",
    "    beta_t3 = [-3, 1, 7, 9]\n",
    "    check_result(coeffi_array_t3, beta_t3)"
   ]
  },
  {
   "cell_type": "code",
   "execution_count": 53,
   "metadata": {},
   "outputs": [
    {
     "data": {
      "text/plain": [
       "[-3.0, 3.5]"
      ]
     },
     "execution_count": 53,
     "metadata": {},
     "output_type": "execute_result"
    }
   ],
   "source": [
    "coeffi_array_t1 = [[1, 2], [3, 4]]\n",
    "beta_t1 = [4, 5]\n",
    "cramer(coeffi_array_t1, beta_t1)"
   ]
  },
  {
   "cell_type": "markdown",
   "metadata": {},
   "source": [
    "## 2. 高斯消元法\n",
    "\n",
    "缺点：\n",
    "1. 中间步骤频繁使用除法，导致精度损失。\n",
    "    解决方案：\n",
    "    - 缓解：在使主元最小，可缓解一定的损失（当前行减去主元行乘以系数，主元数字越小，系数越大）；\n",
    "    - 消除：使用分数/延迟除法。\n",
    "2. 需要操作原矩阵，解决方案：深拷贝一份矩阵"
   ]
  },
  {
   "cell_type": "markdown",
   "metadata": {},
   "source": [
    "### 2.1 最小主元版"
   ]
  },
  {
   "cell_type": "code",
   "execution_count": 27,
   "metadata": {},
   "outputs": [
    {
     "name": "stdout",
     "output_type": "stream",
     "text": [
      "gauss_res == linalg_solve: \n",
      "\t [-3.   3.5]\n",
      "gauss_res == linalg_solve: \n",
      "\t [ 5.         -1.         -0.66666667]\n",
      "gauss_res == linalg_solve: \n",
      "\t [-27.57142857 -11.71428571  20.          -1.33333333]\n"
     ]
    }
   ],
   "source": [
    "def gauss(coeffi_array_1, beta_1):\n",
    "    eps = 1e-6\n",
    "\n",
    "    # 下面操作直接在矩阵里操作，所以需要 copy，否则影响原矩阵\n",
    "    coeffi_array = copy.deepcopy(coeffi_array_1)\n",
    "    beta = copy.deepcopy(beta_1)\n",
    "\n",
    "    n = len(coeffi_array)\n",
    "    for index in range(n):\n",
    "        # 选取当前列中最小的元素做主元\n",
    "        minBaseNum = index\n",
    "        for row in range(index + 1, n):\n",
    "            if coeffi_array[row][index] < coeffi_array[minBaseNum][index]:\n",
    "                minBaseNum = row\n",
    "\n",
    "        if abs(coeffi_array[minBaseNum][index]) < eps:\n",
    "            raise ValueError(\"包含自由元，无穷解\")\n",
    "\n",
    "        # 主元行交换到当前范围的最前行\n",
    "        if index != minBaseNum:\n",
    "            coeffi_array[index], coeffi_array[minBaseNum] = coeffi_array[minBaseNum], coeffi_array[index]\n",
    "            beta[index], beta[minBaseNum] = beta[minBaseNum], beta[index]\n",
    "\n",
    "        # 转系数矩阵为对角矩阵\n",
    "        for row in range(n):\n",
    "            if row == index:\n",
    "                continue  # 基准行不用计算\n",
    "            if coeffi_array[row][index] == 0:\n",
    "                continue  # 当前行当前元素为 0 时不用计算\n",
    "            rate = coeffi_array[row][index] / coeffi_array[index][index]\n",
    "            for k in range(index, n):\n",
    "                coeffi_array[row][k] -= coeffi_array[index][k] * rate\n",
    "            beta[row] -= beta[index] * rate\n",
    "\n",
    "    # 增广矩阵转换为简化行阶梯形式（即系数矩阵单位化），由于方程求解只需要右边部分，所以只对右边操作\n",
    "    for k in range(n):\n",
    "        beta[k] /= coeffi_array[k][k]\n",
    "    return beta"
   ]
  },
  {
   "cell_type": "code",
   "execution_count": null,
   "metadata": {},
   "outputs": [],
   "source": [
    "def check_result(coeffi_array, beta):\n",
    "    gauss_res = np.array(gauss(coeffi_array, beta))\n",
    "    linalg_solve = np.linalg.solve(np.array(coeffi_array), np.array(beta))\n",
    "    if np.sum(np.power(gauss_res - linalg_solve, 2)) < 1e-8:\n",
    "        print('gauss_res == linalg_solve: \\n\\t', gauss_res)\n",
    "    else:\n",
    "        print(f'expect res: {linalg_solve}, got: {gauss_res}')\n",
    "        raise ValueError('自实现结果与 numpy.linalg.solve 不符，自实现不通过。')\n",
    "\n",
    "\n",
    "# 测试3：求解方程组测试用例\n",
    "coeffi_array_t1 = [[1, 2], [3, 4]]\n",
    "beta_t1 = [4, 5]\n",
    "check_result(coeffi_array_t1, beta_t1)\n",
    "\n",
    "coeffi_array_t2 = [[1, 2, 3], [3, 4, 6], [4, 5, 9]]\n",
    "beta_t2 = [1, 7, 9]\n",
    "check_result(coeffi_array_t2, beta_t2)\n",
    "\n",
    "coeffi_array_t3 = [[1, 2, 3, 9], [3, -1, 4, 6],\n",
    "                   [4, -2.5, 5, 9], [1, 2, 3, 0]]\n",
    "beta_t3 = [-3, 1, 7, 9]\n",
    "check_result(coeffi_array_t3, beta_t3)\n"
   ]
  },
  {
   "cell_type": "markdown",
   "metadata": {},
   "source": [
    "### 2.2 分数版本\n",
    "\n",
    "无精度损失，但需要依赖库。"
   ]
  },
  {
   "cell_type": "code",
   "execution_count": 28,
   "metadata": {},
   "outputs": [
    {
     "data": {
      "text/plain": [
       "[-1.1428571428571428, 0.21428571428571427, 0.8333333333333334]"
      ]
     },
     "execution_count": 28,
     "metadata": {},
     "output_type": "execute_result"
    }
   ],
   "source": [
    "from fractions import Fraction\n",
    "\n",
    "\n",
    "def gauss_frac(coeffi_array_1, beta_1):\n",
    "    eps = 1e-6\n",
    "\n",
    "    # 下面操作直接在矩阵里操作，所以需要 copy，否则影响原矩阵\n",
    "    coeffi_array = copy.deepcopy(coeffi_array_1)\n",
    "    beta = copy.deepcopy(beta_1)\n",
    "\n",
    "    n = len(coeffi_array)\n",
    "    for index in range(n):\n",
    "        # 选取不为 0 的元素做主元\n",
    "        for row in range(index, n):\n",
    "            if coeffi_array[row][index] > eps:\n",
    "                break\n",
    "        baseNum = row\n",
    "\n",
    "        if abs(coeffi_array[baseNum][index]) < eps:\n",
    "            raise ValueError(\"包含自由元，无穷解\")\n",
    "\n",
    "        # 主元行交换到当前范围的最前行\n",
    "        if index != baseNum:\n",
    "            coeffi_array[index], coeffi_array[baseNum] = coeffi_array[baseNum], coeffi_array[index]\n",
    "            beta[index], beta[baseNum] = beta[baseNum], beta[index]\n",
    "\n",
    "        # 转系数矩阵为对角矩阵\n",
    "        for row in range(n):\n",
    "            if row == index:\n",
    "                continue  # 基准行不用计算\n",
    "            if coeffi_array[row][index] == 0:\n",
    "                continue  # 当前行当前元素为 0 时不用计算\n",
    "            # 系数使用分数，其他元素计算使用分数后也会转型为分数\n",
    "            rate = Fraction(coeffi_array[row][index],\n",
    "                            coeffi_array[index][index])\n",
    "            for k in range(index, n):\n",
    "                coeffi_array[row][k] -= coeffi_array[index][k] * rate\n",
    "            beta[row] -= beta[index] * rate\n",
    "\n",
    "    # 增广矩阵转换为简化行阶梯形式（即系数矩阵单位化），由于方程求解只需要右边部分，所以只对右边操作\n",
    "    for k in range(n):\n",
    "        beta[k] = float(beta[k] / coeffi_array[k][k])\n",
    "    return beta\n",
    "\n",
    "\n",
    "coeffi_array_t1 = [[0, 7, 3], [0, 0, 6], [4, 5, 9]]\n",
    "beta_t1 = [4, 5, 4]\n",
    "gauss_frac(coeffi_array_t1, beta_t1)\n"
   ]
  },
  {
   "cell_type": "code",
   "execution_count": null,
   "metadata": {},
   "outputs": [],
   "source": []
  },
  {
   "cell_type": "code",
   "execution_count": null,
   "metadata": {},
   "outputs": [],
   "source": []
  }
 ],
 "metadata": {
  "kernelspec": {
   "display_name": "Python 3 (ipykernel)",
   "language": "python",
   "name": "python3"
  },
  "language_info": {
   "codemirror_mode": {
    "name": "ipython",
    "version": 3
   },
   "file_extension": ".py",
   "mimetype": "text/x-python",
   "name": "python",
   "nbconvert_exporter": "python",
   "pygments_lexer": "ipython3",
   "version": "3.8.5"
  }
 },
 "nbformat": 4,
 "nbformat_minor": 4
}
