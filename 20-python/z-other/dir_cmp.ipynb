{
 "cells": [
  {
   "cell_type": "code",
   "execution_count": 1,
   "metadata": {},
   "outputs": [],
   "source": [
    "from pathlib import Path"
   ]
  },
  {
   "cell_type": "code",
   "execution_count": 9,
   "metadata": {},
   "outputs": [],
   "source": [
    "import os\n",
    "import filecmp\n",
    "\n",
    "\n",
    "class DirCmp(filecmp.dircmp):\n",
    "    \"\"\"Compare files with shallow=False, and add recursive getters.\"\"\"\n",
    "\n",
    "    def phase3(self):\n",
    "        xx = filecmp.cmpfiles(self.left, self.right, self.common_files, shallow=False)\n",
    "        self.same_files, self.diff_files, self.funny_files = xx\n",
    "\n",
    "    def phase4(self):\n",
    "        self.subdirs = {}\n",
    "        for x in self.common_dirs:\n",
    "            a_x = os.path.join(self.left, x)\n",
    "            b_x = os.path.join(self.right, x)\n",
    "            self.subdirs[x] = type(self)(a_x, b_x, self.ignore, self.hide)\n",
    "\n",
    "    def get_left_only_recursive(self):\n",
    "        left_only = list(self.left_only)\n",
    "        for name, subdir in self.subdirs.items():\n",
    "            for file in subdir.get_left_only_recursive():\n",
    "                left_only.append(os.path.join(name, file))\n",
    "        return left_only\n",
    "\n",
    "    def iter_left_only_recursive(self):\n",
    "        for i in self.left_only:\n",
    "            yield i\n",
    "        for name, subdir in self.subdirs.items():\n",
    "            for file in subdir.iter_left_only_recursive():\n",
    "                yield os.path.join(name, file)\n",
    "\n",
    "    def get_right_only_recursive(self):\n",
    "        right_only = list(self.right_only)\n",
    "        for name, subdir in self.subdirs.items():\n",
    "            for file in subdir.get_right_only_recursive():\n",
    "                right_only.append(os.path.join(name, file))\n",
    "        return right_only\n",
    "\n",
    "    def iter_right_only_recursive(self):\n",
    "        for i in self.right_only:\n",
    "            yield i\n",
    "        for name, subdir in self.subdirs.items():\n",
    "            for file in subdir.iter_right_only_recursive():\n",
    "                yield os.path.join(name, file)\n",
    "\n",
    "    def get_common_funny_recursive(self):\n",
    "        common_funny = list(self.common_funny)\n",
    "        for name, subdir in self.subdirs.items():\n",
    "            for file in subdir.get_common_funny_recursive():\n",
    "                common_funny.append(os.path.join(name, file))\n",
    "        return common_funny\n",
    "\n",
    "    def get_diff_files_recursive(self):\n",
    "        diff_files = list(self.diff_files)\n",
    "        for name, subdir in self.subdirs.items():\n",
    "            for file in subdir.get_diff_files_recursive():\n",
    "                diff_files.append(os.path.join(name, file))\n",
    "        return diff_files\n",
    "    \n",
    "    def iter_diff_files_recursive(self):\n",
    "        for i in self.diff_files:\n",
    "            yield i\n",
    "        for name, subdir in self.subdirs.items():\n",
    "            for file in subdir.iter_diff_files_recursive():\n",
    "                yield os.path.join(name, file)\n",
    "\n",
    "    # For our subclassed methods to be really used.\n",
    "    methodmap = dict(filecmp.dircmp.methodmap,\n",
    "        subdirs=phase4,\n",
    "        same_files=phase3, diff_files=phase3, funny_files=phase3,\n",
    "    )\n"
   ]
  },
  {
   "cell_type": "code",
   "execution_count": 3,
   "metadata": {},
   "outputs": [],
   "source": [
    "local = Path('./download')\n",
    "remote = Path('./download_remote')"
   ]
  },
  {
   "cell_type": "code",
   "execution_count": 4,
   "metadata": {},
   "outputs": [],
   "source": [
    "ignore = ['.ipynb_checkpoints']\n",
    "cmp = DirCmp(local, remote, ignore=ignore)"
   ]
  },
  {
   "cell_type": "code",
   "execution_count": 5,
   "metadata": {},
   "outputs": [
    {
     "name": "stdout",
     "output_type": "stream",
     "text": [
      "left_only=[]\n"
     ]
    }
   ],
   "source": [
    "left_only = cmp.get_left_only_recursive()\n",
    "print(f'{left_only=}')"
   ]
  },
  {
   "cell_type": "code",
   "execution_count": null,
   "metadata": {},
   "outputs": [],
   "source": [
    "left_only = cmp.get_left_only_recursive()\n",
    "print(f'{left_only=}')\n",
    "\n",
    "right_only = cmp.get_right_only_recursive()\n",
    "print(f'{right_only=}')\n",
    "\n",
    "diff_file = cmp.get_diff_files_recursive()\n",
    "print(f'{diff_file=}')"
   ]
  },
  {
   "cell_type": "code",
   "execution_count": 7,
   "metadata": {},
   "outputs": [
    {
     "name": "stdout",
     "output_type": "stream",
     "text": [
      "diff_file=['prj_test/aaa.sh', 'prj_yovole_ubp_ds/test-cal-fact-core-asset-detail-hbase.sql']\n"
     ]
    }
   ],
   "source": []
  },
  {
   "cell_type": "code",
   "execution_count": 8,
   "metadata": {},
   "outputs": [
    {
     "name": "stdout",
     "output_type": "stream",
     "text": [
      "- diff: prj_test/aaa.sh\n",
      "- diff: prj_yovole_ubp_ds/test-cal-fact-core-asset-detail-hbase.sql\n"
     ]
    }
   ],
   "source": [
    "for f in cmp.iter_diff_files_recursive():\n",
    "    print(f'- diff: {f}')"
   ]
  },
  {
   "cell_type": "code",
   "execution_count": null,
   "metadata": {},
   "outputs": [],
   "source": []
  }
 ],
 "metadata": {
  "kernelspec": {
   "display_name": "Python 3 (ipykernel)",
   "language": "python",
   "name": "python3"
  },
  "language_info": {
   "codemirror_mode": {
    "name": "ipython",
    "version": 3
   },
   "file_extension": ".py",
   "mimetype": "text/x-python",
   "name": "python",
   "nbconvert_exporter": "python",
   "pygments_lexer": "ipython3",
   "version": "3.8.5"
  }
 },
 "nbformat": 4,
 "nbformat_minor": 4
}
