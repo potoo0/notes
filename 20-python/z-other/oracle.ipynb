{
 "cells": [
  {
   "cell_type": "code",
   "execution_count": 1,
   "metadata": {},
   "outputs": [],
   "source": [
    "from IPython.core.interactiveshell import InteractiveShell\n",
    "InteractiveShell.ast_node_interactivity = 'all'"
   ]
  },
  {
   "cell_type": "code",
   "execution_count": 2,
   "metadata": {},
   "outputs": [],
   "source": [
    "import cx_Oracle\n",
    "from datetime import datetime"
   ]
  },
  {
   "cell_type": "code",
   "execution_count": null,
   "metadata": {},
   "outputs": [],
   "source": []
  },
  {
   "cell_type": "markdown",
   "metadata": {},
   "source": [
    "## 1. connect\n",
    "\n",
    "oracle 中“模式(schema)”：oracle 在创建用户时会自动创建同名的模式，该用户的所有对象都会归属此模式。  \n",
    "操作时会默认为该用户的模式，所以访问此模式下的对象时可不加。"
   ]
  },
  {
   "cell_type": "code",
   "execution_count": 3,
   "metadata": {},
   "outputs": [],
   "source": [
    "user = 'jzsk'\n",
    "passwd = 'jzsk'\n",
    "host = '10.10.10.155'\n",
    "port = '1521'\n",
    "ins = 'ORCL'\n",
    "\n",
    "table = 'JD_IMAGE_DETECT'\n",
    "sequence = 'JD_IMAGE_DETECT_ID_SEQ'\n",
    "directory = 'JD_IMAGE_PATH'\n",
    "procedure = 'saveimg2disk'"
   ]
  },
  {
   "cell_type": "code",
   "execution_count": 4,
   "metadata": {},
   "outputs": [],
   "source": [
    "db = cx_Oracle.connect(\n",
    "    f'{user}/{passwd}@{host}:{port}/{ins}',\n",
    "    encoding=\"UTF-8\")\n",
    "# db.current_schema = user  # 无须手动，默认即当前用户的模式"
   ]
  },
  {
   "cell_type": "markdown",
   "metadata": {},
   "source": [
    "## 2. 添加数据表\n",
    "\n",
    "JD_image_detect 表格:\n",
    "\n",
    "| *ID* | DATA_CAMERA_ID | DATE_TIME | DATA_IMAGE_PATH | DATA_INFOR | DATA_BLOB |\n",
    "| :--: | :--: | :--: | :--: | :--: | :--: |\n",
    "| int |    int    |    date    |   varchar(255)     |  varchar(255)  | BLOB |\n",
    "| 主键 | 探头ID    |    时间戳   |   图片保存的路径  |  图片信息 | 图片二进制数据 |"
   ]
  },
  {
   "cell_type": "code",
   "execution_count": 6,
   "metadata": {},
   "outputs": [],
   "source": [
    "# table = 'JD_001'\n",
    "sql = \"\"\"CREATE TABLE {table} (\n",
    "                ID INT PRIMARY KEY NOT NULL,\n",
    "                DATA_CAMERA_ID INT NOT NULL,\n",
    "                DATE_TIME DATE NOT NULL,\n",
    "                DATA_IMAGE_PATH VARCHAR(255) NOT NULL,\n",
    "                DATA_INFOR VARCHAR(255) NOT NULL,\n",
    "                DATA_BLOB BLOB\n",
    "                )\"\"\"\n",
    "# sql_drop = \"\"\"DROP TABLE {table}\"\"\"\n",
    "with db.cursor() as cursor:\n",
    "    cursor.execute(sql.format(table=table))\n"
   ]
  },
  {
   "cell_type": "markdown",
   "metadata": {},
   "source": [
    "## 2.1 创建 sequence"
   ]
  },
  {
   "cell_type": "code",
   "execution_count": 7,
   "metadata": {},
   "outputs": [],
   "source": [
    "\n",
    "sql = \"\"\"CREATE SEQUENCE {sequence}\n",
    "    MINVALUE 1\n",
    "    NOMAXVALUE\n",
    "    START WITH 1\n",
    "    INCREMENT BY 1\n",
    "    NOCACHE\n",
    "\"\"\"\n",
    "# sql_drop = \"\"\"DROP SEQUENCE {sequence}\"\"\"\n",
    "with db.cursor() as cursor:\n",
    "    cursor.execute(sql.format(sequence=sequence))"
   ]
  },
  {
   "cell_type": "markdown",
   "metadata": {},
   "source": [
    "## 2.2 创建触发器\n",
    "\n",
    "**错误：此处提交的触发器不可用，需要在 navicat 中手动添加**"
   ]
  },
  {
   "cell_type": "code",
   "execution_count": 79,
   "metadata": {},
   "outputs": [],
   "source": [
    "# sequence = 'JD_IMAGE_DETECT_ID_SEQ'\n",
    "# trigger = 'JD_IMAGE_DETECT_ID_TRIGGER'\n",
    "# table = 'JD_001'\n",
    "\n",
    "# sql = \"\"\"create or replace trigger {trigger}\n",
    "#     before insert on {table}\n",
    "#     for each row\n",
    "#     begin\n",
    "#         select {sequence}.nextval into :new.id from dual;\n",
    "#     end\n",
    "# \"\"\"\n",
    "\n",
    "# sql_drop = \"\"\"drop trigger {trigger}\"\"\"\n",
    "# with db.cursor() as cursor:\n",
    "#     cursor.execute(sql.format(user=user, trigger=trigger, table=table, sequence=sequence))\n"
   ]
  },
  {
   "cell_type": "markdown",
   "metadata": {},
   "source": [
    "## 3. 提交数据"
   ]
  },
  {
   "cell_type": "markdown",
   "metadata": {},
   "source": [
    "### 3.1 获取下一个 id"
   ]
  },
  {
   "cell_type": "code",
   "execution_count": 73,
   "metadata": {},
   "outputs": [
    {
     "data": {
      "text/plain": [
       "<cx_Oracle.Cursor on <cx_Oracle.Connection to jzsk@10.10.10.155:1521/ORCL>>"
      ]
     },
     "execution_count": 73,
     "metadata": {},
     "output_type": "execute_result"
    }
   ],
   "source": [
    "sql = \"\"\"select * from user_sequences where sequence_name='{sequence}'\"\"\"\n",
    "\n",
    "with db.cursor() as cursor:\n",
    "    cursor.execute(sql.format(sequence=sequence))\n",
    "    if cursor.fetchone() is None:\n",
    "        print(f'Sequence {sequence} not exist, try to create it.')"
   ]
  },
  {
   "cell_type": "code",
   "execution_count": 74,
   "metadata": {},
   "outputs": [
    {
     "data": {
      "text/plain": [
       "<cx_Oracle.Cursor on <cx_Oracle.Connection to jzsk@10.10.10.155:1521/ORCL>>"
      ]
     },
     "execution_count": 74,
     "metadata": {},
     "output_type": "execute_result"
    },
    {
     "name": "stdout",
     "output_type": "stream",
     "text": [
      "table JD_IMAGE_DETECT does not exist, try to create it.\n"
     ]
    }
   ],
   "source": [
    "sql = \"\"\"select table_name from user_tables where table_name='{table}'\"\"\"\n",
    "\n",
    "with db.cursor() as cursor:\n",
    "    cursor.execute(sql.format(table=table))\n",
    "    if cursor.fetchone() is None:\n",
    "        print(f'Table {table} not exist, try to create it.')"
   ]
  },
  {
   "cell_type": "code",
   "execution_count": null,
   "metadata": {},
   "outputs": [],
   "source": [
    "sql = \"\"\"select * from dba_directories where directory_name='{directory}'\"\"\"\n",
    "\n",
    "with db.cursor() as cursor:\n",
    "    cursor.execute(sql.format(directory=directory))\n",
    "    if cursor.fetchone() is None:\n",
    "        print(f'Directory {directory} not exist, try to create it.')"
   ]
  },
  {
   "cell_type": "code",
   "execution_count": 84,
   "metadata": {},
   "outputs": [
    {
     "data": {
      "text/plain": [
       "<cx_Oracle.Cursor on <cx_Oracle.Connection to jzsk@10.10.10.155:1521/ORCL>>"
      ]
     },
     "execution_count": 84,
     "metadata": {},
     "output_type": "execute_result"
    }
   ],
   "source": [
    "sql = \"\"\"select * from user_procedures where object_name='{procedure}'\"\"\"\n",
    "\n",
    "with db.cursor() as cursor:\n",
    "    cursor.execute(sql.format(procedure=procedure.upper()))\n",
    "    if cursor.fetchone() is None:\n",
    "        print(f'Procedure {procedure} not exist, try to create it.')"
   ]
  },
  {
   "cell_type": "code",
   "execution_count": 77,
   "metadata": {},
   "outputs": [
    {
     "data": {
      "text/plain": [
       "<cx_Oracle.Cursor on <cx_Oracle.Connection to jzsk@10.10.10.155:1521/ORCL>>"
      ]
     },
     "execution_count": 77,
     "metadata": {},
     "output_type": "execute_result"
    },
    {
     "name": "stdout",
     "output_type": "stream",
     "text": [
      "Directory JD_IMAGE_PATH does not exist, try to create it.\n"
     ]
    }
   ],
   "source": []
  },
  {
   "cell_type": "code",
   "execution_count": null,
   "metadata": {},
   "outputs": [],
   "source": []
  },
  {
   "cell_type": "code",
   "execution_count": 8,
   "metadata": {},
   "outputs": [
    {
     "data": {
      "text/plain": [
       "<cx_Oracle.Cursor on <cx_Oracle.Connection to jzsk@10.10.10.155:1521/ORCL>>"
      ]
     },
     "execution_count": 8,
     "metadata": {},
     "output_type": "execute_result"
    }
   ],
   "source": [
    "sql = '''select {sequence}.nextval from dual'''\n",
    "\n",
    "with db.cursor() as cursor:\n",
    "    cursor.execute(sql.format(sequence=sequence))\n",
    "    id_num = cursor.fetchone()[0]"
   ]
  },
  {
   "cell_type": "markdown",
   "metadata": {},
   "source": [
    "### 3.2 插入数据"
   ]
  },
  {
   "cell_type": "code",
   "execution_count": 9,
   "metadata": {},
   "outputs": [],
   "source": [
    "now = datetime.now()\n",
    "imgPath = './2019-10-28_10-02-01.png'\n",
    "with open(imgPath, 'rb') as fp:\n",
    "    imgContent = fp.read()"
   ]
  },
  {
   "cell_type": "code",
   "execution_count": 10,
   "metadata": {},
   "outputs": [],
   "source": [
    "sql = \"\"\"insert into {table}\n",
    "    values (:ID, :DATA_CAMERA_ID, :DATE_TIME, :DATA_IMAGE_PATH, :DATA_INFOR, :DATA_BLOB)\"\"\"\n",
    "\n",
    "with db.cursor() as cursor:\n",
    "    cursor.execute(\n",
    "        sql.format(table=table),\n",
    "        [id_num, 1, now, '00006.png', '类别:船，面积:30，方向：xx，速度：xx', imgContent]\n",
    "    )\n",
    "    db.commit()"
   ]
  },
  {
   "cell_type": "code",
   "execution_count": 7,
   "metadata": {},
   "outputs": [],
   "source": [
    "# clear blob\n",
    "\n",
    "sql = \"\"\"update {table} set DATA_BLOB=(:DATA_BLOB) where ID={id_num}\"\"\"\n",
    "\n",
    "with db.cursor() as cursor:\n",
    "    cursor.execute(\n",
    "        sql.format(table=table, id_num=2),\n",
    "        [None]\n",
    "    )\n",
    "    db.commit()"
   ]
  },
  {
   "cell_type": "markdown",
   "metadata": {},
   "source": [
    "## 4. 保存图片到磁盘(服务器)\n",
    "\n",
    "创建一个存储过程(procedure), 使用时调用即可。输入参数: ID"
   ]
  },
  {
   "cell_type": "markdown",
   "metadata": {},
   "source": [
    "### 4.1 创建目录\n",
    "\n",
    "需要注意目录的物理地址应该存在，并且需要管理员赋予当前用户对此文件夹的读写权限。sql 如下"
   ]
  },
  {
   "cell_type": "code",
   "execution_count": null,
   "metadata": {},
   "outputs": [],
   "source": [
    "# sql = \"\"\"create or replace directory JD_IMAGE_PATH as 'D:\\JD_DETECT_IMAGE' \"\"\"\n",
    "# with db.cursor() as cursor:\n",
    "#     cursor.execute(sql)\n",
    "# sql = \"\"\"grant read, write on directory JD_IMAGE_PATH to jzsk \"\"\"\n",
    "# with db.cursor() as cursor:\n",
    "#     cursor.execute(sql)"
   ]
  },
  {
   "cell_type": "markdown",
   "metadata": {},
   "source": [
    "### 4.2 创建 procedure\n",
    "输入参数为 row 的 id"
   ]
  },
  {
   "cell_type": "code",
   "execution_count": 61,
   "metadata": {},
   "outputs": [],
   "source": [
    "sql_saveimg2disk = '''\n",
    "CREATE OR REPLACE\n",
    "PROCEDURE saveimg2disk(I_ID INTEGER) IS\n",
    "\n",
    "    file_handle UTL_FILE.FILE_TYPE;\n",
    "    file_name VARCHAR2(255);\n",
    "    file_blob BLOB;\n",
    "\n",
    "    v_buffer       RAW(32767);\n",
    "    v_buffer_size  BINARY_INTEGER;\n",
    "    v_amount       BINARY_INTEGER;\n",
    "    v_offset       NUMBER(38) := 1;\n",
    "    v_chunksize    INTEGER;\n",
    "\n",
    "BEGIN\n",
    "\n",
    "    select DATA_BLOB into file_blob from JD_IMAGE_DETECT where ID=I_ID;\n",
    "    select DATA_IMAGE_PATH into file_name from JD_IMAGE_DETECT where ID=I_ID;\n",
    "\n",
    "    -- 大小\n",
    "    v_chunksize := DBMS_LOB.GETCHUNKSIZE(file_blob);\n",
    "    IF (v_chunksize < 32767) THEN\n",
    "         v_buffer_size := v_chunksize;\n",
    "    ELSE\n",
    "        v_buffer_size := 32767;\n",
    "    END IF;\n",
    "    v_amount := v_buffer_size;\n",
    "\n",
    "    -- 打开 BLOB\n",
    "    DBMS_LOB.OPEN(file_blob, DBMS_LOB.LOB_READONLY);\n",
    "\n",
    "    -- 打开文件\n",
    "    file_handle := UTL_FILE.FOPEN('JD_IMAGE_PATH', file_name, 'wb', 32767);\n",
    "    DBMS_OUTPUT.PUT_LINE( '===OPEN OK===' || file_name || '==='|| LENGTH(file_blob));\n",
    "\n",
    "    -- 循环写入\n",
    "    WHILE v_amount >= v_buffer_size\n",
    "    LOOP\n",
    "        DBMS_LOB.READ(file_blob, v_amount, v_offset, v_buffer);\n",
    "        v_offset := v_offset + v_amount;\n",
    "        UTL_FILE.PUT_RAW(file_handle, v_buffer, true);\n",
    "        UTL_FILE.FFLUSH(file_handle);\n",
    "    END LOOP;\n",
    "    UTL_FILE.FFLUSH(file_handle);\n",
    "    UTL_FILE.FCLOSE(file_handle);\n",
    "\n",
    "    -- 关闭文件\n",
    "    DBMS_LOB.CLOSE(file_blob);\n",
    "\n",
    "EXCEPTION\n",
    "\n",
    "  WHEN UTL_FILE.INVALID_PATH THEN\n",
    "    --无效的路径\n",
    "    DBMS_OUTPUT.PUT_LINE('===INVALID_PATH==='|| I_ID);\n",
    "    RAISE;\n",
    "\n",
    "  WHEN UTL_FILE.INVALID_MODE THEN\n",
    "    --无效的打开模式\n",
    "    DBMS_OUTPUT.PUT_LINE('===INVALID_MODE==='|| I_ID);\n",
    "    RAISE;\n",
    "\n",
    "  WHEN UTL_FILE.INVALID_OPERATION THEN\n",
    "    --无效的操作，文件打开错误会报这个异常，一般来说都是超长或打开方式byte型和非byte型\n",
    "    DBMS_OUTPUT.PUT_LINE('===INVALID_OPERATION==='|| I_ID);\n",
    "    RAISE;\n",
    "\n",
    "  WHEN UTL_FILE.INVALID_MAXLINESIZE THEN\n",
    "    --无效的最大长度，RAW最大32676，超过回报这个异常，所以一般要进行循环操作\n",
    "    DBMS_OUTPUT.PUT_LINE('===INVALID_MAXLINESIZE==='|| I_ID);\n",
    "    RAISE;\n",
    "\n",
    "  WHEN UTL_FILE.ACCESS_DENIED THEN\n",
    "    --拒绝进入指定路径，可能是授权问题\n",
    "    DBMS_OUTPUT.PUT_LINE('===ACCESS_DENIED==='|| I_ID);\n",
    "    RAISE;\n",
    "\n",
    "  WHEN UTL_FILE.INVALID_FILEHANDLE THEN\n",
    "    --文件处理错误，不常见\n",
    "    DBMS_OUTPUT.PUT_LINE('===INVALID_FILEHANDLE==='|| I_ID);\n",
    "    RAISE;\n",
    "\n",
    "  WHEN UTL_FILE.WRITE_ERROR THEN\n",
    "    --写入错误，处理该异常最好的方式是将要写入的文件简单化，然后找准错误原因\n",
    "    DBMS_OUTPUT.PUT_LINE('===WRITE_ERROR==='|| I_ID);\n",
    "    RAISE;\n",
    "\n",
    "  WHEN NO_DATA_FOUND THEN\n",
    "    --SELECT时候未找到数据，不是UTL_FILE的异常\n",
    "    DBMS_OUTPUT.PUT_LINE('===NO_DATA_FOUND==='|| I_ID);\n",
    "    UTL_FILE.FCLOSE(file_handle);\n",
    "    RAISE;\n",
    "\n",
    "  WHEN OTHERS THEN\n",
    "    IF UTL_FILE.IS_OPEN(file_handle) THEN\n",
    "      UTL_FILE.FCLOSE(file_handle);\n",
    "      RAISE;\n",
    "    END IF;\n",
    "\n",
    "END saveimg2disk;\n",
    "'''\n",
    "\n",
    "with db.cursor() as cursor:\n",
    "    cursor.execute(sql_saveimg2disk)\n"
   ]
  },
  {
   "cell_type": "markdown",
   "metadata": {},
   "source": [
    "### 4.3 调用 procedure"
   ]
  },
  {
   "cell_type": "code",
   "execution_count": 5,
   "metadata": {},
   "outputs": [],
   "source": [
    "sql = '''\n",
    "begin\n",
    "{procedure}({id_num});\n",
    "end;\n",
    "'''\n",
    "\n",
    "with db.cursor() as cursor:\n",
    "    cursor.execute(sql.format(procedure=procedure, id_num=2))"
   ]
  },
  {
   "cell_type": "code",
   "execution_count": null,
   "metadata": {},
   "outputs": [],
   "source": []
  },
  {
   "cell_type": "code",
   "execution_count": 12,
   "metadata": {},
   "outputs": [],
   "source": [
    "# clear blob\n",
    "\n",
    "sql = \"\"\"update {table} set DATA_BLOB=(:DATA_BLOB) where ID={id_num}\"\"\"\n",
    "\n",
    "with db.cursor() as cursor:\n",
    "    cursor.execute(\n",
    "        sql.format(table=table, id_num=12),\n",
    "        [None]\n",
    "    )\n",
    "    db.commit()"
   ]
  },
  {
   "cell_type": "markdown",
   "metadata": {},
   "source": [
    "## 5. 查看数据"
   ]
  },
  {
   "cell_type": "code",
   "execution_count": 10,
   "metadata": {},
   "outputs": [
    {
     "data": {
      "text/plain": [
       "<cx_Oracle.Cursor on <cx_Oracle.Connection to jzsk@10.10.10.155:1521/ORCL>>"
      ]
     },
     "execution_count": 10,
     "metadata": {},
     "output_type": "execute_result"
    },
    {
     "name": "stdout",
     "output_type": "stream",
     "text": [
      "(1, 5, datetime.datetime(2019, 10, 28, 9, 59, 4), './0001.png', 'label:boat area:30', None)\n",
      "(2, 5, datetime.datetime(2019, 10, 28, 9, 59, 4), './0001.png', 'label:boat area:30', None)\n",
      "(12, 5, datetime.datetime(2019, 10, 29, 19, 9, 9), './0001.png', 'label:boat area:30', None)\n",
      "(13, 5, datetime.datetime(2019, 10, 29, 19, 10, 11), '00005.png', 'label:boat area:30', <cx_Oracle.LOB object at 0x000001E0CEF83378>)\n",
      "(14, 1, datetime.datetime(2019, 10, 29, 19, 16, 24), '00006.png', 'label:boat area:30', <cx_Oracle.LOB object at 0x000001E0CEF83F08>)\n"
     ]
    }
   ],
   "source": [
    "numRows = 10\n",
    "sql = f'select * from {table}'\n",
    "\n",
    "with db.cursor() as cursor:\n",
    "    cursor.execute(sql)\n",
    "    for row in cursor.fetchmany(numRows):\n",
    "        print(row)"
   ]
  },
  {
   "cell_type": "code",
   "execution_count": null,
   "metadata": {},
   "outputs": [],
   "source": []
  },
  {
   "cell_type": "code",
   "execution_count": null,
   "metadata": {},
   "outputs": [],
   "source": []
  },
  {
   "cell_type": "code",
   "execution_count": null,
   "metadata": {},
   "outputs": [],
   "source": []
  },
  {
   "cell_type": "code",
   "execution_count": null,
   "metadata": {},
   "outputs": [],
   "source": [
    "class oracle:\n",
    "    cnt = 1\n",
    "    def __init__(self, user, passwd, host, port, ins, table):\n",
    "        self.db = cx_Oracle.connect(f'{user}/{passwd}@{host}:{port}/{ins}',\n",
    "                                    encoding=\"UTF-8\")\n",
    "\n",
    "    def createTable(self, table):\n",
    "        cursor = self.db.cursor()\n",
    "        sql = \"\"\"CREATE TABLE {table} (\n",
    "                 DATA_ITEM_ID INT NOT NULL,\n",
    "                 DATE_TIME VARCHAR(255) NOT NULL,\n",
    "                 DATA_image_path VARCHAR(255) NOT NULL,\n",
    "                 DATA_infor VARCHAR(255) NOT NULL\n",
    "                 )\"\"\"\n",
    "        cursor.execute(sql.format(table))\n",
    "\n",
    "    def insertOne(self, cameraId, date, imgPath, imgInfo):\n",
    "        cursor = self.db.cursor()\n",
    "        try:\n",
    "            sql = \"\"\"INSERT INTO {table}\n",
    "            values (:DATA_ITEM_ID, :DATE_TIME, :DATA_image_path, :DATA_infor)\"\"\"\n",
    "            cursor.execute(\n",
    "                sql.format(table),\n",
    "                [cameraId, date, imgPath, imgInfo]\n",
    "            )\n",
    "\n",
    "            self.db.commit()\n",
    "        except cx_Oracle.ProgrammingError:\n",
    "            print('programming errors')\n",
    "        except Exception:\n",
    "            self.db.rollback()\n",
    "        else:\n",
    "            print('Insert successfully')\n",
    "\n",
    "    def __del__(self):\n",
    "        if hasattr(self, 'db'):\n",
    "            self.db.close()\n",
    "\n",
    "\n",
    "test = [1, '2020-10-22 16:03', './imgPath/000001.png', 'label:boat, area:0.3']\n",
    "\n",
    "testOra = oracle(user, passwd, host, port, ins, table)\n"
   ]
  }
 ],
 "metadata": {
  "kernelspec": {
   "display_name": "Python 3",
   "language": "python",
   "name": "python3"
  },
  "language_info": {
   "codemirror_mode": {
    "name": "ipython",
    "version": 3
   },
   "file_extension": ".py",
   "mimetype": "text/x-python",
   "name": "python",
   "nbconvert_exporter": "python",
   "pygments_lexer": "ipython3",
   "version": "3.6.4"
  }
 },
 "nbformat": 4,
 "nbformat_minor": 4
}
