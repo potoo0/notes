{
 "cells": [
  {
   "cell_type": "code",
   "execution_count": 1,
   "metadata": {},
   "outputs": [],
   "source": [
    "# 多输出\n",
    "from IPython.core.interactiveshell import InteractiveShell\n",
    "InteractiveShell.ast_node_interactivity = \"all\""
   ]
  },
  {
   "cell_type": "markdown",
   "metadata": {},
   "source": [
    "MNIST数据集手写数字识别。  \n",
    "下面例子都使用 tensorflow.keras，作为初学者还是先从 keras 学起。  \n",
    "官方文档：[tensorflow Keras 中文手册](https://tensorflow.google.cn/guide/keras?hl=zh-cn)\n",
    "\n",
    "---"
   ]
  },
  {
   "cell_type": "markdown",
   "metadata": {},
   "source": [
    "## 0. import modules"
   ]
  },
  {
   "cell_type": "code",
   "execution_count": 2,
   "metadata": {},
   "outputs": [],
   "source": [
    "import matplotlib.pyplot as plt\n",
    "import tensorflow as tf\n",
    "from tensorflow import keras\n",
    "import numpy as np\n",
    "import os\n",
    "\n",
    "\n",
    "devices = tf.config.experimental.list_physical_devices('GPU')\n",
    "tf.config.experimental.set_memory_growth(devices[0], True)\n",
    "\n",
    "%matplotlib inline"
   ]
  },
  {
   "cell_type": "code",
   "execution_count": 3,
   "metadata": {},
   "outputs": [
    {
     "data": {
      "text/plain": [
       "'1.18.5'"
      ]
     },
     "execution_count": 3,
     "metadata": {},
     "output_type": "execute_result"
    },
    {
     "data": {
      "text/plain": [
       "'2.3.1'"
      ]
     },
     "execution_count": 3,
     "metadata": {},
     "output_type": "execute_result"
    },
    {
     "data": {
      "text/plain": [
       "'2.4.0'"
      ]
     },
     "execution_count": 3,
     "metadata": {},
     "output_type": "execute_result"
    }
   ],
   "source": [
    "np.__version__\n",
    "tf.__version__\n",
    "keras.__version__"
   ]
  },
  {
   "cell_type": "markdown",
   "metadata": {},
   "source": [
    "## 1. load data\n",
    "导入 mnist 数据有很多种方法，这个程序使用 keras 集成的 `mnist.load_data()`  "
   ]
  },
  {
   "cell_type": "code",
   "execution_count": 3,
   "metadata": {},
   "outputs": [
    {
     "name": "stdout",
     "output_type": "stream",
     "text": [
      "X_train.shape:  (60000, 28, 28, 1) y_train:  (60000,)\n",
      "X_test.shape:  (10000, 28, 28, 1) y_test:  (10000,)\n",
      "X_test data type:  float64 \ty_test data type:  uint8\n"
     ]
    }
   ],
   "source": [
    "# load data\n",
    "mnist = tf.keras.datasets.mnist\n",
    "\n",
    "# download the mnist to the path '~/.keras/datasets/'\n",
    "(X_train, y_train), (X_test, y_test) = mnist.load_data()\n",
    "\n",
    "# pre-processing\n",
    "# X_train, X_test = X_train / 255.0, X_test / 255.0\n",
    "X_train = X_train.reshape(-1, 28, 28, 1) / 255.0\n",
    "X_test = X_test.reshape(-1, 28, 28, 1) / 255.0\n",
    "\n",
    "print('X_train.shape: ', X_train.shape, 'y_train: ', y_train.shape)\n",
    "print('X_test.shape: ', X_test.shape, 'y_test: ', y_test.shape)\n",
    "print('X_test data type: ', X_train[0].dtype, '\\ty_test data type: ', y_train[0].dtype)\n"
   ]
  },
  {
   "cell_type": "markdown",
   "metadata": {
    "toc-hr-collapsed": false
   },
   "source": [
    "## 2. Build network\n",
    "Keras API有两种构建神经网络的模式：Sequential, Functional。  \n",
    "先学习使用最简单的顺序模型，按顺序添加图层即可构建计算图。\n",
    "\n",
    "分别使用 一层隐藏层的全连接层 和 两层卷积的卷积神经网络。"
   ]
  },
  {
   "cell_type": "markdown",
   "metadata": {},
   "source": [
    "### Predefined parameters"
   ]
  },
  {
   "cell_type": "code",
   "execution_count": 4,
   "metadata": {},
   "outputs": [],
   "source": [
    "# [item for item in dir(tf.keras.optimizers) if item[0].isupper()]  # 查看可用的优化算法\n",
    "from tensorflow.keras.optimizers import Adam\n",
    "\n",
    "optimizer = Adam(lr=1e-3)  # 学习率 0.001\n",
    "epochs = 2  # 训练周期重复的次数，关于此参数见后续解释\n",
    "batch_size = 128  # 随机批量梯度下降每批的数量\n",
    "log_dir = './keras_log'  # tensorboard 日志目录\n",
    "\n",
    "if not os.path.exists(log_dir):\n",
    "    os.mkdir(log_dir)"
   ]
  },
  {
   "cell_type": "markdown",
   "metadata": {
    "toc-hr-collapsed": false
   },
   "source": [
    "### 2.1 简单神经网络\n",
    "一层隐藏层: input -> Dense -> output  \n",
    "**因为 X_shape 是(n_samples, 28, 28, 1), 需要在 Dense 之前把矩阵转化为向量，输入层使用 Flatten即可。**"
   ]
  },
  {
   "cell_type": "markdown",
   "metadata": {},
   "source": [
    "#### 2.1.1 Model Definition"
   ]
  },
  {
   "cell_type": "code",
   "execution_count": 6,
   "metadata": {},
   "outputs": [],
   "source": [
    "from tensorflow.keras.models import Sequential\n",
    "from tensorflow.keras.layers import Flatten, Dense, Dropout\n",
    "from tensorflow.keras.callbacks import TensorBoard\n",
    "\n",
    "# Sequential 定义后也可以使用 add 依次添加网络。\n",
    "model1 = Sequential([\n",
    "    Flatten(name='dense1'),\n",
    "    Dense(512, activation=tf.nn.relu, name='dense2'),\n",
    "    Dropout(0.2, name='dropout'),\n",
    "    Dense(10, activation=tf.nn.softmax, name='softmax')\n",
    "])  # 每层设置 name, tensorboard 会以此作为当前层的名字"
   ]
  },
  {
   "cell_type": "markdown",
   "metadata": {},
   "source": [
    "#### 2.1.2 Model Compilation"
   ]
  },
  {
   "cell_type": "code",
   "execution_count": 14,
   "metadata": {},
   "outputs": [],
   "source": [
    "model1.compile(\n",
    "    loss='sparse_categorical_crossentropy',  # 此参数见后续 5.1 解释\n",
    "    optimizer=optimizer,  # 学习率会影响准确率\n",
    "    metrics=['accuracy']  # 输出时输出此信息：accuracy\n",
    ")\n",
    "\n",
    "# Making training callback to save Tensorboard's log\n",
    "tb_cb1 = TensorBoard(\n",
    "    log_dir=log_dir,  # 设置log的存储位置\n",
    "#     histogram_freq=10,  # 每个 epoch 计算权值和偏置的频率\n",
    ")\n",
    "# 问题: 这里我无论增大 histogram_freq, 绘制的 histogram仍然只有 step=0 的权值和偏置数据。\n",
    "cbks1 = [tb_cb1]"
   ]
  },
  {
   "cell_type": "markdown",
   "metadata": {},
   "source": [
    "#### 2.1.3 Training and Evaluating"
   ]
  },
  {
   "cell_type": "code",
   "execution_count": 15,
   "metadata": {},
   "outputs": [
    {
     "name": "stdout",
     "output_type": "stream",
     "text": [
      "Train on 60000 samples, validate on 10000 samples\n",
      "Epoch 1/2\n",
      "60000/60000 [==============================] - 18s 296us/step - loss: 0.1082 - acc: 0.9680 - val_loss: 0.0874 - val_acc: 0.9736\n",
      "Epoch 2/2\n",
      "60000/60000 [==============================] - 19s 318us/step - loss: 0.0672 - acc: 0.9803 - val_loss: 0.0761 - val_acc: 0.9770\n"
     ]
    },
    {
     "data": {
      "text/plain": [
       "<tensorflow.python.keras.callbacks.History at 0x2624146cdd8>"
      ]
     },
     "execution_count": 15,
     "metadata": {},
     "output_type": "execute_result"
    }
   ],
   "source": [
    "model1.fit(\n",
    "    X_train, y_train,\n",
    "    batch_size=batch_size,\n",
    "    epochs=epochs,\n",
    "    verbose=1,  # 其实默认值就是1，训练时输出进度条信息\n",
    "    callbacks=cbks1,  # 训练时的回调 tensorboard\n",
    "    # 效果同 model.evaluate(X_test, y_test)\n",
    "    validation_data=(X_test, y_test)\n",
    ")\n",
    "# model.evaluate(X_test, y_test)\n"
   ]
  },
  {
   "cell_type": "markdown",
   "metadata": {},
   "source": [
    "### 2.2 简单卷积神经网络\n",
    "两层卷积: input -> ConvNet -> POOL -> ConvNet -> POOL -> Dense -> output   \n",
    "**ConvNet 的输入必须是图片的矩阵数据，如果格式是通道数在图像大小之前(data_format=\"channels_first\"), 此时input_shape=(channels, img_height, img_width)  \n",
    "ConvNet 可以直接做第一层，设置 input_shape 和 data_format 即可。**"
   ]
  },
  {
   "cell_type": "markdown",
   "metadata": {},
   "source": [
    "#### 2.2.1 Model definition"
   ]
  },
  {
   "cell_type": "code",
   "execution_count": 5,
   "metadata": {},
   "outputs": [],
   "source": [
    "from tensorflow.keras.models import Sequential\n",
    "from tensorflow.keras.layers import Conv2D, MaxPool2D, Flatten, Dense\n",
    "from tensorflow.keras.callbacks import TensorBoard\n",
    "\n",
    "\n",
    "model2 = Sequential()\n",
    "\n",
    "# First layer / input layer: conv layer and pool with ReLU\n",
    "model2.add(Conv2D(\n",
    "    data_format='channels_last',\n",
    "    input_shape=(28, 28, 1),  # (img_height, img_width, channels)\n",
    "    filters=16,  # number of filter\n",
    "    kernel_size=5,  # conv filter size: 5x5\n",
    "    strides=1,\n",
    "    padding='same',\n",
    "    activation=tf.nn.relu,\n",
    "    name='conv1'\n",
    "))  # (28, 28, 1) --> (24, 24, 16)\n",
    "model2.add(MaxPool2D(\n",
    "    pool_size=2,  # pool filter size 2x2\n",
    "    strides=2,\n",
    "    padding='same'\n",
    "))  # (24, 24, 16) --> (12, 12, 16)\n",
    "\n",
    "# Second layer: conv layer and pool with ReLU\n",
    "model2.add(Conv2D(\n",
    "    filters=32,  # number of filter\n",
    "    kernel_size=5,  # conv filter size: 5x5\n",
    "    strides=1,\n",
    "    padding='same',\n",
    "    activation=tf.nn.relu,\n",
    "    name='conv2'\n",
    "))  # (12, 12, 16) --> (8, 8, 32)\n",
    "model2.add(MaxPool2D(\n",
    "    pool_size=2,  # pool filter size 2x2\n",
    "    strides=2,\n",
    "    padding='same'\n",
    "))  # (8, 8, 32) --> (4, 4, 32)\n",
    "\n",
    "# flatten matrix to vector\n",
    "model2.add(Flatten())\n",
    "\n",
    "# Third layer: fully-connected layer with ReLU\n",
    "model2.add(Dense(\n",
    "    units=128,\n",
    "    activation=tf.nn.relu,\n",
    "    name='fc1'\n",
    "))\n",
    "\n",
    "# Last layer: fc with softmax, for use in classification\n",
    "model2.add(Dense(\n",
    "    units=10,\n",
    "    activation=tf.nn.softmax,\n",
    "    name='softmax'\n",
    "))\n"
   ]
  },
  {
   "cell_type": "markdown",
   "metadata": {},
   "source": [
    "#### 2.2.2 Model compile"
   ]
  },
  {
   "cell_type": "code",
   "execution_count": 6,
   "metadata": {},
   "outputs": [],
   "source": [
    "model2.compile(\n",
    "    loss='sparse_categorical_crossentropy',\n",
    "    optimizer=optimizer,\n",
    "    metrics=['accuracy']\n",
    ")\n",
    "\n",
    "# Making training callback to save Tensorboard's log\n",
    "tb_cb2 = TensorBoard(\n",
    "    log_dir=log_dir,  # 设置log的存储位置\n",
    "    histogram_freq=10,  # 每个 epoch 计算权值和偏置的频率\n",
    ")\n",
    "# 这里我无论增大 histogram_freq, 绘制的 histogram仍然只有 step=0 的权值和偏置数据。\n",
    "cbks2 = [tb_cb2]"
   ]
  },
  {
   "cell_type": "markdown",
   "metadata": {},
   "source": [
    "#### 2.2.3 Training and Evaluating"
   ]
  },
  {
   "cell_type": "code",
   "execution_count": 7,
   "metadata": {},
   "outputs": [
    {
     "name": "stdout",
     "output_type": "stream",
     "text": [
      "Epoch 1/2\n",
      "  1/469 [..............................] - ETA: 0s - loss: 2.3021 - accuracy: 0.0938WARNING:tensorflow:From d:\\miniconda3\\lib\\site-packages\\tensorflow\\python\\ops\\summary_ops_v2.py:1277: stop (from tensorflow.python.eager.profiler) is deprecated and will be removed after 2020-07-01.\n",
      "Instructions for updating:\n",
      "use `tf.profiler.experimental.stop` instead.\n",
      "  2/469 [..............................] - ETA: 21s - loss: 2.2736 - accuracy: 0.1250WARNING:tensorflow:Callbacks method `on_train_batch_begin` is slow compared to the batch time (batch time: 0.0030s vs `on_train_batch_begin` time: 0.0165s). Check your callbacks.\n",
      "WARNING:tensorflow:Callbacks method `on_train_batch_end` is slow compared to the batch time (batch time: 0.0030s vs `on_train_batch_end` time: 0.0740s). Check your callbacks.\n",
      "469/469 [==============================] - 2s 4ms/step - loss: 0.2054 - accuracy: 0.9403 - val_loss: 0.0645 - val_accuracy: 0.9811\n",
      "Epoch 2/2\n",
      "469/469 [==============================] - 2s 3ms/step - loss: 0.0563 - accuracy: 0.9825 - val_loss: 0.0425 - val_accuracy: 0.9858\n"
     ]
    },
    {
     "data": {
      "text/plain": [
       "<tensorflow.python.keras.callbacks.History at 0x2319b7577c8>"
      ]
     },
     "execution_count": 7,
     "metadata": {},
     "output_type": "execute_result"
    }
   ],
   "source": [
    "model2.fit(\n",
    "    X_train, y_train,\n",
    "    batch_size=batch_size,\n",
    "    epochs=epochs,\n",
    "    verbose=1,  # 其实默认值就是1，训练时输出进度条信息\n",
    "    callbacks=cbks2,  # 训练时的回调函数保存 tensorboard\n",
    "    validation_data=(X_test, y_test)  # 同 model.evaluate(X_test, y_test)\n",
    ")"
   ]
  },
  {
   "cell_type": "markdown",
   "metadata": {
    "toc-hr-collapsed": false
   },
   "source": [
    "## 3. Visualization"
   ]
  },
  {
   "cell_type": "markdown",
   "metadata": {},
   "source": [
    "### predefined function for visualizing img"
   ]
  },
  {
   "cell_type": "code",
   "execution_count": 8,
   "metadata": {},
   "outputs": [],
   "source": [
    "# 可视化原数据集\n",
    "# 关于画图的参数 interpolation见下面网址\n",
    "# https://matplotlib.org/examples/images_contours_and_fields/interpolation_methods.html\n",
    "def plot_images(images, cls_true, img_size=(28, 28), cls_pred=None):\n",
    "    '''\n",
    "    :param images: 图片数据的矩阵\n",
    "    :param cls_true: 真实的类别值\n",
    "    :param img_size: 图片分辨率的长宽\n",
    "    :param cls_pred: 预测的类别值    \n",
    "    '''\n",
    "    num_img = len(images)\n",
    "    num_grids = np.ceil(np.sqrt(num_img)).astype(np.int8)\n",
    "\n",
    "    # Create figure with a grid of sub-plots\n",
    "    fig, axes = plt.subplots(num_grids, num_grids)\n",
    "    fig.subplots_adjust(hspace=0.3, wspace=0.3)  # hspace上下间距，wspace左右间距\n",
    "\n",
    "    for i, ax in enumerate(axes.flat):  # 需要把 axes 转成一维，使用 flat属性 或者 flatten()方法\n",
    "        # Plot image.\n",
    "        if i < num_img:\n",
    "            ax.imshow(images[i].reshape(img_size), cmap='binary')\n",
    "\n",
    "            # Show true and predicted classes.\n",
    "            if cls_pred is None:\n",
    "                xlabel = \"True: {0}\".format(cls_true[i])\n",
    "            else:\n",
    "                xlabel = \"True: {0}, Pred: {1}\".format(\n",
    "                    cls_true[i], cls_pred[i])\n",
    "\n",
    "            # Show the classes as the label on the x-axis.\n",
    "            ax.set_xlabel(xlabel)\n",
    "\n",
    "        # Remove ticks from the plot.\n",
    "        ax.set_xticks([])\n",
    "        ax.set_yticks([])\n",
    "\n",
    "\n",
    "# 可视化卷积模板\n",
    "def plot_conv_weights(weights, channel=0):\n",
    "    '''\n",
    "    :param weights: 卷积层的权值矩阵，也就是卷积模板\n",
    "    :param channel: 通道\n",
    "    '''\n",
    "    w_min = np.min(weights)  # 权值阵最小值\n",
    "    w_max = np.max(weights)  # 权值阵最大值\n",
    "\n",
    "    # 权值阵的第四个元素就是 filter 的数量\n",
    "    num_filters = weights.shape[3]\n",
    "    # 将 filter 的数量开方在向上取整，得到 n x n 的网格\n",
    "    num_grids = np.ceil(np.sqrt(num_filters)).astype(np.int8)\n",
    "\n",
    "    # Create figure with a grid of sub-plots\n",
    "    fig, axes = plt.subplots(num_grids, num_grids)\n",
    "    fig.subplots_adjust(hspace=0.3, wspace=0.3)  # hspace上下间距，wspace左右间距\n",
    "\n",
    "    # Plot all the filter-weights\n",
    "    for i, ax in enumerate(axes.flat):\n",
    "        # Only plot the valid filter-weughts.\n",
    "        if i < num_filters:\n",
    "            # 因为可能 filter数量不一定能整开方。如 32，那网格就是 6x6, i大于31就没有filter了\n",
    "            img = weights[:, :, channel, i]\n",
    "            # 权值矩阵: [filter_height, filter_width, channels, filter_num]\n",
    "\n",
    "            ax.imshow(img, vmin=w_min, vmax=w_max,\n",
    "                      interpolation='nearest',\n",
    "                      cmap='seismic'\n",
    "                      )\n",
    "\n",
    "        # Remove ticks from the plot.\n",
    "        ax.set_xticks([])\n",
    "        ax.set_yticks([])\n",
    "\n",
    "\n",
    "# 可视化卷积层的输出\n",
    "def plot_conv_output(values):\n",
    "    '''\n",
    "    :param values: 卷积层的输出\n",
    "    '''\n",
    "    num_filters = values.shape[3]\n",
    "    num_grids = np.ceil(np.sqrt(num_filters)).astype(np.int8)\n",
    "\n",
    "    fig, axes = plt.subplots(num_grids, num_grids)\n",
    "    fig.subplots_adjust(hspace=0.3, wspace=0.3)  # hspace上下间距，wspace左右间距\n",
    "\n",
    "    for i, ax in enumerate(axes.flat):\n",
    "        if i < num_filters:\n",
    "            img = values[0, :, :, i]\n",
    "            # 因为网络的输入/出是NHWC: [n_sample, height, width, channels]\n",
    "            # 卷积层输出的 channels 就是卷积模板的数量 filter_num。\n",
    "            # 每个 channel 都是对应卷积模板卷积的结果。如果有16个filters所以会输出16张图片\n",
    "\n",
    "            ax.imshow(img,\n",
    "                      interpolation='nearest',\n",
    "                      cmap='binary'\n",
    "                      )\n",
    "\n",
    "        ax.set_xticks([])\n",
    "        ax.set_yticks([])\n"
   ]
  },
  {
   "cell_type": "markdown",
   "metadata": {},
   "source": [
    "### 3.1 Visualize training img"
   ]
  },
  {
   "cell_type": "code",
   "execution_count": 9,
   "metadata": {},
   "outputs": [
    {
     "data": {
      "image/png": "[encoded data removed]",
      "text/plain": [
       "<Figure size 432x288 with 9 Axes>"
      ]
     },
     "metadata": {},
     "output_type": "display_data"
    }
   ],
   "source": [
    "# plot test-set data\n",
    "plot_images(X_train[:9], y_train[:9])  # 默认图片大小是(28, 28)"
   ]
  },
  {
   "cell_type": "markdown",
   "metadata": {},
   "source": [
    "### 3.2 Visualizing predicted result\n",
    "画出错误分类的数据"
   ]
  },
  {
   "cell_type": "code",
   "execution_count": 10,
   "metadata": {},
   "outputs": [
    {
     "data": {
      "image/png": "[encoded data removed]",
      "text/plain": [
       "<Figure size 432x288 with 9 Axes>"
      ]
     },
     "metadata": {},
     "output_type": "display_data"
    }
   ],
   "source": [
    "y_pred = model2.predict(X_test)\n",
    "\n",
    "cls_pred = np.argmax(y_pred, axis=1)\n",
    "\n",
    "# 下面程序用来检测出九个错误的预测，绘制其图片。\n",
    "incorrect = (cls_pred != y_test)  # (array1 != array2)，不相同的元素的位置是 True\n",
    "plot_images(X_test[incorrect][:9], cls_true=y_test[incorrect][:9], cls_pred=cls_pred[incorrect][:9])"
   ]
  },
  {
   "cell_type": "markdown",
   "metadata": {
    "toc-hr-collapsed": false
   },
   "source": [
    "### 3.3 Visualization of Layer Weights and Outputs"
   ]
  },
  {
   "cell_type": "markdown",
   "metadata": {},
   "source": [
    "#### 3.3.1 Get layers"
   ]
  },
  {
   "cell_type": "code",
   "execution_count": 15,
   "metadata": {},
   "outputs": [
    {
     "name": "stdout",
     "output_type": "stream",
     "text": [
      "_________________________________________________________________\n",
      "Layer (type)                 Output Shape              Param #   \n",
      "=================================================================\n",
      "conv1 (Conv2D)               (None, 28, 28, 16)        416       \n",
      "_________________________________________________________________\n",
      "max_pooling2d (MaxPooling2D) (None, 14, 14, 16)        0         \n",
      "_________________________________________________________________\n",
      "conv2 (Conv2D)               (None, 14, 14, 32)        12832     \n",
      "_________________________________________________________________\n",
      "max_pooling2d_1 (MaxPooling2 (None, 7, 7, 32)          0         \n",
      "_________________________________________________________________\n",
      "flatten (Flatten)            (None, 1568)              0         \n",
      "_________________________________________________________________\n",
      "fc1 (Dense)                  (None, 128)               200832    \n",
      "_________________________________________________________________\n",
      "softmax (Dense)              (None, 10)                1290      \n",
      "=================================================================\n",
      "Total params: 215,370\n",
      "Trainable params: 215,370\n",
      "Non-trainable params: 0\n",
      "_________________________________________________________________\n"
     ]
    }
   ],
   "source": [
    "model2.summary()"
   ]
  },
  {
   "cell_type": "code",
   "execution_count": 16,
   "metadata": {},
   "outputs": [
    {
     "data": {
      "text/plain": [
       "[<tensorflow.python.keras.layers.convolutional.Conv2D at 0x1b04e083860>,\n",
       " <tensorflow.python.keras.layers.pooling.MaxPooling2D at 0x1b04e083748>,\n",
       " <tensorflow.python.keras.layers.convolutional.Conv2D at 0x1b04e0cb550>,\n",
       " <tensorflow.python.keras.layers.pooling.MaxPooling2D at 0x1b04e083b38>,\n",
       " <tensorflow.python.keras.layers.core.Flatten at 0x1b04e0de630>,\n",
       " <tensorflow.python.keras.layers.core.Dense at 0x1b04e0dea90>,\n",
       " <tensorflow.python.keras.layers.core.Dense at 0x1b04e0deac8>]"
      ]
     },
     "execution_count": 16,
     "metadata": {},
     "output_type": "execute_result"
    }
   ],
   "source": [
    "model2.layers  # 返回一个包含所有层的列表"
   ]
  },
  {
   "cell_type": "code",
   "execution_count": 17,
   "metadata": {},
   "outputs": [
    {
     "name": "stdout",
     "output_type": "stream",
     "text": [
      "权值矩阵的shape:  (5, 5, 1, 16) \n",
      "第一个卷积模板:  [[[ 0.00508823]\n",
      "  [-0.01227068]\n",
      "  [ 0.10347782]\n",
      "  [ 0.01024839]\n",
      "  [ 0.03658053]]\n",
      "\n",
      " [[-0.0032999 ]\n",
      "  [ 0.00186982]\n",
      "  [ 0.10577655]\n",
      "  [ 0.02447881]\n",
      "  [-0.18575186]]\n",
      "\n",
      " [[ 0.03703334]\n",
      "  [-0.04899551]\n",
      "  [ 0.12240934]\n",
      "  [-0.22484154]\n",
      "  [-0.28266853]]\n",
      "\n",
      " [[ 0.10810184]\n",
      "  [ 0.1836588 ]\n",
      "  [-0.06505233]\n",
      "  [-0.10601709]\n",
      "  [-0.00207529]]\n",
      "\n",
      " [[ 0.18001153]\n",
      "  [ 0.13414599]\n",
      "  [ 0.14451754]\n",
      "  [ 0.0876734 ]\n",
      "  [-0.06398289]]]\n",
      "偏置矩阵的shape:  (16,) \n",
      "前五个偏置:  [ 0.00953509 -0.01113979 -0.01340452 -0.0099901  -0.00530564]\n"
     ]
    }
   ],
   "source": [
    "layer_conv1 = model2.layers[0]  # 第一层\n",
    "weights = layer_conv1.get_weights()\n",
    "# 返回一个长度为 2 的 list，list第一个是权值的 array，第二个是偏置的 array\n",
    "# weights[0]  # 权值\n",
    "print('权值矩阵的shape: ', weights[0].shape,\n",
    "      '\\n第一个卷积模板: ', weights[0][:, :, :, 1])\n",
    "# weights[1]  # 偏置\n",
    "print('偏置矩阵的shape: ', weights[1].shape,\n",
    "      '\\n前五个偏置: ', weights[1][:5])  # 权值)\n"
   ]
  },
  {
   "cell_type": "markdown",
   "metadata": {},
   "source": [
    "#### 3.3.2 Convolutional Weights"
   ]
  },
  {
   "cell_type": "code",
   "execution_count": 18,
   "metadata": {},
   "outputs": [
    {
     "data": {
      "image/png": "[encoded data removed]",
      "text/plain": [
       "<Figure size 432x288 with 16 Axes>"
      ]
     },
     "metadata": {},
     "output_type": "display_data"
    }
   ],
   "source": [
    "# 绘制第一层（第一次卷积层）的权值\n",
    "layer_conv1 = model2.layers[0]  # 第一层\n",
    "weights = layer_conv1.get_weights()\n",
    "\n",
    "plot_conv_weights(weights[0])"
   ]
  },
  {
   "cell_type": "code",
   "execution_count": 19,
   "metadata": {},
   "outputs": [
    {
     "data": {
      "image/png": "[encoded data removed]",
      "text/plain": [
       "<Figure size 432x288 with 36 Axes>"
      ]
     },
     "metadata": {},
     "output_type": "display_data"
    }
   ],
   "source": [
    "# 绘制第三层（第二次卷积层）的权值\n",
    "layer_conv1 = model2.layers[2]  # 第一层\n",
    "weights = layer_conv1.get_weights()\n",
    "\n",
    "plot_conv_weights(weights[0])"
   ]
  },
  {
   "cell_type": "markdown",
   "metadata": {
    "toc-hr-collapsed": false
   },
   "source": [
    "### 3.4 Visualizing the output of ConvNet\n",
    "keras 使用 Model类，来获取模型内层的输出"
   ]
  },
  {
   "cell_type": "markdown",
   "metadata": {},
   "source": [
    "#### 3.4.1 可视化第一次的卷积层(conv1)输出"
   ]
  },
  {
   "cell_type": "code",
   "execution_count": 20,
   "metadata": {},
   "outputs": [
    {
     "data": {
      "text/plain": [
       "(1, 28, 28, 16)"
      ]
     },
     "execution_count": 20,
     "metadata": {},
     "output_type": "execute_result"
    },
    {
     "data": {
      "image/png": "[encoded data removed]",
      "text/plain": [
       "<Figure size 432x288 with 16 Axes>"
      ]
     },
     "metadata": {},
     "output_type": "display_data"
    }
   ],
   "source": [
    "from tensorflow.keras.models import Model\n",
    "\n",
    "# 可视化第一层卷积层的输出\n",
    "conv1 = model2.layers[0]\n",
    "output_conv1 = Model(inputs=conv1.input,\n",
    "                     outputs=conv1.output\n",
    "                    )\n",
    "# 第一层卷积层 filter_num = 16, 输入一张图片会输出 16 张图片\n",
    "feature_1 = output_conv1.predict(X_test[0].reshape(-1, 28, 28, 1))\n",
    "feature_1.shape\n",
    "\n",
    "# 调用上面函数来可视化\n",
    "plot_conv_output(feature_1)"
   ]
  },
  {
   "cell_type": "markdown",
   "metadata": {},
   "source": [
    "#### 3.4.2 可视化第二次的卷积层(conv2)输出"
   ]
  },
  {
   "cell_type": "code",
   "execution_count": 21,
   "metadata": {},
   "outputs": [
    {
     "data": {
      "text/plain": [
       "(1, 14, 14, 32)"
      ]
     },
     "execution_count": 21,
     "metadata": {},
     "output_type": "execute_result"
    },
    {
     "data": {
      "image/png": "[encoded data removed]",
      "text/plain": [
       "<Figure size 432x288 with 36 Axes>"
      ]
     },
     "metadata": {},
     "output_type": "display_data"
    }
   ],
   "source": [
    "# 可视化第二层卷积层的输出\n",
    "conv2 = model2.layers[2]\n",
    "output_conv2 = Model(inputs=conv1.input,\n",
    "                     outputs=conv2.output\n",
    "                    )\n",
    "# 第一层卷积层 filter_num = 16, 输入一张图片会输出 16 张图片\n",
    "feature_2 = output_conv2.predict(X_test[0].reshape(-1, 28, 28, 1))\n",
    "feature_2.shape  # (n_sample, height, width, channels)\n",
    "\n",
    "# 调用上面函数来可视化\n",
    "plot_conv_output(feature_2)"
   ]
  },
  {
   "cell_type": "markdown",
   "metadata": {
    "toc-hr-collapsed": true,
    "toc-nb-collapsed": true
   },
   "source": [
    "## 4. Save & Restore model\n",
    "将训练的模型保存下来"
   ]
  },
  {
   "cell_type": "markdown",
   "metadata": {},
   "source": [
    "### 4.1 Save"
   ]
  },
  {
   "cell_type": "code",
   "execution_count": 22,
   "metadata": {},
   "outputs": [],
   "source": [
    "# file path and file name where we want to save model.\n",
    "path_model = './model2-1126.keras'\n",
    "\n",
    "# save model\n",
    "model2.save(path_model)"
   ]
  },
  {
   "cell_type": "markdown",
   "metadata": {},
   "source": [
    "### 4.2 Restore"
   ]
  },
  {
   "cell_type": "code",
   "execution_count": 23,
   "metadata": {},
   "outputs": [
    {
     "name": "stdout",
     "output_type": "stream",
     "text": [
      "10000/10000 [==============================] - 11s 1ms/step\n"
     ]
    },
    {
     "data": {
      "text/plain": [
       "[0.03833215410306584, 0.9865]"
      ]
     },
     "execution_count": 23,
     "metadata": {},
     "output_type": "execute_result"
    }
   ],
   "source": [
    "from tensorflow.keras.models import load_model\n",
    "\n",
    "# file path where we saved model\n",
    "model3 = load_model(path_model)\n",
    "\n",
    "# test restored model\n",
    "model3.evaluate(X_test, y_test)"
   ]
  },
  {
   "cell_type": "markdown",
   "metadata": {
    "toc-hr-collapsed": true,
    "toc-nb-collapsed": true
   },
   "source": [
    "## 5. 问题总结"
   ]
  },
  {
   "cell_type": "markdown",
   "metadata": {
    "toc-hr-collapsed": false
   },
   "source": [
    "### 5.1 loss function\n",
    "\n",
    "`sparse_categorical_crossentropy` and `categorical_crossentropy`:  \n",
    "1. 两个都是多分类问题的损失函数，  \n",
    "2. 区别是`sparse_categorical_crossentropy` 对应的输出类别是 **integer**，使用单个整数来表示特征。  \n",
    "比如上面的例子里 y_train 和 y_test 都是单个的从 0 到 9 之间的数字，那使用此 loss function 就不需要再对其进行任何操作。  \n",
    "而 `categorical_crossentropy` 对应的输出类别是 **one-hot encoded**(独热编码)，离散特征有多少取值，就用多少维的向量来表示该特征。  \n",
    "比如上面例子如果使用此 loss function 就需要把 y 编码成 10 维的向量。使用\n",
    "\n",
    "```\n",
    "from tensorflow.keras.utils import to_categorical\n",
    "\n",
    "y_train = to_categorical(y_train, num_classes=10)\n",
    "y_test = to_categorical(y_test, num_classes=10)\n",
    "```\n"
   ]
  },
  {
   "cell_type": "markdown",
   "metadata": {},
   "source": [
    "### 5.2 关于 batch_size, steps(/iterations), epochs\n",
    "\n",
    "`batch_size`: 在每次更新网络权值时大多数优化算法都是随机使用训练集的一部分`(MBGD)`，而每次使用训练集的多少？那就是 batch_size 来决定。上面使用 batch_size=128，就是每次使用训练集的 128 个数据来计算 loss 再更新一次权值。\n",
    "\n",
    "`steps`: 有的地方称 iterations。每一个 `step` 都会使用 batch_size个数据来更新权值，等于训练集数量除以`batch_size`向上取整: n_sample / batch_size。上面程序中训练集是 60000张，而 batch_size=128，那网络的 steps = np.ceil(60000/128).astype(np.int64)。\n",
    "\n",
    "`epochs`: 把整个训练集循环使用的次数。\n"
   ]
  },
  {
   "cell_type": "markdown",
   "metadata": {},
   "source": [
    "### 5.3 NHWC 与 NCHW\n",
    "`N`: number of sample, 训练样本的数量; `H`: height of image, 图片像素矩阵的高;  \n",
    "`W`: width of image, 图片像素矩阵的宽; `C`: 图片的通道，灰度图通道数是一，彩色图通道数是三。\n",
    "\n",
    "`NHWC` 与 `NCHW` 的区别就是数据的排列方式。数据的通道数在图片尺寸之前还是之后。详细查看大神所总结的[TensorFlow API 中 NCHW 与 NHWC 的区别](https://mp.weixin.qq.com/s/I4Q1Bv7yecqYXUra49o7tw?)\n",
    "\n",
    "使用时的推荐：  \n",
    "`NHWC`: 访存局部性更好，cache 利用率高。使用 **CPU** 来训练时使用。  \n",
    "`NCHW`: 需要占用较大的临时空间。使用 **GPU** 来训练时使用。  "
   ]
  },
  {
   "cell_type": "code",
   "execution_count": null,
   "metadata": {},
   "outputs": [],
   "source": []
  }
 ],
 "metadata": {
  "kernelspec": {
   "display_name": "Python 3",
   "language": "python",
   "name": "python3"
  },
  "language_info": {
   "codemirror_mode": {
    "name": "ipython",
    "version": 3
   },
   "file_extension": ".py",
   "mimetype": "text/x-python",
   "name": "python",
   "nbconvert_exporter": "python",
   "pygments_lexer": "ipython3",
   "version": "3.8.5"
  },
  "toc-showcode": false,
  "toc-showmarkdowntxt": true
 },
 "nbformat": 4,
 "nbformat_minor": 4
}
