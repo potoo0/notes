{
 "cells": [
  {
   "cell_type": "code",
   "execution_count": 1,
   "id": "739a336d-9e6a-4de4-acf6-9e639a491bd0",
   "metadata": {},
   "outputs": [],
   "source": [
    "!export BLEAK_LOGGING=1"
   ]
  },
  {
   "cell_type": "code",
   "execution_count": 2,
   "id": "767470c9-b00e-4ede-a293-189ac2b6e26a",
   "metadata": {},
   "outputs": [],
   "source": [
    "# jupyter: patches asyncio to allow nested use of asyncio.run and loop.run_until_complete.\n",
    "import nest_asyncio\n",
    "nest_asyncio.apply()"
   ]
  },
  {
   "cell_type": "code",
   "execution_count": 3,
   "id": "589f4dd4-faa9-4bbf-95d6-dbe594c70397",
   "metadata": {},
   "outputs": [],
   "source": [
    "import asyncio\n",
    "import traceback\n",
    "\n",
    "from bleak import BleakScanner, BleakClient\n",
    "from bleak.exc import BleakError\n",
    "\n",
    "from pprint import pprint\n",
    "\n",
    "\n",
    "loop = asyncio.get_event_loop()"
   ]
  },
  {
   "cell_type": "markdown",
   "id": "3fb3c5b4-21d3-43e5-b866-c92c109cf389",
   "metadata": {},
   "source": [
    "## 1. find ble device"
   ]
  },
  {
   "cell_type": "code",
   "execution_count": 4,
   "id": "e6b81b6b-e849-406a-9697-b226cbf0d790",
   "metadata": {},
   "outputs": [],
   "source": [
    "# async def discover():\n",
    "#     devices = await BleakScanner.discover()\n",
    "#     for d in devices:\n",
    "#         print(d)"
   ]
  },
  {
   "cell_type": "code",
   "execution_count": 5,
   "id": "7bcfe43f-93bd-4ff7-8149-9ceb3e2de7a2",
   "metadata": {},
   "outputs": [],
   "source": [
    "# find_device_task = loop.create_task(discover())"
   ]
  },
  {
   "cell_type": "markdown",
   "id": "981257ea-ab14-4c7e-b390-d0f3d5372f2c",
   "metadata": {},
   "source": [
    "## 2. ble device service"
   ]
  },
  {
   "cell_type": "code",
   "execution_count": 6,
   "id": "e6b0de51-f4d7-4578-b0a8-811d460ee231",
   "metadata": {},
   "outputs": [],
   "source": [
    "ble_address = 'BA:33:DC:F6:46:6D'"
   ]
  },
  {
   "cell_type": "code",
   "execution_count": 7,
   "id": "47fe062f-0e13-4739-a64a-18317ca9919d",
   "metadata": {},
   "outputs": [],
   "source": [
    "async def get_device_services(ble_address: str):\n",
    "    # 查找设备是否存在\n",
    "    device = await BleakScanner.find_device_by_address(ble_address, timeout=20.0)\n",
    "    if not device:\n",
    "        raise BleakError(f\"A device with address {ble_address} could not be found.\")\n",
    "    async with BleakClient(device) as client:\n",
    "        svcs = await client.get_services()\n",
    "        print(\"Services:\")\n",
    "        svc_data = []\n",
    "        for service in svcs:\n",
    "            obj = dict(service.obj, description=service.description)\n",
    "            obj['characteristics'] = [dict(c.obj, description=c.description, handle=c.handle) for c in service.characteristics]\n",
    "            svc_data.append(obj)\n",
    "        pprint(svc_data)\n",
    "        return svc_data"
   ]
  },
  {
   "cell_type": "code",
   "execution_count": 8,
   "id": "3d807dd4-238c-4dfd-92c4-496a6c53d595",
   "metadata": {},
   "outputs": [
    {
     "name": "stdout",
     "output_type": "stream",
     "text": [
      "Services:\n",
      "[{'Device': '/org/bluez/hci0/dev_BA_33_DC_F6_46_6D',\n",
      "  'Includes': [],\n",
      "  'Primary': True,\n",
      "  'UUID': 'fa879af4-d601-420c-b2b4-07ffb528dde3',\n",
      "  'characteristics': [{'Flags': ['write'],\n",
      "                       'Service': '/org/bluez/hci0/dev_BA_33_DC_F6_46_6D/service0010',\n",
      "                       'UUID': 'b02eaeaa-f6bc-4a7e-bc94-f7b7fc8ded0b',\n",
      "                       'Value': b'',\n",
      "                       'description': 'Unknown',\n",
      "                       'handle': 20},\n",
      "                      {'Flags': ['notify'],\n",
      "                       'NotifyAcquired': False,\n",
      "                       'Notifying': False,\n",
      "                       'Service': '/org/bluez/hci0/dev_BA_33_DC_F6_46_6D/service0010',\n",
      "                       'UUID': '10e2fde2-d7fe-4845-b3f3-a32010ebb095',\n",
      "                       'Value': b'\\xfe\\x01\\x00\\x0eP\\x12\\x02\\x07WW0001\\x040.7',\n",
      "                       'description': 'Unknown',\n",
      "                       'handle': 17}],\n",
      "  'description': 'Unknown'},\n",
      " {'Device': '/org/bluez/hci0/dev_BA_33_DC_F6_46_6D',\n",
      "  'Includes': [],\n",
      "  'Primary': True,\n",
      "  'UUID': '00001801-0000-1000-8000-00805f9b34fb',\n",
      "  'characteristics': [{'Flags': ['read'],\n",
      "                       'Service': '/org/bluez/hci0/dev_BA_33_DC_F6_46_6D/service0008',\n",
      "                       'UUID': '00002a01-0000-1000-8000-00805f9b34fb',\n",
      "                       'Value': b'',\n",
      "                       'description': 'Appearance',\n",
      "                       'handle': 14},\n",
      "                      {'Flags': ['read'],\n",
      "                       'Service': '/org/bluez/hci0/dev_BA_33_DC_F6_46_6D/service0008',\n",
      "                       'UUID': '00002a01-0000-1000-8000-00805f9b34fb',\n",
      "                       'Value': b'',\n",
      "                       'description': 'Appearance',\n",
      "                       'handle': 12},\n",
      "                      {'Flags': ['indicate'],\n",
      "                       'Notifying': False,\n",
      "                       'Service': '/org/bluez/hci0/dev_BA_33_DC_F6_46_6D/service0008',\n",
      "                       'UUID': '00002a05-0000-1000-8000-00805f9b34fb',\n",
      "                       'Value': b'',\n",
      "                       'description': 'Service Changed',\n",
      "                       'handle': 9}],\n",
      "  'description': 'Generic Attribute Profile'}]\n"
     ]
    }
   ],
   "source": [
    "task_service = loop.run_until_complete(get_device_services(ble_address))"
   ]
  },
  {
   "cell_type": "code",
   "execution_count": 9,
   "id": "f8a40c3f-ce49-4069-97de-7953ad031d1a",
   "metadata": {},
   "outputs": [],
   "source": [
    "# notebook 不需要，创建时立即就执行了\n",
    "# loop.run_until_complete(task_service)\n",
    "# print('done')"
   ]
  },
  {
   "cell_type": "markdown",
   "id": "33393fe6-cdd1-49af-a0f8-2d796011f7ab",
   "metadata": {},
   "source": [
    "## 3. characteristics write and notification"
   ]
  },
  {
   "cell_type": "code",
   "execution_count": 12,
   "id": "d0b555fd-14e5-4bc5-be4d-8d9c50a690b6",
   "metadata": {},
   "outputs": [],
   "source": [
    "def notification_handler(sender, data):\n",
    "    \"\"\"Simple notification handler which prints the data received.\"\"\"\n",
    "    print(f\"--- notification_handler {sender}: {data}\")\n",
    "\n",
    "\n",
    "async def notify_char(address: str, notify_uuid: str, write_list: List):\n",
    "    print(f'{address=}, {notify_uuid=}, {write_list=}')\n",
    "    async with BleakClient(address) as client:\n",
    "        try:\n",
    "            print(f\"Connected: {client.is_connected}\")\n",
    "\n",
    "            # await client.start_notify(char_uuid, notification_handler)\n",
    "            # print(\"started notify\")\n",
    "\n",
    "            for data in write_list:\n",
    "                encode_data = bytes.fromhex(data['data'])\n",
    "                resp = await client.write_gatt_char(data['uuid'], encode_data)\n",
    "                print(f\"request: {data}, response: {resp}\")\n",
    "                await asyncio.sleep(0.5)\n",
    "\n",
    "            # await asyncio.sleep(5.0)\n",
    "            # await client.stop_notify(char_uuid)\n",
    "        except Exception as e:\n",
    "            print(f'error: {e}')\n",
    "            traceback.print_exc()\n",
    "            return False\n",
    "    return True"
   ]
  },
  {
   "cell_type": "code",
   "execution_count": null,
   "id": "8cb4f939-d3f9-4047-a99b-a28171fb6be6",
   "metadata": {},
   "outputs": [],
   "source": [
    "ble_address = 'BA:33:DC:F6:46:6D'\n",
    "notify_uuid = '10e2fde2-d7fe-4845-b3f3-a32010ebb095'\n",
    "write_list = [{\n",
    "    'uuid': 'b02eaeaa-f6bc-4a7e-bc94-f7b7fc8ded0b',\n",
    "    'data': 'fe0100025011'\n",
    "}, {\n",
    "    'uuid': 'b02eaeaa-f6bc-4a7e-bc94-f7b7fc8ded0b',\n",
    "    'data': 'fe0100023004'\n",
    "}, {\n",
    "    'uuid': 'b02eaeaa-f6bc-4a7e-bc94-f7b7fc8ded0b',\n",
    "    'data': 'fe01001050013230323230323032313434313132'\n",
    "}, {\n",
    "    'uuid': 'b02eaeaa-f6bc-4a7e-bc94-f7b7fc8ded0b',\n",
    "    'data': 'fe010006320101807f12'\n",
    "}]\n",
    "\n",
    "task_write_char = loop.run_until_complete(notify_char(ble_address, notify_uuid, write_list))\n",
    "print(f'res: {task_write_char}')"
   ]
  },
  {
   "cell_type": "markdown",
   "id": "b232062f-a0d9-4ad5-9040-aa72481f0edf",
   "metadata": {},
   "source": [
    "## 4. characteristics read"
   ]
  },
  {
   "cell_type": "code",
   "execution_count": 31,
   "id": "a7503e6d-6acd-4202-8e6e-3209d01c3ee4",
   "metadata": {},
   "outputs": [],
   "source": [
    "async def read_gatt_char(address, char_uuid: str):\n",
    "    print(f'{address=}, {char_uuid=}')\n",
    "    async with BleakClient(address) as client:\n",
    "        try:\n",
    "            char_res = await client.read_gatt_char(char_uuid)\n",
    "            print('done')\n",
    "            print(f'{char_res=}')\n",
    "        except Exception as e:\n",
    "            print(f'error: {e}')\n",
    "            traceback.print_exc()\n"
   ]
  },
  {
   "cell_type": "code",
   "execution_count": 32,
   "id": "fbe9930a-2e9d-4bfc-b64a-0d831a148a1c",
   "metadata": {},
   "outputs": [
    {
     "name": "stdout",
     "output_type": "stream",
     "text": [
      "address='BA:33:DC:F6:46:6D', char_uuid='00002a01-0000-1000-8000-00805f9b34fb'\n",
      "error: Multiple Characteristics with this UUID, refer to your desired characteristic by the `handle` attribute instead.\n"
     ]
    },
    {
     "name": "stderr",
     "output_type": "stream",
     "text": [
      "Traceback (most recent call last):\n",
      "  File \"/tmp/ipykernel_512338/99780459.py\", line 5, in read_gatt_char\n",
      "    char_res = await client.read_gatt_char(char_uuid)\n",
      "  File \"/home/code/.local/lib/python3.8/site-packages/bleak/backends/bluezdbus/client.py\", line 621, in read_gatt_char\n",
      "    characteristic = self.services.get_characteristic(char_specifier)\n",
      "  File \"/home/code/.local/lib/python3.8/site-packages/bleak/backends/service.py\", line 190, in get_characteristic\n",
      "    raise BleakError(\n",
      "bleak.exc.BleakError: Multiple Characteristics with this UUID, refer to your desired characteristic by the `handle` attribute instead.\n"
     ]
    }
   ],
   "source": [
    "read_char_uuid = '00002a01-0000-1000-8000-00805f9b34fb'\n",
    "task_write_char = loop.create_task(read_gatt_char(ble_address, read_char_uuid))"
   ]
  },
  {
   "cell_type": "code",
   "execution_count": 11,
   "id": "a4b3e30b-c882-4bb4-a040-7a138658aafd",
   "metadata": {},
   "outputs": [
    {
     "data": {
      "text/plain": [
       "set()"
      ]
     },
     "execution_count": 11,
     "metadata": {},
     "output_type": "execute_result"
    }
   ],
   "source": [
    "asyncio.all_tasks()"
   ]
  },
  {
   "cell_type": "code",
   "execution_count": null,
   "id": "e370fa3a-4b6e-404b-9746-f0d25719d923",
   "metadata": {},
   "outputs": [],
   "source": []
  }
 ],
 "metadata": {
  "kernelspec": {
   "display_name": "Python 3 (ipykernel)",
   "language": "python",
   "name": "python3"
  },
  "language_info": {
   "codemirror_mode": {
    "name": "ipython",
    "version": 3
   },
   "file_extension": ".py",
   "mimetype": "text/x-python",
   "name": "python",
   "nbconvert_exporter": "python",
   "pygments_lexer": "ipython3",
   "version": "3.8.8"
  }
 },
 "nbformat": 4,
 "nbformat_minor": 5
}
