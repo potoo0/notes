{
 "cells": [
  {
   "cell_type": "markdown",
   "metadata": {},
   "source": [
    "前段时间看到了[大大wlop使用PS做画的视频](https://www.bilibili.com/video/av7115567)，很令人惊叹，这些画在deviantart中可以免费获取2K高清，而deviantart的gallery中的图片每页显示数量有限，需要下拉(下拉动作时ajax获取下一页图片)，ajax有一个参数iid无法对其解密。所以学习崔大 selenium 的教程准备来爬取美图。顺便宣传下wlop的鬼刀的宣传视频[漫画《鬼刀》宣传视频](https://www.bilibili.com/video/av4975125)\n",
    "\n",
    "---\n",
    "\n",
    "Selenium 是一个自动化测试工具，利用它可以驱动浏览器执行特定的动作，如下拉、点击等操作，同时还能获取当前浏览器呈现的源码，用它来做爬虫的话能做到可见即可爬。\n",
    "\n",
    "## 0. Overlook\n",
    "\n",
    "官方手册: https://selenium-python.readthedocs.io/"
   ]
  },
  {
   "cell_type": "code",
   "execution_count": 65,
   "metadata": {},
   "outputs": [
    {
     "data": {
      "text/plain": [
       "['common', 'webdriver']"
      ]
     },
     "execution_count": 65,
     "metadata": {},
     "output_type": "execute_result"
    }
   ],
   "source": [
    "import selenium\n",
    "# dir(selenium)\n",
    "[item for item in dir(selenium) if not item.startswith('__')]"
   ]
  },
  {
   "cell_type": "markdown",
   "metadata": {},
   "source": [
    "> selenium 里有两个包: common, webdrive"
   ]
  },
  {
   "cell_type": "code",
   "execution_count": 66,
   "metadata": {},
   "outputs": [
    {
     "data": {
      "text/plain": [
       "['ElementClickInterceptedException',\n",
       " 'ElementNotInteractableException',\n",
       " 'ElementNotSelectableException',\n",
       " 'ElementNotVisibleException',\n",
       " 'ErrorInResponseException',\n",
       " '...']"
      ]
     },
     "execution_count": 66,
     "metadata": {},
     "output_type": "execute_result"
    }
   ],
   "source": [
    "dir(selenium.common)[:5] + ['...']  # common 下面只有一个包 exceptions, 用来存储异常的类\n",
    "dir(selenium.common.exceptions)[:5] + ['...']  # 一些异常状态的类，可以用 `try`-`except` 来捕获错误信息"
   ]
  },
  {
   "cell_type": "code",
   "execution_count": 53,
   "metadata": {},
   "outputs": [
    {
     "data": {
      "text/plain": [
       "['ActionChains',\n",
       " 'Android',\n",
       " 'BlackBerry',\n",
       " 'Chrome',\n",
       " 'ChromeOptions',\n",
       " 'DesiredCapabilities',\n",
       " 'Edge',\n",
       " 'Firefox',\n",
       " 'FirefoxOptions',\n",
       " 'FirefoxProfile',\n",
       " '...']"
      ]
     },
     "execution_count": 53,
     "metadata": {},
     "output_type": "execute_result"
    }
   ],
   "source": [
    "dir(selenium.webdriver)[:5] + ['...']"
   ]
  },
  {
   "cell_type": "markdown",
   "metadata": {},
   "source": [
    "> selenium.webdriver里面有各种浏览器对接的类：Android, BlackBerry, Chrome，以及对应浏览器的一些设置：ChromeOptions等\n",
    "\n",
    "还有浏览器的辅助功能，常用的如下："
   ]
  },
  {
   "cell_type": "code",
   "execution_count": 106,
   "metadata": {},
   "outputs": [
    {
     "data": {
      "text/plain": [
       "['action_chains',\n",
       " 'actions',\n",
       " 'alert',\n",
       " 'by',\n",
       " 'desired_capabilities',\n",
       " 'html5',\n",
       " 'keys',\n",
       " 'proxy',\n",
       " 'service',\n",
       " 'touch_actions',\n",
       " 'utils']"
      ]
     },
     "execution_count": 106,
     "metadata": {},
     "output_type": "execute_result"
    }
   ],
   "source": [
    "# dir(selenium.webdriver.common)\n",
    "[item for item in dir(selenium.webdriver.common) if not item.startswith('__')]\n",
    "\n",
    "# dir(selenium.webdriver.common.by)\n",
    "# help(webdriver.common.by.By)  # 定位策略: ID,name,classname 等\n",
    "\n",
    "# dir(selenium.webdriver.common.keys)\n",
    "# help(selenium.webdriver.common.keys.Keys)  # 模拟按键"
   ]
  },
  {
   "cell_type": "code",
   "execution_count": 61,
   "metadata": {},
   "outputs": [
    {
     "data": {
      "text/plain": [
       "['select', 'ui', 'wait']"
      ]
     },
     "execution_count": 61,
     "metadata": {},
     "output_type": "execute_result"
    }
   ],
   "source": [
    "[item for item in dir(selenium.webdriver.support) if not item.startswith('__')]\n",
    "\n",
    "# dir(selenium.webdriver.support.wait)\n",
    "# help(selenium.webdriver.support.wait.WebDriverWait)  # 浏览器的触发时间，比如等待网页出现某个元素后再采取的动作"
   ]
  },
  {
   "cell_type": "markdown",
   "metadata": {},
   "source": [
    "## 1. 使用示例"
   ]
  },
  {
   "cell_type": "code",
   "execution_count": 7,
   "metadata": {},
   "outputs": [
    {
     "name": "stdout",
     "output_type": "stream",
     "text": [
      "python_百度搜索\n",
      "https://www.baidu.com/s?ie=utf-8&f=8&rsv_bp=0&rsv_idx=1&tn=baidu&wd=python&rsv_pq=afa7486000050a2b&rsv_t=bd48aDp%2FU6bGzY8h%2FpUbblZQL4TyzDzpMOvoB70GiOLEY6Onc5GFbVJRTQg&rqlang=cn&rsv_enter=1&rsv_sug3=6&rsv_sug2=0&inputT=206&rsv_sug4=207\n",
      "[{'domain': '.baidu.com', 'httpOnly': False, 'name': 'H_PS_PSSID', 'path': '/', 'secure': False, 'value': '1432_21079_27508'}]\n",
      "<!DOCTYPE html><!--STATUS OK--><html xmlns=\"http://www.w3.org/1999/xhtml\"><head><script charset=\"utf\n"
     ]
    }
   ],
   "source": [
    "import time\n",
    "from selenium import webdriver  # 驱动浏览器\n",
    "from selenium.webdriver.common.by import By  # 定位元素的策略\n",
    "from selenium.webdriver.common.keys import Keys  # 模拟按键\n",
    "from selenium.webdriver.support import expected_conditions as EC  # 网页事件监控\n",
    "from selenium.webdriver.support.wait import WebDriverWait\n",
    "\n",
    "\n",
    "browser = webdriver.Chrome()\n",
    "try:\n",
    "    browser.get('http://www.baidu.com')\n",
    "    input_entry = browser.find_element_by_id('kw')\n",
    "    input_entry.send_keys('python')\n",
    "    input_entry.send_keys(Keys.ENTER)\n",
    "    wait = WebDriverWait(browser, 10)\n",
    "    wait.until(EC.presence_of_element_located((By.ID, 'content_left')))\n",
    "    # #content_left包含了所有搜索结果的条目\n",
    "    print(browser.title)\n",
    "    print(browser.current_url)\n",
    "    print(browser.get_cookies()[:1])\n",
    "    print(browser.page_source[:100])  # 网页源码\n",
    "    time.sleep(3)\n",
    "finally:\n",
    "    browser.close()"
   ]
  },
  {
   "cell_type": "markdown",
   "metadata": {
    "toc-hr-collapsed": true
   },
   "source": [
    "## 2. 声明浏览器对象"
   ]
  },
  {
   "cell_type": "code",
   "execution_count": 9,
   "metadata": {},
   "outputs": [],
   "source": [
    "from selenium import webdriver\n",
    "\n",
    "# Chrome浏览器\n",
    "browser = webdriver.Chrome()\n",
    "browser.close()\n",
    "# Edge浏览器\n",
    "# browser_edge = webdriver.Edge()"
   ]
  },
  {
   "cell_type": "markdown",
   "metadata": {},
   "source": [
    "如果正确配置过 selenium 驱动，声明对象后，会弹出对应浏览器。  \n",
    "如果不想其弹出来，可以配置 Headless 让其在使用过程中不打开浏览器。"
   ]
  },
  {
   "cell_type": "code",
   "execution_count": 13,
   "metadata": {},
   "outputs": [],
   "source": [
    "from selenium import webdriver\n",
    "\n",
    "# define headless\n",
    "chrome_option = webdriver.ChromeOptions()\n",
    "chrome_option.add_argument('--headless')\n",
    "\n",
    "# add the option when creating driver\n",
    "browser = webdriver.Chrome(chrome_options=chrome_option)\n",
    "# browser.close()"
   ]
  },
  {
   "cell_type": "markdown",
   "metadata": {},
   "source": [
    "## 3. 访问页面\n",
    "`get()` 方法"
   ]
  },
  {
   "cell_type": "code",
   "execution_count": 16,
   "metadata": {},
   "outputs": [
    {
     "name": "stdout",
     "output_type": "stream",
     "text": [
      "百度一下，你就知道\n",
      "https://www.baidu.com/\n",
      "<!DOCTYPE html><!--STATUS OK--><html xmlns=\"http://www.w3.org/1999/xhtml\"><head>\n",
      "    \n",
      "    <meta http\n"
     ]
    }
   ],
   "source": [
    "browser.get('https://www.baidu.com')\n",
    "print(browser.title)\n",
    "print(browser.current_url)\n",
    "print(browser.page_source[:100])"
   ]
  },
  {
   "cell_type": "markdown",
   "metadata": {
    "toc-hr-collapsed": true
   },
   "source": [
    "## 4. 查找节点\n",
    "在浏览器点击、输入之前需要定位到这些节点的位置。selenium 提供了很多定位策略，如ID、class_name、css选择器、xpath"
   ]
  },
  {
   "cell_type": "markdown",
   "metadata": {},
   "source": [
    "### 4.1 单个节点\n",
    "find_element_by...，只返回第一个满足的节点"
   ]
  },
  {
   "cell_type": "code",
   "execution_count": 21,
   "metadata": {},
   "outputs": [
    {
     "name": "stdout",
     "output_type": "stream",
     "text": [
      "<selenium.webdriver.remote.webelement.WebElement (session=\"7c77a97f6d8923f8abb56bbbfcf0c347\", element=\"0.24960484176459885-1\")>\n",
      "<selenium.webdriver.remote.webelement.WebElement (session=\"7c77a97f6d8923f8abb56bbbfcf0c347\", element=\"0.24960484176459885-1\")>\n",
      "<selenium.webdriver.remote.webelement.WebElement (session=\"7c77a97f6d8923f8abb56bbbfcf0c347\", element=\"0.24960484176459885-1\")>\n",
      "<selenium.webdriver.remote.webelement.WebElement (session=\"7c77a97f6d8923f8abb56bbbfcf0c347\", element=\"0.24960484176459885-1\")>\n",
      "<selenium.webdriver.remote.webelement.WebElement (session=\"7c77a97f6d8923f8abb56bbbfcf0c347\", element=\"0.24960484176459885-1\")>\n"
     ]
    }
   ],
   "source": [
    "input_class = browser.find_element_by_class_name('s_ipt')\n",
    "input_name = browser.find_element_by_name('wd')\n",
    "input_id = browser.find_element_by_id('kw')\n",
    "input_css = browser.find_element_by_css_selector('#kw')\n",
    "input_xpath = browser.find_element_by_xpath('//*[@id=\"kw\"]')\n",
    "print(input_class, input_name, input_id, input_css, input_xpath, sep='\\n')"
   ]
  },
  {
   "cell_type": "markdown",
   "metadata": {},
   "source": [
    "selenium 提供了一个通用方法: `find_element()`，使用时传入查找方式`By`和值。例如使用ID来定位用通用方法写成如下："
   ]
  },
  {
   "cell_type": "code",
   "execution_count": 23,
   "metadata": {},
   "outputs": [
    {
     "name": "stdout",
     "output_type": "stream",
     "text": [
      "<selenium.webdriver.remote.webelement.WebElement (session=\"7c77a97f6d8923f8abb56bbbfcf0c347\", element=\"0.24960484176459885-1\")>\n"
     ]
    }
   ],
   "source": [
    "from selenium.webdriver.common.by import By\n",
    "\n",
    "input_1 = browser.find_element(By.ID, 'kw')\n",
    "print(input_1)"
   ]
  },
  {
   "cell_type": "markdown",
   "metadata": {},
   "source": [
    "### 4.2 多个节点\n",
    "find_elements_by...，查找所有满足条件的节点，返回列表。  \n",
    "其实查找多个节点的方法就是单个节点方法中 element 加s。其通用方法也是这样。"
   ]
  },
  {
   "cell_type": "markdown",
   "metadata": {},
   "source": [
    "## 5. 节点交互\n",
    "常用动作：\n",
    "- 输入文字以及按键: `send_keys()`方法\n",
    "- 清空文字: `clear()`方法\n",
    "- 点击按钮: `click()`方法"
   ]
  },
  {
   "cell_type": "code",
   "execution_count": 30,
   "metadata": {},
   "outputs": [],
   "source": [
    "import time\n",
    "from selenium import webdriver\n",
    "from selenium.webdriver.common.keys import Keys\n",
    "\n",
    "browser = webdriver.Chrome()\n",
    "browser.get('https://www.baidu.com')\n",
    "\n",
    "# 百度搜索框输入python\n",
    "input_entry = browser.find_element_by_id('kw')\n",
    "input_entry.send_keys('python')\n",
    "time.sleep(2)\n",
    "\n",
    "# 清除文字，搜索selenium\n",
    "input_entry.clear()\n",
    "input_entry.send_keys('selenium')\n",
    "time.sleep(2)\n",
    "\n",
    "# 点击“百度一下按钮”\n",
    "btn = browser.find_element_by_id('su').click()\n",
    "time.sleep(2)\n",
    "\n",
    "browser.close()"
   ]
  },
  {
   "cell_type": "markdown",
   "metadata": {},
   "source": [
    "输入文字后提交数据有三个方法:\n",
    "- 输入框 `send_keys()`方法 发送回车\n",
    "- 点击按钮\n",
    "- 输入框的 `submit()`方法  \n",
    "\n",
    "以百度搜索为例："
   ]
  },
  {
   "cell_type": "code",
   "execution_count": 32,
   "metadata": {},
   "outputs": [],
   "source": [
    "import time\n",
    "from selenium import webdriver\n",
    "from selenium.webdriver.common.keys import Keys\n",
    "\n",
    "browser = webdriver.Chrome()\n",
    "browser.get('https://www.baidu.com')\n",
    "input_entry = browser.find_element_by_id('kw')\n",
    "\n",
    "# 法一是 `send_keys` 发送回车\n",
    "input_entry.send_keys('selenium entry.send_keys()')\n",
    "input_entry.send_keys(Keys.ENTER)\n",
    "time.sleep(2)\n",
    "\n",
    "# 法二是定位到搜索按钮，执行 `click()` 方法\n",
    "input_entry.clear()\n",
    "input_entry.send_keys('selenium btn.click()')\n",
    "btn = browser.find_element_by_id('su').click()\n",
    "time.sleep(2)\n",
    "\n",
    "# 法三，submit方法提交。需要输入框本身有submit方法\n",
    "input_entry.clear()\n",
    "input_entry.send_keys('selenium entry.submit()')\n",
    "input_entry.submit()\n",
    "time.sleep(2)\n",
    "\n",
    "browser.close()"
   ]
  },
  {
   "cell_type": "markdown",
   "metadata": {
    "toc-hr-collapsed": false
   },
   "source": [
    "## 6. 动作链\n",
    "鼠标拖拽。用来后期解决验证码自动识别问题等。"
   ]
  },
  {
   "cell_type": "code",
   "execution_count": 59,
   "metadata": {},
   "outputs": [],
   "source": [
    "import time\n",
    "from selenium import webdriver\n",
    "from selenium.webdriver import ActionChains\n",
    "\n",
    "browser = webdriver.Chrome()\n",
    "test_url = 'http://www.runoob.com/try/try.php?filename=jqueryui-example-droppable'\n",
    "browser.get(test_url)\n",
    "\n",
    "# runoob的这个拖拽示例的拖拽部件是在一个 iframe 里(网页中的网页)，所以需要先跳转到此处\n",
    "browser.switch_to.frame('iframeResult')\n",
    "# 拖拽起点\n",
    "source = browser.find_element_by_id('draggable')\n",
    "# 拖拽终点\n",
    "target = browser.find_element_by_id('droppable')\n",
    "# 定义动作链\n",
    "actions = ActionChains(browser)\n",
    "# 定义动作与其起点与终点\n",
    "actions.drag_and_drop(source, target)\n",
    "# 执行动作\n",
    "actions.perform()\n",
    "time.sleep(3)\n",
    "\n",
    "# 拖拽终点也可由 offset 来控制\n",
    "actions.drag_and_drop_by_offset(source, 150, 50)\n",
    "# 执行动作\n",
    "actions.perform()\n",
    "\n",
    "browser.close()"
   ]
  },
  {
   "cell_type": "markdown",
   "metadata": {},
   "source": [
    "## 7. 执行 JavaScript  \n",
    "`execute_script()` 可以模拟运行js，来下拉页面等等"
   ]
  },
  {
   "cell_type": "code",
   "execution_count": 43,
   "metadata": {},
   "outputs": [],
   "source": [
    "import time\n",
    "from selenium import webdriver\n",
    "\n",
    "\n",
    "browser = webdriver.Chrome()\n",
    "browser.get('https://www.baidu.com')\n",
    "\n",
    "input_entry = browser.find_element_by_id('kw')\n",
    "input_entry.send_keys('test execute_script')\n",
    "input_entry.submit()\n",
    "time.sleep(2)\n",
    "\n",
    "browser.execute_script('window.scrollTo(0, document.body.scrollHeight)')\n",
    "browser.execute_script('alert(\"To buttom\")')"
   ]
  },
  {
   "cell_type": "markdown",
   "metadata": {
    "toc-hr-collapsed": true
   },
   "source": [
    "## 8. 获取节点属性\n",
    "在 ##4.查找节点 中定位节点，返回的对象的是selenium.webdriver.remote.webelement.WebElement，可以使用 selenium 中的方法和属性来获取。"
   ]
  },
  {
   "cell_type": "markdown",
   "metadata": {},
   "source": [
    "### 8.1 获取属性\n",
    "`get_attribute()` 方法"
   ]
  },
  {
   "cell_type": "code",
   "execution_count": 44,
   "metadata": {},
   "outputs": [],
   "source": [
    "from selenium import webdriver\n",
    "\n",
    "browser = webdriver.Chrome()\n",
    "browser.get('https://www.baidu.com')\n",
    "\n",
    "nav_target = browser.find_element_by_class_name('mnav')\n",
    "nav_target = browser.find_element_by_class_name('mnav')\n",
    "print(nav_target.get_attribute('class'))\n",
    "print(nav_target.get_attribute('name'))"
   ]
  },
  {
   "cell_type": "markdown",
   "metadata": {},
   "source": [
    "### 8.2 获取文本值\n",
    "`text` 属性"
   ]
  },
  {
   "cell_type": "code",
   "execution_count": 48,
   "metadata": {},
   "outputs": [
    {
     "name": "stdout",
     "output_type": "stream",
     "text": [
      "新闻\n"
     ]
    }
   ],
   "source": [
    "print(nav_target.text)"
   ]
  },
  {
   "cell_type": "markdown",
   "metadata": {},
   "source": [
    "### 8.3 获取id、位置、标签名和大小\n",
    "- `id`属性：获取节点id\n",
    "- `location`属性：获取位置\n",
    "- `tag_name`属性：获取tag_name\n",
    "- `size`属性：获取大小"
   ]
  },
  {
   "cell_type": "code",
   "execution_count": 52,
   "metadata": {},
   "outputs": [
    {
     "name": "stdout",
     "output_type": "stream",
     "text": [
      "0.5500508866283813-1\n",
      "{'x': 347, 'y': 19}\n",
      "a\n",
      "{'height': 24, 'width': 26}\n"
     ]
    }
   ],
   "source": [
    "print(nav_target.id)\n",
    "print(nav_target.location)\n",
    "print(nav_target.tag_name)\n",
    "print(nav_target.size)"
   ]
  },
  {
   "cell_type": "markdown",
   "metadata": {
    "toc-hr-collapsed": true
   },
   "source": [
    "## 9. 切换 frame\n",
    "网页里有种节点叫做 `iframe`，也就是 子frame，页面的子页面，它的结构与外部页面的结构一模一样。selenium打开页面时默认是在父级 frame 里操作，是不能跨frame来访问元素的，也就是不能直接访问 `iframe` 的元素。此时需要使用 `switch_to.frame()` 方法来切换到子frame，返回父frame使用 `switch_to.parent_frame()`。"
   ]
  },
  {
   "cell_type": "code",
   "execution_count": 58,
   "metadata": {},
   "outputs": [
    {
     "name": "stdout",
     "output_type": "stream",
     "text": [
      "iframe has no logo element!\n",
      "Switch to parent_frame.\n",
      "RUNOOB.COM\n"
     ]
    }
   ],
   "source": [
    "import time\n",
    "from selenium import webdriver\n",
    "from selenium.webdriver import ActionChains\n",
    "from selenium.common.exceptions import NoSuchElementException\n",
    "\n",
    "\n",
    "browser = webdriver.Chrome()\n",
    "test_url = 'http://www.runoob.com/try/try.php?filename=jqueryui-example-droppable'\n",
    "browser.get(test_url)\n",
    "\n",
    "\n",
    "browser.switch_to.frame('iframeResult')\n",
    "try:\n",
    "    logo = browser.find_element_by_class_name('logo')\n",
    "except NoSuchElementException:\n",
    "    print('iframe has no logo element!\\nSwitch to parent_frame.')\n",
    "    browser.switch_to.parent_frame()\n",
    "    logo = browser.find_element_by_class_name('logo')\n",
    "\n",
    "print(logo.text)\n",
    "browser.close()"
   ]
  },
  {
   "cell_type": "markdown",
   "metadata": {},
   "source": [
    "## 10. 延时等待\n",
    "如果某些页面中有 Ajax 请求，对应的节点不一定已经被加载，所以需要等待节点加载完成再对其进行查找和操作\n",
    "\n",
    "等待方式有两种：\n",
    "- 隐式等待：定时查找。\n",
    "- 显式等待：时间段内查找"
   ]
  },
  {
   "cell_type": "markdown",
   "metadata": {},
   "source": [
    "### 10.1 隐式等待\n",
    "如果没有找到节点，就等待一段时间再次查找。"
   ]
  },
  {
   "cell_type": "code",
   "execution_count": 60,
   "metadata": {},
   "outputs": [
    {
     "name": "stdout",
     "output_type": "stream",
     "text": [
      "<selenium.webdriver.remote.webelement.WebElement (session=\"43972286b45d3a0c393981af94a32ebd\", element=\"0.6538876475888395-1\")>\n"
     ]
    }
   ],
   "source": [
    "from selenium import webdriver\n",
    "\n",
    "browser = webdriver.Chrome()\n",
    "\n",
    "browser.implicitly_wait(5)  # 隐式等待5秒\n",
    "browser.get('http://www.zhihu.com/explore')\n",
    "search_entry = browser.find_element_by_id('q')\n",
    "print(search_entry)"
   ]
  },
  {
   "cell_type": "markdown",
   "metadata": {},
   "source": [
    "### 10.2 显式等待\n",
    "指定一个最长等待时间，如果在这个时间内加载了出来，就返回查找的节点。  \n",
    "等待条件见官方文档：[7.39. Expected conditions Support](https://selenium-python.readthedocs.io/api.html#module-selenium.webdriver.support.expected_conditions)"
   ]
  },
  {
   "cell_type": "code",
   "execution_count": 63,
   "metadata": {},
   "outputs": [
    {
     "name": "stdout",
     "output_type": "stream",
     "text": [
      "<selenium.webdriver.remote.webelement.WebElement (session=\"91da4b3d58f329b730691ac628203e79\", element=\"0.3963876577824901-1\")>\n",
      "<selenium.webdriver.remote.webelement.WebElement (session=\"91da4b3d58f329b730691ac628203e79\", element=\"0.3963876577824901-2\")>\n"
     ]
    }
   ],
   "source": [
    "from selenium import webdriver\n",
    "from selenium.webdriver.common.by import By\n",
    "from selenium.webdriver.support.ui import WebDriverWait\n",
    "from selenium.webdriver.support import expected_conditions as EC\n",
    "\n",
    "\n",
    "chrome_option = webdriver.ChromeOptions()\n",
    "chrome_option.add_argument('--headless')\n",
    "\n",
    "browser = webdriver.Chrome(chrome_options=chrome_option)\n",
    "browser.get('https://www.taobao.com')\n",
    "\n",
    "wait = WebDriverWait(browser, 5)\n",
    "input_entry = wait.until(EC.presence_of_element_located((By.ID, 'q')))\n",
    "btn = wait.until(EC.element_to_be_clickable((By.CLASS_NAME, 'tb-bg')))\n",
    "print(input_entry, btn, sep='\\n')\n",
    "browser.close()"
   ]
  },
  {
   "cell_type": "markdown",
   "metadata": {},
   "source": [
    "## 11. 前进和后退\n",
    "模拟浏览器的前进后退\n",
    "相关方法：\n",
    "- `back()`：回退\n",
    "- `forward()`：前进"
   ]
  },
  {
   "cell_type": "code",
   "execution_count": 3,
   "metadata": {},
   "outputs": [],
   "source": [
    "import time\n",
    "from selenium import webdriver\n",
    "\n",
    "browser = webdriver.Chrome()\n",
    "browser.get('https://www.baidu.com')\n",
    "time.sleep(1)\n",
    "browser.get('https://www.zhihu.com')\n",
    "time.sleep(2)\n",
    "browser.back()\n",
    "time.sleep(2)\n",
    "browser.forward()\n",
    "browser.close()"
   ]
  },
  {
   "cell_type": "markdown",
   "metadata": {},
   "source": [
    "## 12. Cookies\n",
    "常用的方法和属性:\n",
    "- `get_cookies()`：获取当前页面的 Cookies\n",
    "- `delete_all_cookies()`：删除所有 Cookies\n",
    "- `add_cookies()`：添加 Cookies"
   ]
  },
  {
   "cell_type": "code",
   "execution_count": 9,
   "metadata": {},
   "outputs": [
    {
     "name": "stdout",
     "output_type": "stream",
     "text": [
      "[{'domain': '.baidu.com', 'httpOnly': False, 'name': 'H_PS_PSSID', 'path': '/', 'secure': False, 'value': '1422_21080_27400_27409'}, {'domain': '.baidu.com', 'httpOnly': False, 'name': 'delPer', 'path': '/', 'secure': False, 'value': '0'}]\n",
      "[{'domain': 'www.baidu.com', 'expiry': 2172311103, 'httpOnly': False, 'name': '1107', 'path': '/', 'secure': True, 'value': 'gg'}]\n"
     ]
    }
   ],
   "source": [
    "from selenium import webdriver\n",
    "\n",
    "chrome_option = webdriver.ChromeOptions()\n",
    "chrome_option.add_argument('--headless')\n",
    "browser = webdriver.Chrome(chrome_options=chrome_option)\n",
    "browser.get('https://www.baidu.com')\n",
    "\n",
    "print(browser.get_cookies()[:2])\n",
    "browser.delete_all_cookies()\n",
    "browser.add_cookie({'name': '1107', 'value': 'gg'})\n",
    "print(browser.get_cookies())\n",
    "\n",
    "browser.close()"
   ]
  },
  {
   "cell_type": "markdown",
   "metadata": {},
   "source": [
    "## 13. 选项卡管理\n",
    "\n",
    "常用的方法和属性：\n",
    "- `execute_script('window.open()')`方法：打开新选项卡\n",
    "- `window_handles`属性：返回当前selenium打开的所有选项卡的句柄\n",
    "- `current_window_handle`属性：返回当前选项看卡的句柄\n",
    "- `switch_to_window()`方法：切换选项卡  \n",
    "\n",
    "**注意**:\n",
    "- 创建新选项卡后需要切换到新选项卡才能操作，否则还是在原选择卡。\n",
    "- 关闭时每个选项卡都需要关闭。"
   ]
  },
  {
   "cell_type": "code",
   "execution_count": 29,
   "metadata": {},
   "outputs": [
    {
     "name": "stdout",
     "output_type": "stream",
     "text": [
      "CDwindow-EA4CCA1CB0C1A01A9425B40C071E835B;https://www.baidu.com/\n",
      "创建但未切换:\n",
      "CDwindow-EA4CCA1CB0C1A01A9425B40C071E835B;https://www.baidu.com/\n",
      "创建后再切换:\n",
      "CDwindow-5FDBCF0AF4A37B50090C38CA2D1BF3AE;https://www.zhihu.com/signup?next=%2F\n"
     ]
    }
   ],
   "source": [
    "import time\n",
    "from selenium import webdriver\n",
    "\n",
    "\n",
    "browser = webdriver.Chrome()\n",
    "\n",
    "browser.get('https://www.baidu.com')\n",
    "print(browser.current_window_handle, browser.current_url, sep=';')\n",
    "time.sleep(2)\n",
    "\n",
    "browser.execute_script('window.open()')\n",
    "print('创建但未切换:')\n",
    "print(browser.current_window_handle, browser.current_url, sep=';')\n",
    "time.sleep(2)\n",
    "\n",
    "browser.switch_to_window(browser.window_handles[1])\n",
    "browser.get('https://www.zhihu.com')\n",
    "print('创建后再切换:')\n",
    "print(browser.current_window_handle, browser.current_url, sep=';')\n",
    "time.sleep(2)\n",
    "\n",
    "# 关闭所有选项卡\n",
    "for handle in browser.window_handles:\n",
    "    browser.switch_to_window(handle)\n",
    "    browser.close()"
   ]
  },
  {
   "cell_type": "markdown",
   "metadata": {},
   "source": [
    "## 14. 异常处理\n",
    "`try except`捕获异常。可能的异常储存在 `selenium.common.exceptions`"
   ]
  },
  {
   "cell_type": "markdown",
   "metadata": {},
   "source": [
    "本周计划使用 selenium 爬取 deviantart 图片"
   ]
  }
 ],
 "metadata": {
  "kernelspec": {
   "display_name": "Python 3",
   "language": "python",
   "name": "python3"
  },
  "language_info": {
   "codemirror_mode": {
    "name": "ipython",
    "version": 3
   },
   "file_extension": ".py",
   "mimetype": "text/x-python",
   "name": "python",
   "nbconvert_exporter": "python",
   "pygments_lexer": "ipython3",
   "version": "3.6.4"
  },
  "toc-autonumbering": false,
  "toc-showcode": false,
  "toc-showmarkdowntxt": false,
  "toc-showtags": false
 },
 "nbformat": 4,
 "nbformat_minor": 2
}
