{
 "cells": [
  {
   "cell_type": "code",
   "execution_count": 3,
   "metadata": {},
   "outputs": [],
   "source": [
    "from IPython.core.interactiveshell import InteractiveShell\n",
    "InteractiveShell.ast_node_interactivity = 'all'\n",
    "\n",
    "import pysnooper"
   ]
  },
  {
   "cell_type": "code",
   "execution_count": null,
   "metadata": {},
   "outputs": [],
   "source": []
  },
  {
   "cell_type": "markdown",
   "metadata": {},
   "source": [
    "## 10. 栈的压入、弹出序列\n",
    "牛客网：[栈的压入、弹出序列](https://www.nowcoder.com/practice/d77d11405cc7470d82554cb392585106?tpId=13&tqId=11174&rp=1&ru=%2Fta%2Fcoding-interviews&qru=%2Fta%2Fcoding-interviews%2Fquestion-ranking&tPage=2)：输入两个整数序列，第一个序列表示栈的压入顺序，请判断第二个序列是否可能为该栈的弹出顺序。假设压入栈的所有数字均不相等。例如序列1,2,3,4,5是某栈的压入顺序，序列4,5,3,2,1是该压栈序列对应的一个弹出序列，但4,3,5,1,2就不可能是该压栈序列的弹出序列。（注意：这两个序列的长度是相等的）\n",
    "\n",
    "思路：\n",
    "创建一个栈，遍历并压入元素到栈，在遇到与出栈序列相同的元素时弹出，最后判断栈是否为空。"
   ]
  },
  {
   "cell_type": "code",
   "execution_count": 4,
   "metadata": {},
   "outputs": [
    {
     "data": {
      "text/plain": [
       "True"
      ]
     },
     "execution_count": 4,
     "metadata": {},
     "output_type": "execute_result"
    }
   ],
   "source": [
    "# -*- coding:utf-8 -*-\n",
    "class Solution:\n",
    "    @classmethod\n",
    "    # @pysnooper.snoop(watch=('stack', 'pushEle', 'popIndex'))\n",
    "    def IsPopOrder(self, pushV, popV):\n",
    "        # write code here\n",
    "\n",
    "        # 检查输入\n",
    "        if not pushV or not popV:\n",
    "            return False\n",
    "        if len(pushV) != len(popV):\n",
    "            return False\n",
    "\n",
    "        #\n",
    "        stack = []\n",
    "        popIndex = 0\n",
    "        for pushEle in pushV:\n",
    "            stack.append(pushEle)\n",
    "            while stack and stack[-1] == popV[popIndex]:\n",
    "                stack.pop()\n",
    "                popIndex += 1\n",
    "        return stack == []\n",
    "\n",
    "\n",
    "Solution.IsPopOrder([1, 2, 3, 4, 5], [4, 5, 3, 2, 1])\n"
   ]
  },
  {
   "cell_type": "code",
   "execution_count": null,
   "metadata": {},
   "outputs": [],
   "source": []
  },
  {
   "cell_type": "markdown",
   "metadata": {},
   "source": [
    "## 9. 包含min函数的栈\n",
    "牛客网：[包含min函数的栈](https://www.nowcoder.com/practice/4c776177d2c04c2494f2555c9fcc1e49?tpId=13&tqId=11173&rp=1&ru=%2Fta%2Fcoding-interviews&qru=%2Fta%2Fcoding-interviews%2Fquestion-ranking&tPage=1)：定义栈的数据结构，请在该类型中实现一个能够得到栈中所含最小元素的min函数（时间复杂度应为O（1））。\n",
    "\n",
    "思想：\n",
    "创建一个额外的列表来存储，列表与栈等长，存储栈中每次更新到的最小值，如: 对于栈 `3, 4, 4, 2, 5`, 额外的数组元素为 `3, 3, 3, 2, 2`"
   ]
  },
  {
   "cell_type": "code",
   "execution_count": null,
   "metadata": {},
   "outputs": [],
   "source": [
    "# -*- coding:utf-8 -*-\n",
    "class Solution:\n",
    "    def __init__(self):\n",
    "        self.stack = []\n",
    "        self.lis = []\n",
    "\n",
    "    def push(self, node):\n",
    "        # write code here\n",
    "\n",
    "        # 检查输入: 无\n",
    "        if not (isinstance(node, int) or isinstance(node, float)):\n",
    "            return\n",
    "\n",
    "        # 压入栈\n",
    "        self.stack.append(node)\n",
    "        # 保存到数组\n",
    "        if self.lis == []:  # 为空时直接追加\n",
    "            self.lis.append(node)\n",
    "        else:  # 不为空时压入 当前入栈值与最后一个值中小的值\n",
    "            self.lis.append(min(node, self.lis[-1]))\n",
    "\n",
    "    def pop(self):\n",
    "        # write code here\n",
    "        if self.lis:\n",
    "            self.lis.pop()\n",
    "            return self.stack.pop()\n",
    "\n",
    "    def top(self):\n",
    "        # write code here\n",
    "        if self.lis:\n",
    "            return self.stack[-1]\n",
    "\n",
    "    def min(self):\n",
    "        # write code here\n",
    "        if self.lis:\n",
    "            return self.lis[-1]\n",
    "\n",
    "testStackWithMin = Solution()\n",
    "testStackWithMin.push(3)\n",
    "testStackWithMin.min()  # --> 3\n",
    "testStackWithMin.push(4)\n",
    "testStackWithMin.min()  # --> 3\n",
    "testStackWithMin.push(2)\n",
    "testStackWithMin.min()  # --> 2\n",
    "testStackWithMin.pop()  # --> 2\n",
    "testStackWithMin.min()  # --> 3"
   ]
  },
  {
   "cell_type": "code",
   "execution_count": null,
   "metadata": {},
   "outputs": [],
   "source": []
  },
  {
   "cell_type": "markdown",
   "metadata": {},
   "source": [
    "## 8. 两个栈实现队列\n",
    "牛客网：[两个栈实现队列](https://www.nowcoder.com/practice/54275ddae22f475981afa2244dd448c6?tpId=13&tqId=11158&rp=1&ru=%2Fta%2Fcoding-interviews&qru=%2Fta%2Fcoding-interviews%2Fquestion-ranking&tPage=1)。  \n",
    "\n",
    "思想：\n",
    "压入：压入到输入栈；弹出：判断输出栈是否为空，如果不为空则弹出，如果为空则依次将输入栈的数据弹出并压入输出栈，再弹出输出栈。\n",
    "(在类的实例化时需要创建两个栈，由于类需要实例化并使每个实例之间数据独立，所以此例不再使用 `classmethod` 装饰)"
   ]
  },
  {
   "cell_type": "code",
   "execution_count": null,
   "metadata": {},
   "outputs": [],
   "source": [
    "# -*- coding:utf-8 -*-\n",
    "class Solution:\n",
    "    def __init__(self):\n",
    "        self.inputStack = []\n",
    "        self.outputStack = []\n",
    "\n",
    "    def push(self, node):\n",
    "        # write code here\n",
    "        \n",
    "        # 检查输入: 无\n",
    "        self.inputStack.append(node)\n",
    "\n",
    "    def pop(self):\n",
    "        # return xx\n",
    "        if self.outputStack:\n",
    "            return self.outputStack.pop()\n",
    "        while self.inputStack:\n",
    "            self.outputStack.append(self.inputStack.pop())\n",
    "        # 此处也需要判断输出栈是否为空，只能在不为空时 pop\n",
    "        if self.outputStack:\n",
    "            return self.outputStack.pop()\n",
    "\n",
    "\n",
    "testStackToQueue = Solution()\n",
    "testStackToQueue.pop()\n",
    "testStackToQueue.push(1)\n",
    "testStackToQueue.push(2)\n",
    "testStackToQueue.pop()  # --> 1\n",
    "testStackToQueue.push(3)\n",
    "testStackToQueue.pop()  # --> 2\n",
    "testStackToQueue.pop()  # --> 3"
   ]
  },
  {
   "cell_type": "code",
   "execution_count": null,
   "metadata": {},
   "outputs": [],
   "source": []
  },
  {
   "cell_type": "markdown",
   "metadata": {},
   "source": [
    "## 7. 调整数组顺序使奇数在偶数之前\n",
    "牛客网：[调整数组顺序使奇数在偶数之前](https://www.nowcoder.com/practice/beb5aa231adc45b2a5dcc5b62c93f593?tpId=13&tqId=11166&rp=1&ru=%2Fta%2Fcoding-interviews&qru=%2Fta%2Fcoding-interviews%2Fquestion-ranking&tPage=1)：输入一个整数数组，实现一个函数来调整该数组中数字的顺序，使得所有的奇数位于数组的前半部分，所有的偶数位于数组的后半部分，并保证奇数和奇数，偶数和偶数之间的相对位置不变。\n",
    "\n",
    "思想：\n",
    "类似插入排序思想：当前位置不为奇数时，查找下一个奇数并插入到当前位置，如果一轮查找没有找到奇数则立即退出函数。可以优化的地方是：每次查找奇数应该从上从找到的奇数位置之后开始"
   ]
  },
  {
   "cell_type": "code",
   "execution_count": 5,
   "metadata": {},
   "outputs": [
    {
     "data": {
      "text/plain": [
       "[3, 5, 7, 2, 4, 2, 6]"
      ]
     },
     "execution_count": 5,
     "metadata": {},
     "output_type": "execute_result"
    }
   ],
   "source": [
    "# -*- coding:utf-8 -*-\n",
    "class Solution:\n",
    "    @classmethod\n",
    "    #@pysnooper.snoop(watch=('oddIndex', 'cur', 'pos', 'array'))\n",
    "    def reOrderArray(self, array):\n",
    "        # write code here\n",
    "        \n",
    "        # 检查输入 与 边界\n",
    "        if len(array) <= 1:\n",
    "            return array\n",
    "        \n",
    "        oddIndex = 0\n",
    "        # 插入排序思想，选择奇数进行插入\n",
    "        for cur in range(0, len(array) - 1):\n",
    "            # 如果当前位置不为奇数，就找下个奇数插入到此处\n",
    "            if array[cur] % 2 != 1:\n",
    "                findOdd = False\n",
    "                pos = max(oddIndex, cur)\n",
    "                # 查找下个奇数\n",
    "                while pos + 1 < len(array) and not findOdd:\n",
    "                    pos += 1\n",
    "                    if array[pos] % 2 == 1:\n",
    "                        oddIndex = pos\n",
    "                        backup = array[oddIndex]\n",
    "                        findOdd = True\n",
    "                if findOdd:\n",
    "                    # 将查找的第一个奇数插入到正确位置\n",
    "                    while pos > cur:\n",
    "                        array[pos] = array[pos - 1]\n",
    "                        pos -= 1\n",
    "                    array[cur] = backup\n",
    "                else:  # 没有找到奇数，说明已经完成，退出\n",
    "                    break\n",
    "        return array\n",
    "\n",
    "\n",
    "Solution.reOrderArray([2, 4, 2, 6, 3, 5, 7])"
   ]
  },
  {
   "cell_type": "code",
   "execution_count": null,
   "metadata": {},
   "outputs": [],
   "source": []
  },
  {
   "cell_type": "markdown",
   "metadata": {},
   "source": [
    "## 6. 旋转数组的最小数字\n",
    "牛客网：[旋转数组的最下数字](https://www.nowcoder.com/practice/9f3231a991af4f55b95579b44b7a01ba?tpId=13&tqId=11159&rp=1&ru=%2Fta%2Fcoding-interviews&qru=%2Fta%2Fcoding-interviews%2Fquestion-ranking&tPage=1)：把一个数组最开始的若干个元素搬到数组的末尾，我们称之为数组的旋转。输入一个非递减排序的数组的一个旋转，输出旋转数组的最小元素。例如数组{3,4,5,1,2}为{1,2,3,4,5}的一个旋转，该数组的最小值为1。\n",
    "\n",
    "思路：二分查找，比较当前位置的数与右端点值的大小，如果小于则向左边查找，如果大于等于则向右边查找，退出条件：遍历完或者找到最小值，如果当前位置的数大于下一个，则下一个数即为最小值。例如 `3, 3, 4, 1, 2`: mid = 4 >= right，向右边搜索。`3, 1, 2, 2, 3`: mid = 2 < right，向左边边搜索。"
   ]
  },
  {
   "cell_type": "code",
   "execution_count": 6,
   "metadata": {},
   "outputs": [
    {
     "data": {
      "text/plain": [
       "1"
      ]
     },
     "execution_count": 6,
     "metadata": {},
     "output_type": "execute_result"
    }
   ],
   "source": [
    "# -*- coding:utf-8 -*-\n",
    "class Solution:\n",
    "    @classmethod\n",
    "    def minNumberInRotateArray(self, rotateArray):\n",
    "        # write code here\n",
    "\n",
    "        # 检查输入\n",
    "        if not rotateArray:\n",
    "            return 0\n",
    "\n",
    "        # 边界\n",
    "        if len(rotateArray) == 1:\n",
    "            return rotateArray[0]\n",
    "\n",
    "        # 二分查找\n",
    "        left = 0\n",
    "        right = len(rotateArray) - 1\n",
    "        while left <= right:\n",
    "            mid = (left + right) >> 1\n",
    "\n",
    "            if rotateArray[mid] < rotateArray[mid - 1]:\n",
    "                return rotateArray[mid]\n",
    "\n",
    "            if rotateArray[mid] >= rotateArray[right]:\n",
    "                left = mid + 1\n",
    "            else:\n",
    "                right = mid - 1\n",
    "        return 0\n",
    "\n",
    "\n",
    "Solution.minNumberInRotateArray([3, 1, 2])"
   ]
  },
  {
   "cell_type": "code",
   "execution_count": null,
   "metadata": {},
   "outputs": [],
   "source": []
  },
  {
   "cell_type": "markdown",
   "metadata": {},
   "source": [
    "## 5. 有序二维数组中的查找\n",
    "牛客网 - [有序二维数组中的查找](https://www.nowcoder.com/practice/abc3fe2ce8e146608e868a70efebf62e?tpId=13&tqId=11154&tPage=1&rp=1&ru=/ta/coding-interviews&qru=/ta/coding-interviews/question-ranking)  \n",
    "在一个二维数组中（每个一维数组的长度相同），每一行都按照从左到右递增的顺序排序，每一列都按照从上到下递增的顺序排序。请完成一个函数，输入这样的一个二维数组和一个整数，判断数组中是否含有该整数。\n",
    "\n",
    "思路：\n",
    "类似二分查找，每次查找后排除一部分数组。"
   ]
  },
  {
   "cell_type": "code",
   "execution_count": 7,
   "metadata": {},
   "outputs": [
    {
     "data": {
      "text/plain": [
       "True"
      ]
     },
     "execution_count": 7,
     "metadata": {},
     "output_type": "execute_result"
    },
    {
     "data": {
      "text/plain": [
       "False"
      ]
     },
     "execution_count": 7,
     "metadata": {},
     "output_type": "execute_result"
    }
   ],
   "source": [
    "# -*- coding:utf-8 -*-\n",
    "class Solution:\n",
    "    @classmethod\n",
    "    #@pysnooper.snoop(watch=('rowLeft', 'rowRight', 'colUp', 'colDown'))\n",
    "    def Find(cls, target, array):\n",
    "        # write code here\n",
    "\n",
    "        # 检查输入\n",
    "        if not array or not array[0]:\n",
    "            return False\n",
    "\n",
    "        # 初始条件\n",
    "        rowLeft, rowRight = 0, len(array[0]) - 1\n",
    "        colUp, colDown = 0, len(array) - 1\n",
    "\n",
    "        while (rowRight - rowLeft + colDown - colUp) >= 1:\n",
    "            if target > array[colUp][rowRight]:\n",
    "                colUp += 1\n",
    "            elif target < array[colUp][rowRight]:\n",
    "                rowRight -= 1\n",
    "            else:\n",
    "                return True\n",
    "            \n",
    "            if target > array[colDown][rowLeft]:\n",
    "                rowLeft += 1\n",
    "            elif target < array[colDown][rowLeft]:\n",
    "                colDown -= 1\n",
    "            else:\n",
    "                return True\n",
    "\n",
    "        if target == array[colUp][rowRight]:\n",
    "            return True\n",
    "        else:\n",
    "            return False\n",
    "\n",
    "\n",
    "target, array = 1,[[1,2,8,9],[2,4,9,12],[4,7,10,13],[6,8,11,15]]\n",
    "Solution.Find(target, array)\n",
    "Solution.Find(target, [[]])"
   ]
  },
  {
   "cell_type": "code",
   "execution_count": null,
   "metadata": {},
   "outputs": [],
   "source": []
  },
  {
   "cell_type": "markdown",
   "metadata": {},
   "source": [
    "## 4. 变态跳台阶\n",
    "牛客网：[变态跳台阶](https://www.nowcoder.com/practice/22243d016f6b47f2a6928b4313c85387?tpId=13&tqId=11162&rp=1&ru=%2Fta%2Fcoding-interviews&qru=%2Fta%2Fcoding-interviews%2Fquestion-ranking&tPage=1)：一只青蛙一次可以跳上1级台阶，也可以跳上2级……它也可以跳上n级。求该青蛙跳上一个n级的台阶总共有多少种跳法。\n",
    "\n",
    "思路：\n",
    "找通项公式：到达第 n 时有 n - 1 种可能：1. 先到达 n - 1 再一次跳 1 级；2. 先到达 n - 2 再一次跳 2 级；...；3. 先到达 1 级，再一次跳 n - 1 级，故通项公式为：  \n",
    "$$\n",
    "f(n) = f(n - 1) + f(n - 2) + ... + f(1)\\\\\n",
    "f(n - 1) = f(n - 2) + f(n - 3) + ... + f(1)\\\\\n",
    "f(n - 2) = f(n - 3) + f(n - 4) + ... + f(1)\\\\\n",
    "$$\n",
    "$$\n",
    "\\begin{aligned}\n",
    "f(n) &= f(n - 1) + f(n - 2) + ... + f(1)\\\\\n",
    "&= 2(f(n - 2) + f(n - 3) + ... + f(1))\\\\\n",
    "&= 2*2(f(n - 3) + f(n - 4) + ... + f(1)))\\\\\n",
    "&= 2*2*...*2*f(1)))=2^{n - 1}*f(1)\\\\\n",
    "\\end{aligned}\n",
    "$$"
   ]
  },
  {
   "cell_type": "code",
   "execution_count": 1,
   "metadata": {},
   "outputs": [
    {
     "data": {
      "text/plain": [
       "16"
      ]
     },
     "execution_count": 1,
     "metadata": {},
     "output_type": "execute_result"
    }
   ],
   "source": [
    "# -*- coding:utf-8 -*-\n",
    "class Solution:\n",
    "    @classmethod\n",
    "    def jumpFloorII(cls, number):\n",
    "        # write code here\n",
    "\n",
    "        # 检查输入\n",
    "        if not (isinstance(number, int) and number > 0):\n",
    "            return None\n",
    "        \n",
    "        # 通项公式：f(n) = 2^(n - 1) * f(1), f(1) = 1\n",
    "        return 2 ** (number - 1)\n",
    "\n",
    "Solution.jumpFloorII(5)"
   ]
  },
  {
   "cell_type": "code",
   "execution_count": null,
   "metadata": {},
   "outputs": [],
   "source": []
  },
  {
   "cell_type": "markdown",
   "metadata": {},
   "source": [
    "## 3. 跳台阶\n",
    "牛客网: [跳台阶](https://www.nowcoder.com/practice/8c82a5b80378478f9484d87d1c5f12a4?tpId=13&tqId=11161&rp=1&ru=%2Fta%2Fcoding-interviews&qru=%2Fta%2Fcoding-interviews%2Fquestion-ranking&tPage=1): \n",
    "一只青蛙一次可以跳上1级台阶，也可以跳上2级。求该青蛙跳上一个n级的台阶总共有多少种跳法（先后次序不同算不同的结果）。\n",
    "\n",
    "思路：\n",
    "求通项公式：  \n",
    "1: 1, 2: 2, 3: 3, 4: 5, ..., f(n) = f(n - 1) + f(n - 2).  \n",
    "跳到第 n 台阶，有 2 种可能：1. 先到 n-2 再一次跳 2 到达；2. 先到 n-1 再一次跳 1 到达，故第 n 阶的可能性为 n - 2 和 n - 1 可能性之和"
   ]
  },
  {
   "cell_type": "code",
   "execution_count": 5,
   "metadata": {},
   "outputs": [
    {
     "data": {
      "text/plain": [
       "8"
      ]
     },
     "execution_count": 5,
     "metadata": {},
     "output_type": "execute_result"
    }
   ],
   "source": [
    "# -*- coding:utf-8 -*-\n",
    "class Solution:\n",
    "    @classmethod\n",
    "    def jumpFloor(cls, number):\n",
    "        # write code here\n",
    "\n",
    "        # 检查输入\n",
    "        if not (isinstance(number, int) and number > 0):\n",
    "            return None\n",
    "\n",
    "        # 通项公式：f(n) = f(n - 1) + f(n - 2), f(1) = 1, f(2) = 2\n",
    "        if number == 1:\n",
    "            return 1\n",
    "        if number == 2:\n",
    "            return 2\n",
    "\n",
    "        a, b = 1, 2\n",
    "        for _ in range(number - 2):\n",
    "            temp = a + b\n",
    "            a = b\n",
    "            b = temp\n",
    "\n",
    "        return b\n",
    "\n",
    "\n",
    "Solution.jumpFloor(5)\n"
   ]
  },
  {
   "cell_type": "code",
   "execution_count": null,
   "metadata": {},
   "outputs": [],
   "source": []
  },
  {
   "cell_type": "markdown",
   "metadata": {},
   "source": [
    "## 2. 斐波那契数列\n",
    "输入一个整数n，请你输出斐波那契数列的第n项（从0开始，第0项为0）。n<=39\n",
    "\n",
    "思路：\n",
    "找通项公式：  \n",
    "0: 0, 1: 1, 2: 1, 3: 2, ..., n: f(n - 1) + f(n + 2)"
   ]
  },
  {
   "cell_type": "code",
   "execution_count": 6,
   "metadata": {},
   "outputs": [
    {
     "data": {
      "text/plain": [
       "1"
      ]
     },
     "execution_count": 6,
     "metadata": {},
     "output_type": "execute_result"
    }
   ],
   "source": [
    "# -*- coding:utf-8 -*-\n",
    "class Solution:\n",
    "    @classmethod\n",
    "    def Fibonacci(cls, n):\n",
    "        # write code here\n",
    "\n",
    "        # 检查输入\n",
    "        if not (isinstance(n, int) and n >= 0 and n <= 39):\n",
    "            return None\n",
    "        \n",
    "        # 通项公式: f(n) = f(n - 1) + f(n - 2) f(0) = 0, f(1) = 1\n",
    "        if n == 0:\n",
    "            return 0\n",
    "        if n == 1:\n",
    "            return 1\n",
    "\n",
    "        a, b = 0, 1\n",
    "        for _ in range(n - 1):\n",
    "            temp = a + b\n",
    "            a = b\n",
    "            b = temp\n",
    "        return b\n",
    "            \n",
    "Solution.Fibonacci(2)\n"
   ]
  }
 ],
 "metadata": {
  "kernelspec": {
   "display_name": "Python 3",
   "language": "python",
   "name": "python3"
  },
  "language_info": {
   "codemirror_mode": {
    "name": "ipython",
    "version": 3
   },
   "file_extension": ".py",
   "mimetype": "text/x-python",
   "name": "python",
   "nbconvert_exporter": "python",
   "pygments_lexer": "ipython3",
   "version": "3.6.7"
  }
 },
 "nbformat": 4,
 "nbformat_minor": 4
}
