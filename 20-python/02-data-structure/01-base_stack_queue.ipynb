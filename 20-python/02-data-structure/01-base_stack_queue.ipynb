{
 "cells": [
  {
   "cell_type": "code",
   "execution_count": 1,
   "metadata": {},
   "outputs": [],
   "source": [
    "from IPython.core.interactiveshell import InteractiveShell\n",
    "InteractiveShell.ast_node_interactivity = 'all'"
   ]
  },
  {
   "cell_type": "markdown",
   "metadata": {
    "toc-hr-collapsed": false
   },
   "source": [
    "## 1. 栈(LIFO, last in first out)\n",
    "一种容器，可以使用顺序表中的结构来实现栈。\n",
    "\n",
    "栈的操作:  \n",
    "- `Stack()`: 创建一个空栈\n",
    "- `isEmpty()`: 判断是否为空\n",
    "- `size()`: 栈中元素的个数\n",
    "- `push()`: 添加元素到栈顶\n",
    "- `peek()`: 返回栈顶元素\n",
    "- `pop()`: 弹出栈顶元素"
   ]
  },
  {
   "cell_type": "markdown",
   "metadata": {},
   "source": [
    "### 1.1 python 列表实现栈"
   ]
  },
  {
   "cell_type": "code",
   "execution_count": 3,
   "metadata": {},
   "outputs": [
    {
     "data": {
      "text/plain": [
       "2"
      ]
     },
     "execution_count": 3,
     "metadata": {},
     "output_type": "execute_result"
    },
    {
     "data": {
      "text/plain": [
       "'str'"
      ]
     },
     "execution_count": 3,
     "metadata": {},
     "output_type": "execute_result"
    },
    {
     "data": {
      "text/plain": [
       "2"
      ]
     },
     "execution_count": 3,
     "metadata": {},
     "output_type": "execute_result"
    },
    {
     "data": {
      "text/plain": [
       "'str'"
      ]
     },
     "execution_count": 3,
     "metadata": {},
     "output_type": "execute_result"
    },
    {
     "data": {
      "text/plain": [
       "1"
      ]
     },
     "execution_count": 3,
     "metadata": {},
     "output_type": "execute_result"
    },
    {
     "name": "stdout",
     "output_type": "stream",
     "text": [
      "Stack object\n"
     ]
    }
   ],
   "source": [
    "class Stack():\n",
    "    ''' Stack based on list'''\n",
    "\n",
    "    def __init__(self):\n",
    "        self.items = []\n",
    "\n",
    "    def isEmpty(self):\n",
    "        return self.items == []\n",
    "\n",
    "    def size(self):\n",
    "        return len(self.items)\n",
    "\n",
    "    def push(self, item):\n",
    "        self.items.append(item)\n",
    "\n",
    "    def peek(self):\n",
    "        # do not use items[-1], cost O(k)\n",
    "        return self.items[self.size() - 1]\n",
    "\n",
    "    def pop(self):\n",
    "        return self.items.pop()\n",
    "\n",
    "    def __str__(self):\n",
    "        return 'Stack object based on list.'\n",
    "\n",
    "\n",
    "test_stack = Stack()\n",
    "test_stack.push(464)\n",
    "test_stack.push('str')\n",
    "test_stack.size()\n",
    "test_stack.peek()\n",
    "test_stack.size()\n",
    "test_stack.pop()\n",
    "test_stack.size()\n",
    "print(test_stack)\n"
   ]
  },
  {
   "cell_type": "markdown",
   "metadata": {},
   "source": [
    "### 1.2 python 第三方库 pythonds"
   ]
  },
  {
   "cell_type": "code",
   "execution_count": 8,
   "metadata": {},
   "outputs": [
    {
     "data": {
      "text/plain": [
       "['AVLTree',\n",
       " 'BinHeap',\n",
       " 'BinarySearchTree',\n",
       " 'BinaryTree',\n",
       " 'Deque',\n",
       " 'Graph',\n",
       " 'PriorityQueue',\n",
       " 'Queue',\n",
       " 'Stack',\n",
       " 'Vertex',\n",
       " 'basic',\n",
       " 'graphs',\n",
       " 'trees']"
      ]
     },
     "execution_count": 8,
     "metadata": {},
     "output_type": "execute_result"
    }
   ],
   "source": [
    "import pythonds\n",
    "[cls for cls in dir(pythonds) if not cls.endswith('__')]"
   ]
  },
  {
   "cell_type": "markdown",
   "metadata": {},
   "source": [
    "### 1.3 栈的应用"
   ]
  },
  {
   "cell_type": "markdown",
   "metadata": {},
   "source": [
    "#### 1.3.1 符号匹配问题\n",
    "\n",
    "括号匹配的两个例子，因为括号匹配服从左右成对且越早出现的越迟匹配，与栈的先进后出规则相同。\n",
    "\n",
    "1. 简单括号匹配\n",
    "\n",
    "有一串同一类型的括号组成的字符串，判断括号是否匹配，如: `'(()())'` 输出 `True`，`')((())'` 输出 `False`"
   ]
  },
  {
   "cell_type": "code",
   "execution_count": 3,
   "metadata": {},
   "outputs": [],
   "source": [
    "from pythonds import Stack\n",
    "\n",
    "\n",
    "def bracketMatching(symbolString: str) -> bool:\n",
    "    opener = '('\n",
    "    closer = ')'\n",
    "    stackLeft = Stack()\n",
    "    for symbol in symbolString:\n",
    "        if symbol == opener:\n",
    "            stackLeft.push(symbol)\n",
    "        elif symbol == closer:\n",
    "            if not stackLeft.isEmpty():\n",
    "                stackLeft.pop()\n",
    "            else:\n",
    "                return False\n",
    "\n",
    "    return True\n",
    "\n",
    "\n",
    "bracketMatching.__annotations__\n",
    "assert bracketMatching('((()())())') == True\n",
    "assert bracketMatching(')((()())())') == False\n",
    "assert bracketMatching('((()())()))') == False\n"
   ]
  },
  {
   "cell_type": "markdown",
   "metadata": {},
   "source": [
    "2. 符号匹配\n",
    "\n",
    "判断小中大三种括号是否匹配"
   ]
  },
  {
   "cell_type": "code",
   "execution_count": 1,
   "metadata": {},
   "outputs": [],
   "source": [
    "from pythonds import Stack\n",
    "\n",
    "\n",
    "def pairChecker(symbolString: str) -> bool:\n",
    "    stackLeft = Stack()\n",
    "    pairDic = {\n",
    "        '(': ')',\n",
    "        '[': ']',\n",
    "        '{': '}'\n",
    "    }\n",
    "    for symbol in symbolString:\n",
    "        if symbol in pairDic.keys():\n",
    "            stackLeft.push(symbol)\n",
    "        elif symbol in pairDic.values():\n",
    "            if not stackLeft.isEmpty():\n",
    "                if not pairDic.get(stackLeft.pop()) == symbol:\n",
    "                    return False\n",
    "            else:\n",
    "                return False\n",
    "    \n",
    "    return True\n",
    "\n",
    "\n",
    "assert pairChecker('{{([][])}()}') == True\n",
    "assert pairChecker('[{()]') == False"
   ]
  },
  {
   "cell_type": "markdown",
   "metadata": {},
   "source": [
    "#### 1.3.2 进制转化\n",
    "\n",
    "十进制转 N 进制，短除以 N，转换结果由短除产生的各个余数从低到高组成，即先得到的余数为低位，在结果字符串的右侧。\n",
    "使用栈来完成就是将短除产生的各个余数压入栈顶，短除结果后弹出栈顶结果并追加到字符串右侧。"
   ]
  },
  {
   "cell_type": "code",
   "execution_count": 15,
   "metadata": {},
   "outputs": [],
   "source": [
    "def decimalConver(decNum: int, base: int = 2) -> str:\n",
    "    assert isinstance(decNum, int) and decNum >= 0, 'please input a positive integer decimal num.'\n",
    "    if base not in [2, 8, 10, 16]:\n",
    "        print('base must be one of [2, 8, 10, 16]')\n",
    "        return\n",
    "    \n",
    "    basePrefix = {2: '0b', 8: '0o', 10: '', 16: '0x'}\n",
    "    remStack = Stack()\n",
    "    while decNum > 0:\n",
    "        rem = decNum % base\n",
    "        if rem >= 10:\n",
    "            rem = chr(rem - 10 + ord('a'))\n",
    "        remStack.push(rem)\n",
    "        decNum = decNum // base\n",
    "    \n",
    "    converted = basePrefix[base]\n",
    "    while not remStack.isEmpty():\n",
    "        converted += str(remStack.pop())\n",
    "    \n",
    "    return converted\n",
    "\n",
    "\n",
    "assert decimalConver(10, 2) == bin(10)\n",
    "assert decimalConver(10, 8) == oct(10)\n",
    "assert decimalConver(10, 16) == hex(10)"
   ]
  },
  {
   "cell_type": "markdown",
   "metadata": {},
   "source": [
    "#### 1.3.3 中缀转后缀\n",
    "\n",
    "前缀、中缀、后缀定义:\n",
    "\n",
    "\n",
    "| Infix Expression | Prefix Expression | Postfix Expression |\n",
    "|:-----:|:-----:|:-----:|\n",
    "| `A+B` | `+AB` | `AB+` |\n",
    "| `A+B*C` | `+A*BC` | `ABC*+` |"
   ]
  },
  {
   "cell_type": "markdown",
   "metadata": {},
   "source": [
    "## 2. 队列(FIFO, first in first out)\n",
    "\n",
    "队列抽象数据类型由以下结构和操作定义。如上所述，队列被构造为在队尾添加项的有序集合，并且从队首移除。队列保持 FIFO 排序属性。 队列操作如下:\n",
    "- `Queue()`: 创建一个空队列\n",
    "- `isEmpty()`: 判断是否为空\n",
    "- `size()`: 栈中元素的个数\n",
    "- `enqueue(item)`: 添加元素到队列尾部\n",
    "- `dequeue()`: 移出队列首部元素做返回值"
   ]
  },
  {
   "cell_type": "markdown",
   "metadata": {},
   "source": [
    "### 2.1 python实现队列\n",
    "\n",
    "列表实现。第三方库为 pythonds"
   ]
  },
  {
   "cell_type": "code",
   "execution_count": 4,
   "metadata": {},
   "outputs": [],
   "source": [
    "class Queue():\n",
    "    ''' queue ds:\n",
    "    数组的左边为队列之尾。右边为队列之首 '''\n",
    "\n",
    "    def __init__(self):\n",
    "        self.items = []\n",
    "\n",
    "    def isEmpty(self):\n",
    "        return self.items == []\n",
    "\n",
    "    def size(self):\n",
    "        return len(self.items)\n",
    "\n",
    "    def enqueue(self, item):\n",
    "        self.items.insert(0, item)\n",
    "\n",
    "    def dequeue(self):\n",
    "        return self.items.pop()\n",
    "\n",
    "    def __str__(self):\n",
    "        return 'Queue object based on list.'\n"
   ]
  },
  {
   "cell_type": "markdown",
   "metadata": {},
   "source": [
    "### 2.2 队列应用\n",
    "\n",
    "**"
   ]
  },
  {
   "cell_type": "markdown",
   "metadata": {},
   "source": [
    "## 3. 双端队列\n",
    "\n",
    "deque（双端队列）是与队列类似的项的有序集合。它有两个端部，首部和尾部，并且项在集合中保持不变。deque 不同的地方是添加和删除项是非限制性的。可以在前面或后面添加新项。同样，可以从任一端移除现有项。\n",
    "\n",
    "deque 操作:\n",
    "- `Deque()`  创建一个空双端队列\n",
    "- `isEmpty()`\n",
    "- `size()`\n",
    "- `addFront(item)`  在首部加元素\n",
    "- `addRear(item)`  在尾部加元素\n",
    "- `removeFront()`  移出首部元素做返回值\n",
    "- `removeRear()`  移出尾部元素做返回值"
   ]
  },
  {
   "cell_type": "markdown",
   "metadata": {},
   "source": [
    "### 3.1 python实现双端队列"
   ]
  },
  {
   "cell_type": "code",
   "execution_count": 5,
   "metadata": {},
   "outputs": [],
   "source": [
    "class Deque():\n",
    "    ''' Queue: 双端队列\n",
    "    列表的左边为双端队列的首部，列表右边为尾部 '''\n",
    "    \n",
    "    def __init__(self):\n",
    "        self.items = []\n",
    "    \n",
    "    def isEmpty(self):\n",
    "        return self.items == []\n",
    "    \n",
    "    def size(self):\n",
    "        return len(self.items)\n",
    "    \n",
    "    def addFront(self, item):\n",
    "        self.items.insert(0, item)\n",
    "    \n",
    "    def addRear(self, item):\n",
    "        self.items.append(item)\n",
    "    \n",
    "    def removeFront(self):\n",
    "        return self.items.pop(0)\n",
    "    \n",
    "    def removeRear(self):\n",
    "        return self.items.pop()\n"
   ]
  },
  {
   "cell_type": "markdown",
   "metadata": {},
   "source": [
    "### 3.2 双端队列应用\n",
    "\n",
    "回文检查"
   ]
  },
  {
   "cell_type": "code",
   "execution_count": 16,
   "metadata": {},
   "outputs": [],
   "source": [
    "from pythonds import Deque\n",
    "\n",
    "\n",
    "def palchecker(aString):\n",
    "    chardeque = Deque()\n",
    "\n",
    "    for ch in aString:\n",
    "        chardeque.addRear(ch)\n",
    "\n",
    "    stillEqual = True\n",
    "\n",
    "    while chardeque.size() > 1 and stillEqual:\n",
    "        first = chardeque.removeFront()\n",
    "        last = chardeque.removeRear()\n",
    "        if first != last:\n",
    "            stillEqual = False\n",
    "\n",
    "    return stillEqual\n",
    "\n",
    "\n",
    "assert palchecker('radar') == True\n",
    "assert palchecker('radara') == False\n"
   ]
  },
  {
   "cell_type": "code",
   "execution_count": null,
   "metadata": {},
   "outputs": [],
   "source": []
  }
 ],
 "metadata": {
  "kernelspec": {
   "display_name": "Python 3",
   "language": "python",
   "name": "python3"
  },
  "language_info": {
   "codemirror_mode": {
    "name": "ipython",
    "version": 3
   },
   "file_extension": ".py",
   "mimetype": "text/x-python",
   "name": "python",
   "nbconvert_exporter": "python",
   "pygments_lexer": "ipython3",
   "version": "3.6.7"
  }
 },
 "nbformat": 4,
 "nbformat_minor": 4
}
