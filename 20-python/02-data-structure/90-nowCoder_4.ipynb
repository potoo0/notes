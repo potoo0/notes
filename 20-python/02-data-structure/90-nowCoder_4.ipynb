{
 "cells": [
  {
   "cell_type": "code",
   "execution_count": 1,
   "metadata": {},
   "outputs": [],
   "source": [
    "from IPython.core.interactiveshell import InteractiveShell\n",
    "InteractiveShell.ast_node_interactivity = 'all'\n",
    "\n",
    "import pysnooper"
   ]
  },
  {
   "cell_type": "code",
   "execution_count": null,
   "metadata": {},
   "outputs": [],
   "source": []
  },
  {
   "cell_type": "markdown",
   "metadata": {},
   "source": [
    "## 7. 数的整数次方\n",
    "牛客网：[数值的整数次方](https://www.nowcoder.com/practice/1a834e5e3e1a4b7ba251417554e07c00?tpId=13&tqId=11165&rp=1&ru=%2Fta%2Fcoding-interviews&qru=%2Fta%2Fcoding-interviews%2Fquestion-ranking&tPage=1): 给定一个double类型的浮点数base和int类型的整数exponent。求base的exponent次方。\n",
    "\n",
    "思路：  \n",
    "- 原始方法：x^4 = x * x * x * x\n",
    "- 优化方法：x^4 = (x * x) * x^2 * x^2\n",
    "\n",
    "优化方法时间复杂度为 O(logn)"
   ]
  },
  {
   "cell_type": "code",
   "execution_count": 17,
   "metadata": {},
   "outputs": [
    {
     "name": "stdout",
     "output_type": "stream",
     "text": [
      "1\n"
     ]
    }
   ],
   "source": [
    "# -*- coding:utf-8 -*-\n",
    "class Solution:\n",
    "    def Power(self, base, exponent):\n",
    "        # write code here\n",
    "        # 检查输入\n",
    "        if not isinstance(exponent, int):\n",
    "            return None\n",
    "        \n",
    "        # 边界\n",
    "        if exponent == 0:\n",
    "            return 1\n",
    "\n",
    "        # 判断幂是不是负数\n",
    "        n = abs(exponent)\n",
    "\n",
    "        ans = base\n",
    "        n -= 1\n",
    "        while n > 0:\n",
    "            if n % 2 == 1:\n",
    "                ans *= base\n",
    "            base *= base\n",
    "            n = n // 2\n",
    "\n",
    "        if exponent < 0:\n",
    "            ans = 1 / ans\n",
    "\n",
    "        return ans\n",
    "    \n",
    "    def __call__(self, *args):\n",
    "        return self.Power(*args)\n",
    "\n",
    "\n",
    "if __name__ == '__main__':\n",
    "    print(Solution()(2, 0))"
   ]
  },
  {
   "cell_type": "code",
   "execution_count": null,
   "metadata": {},
   "outputs": [],
   "source": []
  },
  {
   "cell_type": "markdown",
   "metadata": {},
   "source": [
    "## 6. 数组中出现次数超过一半的数\n",
    "牛客网：[数组中出现次数超过一半的数](https://www.nowcoder.com/practice/e8a1b01a2df14cb2b228b30ee6a92163?tpId=13&tqId=11181&rp=1&ru=%2Fta%2Fcoding-interviews&qru=%2Fta%2Fcoding-interviews%2Fquestion-ranking&tPage=2): 数组中有一个数字出现的次数超过数组长度的一半，请找出这个数字。例如输入一个长度为9的数组{1,2,3,2,2,2,5,4,2}。由于数字2在数组中出现了5次，超过数组长度的一半，因此输出2。如果不存在则输出0。\n",
    "\n",
    "思路：相消法"
   ]
  },
  {
   "cell_type": "code",
   "execution_count": 22,
   "metadata": {},
   "outputs": [
    {
     "data": {
      "text/plain": [
       "2"
      ]
     },
     "execution_count": 22,
     "metadata": {},
     "output_type": "execute_result"
    }
   ],
   "source": [
    "# -*- coding:utf-8 -*-\n",
    "class Solution:\n",
    "    def MoreThanHalfNum_Solution(self, numbers):\n",
    "        # write code here\n",
    "        # 检查输入\n",
    "        if not numbers:\n",
    "            return None\n",
    "\n",
    "        # 相消法\n",
    "        num = 0\n",
    "        cnt = 0\n",
    "        maxCnt = 1\n",
    "        for ele in numbers:\n",
    "            if cnt == 0:\n",
    "                num = ele\n",
    "                cnt = 1\n",
    "            else:\n",
    "                if ele == num:\n",
    "                    cnt += 1\n",
    "                    maxCnt += 1\n",
    "                else:\n",
    "                    cnt -= 1\n",
    "                    if cnt == 0:\n",
    "                        num = ele\n",
    "                        cnt = 1\n",
    "        if maxCnt < len(numbers) // 2:\n",
    "            return 0\n",
    "        else:\n",
    "            return num\n",
    "\n",
    "    def __call__(self, *args):\n",
    "        return self.MoreThanHalfNum_Solution(*args)\n",
    "\n",
    "\n",
    "Solution()([1, 2, 3, 2, 2, 2, 5, 4, 2])\n"
   ]
  },
  {
   "cell_type": "markdown",
   "metadata": {},
   "source": [
    "## 5. 数组中只出现一次的数字\n",
    "牛客网：[数组中只出现一次的数字](https://www.nowcoder.com/practice/e02fdb54d7524710a7d664d082bb7811?tpId=13&tqId=11193&rp=1&ru=%2Fta%2Fcoding-interviews&qru=%2Fta%2Fcoding-interviews%2Fquestion-ranking&tPage=2)：一个整型数组里除了两个数字之外，其他的数字都出现了两次。请写程序找出这两个只出现一次的数字。\n",
    "\n",
    "思路：异或。异或：相同得到 0，不同得到 1，具有交换律结合律，`A ^ B ^ C = B ^ A ^ C = A ^ (B ^ C)`。  \n",
    "先对所有数进行异或，异或后得到这两个不同的数的异或值，则此异或值一定有某位是 1，即两个出现次数为一的数此位不同。故具体过程为：找出异或值中为 1 的某一位，再将所有数按此位进行划分，得到两组数。将其中一组依次与全体数异或值进行异或即可得到其中一个数，此数与全体数异或值进行异或得到另一个数。"
   ]
  },
  {
   "cell_type": "code",
   "execution_count": 23,
   "metadata": {},
   "outputs": [
    {
     "data": {
      "text/plain": [
       "(4, 6)"
      ]
     },
     "execution_count": 23,
     "metadata": {},
     "output_type": "execute_result"
    }
   ],
   "source": [
    "# -*- coding:utf-8 -*-\n",
    "class Solution:\n",
    "    # 返回[a,b] 其中ab是出现一次的两个数字\n",
    "    def FindNumsAppearOnce(self, array):\n",
    "        # write code here\n",
    "        # 检查输入\n",
    "        if len(array) < 2:\n",
    "            return None\n",
    "\n",
    "        # 全部异或\n",
    "        xorRes = None\n",
    "        for num in array:\n",
    "            if xorRes is None:\n",
    "                xorRes = num\n",
    "            else:\n",
    "                xorRes ^= num\n",
    "\n",
    "        # 找出某位为 1\n",
    "        mask = 1\n",
    "        while not (xorRes & mask):\n",
    "            mask = mask << 1\n",
    "\n",
    "        # 按此位将数划分为两部分，对其中一部分再异或上面的异或值。\n",
    "        # 这部分可以合并到一次遍历中。\n",
    "        tmpXor = xorRes\n",
    "        for num in array:\n",
    "            if (num & mask):\n",
    "                tmpXor ^= num\n",
    "\n",
    "        return tmpXor, tmpXor ^ xorRes\n",
    "\n",
    "    def __call__(self, *args):\n",
    "        return self.FindNumsAppearOnce(*args)\n",
    "\n",
    "\n",
    "Solution()([2, 4, 3, 6, 3, 2, 5, 5])\n"
   ]
  },
  {
   "cell_type": "markdown",
   "metadata": {},
   "source": [
    "## 4. 不用加减乘除做加法\n",
    "牛客网：[不用加减乘除做加法](https://www.nowcoder.com/practice/59ac416b4b944300b617d4f7f111b215?tpId=13&tqId=11201&rp=1&ru=%2Fta%2Fcoding-interviews&qru=%2Fta%2Fcoding-interviews%2Fquestion-ranking&tPage=3)：写一个函数，求两个整数之和，要求在函数体内不得使用 + 、- 、* 、/ 四则运算符号。\n",
    "\n",
    "思路：使用 位运算 异或 做无进位加法，位与 来判断是否有进位。"
   ]
  },
  {
   "cell_type": "code",
   "execution_count": 21,
   "metadata": {},
   "outputs": [
    {
     "data": {
      "text/plain": [
       "-9"
      ]
     },
     "execution_count": 21,
     "metadata": {},
     "output_type": "execute_result"
    }
   ],
   "source": [
    "# -*- coding:utf-8 -*-\n",
    "class Solution:\n",
    "    def Add(self, num1, num2):\n",
    "        # write code here\n",
    "        # 检查输入\n",
    "        if not isinstance(num1, int) or not isinstance(num1, int):\n",
    "            return None\n",
    "\n",
    "        # python 中整型大小是无限的，在此限制为 int32\n",
    "        limit = 0xffffffff\n",
    "\n",
    "        # 异或 做无进位加法，位与 来判断是否有进位。\n",
    "        xorSum = num1 ^ num2\n",
    "        andSum = (num1 & num2) << 1\n",
    "        while andSum:\n",
    "            tmpXor = (xorSum ^ andSum) & limit\n",
    "            tmpAnd = (xorSum & andSum) << 1\n",
    "            xorSum = tmpXor\n",
    "            andSum = tmpAnd\n",
    "\n",
    "        return xorSum if xorSum <= 0x7fffffff else ~(xorSum ^ limit)\n",
    "\n",
    "    def __call__(self, *args):\n",
    "        return self.Add(*args)\n",
    "\n",
    "\n",
    "Solution()(-1, -8)\n"
   ]
  },
  {
   "cell_type": "markdown",
   "metadata": {},
   "source": [
    "## 3.1 丑数\n",
    "牛客网：[丑数](https://www.nowcoder.com/practice/6aa9e04fc3794f68acf8778237ba065b?tpId=13&tqId=11186&rp=1&ru=%2Fta%2Fcoding-interviews&qru=%2Fta%2Fcoding-interviews%2Fquestion-ranking&tPage=2)：把只包含质因子2、3和5的数称作丑数（Ugly Number）。例如6、8都是丑数，但14不是，因为它包含质因子7。 习惯上我们把1当做是第一个丑数。求按从小到大的顺序的第N个丑数。\n",
    "\n",
    "思路：以一个数组存储每个丑数，再每次乘 2, 3, 5 产生下个丑数。实现时使用三个数记录三个质因子的位置，每次使用后加一。时间空间复杂度都是 O(n)\n"
   ]
  },
  {
   "cell_type": "code",
   "execution_count": 20,
   "metadata": {},
   "outputs": [
    {
     "data": {
      "text/plain": [
       "[1, 2, 3, 4, 5, 6, 8, 9, 10, 12, 15, 16, 18, 20, 24, 25, 27, 30, 32, 36, 40]"
      ]
     },
     "execution_count": 20,
     "metadata": {},
     "output_type": "execute_result"
    }
   ],
   "source": [
    "# -*- coding:utf-8 -*-\n",
    "class Solution:\n",
    "    def GetUglyNumber_Solution(self, index):\n",
    "        # write code here\n",
    "        # 检查输入\n",
    "        if not isinstance(index, int) or index <= 0:\n",
    "            return 0\n",
    "\n",
    "        # 初始化\n",
    "        uglyLis = [1]\n",
    "        twoPos = 0\n",
    "        threePos = 0\n",
    "        fivePos = 0\n",
    "        cnt = 0\n",
    "\n",
    "        while cnt < index:\n",
    "            minVal = min(2 * uglyLis[twoPos], 3 *\n",
    "                         uglyLis[threePos], 5 * uglyLis[fivePos])\n",
    "            uglyLis.append(minVal)\n",
    "            cnt += 1\n",
    "\n",
    "            if minVal == 2 * uglyLis[twoPos]:\n",
    "                twoPos += 1\n",
    "            if minVal == 3 * uglyLis[threePos]:\n",
    "                threePos += 1\n",
    "            if minVal == 5 * uglyLis[fivePos]:\n",
    "                fivePos += 1\n",
    "\n",
    "        return uglyLis\n",
    "\n",
    "    def __call__(self, *args):\n",
    "        return self.GetUglyNumber_Solution(*args)\n",
    "\n",
    "\n",
    "Solution()(20)\n"
   ]
  },
  {
   "cell_type": "markdown",
   "metadata": {},
   "source": [
    "## 3.2 丑数 III\n",
    "leetcode: [1201. 丑数 III](https://leetcode-cn.com/problems/ugly-number-iii/): 找出第 n 个丑数。丑数是可以被 a 或 b 或 c 整除的 正整数。\n",
    "\n",
    "此题要求同上面一样，不过有两个区别：\n",
    "1. 丑数的定义不同，上面的定义是只能被这三因子整数的数，而这里是可以被三个因子整除的数，前面的定义下 14 不是丑数，但后面定义下 14 是丑数。\n",
    "2. 此题中 1 不是丑数。  \n",
    "\n",
    "此题也可以使用上题类似的方法，但是此题的输入范围 [1, 2 * 10^9]，这样大数据量的情况下使用 O(n) 的空间复杂度不合适。故此处需要找出第 n 个丑数存在的规律。\n",
    "\n",
    "思路：  \n",
    "对于因子 [a, b, c]，小于数 n 的丑数数量有 `n//a + n//b + n//c - n//lcm(a, b) - n//lcm(a, c) - n//lcm(b, c) + n//lcm(a, lcm(b, c))`。其中 lcm 为最小公倍数。  \n",
    "从一个较大的范围内进行二分查找：计算此大范围内丑数个数，如果得到的丑数数量大于待求，则范围缩小一半。...\n",
    "\n",
    "- 例子1：  \n",
    "对于因子 `[2, 3, 5]]` 小于 20 的丑数: `[2, 3, 4, 5, 6, 8, 9, 10, 12, 14, 15, 16, 18, 20], len=14`，  \n",
    "小于 20 的数中，2 有 20 // 2 = 10 个，3 有 20 // 3 = 6，5 有 20 // 5 = 4，这些数中有部分是重复的，既是 2 的倍数有时 3 的倍数...，所以还需要减掉重复的数，这样把 2, 3, 5 共同的倍数减了三次而原本加了三次，所以还需要加回来这部分。故计算式为: `20 // 2 + 20 //3 + 20 // 5 - 20 // lcm(2, 3) - 20 // lcm(2, 5) - 20 // lcm(3, 5) + 20 // lcm(2, 3, 5)`，得到 14 与实际数量一致。\n",
    "\n",
    "- 例子2：  \n",
    "对于因子 `[2, 3, 4]]` 小于 20 的丑数: `[2, 3, 4, 6, 8, 9, 10, 12, 14, 15, 16, 18, 20]`，\n",
    "依上，计算式为 `20 // 2 + 20 //3 + 20 // 4 - 20 // lcm(2, 3) - 20 // lcm(2, 4) - 20 // lcm(3, 4) + 20 // lcm(2, lcm(3, 4))`，得到 13 与实际数量一致。"
   ]
  },
  {
   "cell_type": "code",
   "execution_count": 13,
   "metadata": {},
   "outputs": [
    {
     "data": {
      "text/plain": [
       "6"
      ]
     },
     "execution_count": 13,
     "metadata": {},
     "output_type": "execute_result"
    }
   ],
   "source": [
    "class Solution:\n",
    "    def nthUglyNumber(self, n: int, a: int, b: int, c: int) -> int:\n",
    "        # 检查输入\n",
    "\n",
    "        # 求出各个最小公倍数\n",
    "        ab_lcm = self.lcm(a, b)\n",
    "        ac_lcm = self.lcm(a, c)\n",
    "        bc_lcm = self.lcm(b, c)\n",
    "        abc_lcm = self.lcm(a, bc_lcm)\n",
    "\n",
    "        # 最大范围：题中描述最大数字为 2 * 10 ^ 9\n",
    "        left = 1\n",
    "        right = int(2 * 1e9)\n",
    "\n",
    "        while left < right:\n",
    "            mid = (left + right) >> 1\n",
    "            curUglyNum = mid // a + mid // b + mid // c \\\n",
    "                - mid // ab_lcm - mid // ac_lcm - mid // bc_lcm \\\n",
    "                + mid // abc_lcm\n",
    "            if curUglyNum >= n:\n",
    "                right = mid\n",
    "            else:\n",
    "                left = mid + 1\n",
    "        return left\n",
    "\n",
    "    def lcm(self, a, b):\n",
    "        ''' 求最小公倍数（Least Common Multiple） '''\n",
    "        # 先求最大公约数（Greatest Common Divisor(GCD)）：辗转相除法\n",
    "        if a < b:\n",
    "            tmpa, tmpb = b, a\n",
    "        else:\n",
    "            tmpa, tmpb = a, b\n",
    "        while (tmpa % tmpb):\n",
    "            tmpmod = tmpa % tmpb\n",
    "            tmpa = tmpb\n",
    "            tmpb = tmpmod\n",
    "        gcd = tmpb\n",
    "\n",
    "        # 最小公倍数：a * b / gcd(a, b)\n",
    "        return a * b // gcd\n",
    "\n",
    "    def __call__(self, *args):\n",
    "        return self.nthUglyNumber(*args)\n",
    "\n",
    "\n",
    "Solution()(4, 2, 3, 4)\n"
   ]
  },
  {
   "cell_type": "markdown",
   "metadata": {},
   "source": [
    "## 2. 整数中 1 出现的次数\n",
    "牛客网：[整数中 1 出现的次数](https://www.nowcoder.com/practice/bd7f978302044eee894445e244c7eee6?tpId=13&tqId=11184&rp=1&ru=%2Fta%2Fcoding-interviews&qru=%2Fta%2Fcoding-interviews%2Fquestion-ranking&tPage=2): 求出1 ~ 13的整数中1出现的次数,并算出100 ~ 1300的整数中1出现的次数？为此他特别数了一下1 ~ 13中包含1的数字有1、10、11、12、13因此共出现6次,但是对于后面问题他就没辙了。ACMer希望你们帮帮他,并把问题更加普遍化,可以很快的求出任意非负整数区间中1出现的次数（从1 到 n 中1出现的次数）。\n",
    "\n",
    "思路：  \n",
    "分析十进制中 1 在每一位出现的次数规律：对于数字范围 `0 - 32109`，\n",
    "1. 对于 0，如果此位为 1，则数字有: [高位:(0 - 320), 低位:(x)]，故此位为 1 的数的数量为 (321 * 10)；\n",
    "2. 对于 1，如果此位为 1, 则数字有: [高位:(0 - 31), 低位:(xx)] 与 [高位:(32), 低位:(0 - 09)]，故此位为 1 的数的数量为 (32 * 100) + (9 + 1)；\n",
    "3. 对于 2，如果此位为 1，则数字有: [高位:(0 - 3), 低位:(xxx)]，故此位为 1 的数的数量为 (3 + 1) * 1000；"
   ]
  },
  {
   "cell_type": "code",
   "execution_count": 23,
   "metadata": {},
   "outputs": [
    {
     "data": {
      "text/plain": [
       "16"
      ]
     },
     "execution_count": 23,
     "metadata": {},
     "output_type": "execute_result"
    }
   ],
   "source": [
    "# -*- coding:utf-8 -*-\n",
    "class Solution:\n",
    "    def NumberOf1Between1AndN_Solution(self, n):\n",
    "        # write code here\n",
    "\n",
    "        # 检查输入\n",
    "        if not isinstance(n, int) or n <= 0:\n",
    "            return 0\n",
    "\n",
    "        # 初始化\n",
    "        times = 1\n",
    "        highDigit = 0\n",
    "        lowDigit = 0\n",
    "        oneNumCnt = 0\n",
    "        # 取出每一位来计算当前为 1 的数的数量\n",
    "        while n >= times:\n",
    "            curDigit = (n // times) % 10\n",
    "            highDigit = n // (times * 10)\n",
    "            lowDigit = n % times\n",
    "\n",
    "            if curDigit == 0:\n",
    "                oneNumCnt += highDigit * times\n",
    "            elif curDigit == 1:\n",
    "                oneNumCnt += highDigit * times + (lowDigit + 1)\n",
    "            else:\n",
    "                oneNumCnt += (highDigit + 1) * times\n",
    "\n",
    "            times *= 10\n",
    "\n",
    "        return oneNumCnt\n",
    "\n",
    "    def __call__(self, *args):\n",
    "        return self.NumberOf1Between1AndN_Solution(*args)\n",
    "\n",
    "\n",
    "Solution()(55)\n"
   ]
  },
  {
   "cell_type": "markdown",
   "metadata": {},
   "source": [
    "## 1. 二进制中 1 的个数\n",
    "牛客网：[二进制中 1 的个数](https://www.nowcoder.com/practice/8ee967e43c2c4ec193b040ea7fbb10b8?tpId=13&tqId=11164&rp=1&ru=%2Fta%2Fcoding-interviews&qru=%2Fta%2Fcoding-interviews%2Fquestion-ranking&tPage=1): 输入一个整数，输出该数二进制表示中1的个数。其中负数用补码表示。补码解释：正数与负数在内存存储为补码，正数的补码使其本身，负数的补码是其对应正数按位取反再加一。\n",
    "\n",
    "思路：\n",
    "- 暴力：对二进制进行遍历，计数 1 的个数。\n",
    "- 最优解法：n & (n - 1)。这样依次从低到高每次直接将一个 1 置为 0。这样复杂度远低于对二进制中每个进行遍历再检查是否为 1.\n",
    "\n",
    "注意：Python 中整型是无限长的，所以需要对其按要求仅保留需要的最大位数。"
   ]
  },
  {
   "cell_type": "code",
   "execution_count": 24,
   "metadata": {},
   "outputs": [
    {
     "data": {
      "text/plain": [
       "2"
      ]
     },
     "execution_count": 24,
     "metadata": {},
     "output_type": "execute_result"
    }
   ],
   "source": [
    "# -*- coding:utf-8 -*-\n",
    "class Solution:\n",
    "    def NumberOf1(self, n):\n",
    "        # write code here\n",
    "        \n",
    "        # 检查输入\n",
    "        if not isinstance(n, int):\n",
    "            return None\n",
    "        \n",
    "        # 仅保留需要的 32 位\n",
    "        limit = 0xffffffff\n",
    "        n &= limit\n",
    "        \n",
    "        # (n & (n - 1)) 从低到高每次置一个 1 为 0\n",
    "        cnt = 0\n",
    "        while n:\n",
    "            n &= n & (n - 1)\n",
    "            n &= limit\n",
    "            cnt += 1\n",
    "        \n",
    "        return cnt\n",
    "    \n",
    "    def __call__(self, *args):\n",
    "        return self.NumberOf1(*args)\n",
    "\n",
    "\n",
    "Solution()(0x01001)"
   ]
  },
  {
   "cell_type": "code",
   "execution_count": null,
   "metadata": {},
   "outputs": [],
   "source": []
  }
 ],
 "metadata": {
  "kernelspec": {
   "display_name": "Python 3",
   "language": "python",
   "name": "python3"
  },
  "language_info": {
   "codemirror_mode": {
    "name": "ipython",
    "version": 3
   },
   "file_extension": ".py",
   "mimetype": "text/x-python",
   "name": "python",
   "nbconvert_exporter": "python",
   "pygments_lexer": "ipython3",
   "version": "3.6.7"
  }
 },
 "nbformat": 4,
 "nbformat_minor": 4
}
