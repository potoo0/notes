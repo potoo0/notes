{
 "cells": [
  {
   "cell_type": "code",
   "execution_count": 10,
   "metadata": {},
   "outputs": [],
   "source": [
    "# 多行输出结果\n",
    "from IPython.core.interactiveshell import InteractiveShell\n",
    "InteractiveShell.ast_node_interactivity = \"all\""
   ]
  },
  {
   "cell_type": "markdown",
   "metadata": {},
   "source": [
    "总结自课程视频: [传智播客/黑马程序员-数据结构与算法全套精讲(python版)](https://www.bilibili.com/video/av50524094)\n",
    "\n",
    "# 线性表\n",
    "\n",
    "有顺序表和链表。\n",
    "线性表是一维的数据结构，拓展到二维便是树，三维是图。"
   ]
  },
  {
   "cell_type": "markdown",
   "metadata": {},
   "source": [
    "## 1. 顺序表\n",
    "\n",
    "#### 1.1 顺序表定义：线性关闭存储数据的方式  \n",
    "#### 1.2 顺序表形式：\n",
    "- 基本布局：空间存储**同类型**数据\n",
    "- 元素外置：空间存储数据的逻辑地址，可以存储不同类型的数据\n",
    "\n",
    "#### 1.3 顺序表构成结构：\n",
    "- 表头信息，申请空间时定义，如：地址容量：决定元素的大小；元素个数\n",
    "- 元素存储区\n",
    "\n",
    "#### 1.4 顺序表存储结构：\n",
    "- 一体式：表头信息与元素存储区连续存储。特定：一旦创建，元素存储区就固定了，无法更改。\n",
    "- 分离式：表头信息与元素存储区地址不连续存储，表头信息需要增加元素存储区的起始地址。特点：元素存储区可以灵感更改\n",
    "\n",
    "#### 1.5 顺序表元素更改：\n",
    "- 一体式：存储数据变化，对象随之变化。且若存储内容数量大于计划容量，就需要对整个数据表搬移（重新申请并释放原数据表）。\n",
    "- 分离式：存储数据变化时变化的仅仅是逻辑地址，数据表对象不变化。下面分析元素扩容只考虑分离式存储结构\n",
    "\n",
    "#### 1.6 顺序表空间扩容（分离式存储结构）：\n",
    "- 线性增长：数据存储区容量一旦发现不足，每次扩充增加固定数目的存储区容量，比如每次增加四个空间。\n",
    "    - 优点：增加数量有限，节省空间\n",
    "    - 缺点：扩充操作可能频繁发生、随时发生\n",
    "- 倍数增长：数据存储区容量一旦发现不足，每次扩充容量加倍。以**空间换时间**，空间代价低廉，故实际使用推荐此法\n",
    "    - 优点：每次增加容量很大，所以扩容不会频繁发生\n",
    "    - 缺点：可能造成空间浪费\n",
    "\n",
    "#### 1.7 顺序表元素更改\n",
    "1. 增元素\n",
    "    - 尾端：时间 O(1)\n",
    "    - 非保序：目标位置原本元素放置末尾，新元素放置目标位置，时间复杂 O(1)。不使用！\n",
    "    - 保序：目标位置后的原有元素向后移，空出目标位置来放置新元素，时间 O(n)\n",
    "2. 删元素\n",
    "    - 尾端：时间 O(1)\n",
    "    - 非保序：删除目标位置元素，再尾部元素移到此处，时间 O(1)，不使用！\n",
    "    - 保序：删除目标位置元素，后面元素依次前移。\n",
    "\n",
    "#### 1.8 顺序表在 Python 中的应用\n",
    "Python 的 list 和 tuple 使用了顺序表实现技术，具有顺序表所有性质。Python list 细节：\n",
    "- 分离式动态顺序表\n",
    "- 空表是 8 元素存储区（每个元素存储区元素逻辑地址，32位系统为 4 字节），存储区存满就 4 倍扩容，但是当表已经很大时（阈值 5W），就改为 1 倍扩容。"
   ]
  },
  {
   "cell_type": "markdown",
   "metadata": {},
   "source": [
    "## 2. 链表\n",
    "\n",
    "顺序表需要**预先分配内存空间**，而**扩充时又需要数据搬移**。链表就是为了解决这两个问题，链表可以充分利用内存空间，且灵活。   \n",
    "链表（Linked list）是将一个个节点链接起来的线性表，每个节点包括数据区和下个节点的地址信息等。"
   ]
  },
  {
   "cell_type": "markdown",
   "metadata": {},
   "source": [
    "### 2.1 单向链表\n",
    "\n",
    "单向链表包含两个域信息域（元素域）和链接域，链接指向下个节点，最后一个节点指向空值。  \n",
    "变量 p 指向链表的的头节点，从 p 出发可以找到此链表的任意节点。"
   ]
  },
  {
   "cell_type": "markdown",
   "metadata": {},
   "source": [
    "#### 2.1.1 定义节点\n",
    "\n",
    "```python\n",
    "class linkNode():\n",
    "    def __init__(self, item):\n",
    "        self.item = item\n",
    "        self.next = None\n",
    "```"
   ]
  },
  {
   "cell_type": "markdown",
   "metadata": {},
   "source": [
    "#### 2.1.2 单链表的操作\n",
    "- `isEmpty()`\n",
    "- `size()`\n",
    "- `travel()`  遍历链表，打印出来\n",
    "- `add(item)` 加节点到头部\n",
    "- `append(item)` 加节点到尾部\n",
    "- `insert(item, pos)` 加节点到指定位置\n",
    "- `search(item)` 查找节点\n",
    "- `remove(item)` 删除节点\n",
    "\n",
    "实现之前的预备知识：  \n",
    "对于 `a = 10 ` 的操作，其他语言（C, C++等）是申请一块内存空间并起别名为 `a`，然后此内存内保存 `10` 这个数值。但 Python 不是这样，它需要两块内存空间，一块存数值 `10`，另一块存此数值的地址并记为 `a`，所以 python 中变量名仅仅是保存对象的地址，而不是对象的值，等号就是 创建引用的链接。"
   ]
  },
  {
   "cell_type": "code",
   "execution_count": 6,
   "metadata": {},
   "outputs": [],
   "source": [
    "class linkNode():\n",
    "    def __init__(self, item):\n",
    "        self.item = item\n",
    "        self.next = None\n",
    "\n",
    "\n",
    "class sinLinkedList():\n",
    "    def __init__(self):\n",
    "        # 定义头节点\n",
    "        self._head = None\n",
    "\n",
    "    def isEmpty(self):\n",
    "        ''' 链表是否为空: 头节点是否为空 '''\n",
    "        # 如果头节点为空则说明链表为空\n",
    "        return self._head == None\n",
    "\n",
    "    def size(self):\n",
    "        ''' 链表的长度: 遍历计数 '''\n",
    "        cur = self._head\n",
    "        cnt = 0\n",
    "        # 从头遍历链表，对不为空的节点 计数\n",
    "        # while cur is not None:\n",
    "        while cur:\n",
    "            cnt += 1\n",
    "            cur = cur.next\n",
    "        return cnt\n",
    "\n",
    "    def travel(self):\n",
    "        ''' 打印链表所有元素: 遍历 '''\n",
    "        cur = self._head\n",
    "        # 从头遍历链表，对不为空的节点 打印\n",
    "        # while cur is not None:\n",
    "        while cur:\n",
    "            print(cur.item, '--> ', end='')\n",
    "            cur = cur.next\n",
    "        print('end')\n",
    "\n",
    "    def add(self, item):\n",
    "        ''' 添加节点到头部 '''\n",
    "        node = linkNode(item)\n",
    "        node.next = self._head\n",
    "        self._head = node\n",
    "\n",
    "    def append(self, item):\n",
    "        ''' 添加节点到尾部 '''\n",
    "        # 判断是否为空链表\n",
    "        node = linkNode(item)\n",
    "        if self.isEmpty():\n",
    "            cur = node\n",
    "        else:\n",
    "            cur = self._head\n",
    "            # 寻找尾节点：.next 为空\n",
    "            # while cur.next is not None:\n",
    "            while cur.next:\n",
    "                cur = cur.next\n",
    "            cur.next = node\n",
    "\n",
    "    def insert(self, item, pos):\n",
    "        ''' 插入节点到任意位置, 从 0 开始计数, 如果 pos 超出长度则放到链表末尾 '''\n",
    "        assert isinstance(pos, int), 'position must be a integer.'\n",
    "        node = linkNode(item)\n",
    "        if self.isEmpty():\n",
    "            self._head = node\n",
    "        else:\n",
    "            if pos <= 0:\n",
    "                self.add(item)\n",
    "            else:\n",
    "                cur = self._head\n",
    "                cnt = 0\n",
    "                # 在目标位置前一位置停止\n",
    "                while cur.next and cnt < (pos - 1):\n",
    "                    cnt += 1\n",
    "                    cur = cur.next\n",
    "                # 如果没有到达尾节点\n",
    "                if cur.next:\n",
    "                    node.next = cur.next\n",
    "                cur.next = node\n",
    "\n",
    "    def search(self, item):\n",
    "        ''' 搜索元素是否存在，返回匹配的第一个位置 '''\n",
    "        cur = self._head\n",
    "        cnt = 0\n",
    "        found = False\n",
    "        while cur:\n",
    "            if cur.item == item:\n",
    "                found = True\n",
    "                break\n",
    "            cnt += 1\n",
    "            cur = cur.next\n",
    "        if found:\n",
    "            return cnt\n",
    "        else:\n",
    "            print('Not found')\n",
    "            return None\n",
    "\n",
    "    def remove(self, item):\n",
    "        ''' 删除匹配的第一个节点，如果没有找到则返回 False '''\n",
    "        cur = self._head\n",
    "        pre = None  # 定义一个临时变量，存储上节点\n",
    "        found = False\n",
    "        while cur and not found:\n",
    "            if cur.item == item:\n",
    "                found = True\n",
    "                break\n",
    "            pre = cur\n",
    "            cur = cur.next\n",
    "        # 找到元素\n",
    "        if found:\n",
    "            # 找到的元素是 头节点\n",
    "            if pre is None:\n",
    "                self._head = cur.next\n",
    "            else:\n",
    "                pre.next = cur.next\n",
    "        else:\n",
    "            print('Not found')\n"
   ]
  },
  {
   "cell_type": "code",
   "execution_count": 46,
   "metadata": {},
   "outputs": [
    {
     "data": {
      "text/plain": [
       "8"
      ]
     },
     "execution_count": 46,
     "metadata": {},
     "output_type": "execute_result"
    },
    {
     "name": "stdout",
     "output_type": "stream",
     "text": [
      "99.655 --> sas --> -56 --> 55 --> 9 --> 5 --> append1 --> append2 --> end\n",
      "Not found\n",
      "99.655 --> sas --> -56 --> 55 --> 9 --> 5 --> append1 --> append2 --> end\n",
      "0 --> 99.655 --> sas --> -56 --> 55 --> 9 --> 5 --> append1 --> append2 --> end\n",
      "0 --> 99.655 --> sas --> 3 --> -56 --> 55 --> 9 --> 5 --> append1 --> append2 --> end\n",
      "0 --> 99.655 --> sas --> 3 --> -56 --> 55 --> 9 --> 5 --> append1 --> append2 --> 99 --> end\n",
      "99.655 --> sas --> 3 --> -56 --> 55 --> 9 --> 5 --> append1 --> append2 --> 99 --> end\n",
      "99.655 --> sas --> -56 --> 55 --> 9 --> 5 --> append1 --> append2 --> 99 --> end\n",
      "99.655 --> sas --> -56 --> 55 --> 9 --> 5 --> append1 --> append2 --> end\n",
      "Not found\n",
      "99.655 --> sas --> -56 --> 55 --> 9 --> 5 --> append1 --> append2 --> 1111 --> end\n"
     ]
    },
    {
     "data": {
      "text/plain": [
       "8"
      ]
     },
     "execution_count": 46,
     "metadata": {},
     "output_type": "execute_result"
    }
   ],
   "source": [
    "testlinklist = sinLinkedList()\n",
    "testlinklist.add(5)\n",
    "testlinklist.add(9)\n",
    "testlinklist.add(55)\n",
    "testlinklist.add(-56)\n",
    "testlinklist.add('sas')\n",
    "testlinklist.add(99.655)\n",
    "testlinklist.append('append1')\n",
    "testlinklist.append('append2')\n",
    "testlinklist.size()\n",
    "testlinklist.travel()\n",
    "\n",
    "testlinklist.remove(444)\n",
    "testlinklist.travel()\n",
    "testlinklist.insert(0, 0)\n",
    "testlinklist.travel()\n",
    "testlinklist.insert(3, 3)\n",
    "testlinklist.travel()\n",
    "testlinklist.insert(99, 99)\n",
    "testlinklist.travel()\n",
    "testlinklist.remove(0)\n",
    "testlinklist.travel()\n",
    "testlinklist.remove(3)\n",
    "testlinklist.travel()\n",
    "testlinklist.remove(99)\n",
    "testlinklist.travel()\n",
    "\n",
    "testlinklist.search(1111)\n",
    "testlinklist.append(1111)\n",
    "testlinklist.travel()\n",
    "testlinklist.search(1111)"
   ]
  },
  {
   "cell_type": "markdown",
   "metadata": {},
   "source": [
    "#### 2.1.3 链表与顺序表\n",
    "\n",
    "| 操作 | 链表 | 顺序表 |\n",
    "| --- | --- | --- |\n",
    "| 访问 | O(n) | O(1) |\n",
    "| 头部插入 | O(1) | O(n) |\n",
    "| 中部插入 | O(n) | O(n) |\n",
    "| 尾部插入 | O(n) | O(1) |\n",
    "\n",
    "链表中部插入与尾部插入时 O(n) 仅仅消耗在了数据遍历，而顺序表头部与中部插入数据时 O(n) 消耗在数据搬移（拷贝与覆盖）"
   ]
  },
  {
   "cell_type": "markdown",
   "metadata": {},
   "source": [
    "### 2.2 双向链表\n",
    "\n",
    "相比单向链表每个节点多了一个链接，链接前驱节点。  \n",
    "与单向链接区别：节点链接域多一个前驱链接"
   ]
  },
  {
   "cell_type": "markdown",
   "metadata": {},
   "source": [
    "#### 2.2.1 定义节点\n",
    "\n",
    "每个节点有两个链接和一个元素域\n",
    "\n",
    "```python\n",
    "class doubleNode():\n",
    "    def __init__(self, item):\n",
    "        self.prev = None\n",
    "        self.item = item\n",
    "        self.next = None\n",
    "```"
   ]
  },
  {
   "cell_type": "markdown",
   "metadata": {},
   "source": [
    "#### 2.2.2 双向链表操作\n",
    "- `isEmpty()`\n",
    "- `size()`\n",
    "- `travel()`\n",
    "- `add(item)`\n",
    "- `append(item)`\n",
    "- `insert(item, pos)`\n",
    "- `search(item)`\n",
    "- `remove(item)`"
   ]
  },
  {
   "cell_type": "code",
   "execution_count": 7,
   "metadata": {},
   "outputs": [],
   "source": [
    "class doubleNode():\n",
    "    def __init__(self, item):\n",
    "        self.prev = None\n",
    "        self.item = item\n",
    "        self.next = None\n",
    "\n",
    "\n",
    "class doubleLinkedLis():\n",
    "    ''' 双向链表 '''\n",
    "\n",
    "    def __init__(self):\n",
    "        self._head = None\n",
    "\n",
    "    def isEmpty(self):\n",
    "        ''' 判断链表是否为空: 头尾节点均为 None'''\n",
    "        return self._head is None\n",
    "\n",
    "    def size(self):\n",
    "        ''' 链表长度: 遍历计数(同单向链表) '''\n",
    "        cur = self._head\n",
    "        cnt = 0\n",
    "        while cur:\n",
    "            cnt += 1\n",
    "            cur = cur.next\n",
    "        return cnt\n",
    "\n",
    "    def travel(self):\n",
    "        ''' 打印链表: 遍历 '''\n",
    "        cur = self._head\n",
    "        while cur:\n",
    "            print(cur.item, '--- ', end='')\n",
    "            cur = cur.next\n",
    "        print('end')\n",
    "\n",
    "    def add(self, item):\n",
    "        ''' 添加节点到头部 '''\n",
    "        newNode = doubleNode(item)\n",
    "        # 空链表不需要对第一个节点设置链接指向\n",
    "        if not self.isEmpty():\n",
    "            newNode.next = self._head\n",
    "            self._head.prev = newNode\n",
    "        self._head = newNode\n",
    "\n",
    "    def append(self, item):\n",
    "        ''' 添加节点到尾部 '''\n",
    "        newNode = doubleNode(item)\n",
    "        if self.isEmpty():\n",
    "            self._head = newNode\n",
    "        else:\n",
    "            cur = self._head\n",
    "            while cur.next:\n",
    "                cur = cur.next\n",
    "            newNode.prev = cur\n",
    "            cur.next = newNode\n",
    "\n",
    "    def insert(self, item, pos):\n",
    "        ''' 在任意位置添加节点\n",
    "        如果 pos 小于等于零则加到头部，如果 pos 超出链表上度则加到尾部\n",
    "        '''\n",
    "        assert isinstance(pos, int), 'position must be a integer!'\n",
    "        newNode = doubleNode(item)\n",
    "        if self.isEmpty():\n",
    "            self._head = newNode\n",
    "        else:\n",
    "            if pos <= 0:\n",
    "                self.add(item)\n",
    "            else:\n",
    "                cur = self._head\n",
    "                cnt = 0\n",
    "                # 在目标位置前一位置停止\n",
    "                while cur.next and cnt < (pos - 1):\n",
    "                    cnt += 1\n",
    "                    cur = cur.next\n",
    "                # 如果没有到达尾节点\n",
    "                if cur.next:\n",
    "                    newNode.next = cur.next\n",
    "                # 前驱链接\n",
    "                newNode.prev = cur\n",
    "                # 后驱链接\n",
    "                cur.next = newNode\n",
    "\n",
    "    def search(self, item):\n",
    "        ''' 查找元素，返回第一位置 '''\n",
    "        cur = self._head\n",
    "        found = False\n",
    "        cnt = 0\n",
    "        while cur:\n",
    "            if cur.item == item:\n",
    "                found = True\n",
    "                break\n",
    "            cnt += 1\n",
    "            cur = cur.next\n",
    "        if found:\n",
    "            return cnt\n",
    "        else:\n",
    "            print('Not found!')\n",
    "            return None\n",
    "\n",
    "    def remove(self, item):\n",
    "        ''' 删除节点，删除匹配到的第一个节点 '''\n",
    "        cur = self._head\n",
    "        found = False\n",
    "        while cur:\n",
    "            if cur.item == item:\n",
    "                found = True\n",
    "                break\n",
    "            cur = cur.next\n",
    "        if found:\n",
    "            if cur.prev is None:  # 如果是 头节点\n",
    "                # 头节点的 prev 清空\n",
    "                cur.next.prev = None\n",
    "                # 头节点\n",
    "                self._head = cur.next\n",
    "            elif cur.next is None:  # 如果是尾节点\n",
    "                cur.prev.next = None\n",
    "            else:\n",
    "                # 待删除节点后节点的 prev 指向前一节点，完成前驱链接\n",
    "                cur.next.prev = cur.prev\n",
    "                # 待删除节点前节点的 next 指向下一节点，完成后驱链接\n",
    "                cur.prev.next = cur.next\n",
    "        else:\n",
    "            print('Not found!')\n"
   ]
  },
  {
   "cell_type": "code",
   "execution_count": 42,
   "metadata": {},
   "outputs": [
    {
     "data": {
      "text/plain": [
       "8"
      ]
     },
     "execution_count": 42,
     "metadata": {},
     "output_type": "execute_result"
    },
    {
     "name": "stdout",
     "output_type": "stream",
     "text": [
      "99.655 --- sas --- -56 --- 55 --- 9 --- 5 --- append1 --- append2 --- end\n"
     ]
    }
   ],
   "source": [
    "testdoublell = doubleLinkedLis()\n",
    "testdoublell.add(5)\n",
    "testdoublell.add(9)\n",
    "testdoublell.add(55)\n",
    "testdoublell.add(-56)\n",
    "testdoublell.add('sas')\n",
    "testdoublell.add(99.655)\n",
    "testdoublell.append('append1')\n",
    "testdoublell.append('append2')\n",
    "testdoublell.size()\n",
    "testdoublell.travel()"
   ]
  },
  {
   "cell_type": "code",
   "execution_count": 34,
   "metadata": {},
   "outputs": [
    {
     "name": "stdout",
     "output_type": "stream",
     "text": [
      "Not found!\n",
      "99.655 --- sas --- -56 --- 9 --- 5 --- 1111 --- end\n",
      "0 --- 99.655 --- sas --- -56 --- 9 --- 5 --- 1111 --- end\n",
      "0 --- 99.655 --- sas --- 3 --- -56 --- 9 --- 5 --- 1111 --- end\n",
      "0 --- 99.655 --- sas --- 3 --- -56 --- 9 --- 5 --- 1111 --- 99 --- end\n",
      "99.655 --- sas --- 3 --- -56 --- 9 --- 5 --- 1111 --- 99 --- end\n",
      "99.655 --- sas --- -56 --- 9 --- 5 --- 1111 --- 99 --- end\n",
      "99.655 --- sas --- -56 --- 9 --- 5 --- 1111 --- end\n",
      "Not found!\n",
      "99.655 --- sas --- -56 --- 9 --- 5 --- 1111 --- end\n"
     ]
    }
   ],
   "source": [
    "testdoublell.remove(444)\n",
    "testdoublell.travel()\n",
    "testdoublell.insert(0, 0)\n",
    "testdoublell.travel()\n",
    "testdoublell.insert(3, 3)\n",
    "testdoublell.travel()\n",
    "testdoublell.insert(99, 99)\n",
    "testdoublell.travel()\n",
    "testdoublell.remove(0)\n",
    "testdoublell.travel()\n",
    "testdoublell.remove(3)\n",
    "testdoublell.travel()\n",
    "testdoublell.remove(99)\n",
    "testdoublell.travel()\n",
    "testdoublell.remove(99)\n",
    "testdoublell.travel()"
   ]
  },
  {
   "cell_type": "code",
   "execution_count": 33,
   "metadata": {},
   "outputs": [
    {
     "name": "stdout",
     "output_type": "stream",
     "text": [
      "Not found!\n",
      "99.655 --- sas --- -56 --- 9 --- 5 --- 1111 --- end\n"
     ]
    },
    {
     "data": {
      "text/plain": [
       "5"
      ]
     },
     "execution_count": 33,
     "metadata": {},
     "output_type": "execute_result"
    }
   ],
   "source": [
    "testdoublell.search(1111)\n",
    "testdoublell.append(1111)\n",
    "testdoublell.travel()\n",
    "testdoublell.search(1111)"
   ]
  },
  {
   "cell_type": "markdown",
   "metadata": {},
   "source": [
    "### 2.3 单向循环链表\n",
    "\n",
    "将单链表的尾节点指向头节点，形成一个循环。  \n",
    "与单向链接区别：尾节点的 next 指向头节点"
   ]
  },
  {
   "cell_type": "markdown",
   "metadata": {},
   "source": [
    "#### 单向循环链表操作\n",
    "\n",
    "同上"
   ]
  },
  {
   "cell_type": "code",
   "execution_count": 20,
   "metadata": {},
   "outputs": [],
   "source": [
    "class linkNode():\n",
    "    def __init__(self, item):\n",
    "        self.item = item\n",
    "        self.next = None\n",
    "\n",
    "\n",
    "class sinCycLinkedLis():\n",
    "    ''' 单向循环链表 '''\n",
    "\n",
    "    def __init__(self, node=None):\n",
    "        self._head = None\n",
    "        # 初始化时可以接收一个节点，并将此节点 next 指向自身，形成回环。此部分可以不要\n",
    "        if node:\n",
    "            node.next = node\n",
    "\n",
    "    def isEmpty(self):\n",
    "        return self._head == None\n",
    "\n",
    "    def size(self):\n",
    "        ''' 单向循环链表长度，截止条件变成 尾节点 next 是否与头节点相同 '''\n",
    "        if self.isEmpty():\n",
    "            return 0\n",
    "        cur = self._head\n",
    "        cnt = 1  # 需要注意的是 使用 cur.next 做判断那 计数值应该从一开始计算\n",
    "        while cur.next != self._head:\n",
    "            cnt += 1\n",
    "            cur = cur.next\n",
    "        return cnt\n",
    "\n",
    "    def travel(self):\n",
    "        ''' 打印链表 '''\n",
    "        if self.isEmpty():\n",
    "            return\n",
    "        cur = self._head\n",
    "        print(cur.item, '- ', end='')\n",
    "        while cur.next != self._head:\n",
    "            cur = cur.next\n",
    "            print(cur.item, '- ', end='')\n",
    "        print('HEAD')\n",
    "\n",
    "    def add(self, item):\n",
    "        ''' 添加节点到头部，\n",
    "        相比单向链表，此处需要遍历到尾部，修改尾部 next '''\n",
    "        newNode = linkNode(item)\n",
    "        if self.isEmpty():\n",
    "            newNode.next = newNode\n",
    "            self._head = newNode\n",
    "        else:\n",
    "            cur = self._head\n",
    "            newNode.next = self._head\n",
    "            while cur.next != self._head:\n",
    "                cur = cur.next\n",
    "            cur.next = newNode\n",
    "            self._head = newNode\n",
    "\n",
    "    def append(self, item):\n",
    "        ''' 添加节点到尾部 '''\n",
    "        newNode = linkNode(item)\n",
    "        if self.isEmpty():\n",
    "            newNode.next = newNode\n",
    "            self._head = newNode\n",
    "        else:\n",
    "            cur = self._head\n",
    "            while cur.next != self._head:\n",
    "                cur = cur.next\n",
    "            newNode.next = self._head\n",
    "            cur.next = newNode\n",
    "\n",
    "    def insert(self, item, pos):\n",
    "        ''' 插入节点到任意位置 '''\n",
    "        assert isinstance(pos, int), 'position must be a integer !'\n",
    "        newNode = linkNode(item)\n",
    "        if self.isEmpty():\n",
    "            newNode.next = newNode\n",
    "            self._head = newNode\n",
    "        else:\n",
    "            cur = self._head\n",
    "            cnt = 0\n",
    "            tailReSign = False\n",
    "            if pos <= 0:\n",
    "                tailReSign = True\n",
    "            while cur.next != self._head and (tailReSign or cnt < (pos - 1)):\n",
    "                cnt += 1\n",
    "                cur = cur.next\n",
    "            if cur.next != self._head:\n",
    "                newNode.next = cur.next\n",
    "                cur.next = newNode\n",
    "            else:\n",
    "                newNode.next = self._head\n",
    "                cur.next = newNode\n",
    "                if tailReSign:\n",
    "                    self._head = newNode\n",
    "\n",
    "    def search(self, item):\n",
    "        if self.isEmpty():\n",
    "            return 'Not found'\n",
    "        found = False\n",
    "        cur = self._head\n",
    "        cnt = 0\n",
    "        if cur.item == item:\n",
    "            found = True\n",
    "        while cur.next != self._head and not found:\n",
    "            cnt += 1\n",
    "            cur = cur.next\n",
    "            if cur.item == item:\n",
    "                found = True\n",
    "        if found:\n",
    "            return cnt\n",
    "        else:\n",
    "            return 'Not found'\n",
    "\n",
    "    def remove(self, item):\n",
    "        if self.isEmpty():\n",
    "            return 'Not found'\n",
    "        found = False\n",
    "        tailReSign = False\n",
    "        prev = None\n",
    "        cur = self._head\n",
    "        if cur.item == item:\n",
    "            tailReSign = True\n",
    "        while cur.next != self._head and (tailReSign or not found):\n",
    "            prev = cur\n",
    "            cur = cur.next\n",
    "            if cur.item == item:\n",
    "                found = True\n",
    "        if tailReSign:  # 移除头节点\n",
    "            self._head = self._head.next\n",
    "            cur.next = self._head\n",
    "            return True\n",
    "        elif found:\n",
    "            if cur.next != self._head:  # 未到末尾，待移除节点在中间\n",
    "                prev.next = cur.next\n",
    "            else:  # 到达到末尾，待移除节点在尾部\n",
    "                prev.next = self._head\n",
    "            return True\n",
    "        else:\n",
    "            print('Not found')\n"
   ]
  },
  {
   "cell_type": "code",
   "execution_count": 21,
   "metadata": {},
   "outputs": [
    {
     "data": {
      "text/plain": [
       "6"
      ]
     },
     "execution_count": 21,
     "metadata": {},
     "output_type": "execute_result"
    },
    {
     "name": "stdout",
     "output_type": "stream",
     "text": [
      "99.655 - sas - -56 - 55 - 9 - 5 - HEAD\n"
     ]
    }
   ],
   "source": [
    "testsincyc = sinCycLinkedLis()\n",
    "testsincyc.add(5)\n",
    "testsincyc.add(9)\n",
    "testsincyc.add(55)\n",
    "testsincyc.add(-56)\n",
    "testsincyc.add('sas')\n",
    "testsincyc.add(99.655)\n",
    "testsincyc.size()\n",
    "testsincyc.travel()"
   ]
  },
  {
   "cell_type": "code",
   "execution_count": 22,
   "metadata": {},
   "outputs": [
    {
     "data": {
      "text/plain": [
       "8"
      ]
     },
     "execution_count": 22,
     "metadata": {},
     "output_type": "execute_result"
    },
    {
     "name": "stdout",
     "output_type": "stream",
     "text": [
      "99.655 - sas - -56 - 55 - 9 - 5 - append1 - append2 - HEAD\n"
     ]
    }
   ],
   "source": [
    "testsincyc.append('append1')\n",
    "testsincyc.append('append2')\n",
    "testsincyc.size()\n",
    "testsincyc.travel()"
   ]
  },
  {
   "cell_type": "code",
   "execution_count": 23,
   "metadata": {},
   "outputs": [
    {
     "data": {
      "text/plain": [
       "12"
      ]
     },
     "execution_count": 23,
     "metadata": {},
     "output_type": "execute_result"
    },
    {
     "name": "stdout",
     "output_type": "stream",
     "text": [
      "0 - 99.655 - sas - 3 - -56 - 55 - 9 - 5 - append1 - append2 - 99 - 11 - HEAD\n"
     ]
    }
   ],
   "source": [
    "testsincyc.insert(0, 0)\n",
    "testsincyc.insert(3, 3)\n",
    "testsincyc.insert(99, 99)\n",
    "testsincyc.insert(11, 11)\n",
    "testsincyc.size()\n",
    "testsincyc.travel()"
   ]
  },
  {
   "cell_type": "code",
   "execution_count": 24,
   "metadata": {},
   "outputs": [
    {
     "data": {
      "text/plain": [
       "11"
      ]
     },
     "execution_count": 24,
     "metadata": {},
     "output_type": "execute_result"
    },
    {
     "data": {
      "text/plain": [
       "'Not found'"
      ]
     },
     "execution_count": 24,
     "metadata": {},
     "output_type": "execute_result"
    }
   ],
   "source": [
    "testsincyc.search(11)\n",
    "testsincyc.search(6421)"
   ]
  },
  {
   "cell_type": "code",
   "execution_count": 25,
   "metadata": {},
   "outputs": [
    {
     "name": "stdout",
     "output_type": "stream",
     "text": [
      "Not found\n"
     ]
    },
    {
     "data": {
      "text/plain": [
       "True"
      ]
     },
     "execution_count": 25,
     "metadata": {},
     "output_type": "execute_result"
    },
    {
     "data": {
      "text/plain": [
       "11"
      ]
     },
     "execution_count": 25,
     "metadata": {},
     "output_type": "execute_result"
    },
    {
     "name": "stdout",
     "output_type": "stream",
     "text": [
      "99.655 - sas - 3 - -56 - 55 - 9 - 5 - append1 - append2 - 99 - 11 - HEAD\n"
     ]
    }
   ],
   "source": [
    "testsincyc.remove(6421)\n",
    "testsincyc.remove(0)\n",
    "testsincyc.size()\n",
    "testsincyc.travel()"
   ]
  },
  {
   "cell_type": "code",
   "execution_count": 26,
   "metadata": {},
   "outputs": [
    {
     "data": {
      "text/plain": [
       "True"
      ]
     },
     "execution_count": 26,
     "metadata": {},
     "output_type": "execute_result"
    },
    {
     "data": {
      "text/plain": [
       "10"
      ]
     },
     "execution_count": 26,
     "metadata": {},
     "output_type": "execute_result"
    },
    {
     "name": "stdout",
     "output_type": "stream",
     "text": [
      "99.655 - sas - -56 - 55 - 9 - 5 - append1 - append2 - 99 - 11 - HEAD\n"
     ]
    }
   ],
   "source": [
    "testsincyc.remove(3)\n",
    "testsincyc.size()\n",
    "testsincyc.travel()"
   ]
  },
  {
   "cell_type": "code",
   "execution_count": 27,
   "metadata": {},
   "outputs": [
    {
     "data": {
      "text/plain": [
       "True"
      ]
     },
     "execution_count": 27,
     "metadata": {},
     "output_type": "execute_result"
    },
    {
     "data": {
      "text/plain": [
       "9"
      ]
     },
     "execution_count": 27,
     "metadata": {},
     "output_type": "execute_result"
    },
    {
     "name": "stdout",
     "output_type": "stream",
     "text": [
      "99.655 - sas - -56 - 55 - 9 - 5 - append1 - append2 - 99 - HEAD\n"
     ]
    }
   ],
   "source": [
    "testsincyc.remove(11)\n",
    "testsincyc.size()\n",
    "testsincyc.travel()"
   ]
  },
  {
   "cell_type": "code",
   "execution_count": 28,
   "metadata": {},
   "outputs": [
    {
     "data": {
      "text/plain": [
       "True"
      ]
     },
     "execution_count": 28,
     "metadata": {},
     "output_type": "execute_result"
    },
    {
     "data": {
      "text/plain": [
       "8"
      ]
     },
     "execution_count": 28,
     "metadata": {},
     "output_type": "execute_result"
    },
    {
     "name": "stdout",
     "output_type": "stream",
     "text": [
      "99.655 - sas - -56 - 55 - 9 - 5 - append1 - append2 - HEAD\n"
     ]
    }
   ],
   "source": [
    "testsincyc.remove(99)\n",
    "testsincyc.size()\n",
    "testsincyc.travel()"
   ]
  },
  {
   "cell_type": "code",
   "execution_count": null,
   "metadata": {},
   "outputs": [],
   "source": []
  }
 ],
 "metadata": {
  "kernelspec": {
   "display_name": "Python 3",
   "language": "python",
   "name": "python3"
  },
  "language_info": {
   "codemirror_mode": {
    "name": "ipython",
    "version": 3
   },
   "file_extension": ".py",
   "mimetype": "text/x-python",
   "name": "python",
   "nbconvert_exporter": "python",
   "pygments_lexer": "ipython3",
   "version": "3.6.7"
  }
 },
 "nbformat": 4,
 "nbformat_minor": 4
}
