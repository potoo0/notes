{
 "cells": [
  {
   "cell_type": "code",
   "execution_count": 1,
   "metadata": {},
   "outputs": [],
   "source": [
    "from IPython.core.interactiveshell import InteractiveShell\n",
    "InteractiveShell.ast_node_interactivity = 'all'"
   ]
  },
  {
   "cell_type": "markdown",
   "metadata": {},
   "source": [
    "## 1. 树引言"
   ]
  },
  {
   "cell_type": "markdown",
   "metadata": {},
   "source": [
    "### 1.1 树的种类\n",
    "\n",
    "- 无序树：树中任意子节点之间没有顺序关系，也称自由树。\n",
    "  - 无序二叉树：每个节点至多有两个子树\n",
    "    - 完全二叉树：对于深度 d(d>1)，除了第 d 层外，其他各层节点数量均达到最大值，且第 d 层所有节点从左到右紧密排列。  \n",
    "    - 满二叉树：特殊的完全二叉树，所有叶节点均在最底层。\n",
    "- 有序树：树中任意节点有顺序关系\n",
    "  - 有序二叉树：每个节点至多有两个子树\n",
    "      - 二叉查找树( Binary Search Tree，又称二叉搜索树，排序二叉树，有序二叉树)\n",
    "      - 平衡二叉树( AVL )：任何节点的两棵子树的高度不大于 1 的二叉查找树\n",
    "      - 红黑树\n",
    "  - 霍夫曼树( 用于信息编码 )：带权路径最短的二叉树，又称最优二叉树\n",
    "  - B 树：一种对读写优化的自平衡二叉树，能保持数据有序，拥有多余两个子树。\n",
    "\n",
    "排序二叉树：插入、删除快，但是查找最差 O(n)，平衡二叉树：在排序二叉树基础上加入了平衡因子的理念，使插入与删除过程繁琐但是时间复杂度低，红黑树：介于两者之间。"
   ]
  },
  {
   "cell_type": "markdown",
   "metadata": {},
   "source": [
    "### 1.2 树的存储\n",
    "#### 1.2.1 顺序存储\n",
    "\n",
    "将数据结构存在一个顺序表中，遍历时速度较快。但如果不是满树，那数组中会有空间的浪费。二叉树通常以链式结构存储\n",
    "\n",
    "#### 1.2.2 链式存储\n",
    "\n",
    "将树每个节点定义指针指向其子节点。缺点是指针域数量不定，解决办法是多叉数转化成二叉树。\n"
   ]
  },
  {
   "cell_type": "markdown",
   "metadata": {},
   "source": [
    "### 1.3 树的应用场景\n",
    "\n",
    "- xml, html 等\n",
    "- 路由协议\n",
    "- mysql 数据库索引\n",
    "- 文件系统目录树\n",
    "- AI领域，如决策树等"
   ]
  },
  {
   "cell_type": "markdown",
   "metadata": {},
   "source": [
    "## 2. 二叉树\n",
    "\n",
    "\n",
    "每个节点至多两个节点，左右节点。\n"
   ]
  },
  {
   "cell_type": "markdown",
   "metadata": {},
   "source": [
    "### 2.1 二叉树性质\n",
    "\n",
    "性质：\n",
    "1. 任意二叉树，记叶节点的数量为 $N_0$，度数为 2 的节点数量为 $N_2$，有: $N_0 = N_2 + 1$\n",
    "2. 第 $i(i>0)$ 层至多 $2^{(i - 1)}$ 个节点\n",
    "3. 深度为 $k(k>0)$ 的二叉树至多有 $2^k - 1$ 个节点\n",
    "4. 节点数量为 $n$ 的完全二叉树，其高度为 $log_2(n + 1)$\n",
    "5. 对于完全二叉树，从上至下、左至右编号（顺序存储），编号起始为 1(根节点)。则左子节点为 2i，右子节点为 2i + 1，其父节点为 i//2(根节点除外，即i不等于1)\n"
   ]
  },
  {
   "cell_type": "markdown",
   "metadata": {
    "toc-hr-collapsed": false
   },
   "source": [
    "### 2.2 二叉树的节点表示\n",
    "\n",
    "每个节点有数据区和两个指针域，分别指向左右子节点"
   ]
  },
  {
   "cell_type": "code",
   "execution_count": 2,
   "metadata": {},
   "outputs": [],
   "source": [
    "class treeNode():\n",
    "    def __init__(self, item):\n",
    "        self.key = item\n",
    "        self.lchild = None\n",
    "        self.rchild = None"
   ]
  },
  {
   "cell_type": "markdown",
   "metadata": {},
   "source": [
    "#### 2.2.1 构建完全二叉树。  \n",
    "一层层地遍历，补充左右子节点。这种遍历方式称为**广度优先**。对于树的广度优先遍历，可以队列结构来存储待遍历节点。"
   ]
  },
  {
   "cell_type": "code",
   "execution_count": 3,
   "metadata": {},
   "outputs": [],
   "source": [
    "class completeBinaryTree():\n",
    "    \n",
    "    def __init__(self):\n",
    "        self.root = None\n",
    "\n",
    "    def append(self, item):\n",
    "        newNode = treeNode(item)\n",
    "        if self.root is None:\n",
    "            self.root = newNode\n",
    "        else:\n",
    "            queue = [self.root]  # 列表模拟队列\n",
    "            while queue:\n",
    "                curNode = queue.pop(0)\n",
    "                if curNode.lchild is None:\n",
    "                    curNode.lchild = newNode\n",
    "                    return\n",
    "                elif curNode.rchild is None:\n",
    "                    curNode.rchild = newNode\n",
    "                    return\n",
    "                else:\n",
    "                    queue.append(curNode.lchild)\n",
    "                    queue.append(curNode.rchild)\n",
    "\n",
    "    def appendLis(self, lis):\n",
    "        ''' 批量添加节点 '''\n",
    "        list(map(self.append, lis))\n",
    "\n",
    "\n",
    "testTree = completeBinaryTree()\n",
    "testTree.append(0)\n",
    "testTree.appendLis([1, 2, 3, 4, 5, 6, 7, 8, 9])\n",
    "\n",
    "# 为了下面校验树的遍历，此处将其变为非完全二叉树\n",
    "testTree.root.lchild.lchild.lchild = None"
   ]
  },
  {
   "cell_type": "markdown",
   "metadata": {},
   "source": [
    "#### 2.2.2 树的可视化"
   ]
  },
  {
   "cell_type": "code",
   "execution_count": 4,
   "metadata": {},
   "outputs": [
    {
     "data": {
      "image/png": "[encoded data removed]",
      "text/plain": [
       "<Figure size 432x288 with 1 Axes>"
      ]
     },
     "metadata": {},
     "output_type": "display_data"
    }
   ],
   "source": [
    "import networkx as nx\n",
    "import matplotlib.pyplot as plt\n",
    "\n",
    "import warnings\n",
    "warnings.filterwarnings('ignore')\n",
    "\n",
    "%matplotlib inline\n",
    "\n",
    "\n",
    "def create_graph(G, node, pos={}, x=0, y=0, layer=1):\n",
    "    pos[node.key] = (x, y)\n",
    "    if node.lchild:\n",
    "        G.add_edge(node.key, node.lchild.key)\n",
    "        l_x, l_y = x - 1 / 2 ** layer, y - 1\n",
    "        l_layer = layer + 1\n",
    "        create_graph(G, node.lchild, x=l_x, y=l_y, pos=pos, layer=l_layer)\n",
    "    if node.rchild:\n",
    "        G.add_edge(node.key, node.rchild.key)\n",
    "        r_x, r_y = x + 1 / 2 ** layer, y - 1\n",
    "        r_layer = layer + 1\n",
    "        create_graph(G, node.rchild, x=r_x, y=r_y, pos=pos, layer=r_layer)\n",
    "    return (G, pos)\n",
    "\n",
    "def draw(node, titleTex=''):\n",
    "    ''' 以 node 为根可视化二叉树树 '''\n",
    "    graph = nx.DiGraph()\n",
    "    graph, pos = create_graph(graph, node)\n",
    "    fig, ax = plt.subplots()  # 比例可以根据树的深度适当调节\n",
    "    if titleTex:\n",
    "        fig.suptitle(titleTex)\n",
    "    nx.draw_networkx(\n",
    "        graph, pos,\n",
    "        ax=ax,\n",
    "        node_size=500, node_color='#bae6f4', alpha=0.6,\n",
    "        font_color='#DC143C', font_weight='bold'\n",
    "    )\n",
    "    #plt.show()\n",
    "\n",
    "\n",
    "draw(testTree.root)"
   ]
  },
  {
   "cell_type": "markdown",
   "metadata": {
    "toc-hr-collapsed": false
   },
   "source": [
    "### 2.3 树的遍历"
   ]
  },
  {
   "cell_type": "markdown",
   "metadata": {},
   "source": [
    "#### 2.3.1 广度遍历\n",
    "\n",
    "广度遍历：从上到下，左到右遍历树的节点。  \n",
    "从上到下，左到右遍历符合先进先出的规则，故可以使用队列结构来辅助。具体为：从队列头部取出节点并打印，将其左右节点依次加到队列尾部。"
   ]
  },
  {
   "cell_type": "code",
   "execution_count": 5,
   "metadata": {},
   "outputs": [
    {
     "name": "stdout",
     "output_type": "stream",
     "text": [
      "0 1 2 3 4 5 6 8 9 "
     ]
    }
   ],
   "source": [
    "def breadthTravel(root):\n",
    "    if not root:\n",
    "        return None\n",
    "    \n",
    "    queue = [root, ]  # 列表模拟队列\n",
    "    while queue:\n",
    "        node = queue.pop(0)\n",
    "        print(node.key, end=' ')\n",
    "        if node.lchild:\n",
    "            queue.append(node.lchild)\n",
    "        if node.rchild:\n",
    "            queue.append(node.rchild)\n",
    "\n",
    "\n",
    "breadthTravel(testTree.root)"
   ]
  },
  {
   "cell_type": "markdown",
   "metadata": {
    "toc-hr-collapsed": true
   },
   "source": [
    "#### 2.3.2 深度遍历\n",
    "按照遍历的顺序有三种：**前序**：根左右；**中序**：左根右；**后序**：左右根"
   ]
  },
  {
   "cell_type": "markdown",
   "metadata": {},
   "source": [
    "##### 2.3.2.1 递归实现深度遍历"
   ]
  },
  {
   "cell_type": "code",
   "execution_count": 5,
   "metadata": {},
   "outputs": [
    {
     "name": "stdout",
     "output_type": "stream",
     "text": [
      "0 1 3 8 4 9 2 5 6 \n",
      "3 8 1 9 4 0 5 2 6 \n",
      "8 3 9 4 1 5 6 2 0 "
     ]
    }
   ],
   "source": [
    "def preOrderRecursive(root):\n",
    "    if not root:\n",
    "        return None\n",
    "    print(root.key, end=' ')\n",
    "    preOrderRecursive(root.lchild)\n",
    "    preOrderRecursive(root.rchild)\n",
    "\n",
    "\n",
    "def inOrderRecursive(root):\n",
    "    if not root:\n",
    "        return None\n",
    "    inOrderRecursive(root.lchild)\n",
    "    print(root.key, end=' ')\n",
    "    inOrderRecursive(root.rchild)\n",
    "\n",
    "\n",
    "def postOrderRecursive(root):\n",
    "    if not root:\n",
    "        return None\n",
    "    postOrderRecursive(root.lchild)\n",
    "    postOrderRecursive(root.rchild)\n",
    "    print(root.key, end=' ')\n",
    "\n",
    "\n",
    "preOrderRecursive(testTree.root)\n",
    "print()\n",
    "inOrderRecursive(testTree.root)\n",
    "print()\n",
    "postOrderRecursive(testTree.root)"
   ]
  },
  {
   "cell_type": "markdown",
   "metadata": {},
   "source": [
    "##### 2.3.2.2 非递归实现深度遍历\n",
    "\n",
    "深度遍历使用栈来辅助"
   ]
  },
  {
   "cell_type": "code",
   "execution_count": 7,
   "metadata": {},
   "outputs": [
    {
     "name": "stdout",
     "output_type": "stream",
     "text": [
      "0 1 3 8 4 9 2 5 6 "
     ]
    }
   ],
   "source": [
    "def preOrderNonRec(root):\n",
    "    stack = []  # 使用列表来模拟栈\n",
    "    tmpNode = root\n",
    "    while tmpNode or stack:\n",
    "        while tmpNode:\n",
    "            print(tmpNode.key, end=' ')\n",
    "            stack.append(tmpNode)\n",
    "            tmpNode = tmpNode.lchild\n",
    "\n",
    "        tmpNode = stack.pop()\n",
    "        tmpNode = tmpNode.rchild\n",
    "\n",
    "\n",
    "preOrderNonRec(testTree.root)"
   ]
  },
  {
   "cell_type": "code",
   "execution_count": 8,
   "metadata": {},
   "outputs": [
    {
     "name": "stdout",
     "output_type": "stream",
     "text": [
      "3 8 1 9 4 0 5 2 6 "
     ]
    }
   ],
   "source": [
    "def inOrderNonRec(root):\n",
    "    stack = []  # 使用列表来模拟栈\n",
    "    tmpNode = root\n",
    "    while tmpNode or stack:\n",
    "        while tmpNode:\n",
    "            stack.append(tmpNode)\n",
    "            tmpNode = tmpNode.lchild\n",
    "\n",
    "        tmpNode = stack.pop()\n",
    "        print(tmpNode.key, end=' ')\n",
    "        tmpNode = tmpNode.rchild\n",
    "\n",
    "\n",
    "inOrderNonRec(testTree.root)"
   ]
  },
  {
   "cell_type": "code",
   "execution_count": 9,
   "metadata": {},
   "outputs": [
    {
     "name": "stdout",
     "output_type": "stream",
     "text": [
      "8 3 9 4 1 5 6 2 0 "
     ]
    }
   ],
   "source": [
    "def postOrderNonRec(root):\n",
    "    stack = []  # 使用列表来模拟栈\n",
    "    tmpNode = root\n",
    "    while tmpNode or stack:\n",
    "        while tmpNode:\n",
    "            stack.append(tmpNode)\n",
    "            tmpNode = tmpNode.lchild\n",
    "\n",
    "        tmpNode = stack[-1]\n",
    "        tmpNode = tmpNode.rchild\n",
    "        \n",
    "        if not tmpNode:\n",
    "            node = stack.pop()\n",
    "            print(node.key, end=' ')\n",
    "            while stack and node is stack[-1].rchild:\n",
    "                node = stack.pop()\n",
    "                print(node.key, end=' ')\n",
    "\n",
    "\n",
    "postOrderNonRec(testTree.root)"
   ]
  },
  {
   "cell_type": "markdown",
   "metadata": {},
   "source": [
    "#### 2.3.3 由遍历确定一颗树\n",
    "\n",
    "在深度遍历序列中由包含中序的两种遍历就可以唯一确定一棵树，即**前中**或者**中后**可以唯一确定一棵树。因为前中后序依次为：根左右、左根右、左右根。如果没有中序那左右节点无法唯一划分。这方面的考题可能有：根据前中或者中后重构树，或者求另一种遍历(依然需要先重构树)\n",
    "\n",
    "由 前序 与 中序 重构树：思路：前序的第一个元素为根节点，则中序序列中此元素左边都是根节点的左节点，右边是根节点的右节点。再递归左边部分、右边部分即可。这样时间复杂度 O(n^2), 空间复杂度 O(n^2)。\n",
    "\n",
    "优化：可以使用元素的下标而非每次产生一个拷贝，另外由于元素互异，故可以使用 hashtable(即py的字典)来降低元素的查找，这样时间 O(n), 空间 O(n)。"
   ]
  },
  {
   "cell_type": "code",
   "execution_count": 6,
   "metadata": {},
   "outputs": [
    {
     "data": {
      "image/png": "[encoded data removed]",
      "text/plain": [
       "<Figure size 432x288 with 1 Axes>"
      ]
     },
     "metadata": {},
     "output_type": "display_data"
    }
   ],
   "source": [
    "class treeNode():\n",
    "    def __init__(self, item):\n",
    "        self.key = item\n",
    "        self.lchild = None\n",
    "        self.rchild = None\n",
    "\n",
    "\n",
    "def reConstructBinaryTree(preOrder, inOrder):\n",
    "    ''' 由 前序 与 中序 重构树 '''\n",
    "    # 检查输入\n",
    "    if not preOrder or not inOrder or len(preOrder) != len(inOrder):\n",
    "        return None\n",
    "\n",
    "    # 根据前序对中序序列划分\n",
    "    rootKey = preOrder[0]\n",
    "    rootIndex = inOrder.index(rootKey)  # list 与 str 的 index 方法求元素索引\n",
    "\n",
    "    leftPreOrder = preOrder[1:rootIndex + 1]\n",
    "    rightPreOrder = preOrder[rootIndex + 1:]\n",
    "    leftInOrder = inOrder[:rootIndex]\n",
    "    rightInOrder = inOrder[rootIndex + 1:]\n",
    "\n",
    "    # 递归构建树\n",
    "    rootNode = treeNode(int(rootKey))\n",
    "    rootNode.lchild = reConstructBinaryTree(leftPreOrder, leftInOrder)\n",
    "    rootNode.rchild = reConstructBinaryTree(rightPreOrder, rightInOrder)\n",
    "\n",
    "    return rootNode\n",
    "\n",
    "\n",
    "preOrder = '013849256'\n",
    "inOrder = '381940526'\n",
    "reConsTree = reConstructBinaryTree(preOrder, inOrder)\n",
    "draw(reConsTree)"
   ]
  },
  {
   "cell_type": "code",
   "execution_count": 22,
   "metadata": {},
   "outputs": [
    {
     "data": {
      "image/png": "[encoded data removed]",
      "text/plain": [
       "<Figure size 432x288 with 1 Axes>"
      ]
     },
     "metadata": {},
     "output_type": "display_data"
    }
   ],
   "source": [
    "def reConstructBinaryTree(preOrder, inOrder):\n",
    "    def build(start_pre, start_in, n):\n",
    "        if n <= 0:\n",
    "            return None\n",
    "        root = treeNode(preOrder[start_pre])\n",
    "        if n == 1:\n",
    "            return root\n",
    "\n",
    "        rootPos_in = index_in[preOrder[start_pre]]\n",
    "        length = rootPos_in - start_in\n",
    "\n",
    "        root.lchild = build(start_pre + 1, start_in, length)\n",
    "        root.rchild = build(start_pre + length + 1, rootPos_in + 1, n - length - 1)\n",
    "        return root\n",
    "    index_in = {val:index for index, val in enumerate(inOrder)}\n",
    "    return build(0, 0, len(preOrder))\n",
    "\n",
    "\n",
    "preOrder = '013849256'\n",
    "inOrder = '381940526'\n",
    "reConsTree = reConstructBinaryTree(preOrder, inOrder)\n",
    "draw(reConsTree)"
   ]
  },
  {
   "cell_type": "code",
   "execution_count": 16,
   "metadata": {},
   "outputs": [
    {
     "data": {
      "text/plain": [
       "'0'"
      ]
     },
     "execution_count": 16,
     "metadata": {},
     "output_type": "execute_result"
    }
   ],
   "source": []
  },
  {
   "cell_type": "code",
   "execution_count": 10,
   "metadata": {},
   "outputs": [
    {
     "data": {
      "text/plain": [
       "5"
      ]
     },
     "execution_count": 10,
     "metadata": {},
     "output_type": "execute_result"
    }
   ],
   "source": [
    "ss = '381940526'\n",
    "\n",
    "index = {val:i for i, val in enumerate(ss)}\n",
    "index['0']"
   ]
  },
  {
   "cell_type": "markdown",
   "metadata": {
    "toc-hr-collapsed": false
   },
   "source": [
    "## 2.4 二叉堆\n",
    "堆看起来像一颗树，但实际使用列表来表示。二叉堆常见有两种：最小堆（最小的键在最前）与最大堆（最大的键在最前）。"
   ]
  },
  {
   "cell_type": "markdown",
   "metadata": {},
   "source": [
    "### 2.4.1 最小堆操作\n",
    "基本操作有：\n",
    "- `minBinaryHeap()`: 创建一个新的最小堆\n",
    "- `insert(k)`: 添加新项到堆\n",
    "- `findMin()`: 返回最小键值的项\n",
    "- `delMin()`: 返回最小键值的项，并删除\n",
    "- `isEmpty()`: 判断堆是否为空\n",
    "- `size()`: 返回堆中项数\n",
    "- `buildMinHeap()`: 从键值列表构建新最小堆"
   ]
  },
  {
   "cell_type": "markdown",
   "metadata": {
    "toc-hr-collapsed": true
   },
   "source": [
    "### 2.4.2 最小堆属性"
   ]
  },
  {
   "cell_type": "markdown",
   "metadata": {},
   "source": [
    "#### 2.4.2.1 结构属性\n",
    "为了保证堆的对数性能，需要保持树的平衡，即左右子节点深度之差不大于一。在堆的实现中创建完全二叉树来保持树的平衡。且完全二叉树由于左右节点紧密排列，可以使用列表表示。一般堆的列表表示中列表第一个位置不存放。  \n",
    "则对于节点序号为 `x` 的节点其父节点序号为: `x // 2`, 左子节点为: `x * 2`, 右子节点为: `x * 2 + 1`"
   ]
  },
  {
   "cell_type": "markdown",
   "metadata": {},
   "source": [
    "#### 2.4.2.2 排序属性\n",
    "最小堆：父节点的键不大于子节点的键"
   ]
  },
  {
   "cell_type": "code",
   "execution_count": 11,
   "metadata": {},
   "outputs": [
    {
     "data": {
      "image/png": "[encoded data removed]",
      "text/plain": [
       "<Figure size 432x288 with 1 Axes>"
      ]
     },
     "metadata": {},
     "output_type": "display_data"
    }
   ],
   "source": [
    "# 最小堆示意图：\n",
    "minBinTreeDemo = completeBinaryTree()\n",
    "minBinTreeDemo.appendLis([1, 2, 3, 4, 5, 6])\n",
    "draw(minBinTreeDemo.root, titleTex='[1, 2, 3, 4, 5, 6]')"
   ]
  },
  {
   "cell_type": "markdown",
   "metadata": {},
   "source": [
    "### 2.4.3 最小堆实现\n",
    "\n",
    "初始化：使用一个列表表示，列表第一个元素使用零占位，堆从第二个位置开始存放。初始化时使用一个整数记录当前堆的大小。序号为 `x` 的节点其父节点序号为: `x // 2`, 左子节点序号: `x * 2`, 右子节点: `x * 2 + 1`"
   ]
  },
  {
   "cell_type": "code",
   "execution_count": 24,
   "metadata": {},
   "outputs": [],
   "source": [
    "class minBinHeap():\n",
    "    def __init__(self):\n",
    "        self.heapLis = [None]\n",
    "        self.currentSize = 0"
   ]
  },
  {
   "cell_type": "markdown",
   "metadata": {},
   "source": [
    "`insert(k)`: 添加新项到堆。过程为先将项附加到列表尾部，再比较其与父节点大小，如果其键大于父节点的键则与父节点交换，重复此过程直到满足堆的排序属性"
   ]
  },
  {
   "cell_type": "code",
   "execution_count": 25,
   "metadata": {},
   "outputs": [],
   "source": [
    "def insert(self, k):\n",
    "    self.heapLis.append(k)\n",
    "    self.currentSize += 1\n",
    "\n",
    "    current = self.currentSize\n",
    "\n",
    "    while (current >> 1) != 0:\n",
    "        parent = current >> 1\n",
    "        if self.heapLis[current] < self.heapLis[parent]:\n",
    "            self.heapLis[current], self.heapLis[parent] = self.heapLis[parent], self.heapLis[current]\n",
    "        else:\n",
    "            break\n",
    "        current = parent\n",
    "\n",
    "\n",
    "minBinHeap.insert = insert"
   ]
  },
  {
   "cell_type": "code",
   "execution_count": 26,
   "metadata": {},
   "outputs": [
    {
     "data": {
      "image/png": "[encoded data removed]",
      "text/plain": [
       "<Figure size 432x288 with 1 Axes>"
      ]
     },
     "metadata": {},
     "output_type": "display_data"
    }
   ],
   "source": [
    "testMinHeap = minBinHeap()\n",
    "testMinHeap.insert(5)\n",
    "testMinHeap.insert(4)\n",
    "testMinHeap.insert(3)\n",
    "testMinHeap.insert(2)\n",
    "testMinHeap.insert(1)\n",
    "testMinHeap.insert(0)\n",
    "tmpTree = completeBinaryTree()\n",
    "tmpTree.appendLis(testMinHeap.heapLis[1:])\n",
    "draw(tmpTree.root, titleTex=f'{testMinHeap.heapLis[1:]}')"
   ]
  },
  {
   "cell_type": "markdown",
   "metadata": {},
   "source": [
    "`delMin()`: 返回并删除最小项。过程为：最小项在根节点，故移除根节点，并将最后一个项放于最小项的位置这样恢复了堆的结构属性，然后再从根项开始向下调整以恢复排序属性。"
   ]
  },
  {
   "cell_type": "code",
   "execution_count": 23,
   "metadata": {},
   "outputs": [
    {
     "data": {
      "text/plain": [
       "0"
      ]
     },
     "execution_count": 23,
     "metadata": {},
     "output_type": "execute_result"
    },
    {
     "data": {
      "text/plain": [
       "1"
      ]
     },
     "execution_count": 23,
     "metadata": {},
     "output_type": "execute_result"
    },
    {
     "data": {
      "image/png": "[encoded data removed]",
      "text/plain": [
       "<Figure size 432x288 with 1 Axes>"
      ]
     },
     "metadata": {},
     "output_type": "display_data"
    },
    {
     "data": {
      "image/png": "[encoded data removed]",
      "text/plain": [
       "<Figure size 432x288 with 1 Axes>"
      ]
     },
     "metadata": {},
     "output_type": "display_data"
    }
   ],
   "source": [
    "def delMin(self):\n",
    "    minVal = self.heapLis[1]\n",
    "\n",
    "    self.heapLis[1] = self.heapLis.pop()\n",
    "    self.currentSize -= 1\n",
    "\n",
    "    current = 1\n",
    "\n",
    "    while (current << 1) <= self.currentSize:\n",
    "        leftChild = current << 1\n",
    "        rightChild = leftChild + 1\n",
    "\n",
    "        # 判断是否有子节点为空，即判断子节点序号是否大于长度\n",
    "        if leftChild > self.currentSize:\n",
    "            # 左节点为空，则说明已无子节点\n",
    "            break\n",
    "        elif rightChild > self.currentSize:\n",
    "            minChild = leftChild\n",
    "        else:\n",
    "            # 找出左右子节点中小的节点\n",
    "            if self.heapLis[leftChild] > self.heapLis[rightChild]:\n",
    "                minChild = rightChild\n",
    "            else:\n",
    "                minChild = leftChild\n",
    "\n",
    "        if self.heapLis[minChild] < self.heapLis[current]:\n",
    "            self.heapLis[minChild], self.heapLis[current] = self.heapLis[current], self.heapLis[minChild]\n",
    "        else:\n",
    "            break\n",
    "\n",
    "        current = minChild\n",
    "\n",
    "    return minVal\n",
    "\n",
    "\n",
    "minBinHeap.delMin = delMin\n",
    "testMinHeap.delMin()\n",
    "tmpTree = completeBinaryTree()\n",
    "tmpTree.appendLis(testMinHeap.heapLis[1:])\n",
    "draw(tmpTree.root, titleTex=f'{testMinHeap.heapLis[1:]}')\n",
    "\n",
    "minBinHeap.delMin = delMin\n",
    "testMinHeap.delMin()\n",
    "tmpTree = completeBinaryTree()\n",
    "tmpTree.appendLis(testMinHeap.heapLis[1:])\n",
    "draw(tmpTree.root, titleTex=f'{testMinHeap.heapLis[1:]}')"
   ]
  },
  {
   "cell_type": "markdown",
   "metadata": {},
   "source": [
    "## 2.5 二叉查找树"
   ]
  },
  {
   "cell_type": "code",
   "execution_count": null,
   "metadata": {},
   "outputs": [],
   "source": []
  }
 ],
 "metadata": {
  "kernelspec": {
   "display_name": "Python 3",
   "language": "python",
   "name": "python3"
  },
  "language_info": {
   "codemirror_mode": {
    "name": "ipython",
    "version": 3
   },
   "file_extension": ".py",
   "mimetype": "text/x-python",
   "name": "python",
   "nbconvert_exporter": "python",
   "pygments_lexer": "ipython3",
   "version": "3.6.7"
  }
 },
 "nbformat": 4,
 "nbformat_minor": 4
}
