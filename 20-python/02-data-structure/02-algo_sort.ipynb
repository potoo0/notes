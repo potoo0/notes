{
 "cells": [
  {
   "cell_type": "code",
   "execution_count": 1,
   "metadata": {},
   "outputs": [],
   "source": [
    "from IPython.core.interactiveshell import InteractiveShell\n",
    "InteractiveShell.ast_node_interactivity = 'all'"
   ]
  },
  {
   "cell_type": "markdown",
   "metadata": {},
   "source": [
    "## 1. 排序算法\n",
    "\n",
    "Sorting algorithm，将一串数据按照某种顺序排列的算法。"
   ]
  },
  {
   "cell_type": "markdown",
   "metadata": {},
   "source": [
    "### 1.0 排序算法的稳定性\n",
    "\n",
    "**稳定排序算法会让原本有相等键值的纪录维持相对次序**.\n",
    "\n",
    "如: `(4, 1) (3, 1) (3, 2)`  \n",
    "稳定排序: `(3, 1) (3, 2) (4, 1)`  \n",
    "不稳定排序: `(3, 2) (3, 1) (4, 1)`"
   ]
  },
  {
   "cell_type": "markdown",
   "metadata": {
    "toc-hr-collapsed": true
   },
   "source": [
    "### 1.1 冒泡排序\n",
    "\n",
    "Bubble sort: 重复遍历数组，依次比较两个元素，按照升序或者降序交换它们。  \n",
    "下面均默认为升序排序。"
   ]
  },
  {
   "cell_type": "markdown",
   "metadata": {},
   "source": [
    "#### 1.1.1 算法流程\n",
    "升序为例:  \n",
    "1. 比较相邻元素，如果第一个大于第二个，则交换；\n",
    "2. 对每一对相邻元素进行一遍，完成后会将最大的元素放至数组末尾；\n",
    "3. 重复以上过程，对上步中末尾已经放至的元素跳过；\n",
    "4. 持续每次对越来越少的元素重复上面过程(每次代比较元素减一)，直到只剩一个。"
   ]
  },
  {
   "cell_type": "markdown",
   "metadata": {},
   "source": [
    "#### 1.1.2 分析与实现\n",
    "\n",
    "分析：  \n",
    "1. `*1, 5*, 6, 4` -> `1, *5, 6*, 4` -> `1, 5, *4, 6*` : `1, 5, 4, '6'`\n",
    "2. `*1, 5*, 4, '6'` -> `1, *5, 4*, '6'` : `1, 4, '5, 6'`\n",
    "3. `*1, 4*, '5, 6'` : `1, '4, 5, 6'`\n",
    "\n",
    "需要两层循环，第一层循环 n-1 次，循环变量 ii 从 n-1 至 1 每次少一，  \n",
    "第二层循环 ii 次，循环变量 jj, 每次比较 jj 和 jj+1"
   ]
  },
  {
   "cell_type": "code",
   "execution_count": 3,
   "metadata": {},
   "outputs": [
    {
     "data": {
      "text/plain": [
       "[0, 1, 2, 4, 8]"
      ]
     },
     "execution_count": 3,
     "metadata": {},
     "output_type": "execute_result"
    }
   ],
   "source": [
    "def bubbleSort(alist: list) -> list:\n",
    "    for sortNum in range(len(alist) - 1, 0, -1):\n",
    "        for pos in range(sortNum):\n",
    "            if alist[pos] > alist[pos + 1]:\n",
    "                alist[pos], alist[pos + 1] = alist[pos + 1], alist[pos]\n",
    "    return alist\n",
    "\n",
    "\n",
    "testLis = [1, 4, 8, 2, 0]\n",
    "bubbleSort(testLis)\n"
   ]
  },
  {
   "cell_type": "markdown",
   "metadata": {},
   "source": [
    "#### 1.1.3 时间复杂度\n",
    "\n",
    "需要交换次数为等差数列: $n-1, n-2, n-3, ..., 1$，总次数为 $\\frac{n(n-1)}{2}$，时间复杂度 O(n^2)  \n",
    "在下面优化版冒泡-短冒泡排序下，最好时间复杂度 O(n) (遍历一次发现列表已排序就终止)，最坏是 O(n^2)"
   ]
  },
  {
   "cell_type": "markdown",
   "metadata": {},
   "source": [
    "#### 1.1.4 冒泡优化-短冒泡\n",
    "\n",
    "短冒泡排序：遍历期间判断列表有没有交换，如果没有交换就停止排序算法"
   ]
  },
  {
   "cell_type": "code",
   "execution_count": 2,
   "metadata": {},
   "outputs": [
    {
     "data": {
      "text/plain": [
       "[0, 1, 2, 4, 8]"
      ]
     },
     "execution_count": 2,
     "metadata": {},
     "output_type": "execute_result"
    },
    {
     "name": "stdout",
     "output_type": "stream",
     "text": [
      "sorted list, terminate.\n"
     ]
    },
    {
     "data": {
      "text/plain": [
       "[1, 2, 3]"
      ]
     },
     "execution_count": 2,
     "metadata": {},
     "output_type": "execute_result"
    },
    {
     "name": "stdout",
     "output_type": "stream",
     "text": [
      "sorted list, terminate.\n"
     ]
    },
    {
     "data": {
      "text/plain": [
       "[1, 2, 3]"
      ]
     },
     "execution_count": 2,
     "metadata": {},
     "output_type": "execute_result"
    }
   ],
   "source": [
    "def shortBubble(alist: list) -> list:\n",
    "    exchanged = True\n",
    "    for sortNum in range(len(alist) - 1, 0, -1):\n",
    "        exchanged = False\n",
    "        for pos in range(sortNum):\n",
    "            if alist[pos] > alist[pos + 1]:\n",
    "                alist[pos], alist[pos + 1] = alist[pos + 1], alist[pos]\n",
    "                exchanged = True\n",
    "        if not exchanged:\n",
    "            print('sorted list, terminate.')\n",
    "            break\n",
    "    return alist\n",
    "\n",
    "\n",
    "testLis = [1, 4, 8, 2, 0]\n",
    "shortBubble(testLis)\n",
    "testLis = [1, 2, 3]\n",
    "shortBubble(testLis)\n",
    "testLis = [2, 1, 3]\n",
    "shortBubble(testLis)"
   ]
  },
  {
   "cell_type": "markdown",
   "metadata": {
    "toc-hr-collapsed": false
   },
   "source": [
    "### 1.2 选择排序\n",
    "\n",
    "Selection sort: 选择最小（或最大）与序列首位元素交换，然后重复选择与已排序序列末尾元素交换。不稳定排序\n",
    "\n",
    "相比冒泡排序，选择排序的优点是减少了元素交换次数，其元素交换次数最差为 `n-1`"
   ]
  },
  {
   "cell_type": "markdown",
   "metadata": {},
   "source": [
    "#### 1.2.1 算法流程\n",
    "\n",
    "升序（最小元素放置首位）:\n",
    "1. 遍历元素，找出最小元素\n",
    "2. 最小元素与当前位置元素交换\n",
    "3. 当前位置移动到下一位置，重复过程"
   ]
  },
  {
   "cell_type": "markdown",
   "metadata": {},
   "source": [
    "#### 1.2.2 分析与实现\n",
    "\n",
    "分析：  \n",
    "1. `1, 5, 6, 4` 从第一个开始寻找最小值，发现为 1，已经在首位，无须交换: `'1', 5, 4, 6`\n",
    "2. `'1', 5, 4, 6` 从第二个开始寻找最小值，发现为 4，与第二个元素交换: `'1', '4', 5, 6`\n",
    "3. `'1', '4', 5, 6` 从第三个开始寻找最小值，发现为 5，位置正确无须交换，结束"
   ]
  },
  {
   "cell_type": "code",
   "execution_count": 5,
   "metadata": {},
   "outputs": [
    {
     "data": {
      "text/plain": [
       "[0, 1, 2, 4, 8]"
      ]
     },
     "execution_count": 5,
     "metadata": {},
     "output_type": "execute_result"
    }
   ],
   "source": [
    "def selectionSort(alist: list) -> list:\n",
    "    lenLis = len(alist)\n",
    "    for cur in range(lenLis - 1):\n",
    "        minIndex = cur\n",
    "        for pos in range(cur + 1, lenLis):\n",
    "            if alist[pos] < alist[minIndex]:\n",
    "                minIndex = pos\n",
    "        if minIndex != cur:\n",
    "            alist[cur], alist[minIndex] = alist[minIndex], alist[cur]\n",
    "    return alist\n",
    "\n",
    "\n",
    "testLis = [1, 4, 8, 2, 0]\n",
    "selectionSort(testLis)"
   ]
  },
  {
   "cell_type": "markdown",
   "metadata": {},
   "source": [
    "#### 1.2.3 时间复杂度\n",
    "\n",
    "**O(n^2)**，**交换次数 n-1**"
   ]
  },
  {
   "cell_type": "markdown",
   "metadata": {},
   "source": [
    "### 1.3 插入排序\n",
    "\n",
    "Insertion sort: 列表前端维护一个已排序序列子序列，将其后的元素安装顺序插入已排序序列，插入前已排序序列通过移位提供空位。\n",
    "\n",
    "相比选择排序，区别是插入排序是使用移位取代交换，通常移位仅需一次分配，仅仅需要交换 1/3 性能"
   ]
  },
  {
   "cell_type": "markdown",
   "metadata": {},
   "source": [
    "#### 1.3.1 算法流程\n",
    "\n",
    "升序（最小元素放置首位）:\n",
    "1. 假设首元素已排序，保存下一位元素的值\n",
    "2. 与已排序子序列末尾开始比较，小于时，已排序序列对应元素后移\n",
    "3. 直到不小于子序列当前位置的值时停止移动，并将值放置其后\n",
    "4. 重复过程直到元素全部排序。"
   ]
  },
  {
   "cell_type": "markdown",
   "metadata": {},
   "source": [
    "#### 1.3.2 分析与实现\n",
    "\n",
    "分析：  \n",
    "1. `1, 5, 6, 4` 维护已排序子序列 1，保存 5: `'1', 5, 4, 6: bak=5`，保存的 5 不小于子序列的 1，无须移动，完成第二个元素排序: `'1, 5', 4, 6`\n",
    "2. `'1, 5', 4, 6: bak=4` 保存 4，保存的 4 小于子序列的 5，5后移: `'1, 5, 5', 6` -> 保存的 4 不小于子序列的 1，停止移动，4 放至 1 后，完成第三: `'1, 4, 5', 6`\n",
    "3. `'1, 4, 5', 6: bak=6` ..."
   ]
  },
  {
   "cell_type": "code",
   "execution_count": 1,
   "metadata": {},
   "outputs": [
    {
     "data": {
      "text/plain": [
       "[0, 1, 2, 4, 8]"
      ]
     },
     "execution_count": 1,
     "metadata": {},
     "output_type": "execute_result"
    }
   ],
   "source": [
    "def insertionSort(alist: list) -> list:\n",
    "    for cur in range(1, len(alist)):\n",
    "        currentVal = alist[cur]\n",
    "        pos = cur\n",
    "        while pos > 0 and currentVal < alist[pos - 1]:\n",
    "            # 推荐使用 pos > 0，0 是 cur 的起始值(1) 减去 gap(1)\n",
    "            alist[pos] = alist[pos - 1]  # duplicate assignment when ordered list\n",
    "            pos -= 1\n",
    "        alist[pos] = currentVal  # duplicate assignment when ordered list\n",
    "\n",
    "    return alist\n",
    "\n",
    "\n",
    "testLis = [1, 4, 8, 2, 0]\n",
    "insertionSort(testLis)\n"
   ]
  },
  {
   "cell_type": "markdown",
   "metadata": {},
   "source": [
    "#### 1.3.3 时间复杂度\n",
    "\n",
    "**O(n^2)**"
   ]
  },
  {
   "cell_type": "markdown",
   "metadata": {},
   "source": [
    "### 1.4 希尔排序\n",
    "\n",
    "Shell sort: 插入排序的改进，也称缩小增量排序。通过将原始列表分解成多个小的子列表，每个子列表使用插入排序进行排序，分解的子列表在原列表中的位置有相同的增量 (gap)。非稳定排序。增量的选择方式为 n/2, n/2/2,...。如果增量恒为一，那就是插入排序。\n",
    "\n",
    "与插入排序的区别：希尔排序缩小了移位的次数，其每次都会使列表“更有序”。"
   ]
  },
  {
   "cell_type": "markdown",
   "metadata": {},
   "source": [
    "#### 1.4.1 算法流程\n",
    "\n",
    "1. 起始增量 len/2，如果子列表长度大于一就进行插入排序\n",
    "2. 增量 len/2/2，重复以上，增量为一后再进行插入排序。"
   ]
  },
  {
   "cell_type": "markdown",
   "metadata": {},
   "source": [
    "#### 1.4.2 分析与实现\n",
    "\n",
    "分析（升序）:\n",
    "1. `3, 1, 6, 4, 2, 5, 7`: gap=7//2=3, 分组为: `3_1, 1_2, 6_3, 4_1, 2_2, 5_3, 7_1` --> 进行插入排序 --> `3, 1, 5, 4, 2, 6, 7`\n",
    "2. `3, 1, 5, 4, 2, 6, 7`: gap=7//2//2=1，简单插入排序。\n",
    "\n",
    "实现："
   ]
  },
  {
   "cell_type": "code",
   "execution_count": 2,
   "metadata": {},
   "outputs": [
    {
     "data": {
      "text/plain": [
       "[4, 3, 1, 2, 5]"
      ]
     },
     "execution_count": 2,
     "metadata": {},
     "output_type": "execute_result"
    }
   ],
   "source": [
    "def gapInsertSort(alist: list, start: int = 0, gap: int = 1) -> list:\n",
    "    for cur in range(start + gap, len(alist), gap):\n",
    "        currentVal = alist[cur]\n",
    "        pos = cur\n",
    "\n",
    "        while pos > start and currentVal < alist[pos - gap]:\n",
    "            '''推荐使用 pos > start 而不使用 pos >= gap，否则下面例子得不到预期结果，\n",
    "            即 pos 小于 cur 起始值减去 gap 。\n",
    "            pos > start: 仅对 start 位置之后的位置满足的排序。\n",
    "            如: [4, 3, 2, 1, 5]: start = 2, gap = 1:\n",
    "            pos > start: res = [4, 3, 1, 2, 5].\n",
    "            '''\n",
    "            alist[pos] = alist[pos - gap]\n",
    "            pos -= gap\n",
    "        \n",
    "        alist[pos] = currentVal\n",
    "\n",
    "    return alist\n",
    "            \n",
    "\n",
    "# gapInsertSort 测试\n",
    "testGapInsert_1 = [0, 3, 5, 1, 4]\n",
    "gapInsertSort(testGapInsert_1, start=0, gap=2)\n",
    "testGapInsert_2 = [5, 3, 4, 1, 0]\n",
    "gapInsertSort(testGapInsert_2, start=0, gap=2)\n",
    "\n",
    "testGapInsert_3 = [0, 1, 5, 3, 4]\n",
    "gapInsertSort(testGapInsert_3, start=1, gap=2)\n",
    "testGapInsert_4 = [0, 3, 5, 1, 4]\n",
    "gapInsertSort(testGapInsert_4, start=1, gap=2)\n",
    "\n",
    "testGapInsert_5 = [4, 3, 2, 1, 5]\n",
    "gapInsertSort(testGapInsert_5, start=2, gap=1)"
   ]
  },
  {
   "cell_type": "code",
   "execution_count": 3,
   "metadata": {},
   "outputs": [
    {
     "data": {
      "text/plain": [
       "[17, 20, 26, 31, 44, 54, 55, 77, 93]"
      ]
     },
     "execution_count": 3,
     "metadata": {},
     "output_type": "execute_result"
    }
   ],
   "source": [
    "def shellSort(alist: list) -> list:\n",
    "    gap = len(alist) // 2\n",
    "    while gap >= 1:\n",
    "        for startPos in range(gap):\n",
    "            gapInsertSort(alist, startPos, gap)\n",
    "        # print('After increment of size:', gap, ', and res: ', alist)\n",
    "        gap = gap // 2\n",
    "\n",
    "    return alist\n",
    "\n",
    "\n",
    "testLis = [54,26,93,17,77,31,44,55,20]\n",
    "shellSort(testLis)\n"
   ]
  },
  {
   "cell_type": "markdown",
   "metadata": {},
   "source": [
    "#### 1.4.3 时间复杂度\n",
    "\n",
    "平均时间复杂度 $O(nlogn)$ ~ $O(n^2)$，最差 $O(n^{1.3})$，最好 $O(n^2)$。  \n",
    "大多数情况其数据交换次数少与插入排序。"
   ]
  },
  {
   "cell_type": "markdown",
   "metadata": {},
   "source": [
    "### 1.5 快速排序\n",
    "\n",
    "Quick sort: 快速排序使用分而治之来获得与归并排序相同的优点，而不使用额外的存储。但是快速排序如果列表**不能均衡划分列表时性能较差**。"
   ]
  },
  {
   "cell_type": "markdown",
   "metadata": {},
   "source": [
    "#### 1.5.1 算法流程\n",
    "\n",
    "快速排序首先选择一个值，该值称为枢轴值。选择枢轴值的方法很多，此处使用列表中的第一项。枢轴值的作用是帮助拆分列表。枢轴值属于最终排序列表（通常称为拆分点）的实际位置，将用于将列表划分为快速排序的后续调用。  \n",
    "分区从通过在列表中剩余项目的开始和结束处定位两个位置标记（左右标记），其收敛于分裂点。左右标记相向移动，直到**左标记处值大于枢轴值，右标记处值小于枢轴值，此时交换标记处的值（即标记处的值等于枢纽值时继续向下）**。直到左右标记交叉，此时交换右标记处与枢轴值，将左边与右边的区域再进行上述过程。"
   ]
  },
  {
   "cell_type": "markdown",
   "metadata": {},
   "source": [
    "#### 1.5.2 分析与实现\n",
    "\n",
    "分析（升序）:\n",
    "1. 1 `3, 1, 6, 4, 2, 5, 7`: splitpoint=3,  \n",
    "  left=1, right=7: left=1<3->left=6<3False.stop. right=7>3->right=5>3->right=2False.stop. leftPos(2)<=rightPos(4): exchange 6 and 2, --> `3, 1, 2, 4, 6, 5, 7`  \n",
    "  left=2, right=6: ->left=4<3False, right=4>3->right=2>3False, found leftPos(3)>rightPos(2), stop. exchange splitpoint and right.  --> `2, 1, 3, 4, 6, 5, 7`\n",
    "2. 2.1 `2, 1`: splitpoint=2,  \n",
    "  left=1, right=1: left=1<2->leftpos=2.found leftPos(2)>rightPos(1), stop. right=1<2False.stop. found leftPos(2)>rightPos(1), exchange exchange splitpoint and right. --> `1, 2`\n",
    "3. 2.2 `4, 6, 5, 7`: splitpoint=4,  \n",
    "  left=6, right=7: left=6<4False.stop. right=7>4->right=5>4->right6>4->rightPos=0, found leftPos(1)>rightPos(0), stop. exchange exchange splitpoint and right(splitPos=rightPos=0). \n",
    "4. 2.2.1 `6, 5, 7`: splitpoint=6,  \n",
    "  left=5, right=7: left=5<6->left=7<6.False.stop. right=7>6->right=5>6False.stop. found leftPos(2)>rightPos(1): exchange splitpoint and right. --> `5, 6, 7`\n",
    "\n",
    "实现："
   ]
  },
  {
   "cell_type": "code",
   "execution_count": 4,
   "metadata": {},
   "outputs": [
    {
     "name": "stdout",
     "output_type": "stream",
     "text": [
      "[1, 2, 3, 4, 5, 6, 7]\n"
     ]
    }
   ],
   "source": [
    "def quickSort(alist):\n",
    "    quickSortImple(alist, 0, len(alist) - 1)\n",
    "\n",
    "\n",
    "def quickSortImple(alist, start, end):\n",
    "    if start >= end:\n",
    "        return\n",
    "    pivotVal = alist[start]  # pivot: 枢。存储枢纽值用于下面比较\n",
    "\n",
    "    # 左右标记位置\n",
    "    leftPos = start + 1\n",
    "    rightPos = end\n",
    "    # print(f'leftPos: {leftPos}, rightPos: {rightPos}', end='')  # debug\n",
    "\n",
    "    # 循环用于寻找枢纽值正确位置--rightPos，\n",
    "    # 其停止标志：leftPos > rightPos，即两个标志交叉--枢纽值正确位置已找到\n",
    "    done = False\n",
    "    while not done:\n",
    "        # 左标记向右，进行条件：标记未交叉或标记值小于等于枢纽值\n",
    "        while leftPos <= rightPos and alist[leftPos] <= pivotVal:\n",
    "            leftPos += 1\n",
    "        # 右标记向左，进行条件：标记未交叉或标记值大于等于枢纽值\n",
    "        while leftPos <= rightPos and alist[rightPos] >= pivotVal:\n",
    "            rightPos -= 1\n",
    "\n",
    "        if leftPos > rightPos:\n",
    "            # 两个标志交叉--枢纽值正确位置已找到，停止寻找\n",
    "            done = True\n",
    "        else:\n",
    "            # 未找到枢纽值位置，说明左右标记处值应该互换，使左右标记继续进行\n",
    "            alist[leftPos], alist[rightPos] = alist[rightPos], alist[leftPos]\n",
    "    # 枢纽值正确位置就是右标记位置，互换这两值\n",
    "    alist[rightPos], alist[start] = alist[start], alist[rightPos]\n",
    "    # print(f'  pos: {rightPos}  alist: {alist}')  # debug\n",
    "\n",
    "    # 通过迭代对枢纽值正确位置左边和右边进行排序\n",
    "    # 左边排序\n",
    "    quickSortImple(alist, start=start, end=rightPos - 1)\n",
    "    # 右边排序\n",
    "    quickSortImple(alist, start=rightPos + 1, end=end)\n",
    "\n",
    "\n",
    "testLis = [3, 1, 6, 4, 2, 5, 7]\n",
    "# testLis = [6, 5, 6, 6, 8, 0]\n",
    "quickSort(testLis)\n",
    "print(testLis)\n"
   ]
  },
  {
   "cell_type": "markdown",
   "metadata": {},
   "source": [
    "#### 1.5.3 时间复杂度\n",
    "\n",
    "排序过程中不需要额外空间，但是使用了递归调用来实现，所以空间复杂度等于递归深度 logn。  \n",
    "最好情况下，如果分区总是出现在列表中间，则会再次出现 logn 分区，为了找到分割点需要针对枢纽值对 n 个项均检查一次。故总的时间复杂度是 nlogn。（logn 的底数与实际分割份数有关，此处是从枢纽值分为两份，故其底数是 2。但是在实际中不讨论底数，就同对 n^2 不讨论系数一样。）  \n",
    "最坏情况下，分区总是在两端，此时时间复杂度为 n^2。\n",
    "\n",
    "**改进**：可以通过在算法中引入随机性，使得算法对所有输入都能获得较好的期望性能。比如我们随机地选择pivot，这样上述的最坏情况就很难发生。方式是在每次排序前将枢纽值与分区某元素交换一次。"
   ]
  },
  {
   "cell_type": "markdown",
   "metadata": {},
   "source": [
    "### 1.6 归并排序\n",
    "\n",
    "Merge sort: 也是分而治之。不断地将列表拆为一半，直到列表为空或者只有一项，则按照定义进行排序。如果列表有多个项，则进行分割并对两个部分进行合并。合并是将两个较小的部分组合新列表的过程。"
   ]
  },
  {
   "cell_type": "markdown",
   "metadata": {},
   "source": [
    "#### 1.6.1 算法流程\n",
    "\n",
    "\n"
   ]
  },
  {
   "cell_type": "markdown",
   "metadata": {},
   "source": [
    "#### 1.6.2 分析与实现\n",
    "\n",
    "分析（升序）:\n",
    "1. `3, 1, 6, 4, 2, 5, 7`:.  \n",
    "  分割: `3, 1, 6`, `4, 2, 5, 7` -> `3`, `1, 6`, `4, 2`, `5, 7` -> `3`, `1`, `6`, `4`, `2`, `5`, `7`\n",
    "2. 合并: `3`, `1, 6`, `2, 4`, `5, 7` -> `1, 3, 6`, `2, 4, 5, 7` -> `1, 2, 3, 4, 5, 6, 7`。合并时需要两个指针，分别指向两个部分的首元素，然后比较大小，取小元素放入结果列表并后移此指针。直到两部分全部遍历（如果一个部分剩余为空，那么停止指针后移，将剩余元素直接放于结果了列表）。\n",
    "\n",
    "实现："
   ]
  },
  {
   "cell_type": "code",
   "execution_count": 15,
   "metadata": {},
   "outputs": [
    {
     "name": "stdout",
     "output_type": "stream",
     "text": [
      "[1, 2, 3, 4, 5, 6, 7]\n"
     ]
    }
   ],
   "source": [
    "def mergeSort(alist):\n",
    "    lisLen = len(alist)\n",
    "    if lisLen <= 1:\n",
    "        return None\n",
    "    # split\n",
    "    mid = lisLen // 2\n",
    "    lefthalf = alist[:mid]\n",
    "    righthalf = alist[mid:]\n",
    "\n",
    "    # recursive\n",
    "    mergeSort(lefthalf)\n",
    "    mergeSort(righthalf)\n",
    "\n",
    "    # merge\n",
    "    leftPos = 0\n",
    "    rightPos = 0\n",
    "    resPos = 0\n",
    "    while leftPos < len(lefthalf) and rightPos < len(righthalf):\n",
    "        if lefthalf[leftPos] < righthalf[rightPos]:\n",
    "            alist[resPos] = lefthalf[leftPos]\n",
    "            leftPos += 1\n",
    "        else:\n",
    "            alist[resPos] = righthalf[rightPos]\n",
    "            rightPos += 1\n",
    "        resPos += 1\n",
    "\n",
    "    while leftPos < len(lefthalf):\n",
    "        alist[resPos] = lefthalf[leftPos]\n",
    "        leftPos += 1\n",
    "        resPos += 1\n",
    "\n",
    "    while rightPos < len(righthalf):\n",
    "        alist[resPos] = righthalf[rightPos]\n",
    "        rightPos += 1\n",
    "        resPos += 1\n",
    "\n",
    "\n",
    "testLis = [3, 1, 6, 4, 2, 5, 7]\n",
    "# testLis = [6, 5, 6, 6, 8, 0]\n",
    "mergeSort(testLis)\n",
    "print(testLis)\n"
   ]
  },
  {
   "cell_type": "markdown",
   "metadata": {},
   "source": [
    "#### 1.6.3 复杂度"
   ]
  },
  {
   "cell_type": "markdown",
   "metadata": {},
   "source": [
    "空间复杂度: 排序过程中需要将列表不断分割并合成新子列表，此过程需要占用等长度的辅助空间，因此其空间复杂度为 O(n)  \n",
    "时间复杂度: 列表需要分割 logn 次，故合并 n 个元素需要 nlogn。（但是python中列表切片时间复杂度是 O(k)，因此需要优化切片）"
   ]
  },
  {
   "cell_type": "markdown",
   "metadata": {},
   "source": [
    "### 排序算法总结\n",
    "\n",
    "| 排序方法 | 平均时间复杂度 | 最好情况 | 最坏情况 | 辅助空间 | 稳定性 |\n",
    "| :--: | :--: | :--: | :--: | :--: | :--: |\n",
    "| **冒泡(BubbleSort)** | $O(n^2)$ | $O(n)$ | $O(n^2)$ | $O(1)$ | 稳定 |\n",
    "| **选择(SelectionSort)** | $O(n^2)$ | $O(n^2)$ | $O(n^2)$ | $O(1)$ | 不稳定 |\n",
    "| **插入(InsertionSort)** | $O(n^2)$ | $O(n)$ | $O(n^2)$ | $O(1)$ | 稳定 |\n",
    "| **希尔(ShellSort)** | $O(nlogn)$~$O(n^2)$ | $O(n^{1.3})$ | $O(n^2)$ | $O(1)$ | 不稳定 |\n",
    "| **堆(HeapSort)** | $O(nlogn)$ | $O(nlogn)$ | $O(nlogn)$ | $O(1)$ | 不稳定 |\n",
    "| **归并(MergeSort)** | $O(nlogn)$ | $O(nlogn)$ | $O(nlogn)$ | $O(n)$ | 稳定 |\n",
    "| **快速(QuickSort)** | $O(nlogn)$ | $O(nlogn)$ | $O(n^2)$ | $O(logn)$~$O(n)$ | 不稳定 |"
   ]
  },
  {
   "cell_type": "code",
   "execution_count": 18,
   "metadata": {},
   "outputs": [
    {
     "name": "stderr",
     "output_type": "stream",
     "text": [
      "test_bubbleSort (__main__.testSortAlgo) ... ok\n",
      "test_insertionSort (__main__.testSortAlgo) ... ok\n",
      "test_mergeSort (__main__.testSortAlgo) ... ok\n",
      "test_quickSort (__main__.testSortAlgo) ... ok\n",
      "test_selectionSort (__main__.testSortAlgo) ... ok\n",
      "test_shellSort (__main__.testSortAlgo) ... ok\n",
      "\n",
      "----------------------------------------------------------------------\n",
      "Ran 6 tests in 0.011s\n",
      "\n",
      "OK\n"
     ]
    },
    {
     "data": {
      "text/plain": [
       "<unittest.main.TestProgram at 0x7f5ff142f6a0>"
      ]
     },
     "execution_count": 18,
     "metadata": {},
     "output_type": "execute_result"
    }
   ],
   "source": [
    "import unittest\n",
    "import copy\n",
    "# from sortAlgo import *\n",
    "\n",
    "\n",
    "class testSortAlgo(unittest.TestCase):\n",
    "    def setUp(self):\n",
    "        self.inputList = [[3, 1, 6, 4, 2, 5, 7],\n",
    "                          [5, 6, 0, 6, 6, 8, 2]]\n",
    "\n",
    "    @staticmethod\n",
    "    def verify(alist):\n",
    "        index = 0\n",
    "        lenLis = len(alist)\n",
    "        ascendOrdered = True\n",
    "        while index < lenLis - 1 and ascendOrdered:\n",
    "            if alist[index] > alist[index + 1]:\n",
    "                ascendOrdered = False\n",
    "            index += 1\n",
    "        return ascendOrdered\n",
    "\n",
    "    def test_bubbleSort(self):\n",
    "        inputList = copy.deepcopy(self.inputList)\n",
    "        list(map(bubbleSort, inputList))\n",
    "        ordered = list(map(self.verify, inputList))\n",
    "        self.assertEqual(ordered, [True, True])\n",
    "\n",
    "    def test_selectionSort(self):\n",
    "        inputList = copy.deepcopy(self.inputList)\n",
    "        list(map(selectionSort, inputList))\n",
    "        ordered = list(map(self.verify, inputList))\n",
    "        self.assertEqual(ordered, [True, True])\n",
    "\n",
    "    def test_insertionSort(self):\n",
    "        inputList = copy.deepcopy(self.inputList)\n",
    "        list(map(insertionSort, inputList))\n",
    "        ordered = list(map(self.verify, inputList))\n",
    "        self.assertEqual(ordered, [True, True])\n",
    "\n",
    "    def test_shellSort(self):\n",
    "        inputList = copy.deepcopy(self.inputList)\n",
    "        list(map(shellSort, inputList))\n",
    "        ordered = list(map(self.verify, inputList))\n",
    "        self.assertEqual(ordered, [True, True])\n",
    "\n",
    "    def test_quickSort(self):\n",
    "        inputList = copy.deepcopy(self.inputList)\n",
    "        list(map(quickSort, inputList))\n",
    "        ordered = list(map(self.verify, inputList))\n",
    "        self.assertEqual(ordered, [True, True])\n",
    "\n",
    "    def test_mergeSort(self):\n",
    "        inputList = copy.deepcopy(self.inputList)\n",
    "        list(map(mergeSort, inputList))\n",
    "        ordered = list(map(self.verify, inputList))\n",
    "        self.assertEqual(ordered, [True, True])\n",
    "\n",
    "\n",
    "# unittest.main()\n",
    "unittest.main(argv=['ignored', '-v'], exit=False)\n",
    "# for jupyter notebook/lab\n"
   ]
  },
  {
   "cell_type": "code",
   "execution_count": 1,
   "metadata": {},
   "outputs": [
    {
     "data": {
      "text/plain": [
       "1"
      ]
     },
     "execution_count": 1,
     "metadata": {},
     "output_type": "execute_result"
    }
   ],
   "source": [
    "0 and 2 or 1 or 4"
   ]
  },
  {
   "cell_type": "code",
   "execution_count": 2,
   "metadata": {},
   "outputs": [
    {
     "data": {
      "text/plain": [
       "[1, 8, 66]"
      ]
     },
     "execution_count": 2,
     "metadata": {},
     "output_type": "execute_result"
    }
   ],
   "source": [
    "b=[1,8]\n",
    "a=b\n",
    "b.append(66)\n",
    "a\n",
    "    "
   ]
  },
  {
   "cell_type": "code",
   "execution_count": null,
   "metadata": {},
   "outputs": [],
   "source": []
  },
  {
   "cell_type": "code",
   "execution_count": null,
   "metadata": {},
   "outputs": [],
   "source": []
  }
 ],
 "metadata": {
  "kernelspec": {
   "display_name": "Python 3",
   "language": "python",
   "name": "python3"
  },
  "language_info": {
   "codemirror_mode": {
    "name": "ipython",
    "version": 3
   },
   "file_extension": ".py",
   "mimetype": "text/x-python",
   "name": "python",
   "nbconvert_exporter": "python",
   "pygments_lexer": "ipython3",
   "version": "3.6.7"
  },
  "toc-autonumbering": false,
  "toc-showcode": false,
  "toc-showmarkdowntxt": false,
  "toc-showtags": false
 },
 "nbformat": 4,
 "nbformat_minor": 4
}
