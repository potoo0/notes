{
 "cells": [
  {
   "cell_type": "code",
   "execution_count": 1,
   "metadata": {},
   "outputs": [],
   "source": [
    "from IPython.core.interactiveshell import InteractiveShell\n",
    "InteractiveShell.ast_node_interactivity = 'all'\n",
    "\n",
    "import pysnooper\n",
    "from typing import List"
   ]
  },
  {
   "cell_type": "markdown",
   "metadata": {},
   "source": [
    "https://leetcode-cn.com/problemset/all/?search=898\n",
    "\n",
    "https://space.bilibili.com/9880352/video?tid=36&page=9&keyword=&order=pubdate"
   ]
  },
  {
   "cell_type": "code",
   "execution_count": null,
   "metadata": {},
   "outputs": [],
   "source": []
  },
  {
   "cell_type": "markdown",
   "metadata": {},
   "source": [
    "## 88. 55. 跳跃游戏"
   ]
  },
  {
   "cell_type": "code",
   "execution_count": 26,
   "metadata": {},
   "outputs": [],
   "source": [
    "# 1. 动态规划: 从后向前考虑 O(n^2), O(n)\n",
    "class Solution:\n",
    "    def canJump(self, nums: List[int]) -> bool:\n",
    "        maxIndex = len(nums) - 1\n",
    "        dp = [False] * (maxIndex + 1)\n",
    "        dp[maxIndex] = True\n",
    "        for i in range(maxIndex - 1, -1, -1):\n",
    "            for j in range(i + 1, min(i + nums[i], maxIndex) + 1):\n",
    "                dp[i] = dp[i] or dp[j]\n",
    "        return dp[0]\n",
    "\n",
    "    def __call__(self, *args):\n",
    "        return self.canJump(*args)\n",
    "\n",
    "\n",
    "assert Solution()([2, 3, 1, 1, 4]) == True\n",
    "assert Solution()([3, 2, 1, 0, 4]) == False\n"
   ]
  },
  {
   "cell_type": "code",
   "execution_count": null,
   "metadata": {},
   "outputs": [],
   "source": [
    "# 2. 贪心: 从后向前 O(n), O(1)\n",
    "class Solution:\n",
    "    def canJump(self, nums: List[int]) -> bool:\n",
    "        maxIndex = len(nums) - 1\n",
    "        start = maxIndex - 1\n",
    "        end = maxIndex\n",
    "        while start <= end and start >= 0:\n",
    "            if start + nums[start] >= end:\n",
    "                end = start\n",
    "            start -= 1\n",
    "        return end <= 0\n",
    "\n",
    "    def __call__(self, *args):\n",
    "        return self.canJump(*args)\n",
    "\n",
    "\n",
    "assert Solution()([2, 3, 1, 1, 4]) == True\n",
    "assert Solution()([3, 2, 1, 0, 4]) == False"
   ]
  },
  {
   "cell_type": "code",
   "execution_count": 27,
   "metadata": {},
   "outputs": [],
   "source": [
    "# 3. 贪心: 从前向后 O(n), O(1)\n",
    "class Solution:\n",
    "    def canJump(self, nums: List[int]) -> bool:\n",
    "        maxIndex = len(nums) - 1\n",
    "        start = 0\n",
    "        end = 0\n",
    "        while start <= end and end < maxIndex:\n",
    "            end = max(nums[start] + start, end)\n",
    "            start += 1\n",
    "        return end >= maxIndex\n",
    "\n",
    "    def __call__(self, *args):\n",
    "        return self.canJump(*args)\n",
    "\n",
    "\n",
    "assert Solution()([2, 3, 1, 1, 4]) == True\n",
    "assert Solution()([3, 2, 1, 0, 4]) == False\n"
   ]
  },
  {
   "cell_type": "markdown",
   "metadata": {},
   "source": [
    "## 89. 45. 跳跃游戏 II"
   ]
  },
  {
   "cell_type": "code",
   "execution_count": null,
   "metadata": {},
   "outputs": [],
   "source": [
    "# 1. 贪心，从后向前\n",
    "class Solution:\n",
    "    def jump(self, nums: List[int]) -> int:\n",
    "        maxIndex = len(nums) - 1\n",
    "        start = maxIndex - 1\n",
    "        end = maxIndex\n",
    "        cnt = 0\n",
    "        while start <= end and start >= 0:\n",
    "            if start + nums[start] >= end:\n",
    "                end = \n",
    "\n",
    "    def __call__(self, *args):\n",
    "        return self.canJump(*args)\n"
   ]
  },
  {
   "cell_type": "code",
   "execution_count": null,
   "metadata": {},
   "outputs": [],
   "source": []
  },
  {
   "cell_type": "code",
   "execution_count": null,
   "metadata": {},
   "outputs": [],
   "source": []
  },
  {
   "cell_type": "markdown",
   "metadata": {},
   "source": [
    "## 4. 898. 子数组按位或操作\n",
    "leetcode: [898. 子数组按位或操作](https://leetcode-cn.com/problems/bitwise-ors-of-subarrays/): 我们有一个非负整数数组 A。对于每个（连续的）子数组 B = [A[i], A[i+1], ..., A[j]] （ i <= j），我们对 B 中的每个元素进行按位或操作，获得结果 A[i] | A[i+1] | ... | A[j]。返回可能结果的数量。 （多次出现的结果在最终答案中仅计算一次。）\n",
    "\n",
    "\n",
    "思路：  \n",
    "- 常规解法：两层产生连续子数组并计算位与。使用二维的 dp。dp[i][j] 表示以 i 开始 j 为尾的子序列的位与结果，将位与结果放于集合中。时间空间均为 O(n ^ 2)\n",
    "- 优化空间：由于每次位与结果已经放于集合中，所以 dp 就不需要保存上次结果，将 dp 下降到一维。空间复杂度为 O(n)\n"
   ]
  },
  {
   "cell_type": "code",
   "execution_count": 7,
   "metadata": {},
   "outputs": [
    {
     "data": {
      "text/plain": [
       "3"
      ]
     },
     "execution_count": 7,
     "metadata": {},
     "output_type": "execute_result"
    }
   ],
   "source": [
    "class Solution:\n",
    "    def subarrayBitwiseORsNor(self, A: List[int]) -> int:\n",
    "        # 检查输入\n",
    "        if not A:\n",
    "            return 0\n",
    "\n",
    "        # 初始化\n",
    "        length = len(A)\n",
    "        dp = [[0 for _ in range(length)] for _ in range(length)]\n",
    "        dpSet = set()\n",
    "\n",
    "        for ii in range(length):\n",
    "            for jj in range(ii, length):\n",
    "                if ii == jj:\n",
    "                    dp[ii][jj] = A[ii]\n",
    "                else:\n",
    "                    dp[ii][jj] = dp[ii][jj - 1] | A[jj]\n",
    "                dpSet.add(dp[ii][jj])\n",
    "\n",
    "        return len(dpSet)\n",
    "\n",
    "    def subarrayBitwiseORsOptSpace(self, A: List[int]) -> int:\n",
    "        # 检查输入\n",
    "        if not A:\n",
    "            return 0\n",
    "\n",
    "        # 初始化\n",
    "        length = len(A)\n",
    "        dp = [0] * length\n",
    "        dpSet = set()\n",
    "\n",
    "        for ii in range(length):\n",
    "            for jj in range(ii, length):\n",
    "                if ii == jj:\n",
    "                    dp[ii] = A[ii]\n",
    "                else:\n",
    "                    dp[ii] |= A[jj]\n",
    "                dpSet.add(dp[ii])\n",
    "\n",
    "        return len(dpSet)\n",
    "\n",
    "    def subarrayBitwiseORs(self, A: List[int]) -> int:\n",
    "        # 检查输入\n",
    "        if not A:\n",
    "            return 0\n",
    "\n",
    "        # 初始化\n",
    "        tmpSet = set()  # 存储上次的 bitwise OR 的集合\n",
    "        ansSet = set()  # 存储结果\n",
    "\n",
    "        # O(n * 32)\n",
    "        for num in A:\n",
    "            tmpSet = {member | num for member in tmpSet}\n",
    "            tmpSet.add(num)  # set 自带方法性能最好\n",
    "            ansSet.update(tmpSet)  # set 自带方法性能最好\n",
    "\n",
    "        return len(ansSet)\n",
    "\n",
    "    def __call__(self, *args):\n",
    "        return self.subarrayBitwiseORs(*args)\n",
    "\n",
    "\n",
    "Solution()([1, 1, 2])\n"
   ]
  },
  {
   "cell_type": "markdown",
   "metadata": {},
   "source": [
    "## 3. 1218. 最长定差子序列\n",
    "leetcode: [1218. 最长定差子序列](https://leetcode-cn.com/problems/longest-arithmetic-subsequence-of-given-difference)：给你一个整数数组 arr 和一个整数 difference，请你找出 arr 中所有相邻元素之间的差等于给定 difference 的等差子序列，并返回其中最长的等差子序列的长度。\n",
    "\n",
    "思路：\n",
    "dp/dict(hashtable): 数组的元素做字典的键，字典的值存储当前数字元素对应的等差数列的长度。每次迭代时检查字典中当前元素的等差数列的上个元素是否存在，并同时记录 max 的值。需要注意的是：由于是检查等差数列的上个元素，所以应该是减公差。"
   ]
  },
  {
   "cell_type": "code",
   "execution_count": 5,
   "metadata": {},
   "outputs": [
    {
     "data": {
      "text/plain": [
       "4"
      ]
     },
     "execution_count": 5,
     "metadata": {},
     "output_type": "execute_result"
    }
   ],
   "source": [
    "class Solution:\n",
    "    #@pysnooper.snoop(watch=('dpDict', 'maxSubSeq'))\n",
    "    def longestSubsequence(self, arr: List[int], difference: int) -> int:\n",
    "        # 检查输入\n",
    "        if not arr:\n",
    "            return None\n",
    "\n",
    "        # 初始化\n",
    "        dpDict = {}\n",
    "        maxSubSeq = 1\n",
    "        \n",
    "        # key: 数组元素，value: 当前等差数列长度\n",
    "        # 需要注意的是：此处应是 减公差。\n",
    "        for num in arr:\n",
    "            dpDict[num] = dpDict.get(num - difference, 0) + 1\n",
    "            if dpDict[num] > maxSubSeq:\n",
    "                maxSubSeq = dpDict[num]\n",
    "\n",
    "        return maxSubSeq\n",
    "\n",
    "    def __call__(self, *args):\n",
    "        return self.longestSubsequence(*args)\n",
    "\n",
    "\n",
    "Solution()([1, 5, 7, 8, 5, 3, 4, 2, 1], -2)\n"
   ]
  },
  {
   "cell_type": "markdown",
   "metadata": {},
   "source": [
    "## 2. 打家劫舍\n",
    "### 2.1 打家劫舍 1\n",
    "leetcode [198](https://leetcode-cn.com/problems/house-robber/): 如果两间相邻的房屋在同一晚上被小偷闯入，系统会自动报警。计算在不触动警报装置的情况下，能够偷窃到的最高金额。\n",
    "\n",
    "思路：子问题：求依次到每个房间的最大值。"
   ]
  },
  {
   "cell_type": "code",
   "execution_count": 6,
   "metadata": {},
   "outputs": [
    {
     "data": {
      "text/plain": [
       "1"
      ]
     },
     "execution_count": 6,
     "metadata": {},
     "output_type": "execute_result"
    }
   ],
   "source": [
    "class Solution:\n",
    "    def rob(self, nums: List[int]) -> int:\n",
    "        # 检查输入\n",
    "        if not nums:\n",
    "            return 0\n",
    "\n",
    "        # 边界\n",
    "        if len(nums) == 1:\n",
    "            return nums[0]\n",
    "\n",
    "        # 初始化\n",
    "        length = len(nums)\n",
    "        dp = [0] * length\n",
    "        dp[0] = nums[0]\n",
    "        dp[1] = max(dp[0], nums[1])\n",
    "\n",
    "        # 存储依次到每个房间的最大值\n",
    "        for index in range(2, length):\n",
    "            A = dp[index - 2] + nums[index]\n",
    "            B = dp[index - 1]\n",
    "            dp[index] = max(A, B)\n",
    "        return dp[length - 1]\n",
    "\n",
    "    def __call__(self, *args):\n",
    "        return self.rob(*args)\n",
    "\n",
    "\n",
    "Solution()([1, 1])\n"
   ]
  },
  {
   "cell_type": "code",
   "execution_count": null,
   "metadata": {},
   "outputs": [],
   "source": []
  },
  {
   "cell_type": "code",
   "execution_count": null,
   "metadata": {},
   "outputs": [],
   "source": []
  },
  {
   "cell_type": "markdown",
   "metadata": {},
   "source": [
    "### 2.2 打家劫舍 2\n",
    "leetcode [xxx]():\n",
    "### 2.3 打家劫舍 3\n",
    "leetcode [37]():"
   ]
  },
  {
   "cell_type": "code",
   "execution_count": null,
   "metadata": {},
   "outputs": [],
   "source": []
  },
  {
   "cell_type": "code",
   "execution_count": null,
   "metadata": {},
   "outputs": [],
   "source": []
  },
  {
   "cell_type": "code",
   "execution_count": null,
   "metadata": {},
   "outputs": [],
   "source": []
  },
  {
   "cell_type": "markdown",
   "metadata": {},
   "source": [
    "## 1. 三角形最小路径\n",
    "leetcode: [120](https://leetcode-cn.com/problems/triangle/)：给定一个三角形，找出自顶向下的最小路径和。每一步只能移动到下一行中相邻的结点上。第 N 行有 N 个数字。\n",
    "\n",
    "思路：  \n",
    "从下到上求解，只需使用 O(n) 的额外空间，保存最后一次的最小路径。到第一层时仅有一个元素，则返回此第一个元素即可。"
   ]
  },
  {
   "cell_type": "code",
   "execution_count": 8,
   "metadata": {},
   "outputs": [
    {
     "data": {
      "text/plain": [
       "11"
      ]
     },
     "execution_count": 8,
     "metadata": {},
     "output_type": "execute_result"
    }
   ],
   "source": [
    "class Solution:\n",
    "    def minimumTotal(self, triangle: List[List[int]]) -> int:\n",
    "        # 检查输入\n",
    "        if not triangle:\n",
    "            return None\n",
    "        if len(triangle) == 1:\n",
    "            return triangle[0][0]\n",
    "\n",
    "        # 从下往上，解空间初始化时直接拿最后一层的值即可\n",
    "        f = triangle[-1]\n",
    "\n",
    "        # 从下往上求解\n",
    "        for row in range(len(triangle) - 2, -1, -1):\n",
    "            for col in range(0, row + 1):\n",
    "                f[col] = min(f[col], f[col + 1]) + triangle[row][col]\n",
    "\n",
    "        return f[0]\n",
    "    \n",
    "    def __call__(self, *args):\n",
    "        return self.minimumTotal(*args)\n",
    "\n",
    "\n",
    "testTriangle = [[2], [3, 4], [6, 5, 7], [4, 1, 8, 3]]\n",
    "Solution()(testTriangle)\n"
   ]
  },
  {
   "cell_type": "code",
   "execution_count": null,
   "metadata": {},
   "outputs": [],
   "source": []
  }
 ],
 "metadata": {
  "kernelspec": {
   "display_name": "Python 3",
   "language": "python",
   "name": "python3"
  },
  "language_info": {
   "codemirror_mode": {
    "name": "ipython",
    "version": 3
   },
   "file_extension": ".py",
   "mimetype": "text/x-python",
   "name": "python",
   "nbconvert_exporter": "python",
   "pygments_lexer": "ipython3",
   "version": "3.6.8"
  }
 },
 "nbformat": 4,
 "nbformat_minor": 4
}
