{
 "cells": [
  {
   "cell_type": "code",
   "execution_count": 2,
   "metadata": {},
   "outputs": [],
   "source": [
    "from IPython.core.interactiveshell import InteractiveShell\n",
    "InteractiveShell.ast_node_interactivity = 'all'\n",
    "\n",
    "import pysnooper\n",
    "from typing import List"
   ]
  },
  {
   "cell_type": "markdown",
   "metadata": {},
   "source": [
    "https://leetcode-cn.com/problemset/all/?search=898  LFU: 460  LRU: 146\n",
    "\n",
    "https://space.bilibili.com/9880352/video?tid=36&page=9&keyword=&order=pubdate"
   ]
  },
  {
   "cell_type": "code",
   "execution_count": null,
   "metadata": {},
   "outputs": [],
   "source": []
  },
  {
   "cell_type": "code",
   "execution_count": null,
   "metadata": {},
   "outputs": [],
   "source": []
  },
  {
   "cell_type": "markdown",
   "metadata": {},
   "source": [
    "## 1. 894. 所有可能的满二叉树\n",
    "\n",
    "leetcode: [894. 所有可能的满二叉树](https://leetcode-cn.com/problems/all-possible-full-binary-trees/): 满二叉树是一类二叉树，其中每个结点恰好有 0 或 2 个子结点。返回包含 N 个结点的所有可能满二叉树的列表。 答案的每个元素都是一个可能树的根结点。答案中每个树的每个结点都必须有 node.val=0。你可以按任何顺序返回树的最终列表。\n",
    "\n",
    "思路：\n",
    "由于是满二叉树，所以其总节点数量应该是奇数。"
   ]
  },
  {
   "cell_type": "code",
   "execution_count": 6,
   "metadata": {},
   "outputs": [
    {
     "data": {
      "text/plain": [
       "[<__main__.TreeNode at 0x7f4f31479ba8>,\n",
       " <__main__.TreeNode at 0x7f4f31479ba8>,\n",
       " <__main__.TreeNode at 0x7f4f31479ba8>,\n",
       " <__main__.TreeNode at 0x7f4f31479ba8>,\n",
       " <__main__.TreeNode at 0x7f4f31479ba8>]"
      ]
     },
     "execution_count": 6,
     "metadata": {},
     "output_type": "execute_result"
    }
   ],
   "source": [
    "# Definition for a binary tree node.\n",
    "class TreeNode:\n",
    "    def __init__(self, x):\n",
    "        self.val = x\n",
    "        self.left = None\n",
    "        self.right = None\n",
    "\n",
    "\n",
    "class Solution:\n",
    "    def allPossibleFBT(self, N: int) -> List[TreeNode]:\n",
    "        # 检查输入\n",
    "        if N % 2 == 0:\n",
    "            return None\n",
    "        root = TreeNode(0)\n",
    "        if N == 1:\n",
    "            return [root]\n",
    "        ansLis = []\n",
    "        for i in range(1, N, 2):\n",
    "            for leftNode in self.allPossibleFBT(i):\n",
    "                for rightNode in self.allPossibleFBT(N - i - 1):\n",
    "                    root.left = leftNode\n",
    "                    root.right = rightNode\n",
    "                    ansLis.append(root)\n",
    "        return ansLis\n",
    "\n",
    "    def __call__(self, *args):\n",
    "        return self.allPossibleFBT(*args)\n",
    "\n",
    "\n",
    "Solution()(7)"
   ]
  },
  {
   "cell_type": "code",
   "execution_count": null,
   "metadata": {},
   "outputs": [],
   "source": []
  }
 ],
 "metadata": {
  "kernelspec": {
   "display_name": "Python 3",
   "language": "python",
   "name": "python3"
  },
  "language_info": {
   "codemirror_mode": {
    "name": "ipython",
    "version": 3
   },
   "file_extension": ".py",
   "mimetype": "text/x-python",
   "name": "python",
   "nbconvert_exporter": "python",
   "pygments_lexer": "ipython3",
   "version": "3.6.7"
  }
 },
 "nbformat": 4,
 "nbformat_minor": 4
}
