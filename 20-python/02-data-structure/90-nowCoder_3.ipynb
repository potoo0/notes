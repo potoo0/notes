{
 "cells": [
  {
   "cell_type": "code",
   "execution_count": 1,
   "metadata": {},
   "outputs": [
    {
     "data": {
      "image/png": "[encoded data removed]",
      "text/plain": [
       "<Figure size 432x288 with 1 Axes>"
      ]
     },
     "metadata": {},
     "output_type": "display_data"
    }
   ],
   "source": [
    "import warnings\n",
    "import matplotlib.pyplot as plt\n",
    "import networkx as nx\n",
    "import pysnooper\n",
    "from IPython.core.interactiveshell import InteractiveShell\n",
    "InteractiveShell.ast_node_interactivity = 'all'\n",
    "\n",
    "\n",
    "warnings.filterwarnings('ignore')\n",
    "\n",
    "%matplotlib inline\n",
    "\n",
    "\n",
    "class TreeNode:\n",
    "    def __init__(self, x):\n",
    "        self.val = x\n",
    "        self.left = None\n",
    "        self.right = None\n",
    "\n",
    "\n",
    "class completeBinaryTree():\n",
    "    def __init__(self):\n",
    "        self.root = None\n",
    "\n",
    "    def append(self, item):\n",
    "        newNode = TreeNode(item)\n",
    "        if self.root is None:\n",
    "            self.root = newNode\n",
    "        else:\n",
    "            queue = [self.root]  # 列表模拟队列\n",
    "            while queue:\n",
    "                curNode = queue.pop(0)\n",
    "                if curNode.left is None:\n",
    "                    curNode.left = newNode\n",
    "                    return\n",
    "                elif curNode.right is None:\n",
    "                    curNode.right = newNode\n",
    "                    return\n",
    "                else:\n",
    "                    queue.append(curNode.left)\n",
    "                    queue.append(curNode.right)\n",
    "\n",
    "    def appendLis(self, lis):\n",
    "        ''' 批量添加节点 '''\n",
    "        list(map(self.append, lis))\n",
    "\n",
    "    def _create_graph(self, G, node, pos={}, x=0, y=0, layer=1, lastLKey='', lastRKey=''):\n",
    "        uniqueK = self._uniqueKey(str(node.val), pos)\n",
    "        pos[uniqueK] = (x, y)\n",
    "        if node.left:\n",
    "            G.add_edge(uniqueK, self._uniqueKey(str(node.left.val), pos))\n",
    "            l_x, l_y = x - 1 / 2 ** layer, y - 1\n",
    "            l_layer = layer + 1\n",
    "            self._create_graph(G, node.left, x=l_x, y=l_y,\n",
    "                               pos=pos, layer=l_layer)\n",
    "        if node.right:\n",
    "            G.add_edge(uniqueK, self._uniqueKey(str(node.right.val), pos))\n",
    "            r_x, r_y = x + 1 / 2 ** layer, y - 1\n",
    "            r_layer = layer + 1\n",
    "            self._create_graph(G, node.right, x=r_x, y=r_y,\n",
    "                               pos=pos, layer=r_layer)\n",
    "        return (G, pos)\n",
    "\n",
    "    def _uniqueKey(self, key, pos):\n",
    "        add2left = True\n",
    "        while key in pos:\n",
    "            changed = True\n",
    "            if add2left:\n",
    "                key = ' ' + key\n",
    "            else:\n",
    "                key = key + ' '\n",
    "            add2left = not add2left\n",
    "        return key\n",
    "\n",
    "    def draw(self, titleTex=''):\n",
    "        ''' 以 node 为根可视化二叉树树 '''\n",
    "        graph = nx.DiGraph()\n",
    "        graph, pos = self._create_graph(graph, self.root)\n",
    "        fig, ax = plt.subplots()  # 比例可以根据树的深度适当调节\n",
    "        if titleTex:\n",
    "            fig.suptitle(titleTex)\n",
    "        nx.draw_networkx(\n",
    "            graph, pos,\n",
    "            ax=ax,\n",
    "            node_size=500, node_color='#bae6f4', alpha=0.6,\n",
    "            font_color='#DC143C', font_weight='bold'\n",
    "        )\n",
    "\n",
    "\n",
    "tree = completeBinaryTree()\n",
    "tree.appendLis([8, 8, 7, 9, 3, '#', '#', '#', '#', 4, 7])\n",
    "tree.draw()\n"
   ]
  },
  {
   "cell_type": "code",
   "execution_count": 42,
   "metadata": {},
   "outputs": [
    {
     "data": {
      "text/plain": [
       "'8 '"
      ]
     },
     "execution_count": 42,
     "metadata": {},
     "output_type": "execute_result"
    }
   ],
   "source": [
    "str(8) + ' '"
   ]
  },
  {
   "cell_type": "code",
   "execution_count": 31,
   "metadata": {},
   "outputs": [],
   "source": [
    "add2left = True\n",
    "add2left = not add2left"
   ]
  },
  {
   "cell_type": "code",
   "execution_count": 32,
   "metadata": {},
   "outputs": [
    {
     "data": {
      "text/plain": [
       "False"
      ]
     },
     "execution_count": 32,
     "metadata": {},
     "output_type": "execute_result"
    }
   ],
   "source": [
    "add2left"
   ]
  },
  {
   "cell_type": "code",
   "execution_count": 33,
   "metadata": {},
   "outputs": [
    {
     "data": {
      "text/plain": [
       "True"
      ]
     },
     "execution_count": 33,
     "metadata": {},
     "output_type": "execute_result"
    }
   ],
   "source": [
    "add2left = not add2left\n",
    "add2left"
   ]
  },
  {
   "cell_type": "code",
   "execution_count": null,
   "metadata": {},
   "outputs": [],
   "source": []
  },
  {
   "cell_type": "code",
   "execution_count": null,
   "metadata": {},
   "outputs": [],
   "source": []
  },
  {
   "cell_type": "markdown",
   "metadata": {},
   "source": [
    "## 2. 树的子结构\n",
    "牛客网：[树的子结构](https://www.nowcoder.com/practice/6e196c44c7004d15b1610b9afca8bd88?tpId=13&tqId=11170&rp=1&ru=%2Fta%2Fcoding-interviews&qru=%2Fta%2Fcoding-interviews%2Fquestion-ranking&tPage=1): 输入两棵二叉树A，B，判断B是不是A的子结构。（ps：我们约定空树不是任意一个树的子结构）\n",
    "\n",
    "思路：树 A 先广度优先遍历，直到某个节点与 B 头节点相同。此时 A 与 B 一同广度优先遍历。"
   ]
  },
  {
   "cell_type": "code",
   "execution_count": 2,
   "metadata": {},
   "outputs": [],
   "source": [
    "class Solution:\n",
    "    def HasSubtree(self, pRoot1, pRoot2):\n",
    "        # write code here\n",
    "        def equalVal(root1, root2):\n",
    "            if not root2:\n",
    "                return True\n",
    "            if not root1:\n",
    "                return False\n",
    "            if root1.val == root2.val:\n",
    "                if root2.left:\n",
    "                    leftEqual = equalVal(root1.left, root2.left)\n",
    "                else:\n",
    "                    leftEqual = True\n",
    "                if root2.right:\n",
    "                    rightEqual = equalVal(root1.right, root2.right)\n",
    "                else:\n",
    "                    rightEqual = True\n",
    "                return leftEqual and rightEqual\n",
    "            return False\n",
    "\n",
    "        # 检查输入\n",
    "        if not (pRoot1 and pRoot2):\n",
    "            return False\n",
    "\n",
    "        queue = [pRoot1]\n",
    "        while queue:\n",
    "            node = queue.pop(0)\n",
    "            if node.val == pRoot2.val:\n",
    "                if equalVal(node, pRoot2):\n",
    "                    return True\n",
    "            if node.left:\n",
    "                queue.append(node.left)\n",
    "            if node.right:\n",
    "                queue.append(node.right)\n",
    "        return False\n"
   ]
  },
  {
   "cell_type": "code",
   "execution_count": null,
   "metadata": {},
   "outputs": [],
   "source": []
  },
  {
   "cell_type": "markdown",
   "metadata": {},
   "source": [
    "## 1. 最小的k个数\n",
    "\n",
    "牛客网：[最小的k个数](https://www.nowcoder.com/practice/6a296eb82cf844ca8539b57c23e6e9bf?tpId=13&tqId=11182&rp=1&ru=%2Fta%2Fcoding-interviews&qru=%2Fta%2Fcoding-interviews%2Fquestion-ranking&tPage=2): 输入n个整数，找出其中最小的K个数。例如输入4,5,1,6,2,7,3,8这8个数字，则最小的4个数字是1,2,3,4,。\n",
    "\n",
    "思路：先构建最大堆，构建完成后的数与堆顶比较"
   ]
  },
  {
   "cell_type": "code",
   "execution_count": 38,
   "metadata": {},
   "outputs": [
    {
     "data": {
      "text/plain": [
       "[1, 2]"
      ]
     },
     "execution_count": 38,
     "metadata": {},
     "output_type": "execute_result"
    }
   ],
   "source": [
    "# -*- coding:utf-8 -*-\n",
    "class Solution:\n",
    "    @classmethod\n",
    "    def GetLeastNumbers_Solution(self, tinput, k):\n",
    "        # write code here\n",
    "\n",
    "        # 检查输入\n",
    "        if not tinput or len(tinput) < k or k < 1:\n",
    "            return []\n",
    "\n",
    "        # 构建最大堆\n",
    "        binHeapLis = [None, ]\n",
    "        # heapSize = 0\n",
    "\n",
    "        def insert2Heap(binHeapLis, key):\n",
    "            binHeapLis.append(key)\n",
    "            heapSize = len(binHeapLis) - 1\n",
    "\n",
    "            current = heapSize\n",
    "            while (current >> 1) != 0:\n",
    "                parent = current >> 1\n",
    "                if binHeapLis[current] > binHeapLis[parent]:\n",
    "                    binHeapLis[current], binHeapLis[parent] = binHeapLis[parent], binHeapLis[current]\n",
    "                else:\n",
    "                    break\n",
    "                current = parent\n",
    "        #@pysnooper.snoop(watch=('binHeapLis', 'current', 'heapSize', 'maxChild'))\n",
    "        def adjustHeap(binHeapLis):\n",
    "            current = 1\n",
    "            heapSize = len(binHeapLis) - 1\n",
    "            maxChild = None\n",
    "\n",
    "            while (current << 1) <= heapSize:\n",
    "                leftChild = current << 1\n",
    "                rightChild = leftChild + 1\n",
    "\n",
    "                # 判断是否超界, 循环已经判断了左子节点，此处不需再判\n",
    "                if rightChild > heapSize:\n",
    "                    maxChild = leftChild\n",
    "                else:\n",
    "                    # 找出大的子节点\n",
    "                    if binHeapLis[leftChild] < binHeapLis[rightChild]:\n",
    "                        maxChild = rightChild\n",
    "                    else:\n",
    "                        maxChild = leftChild\n",
    "\n",
    "                # 当前节点与大的子节点比较\n",
    "                if binHeapLis[current] < binHeapLis[maxChild]:\n",
    "                    binHeapLis[current], binHeapLis[maxChild] = binHeapLis[maxChild], binHeapLis[current]\n",
    "                else:\n",
    "                    break\n",
    "\n",
    "                current = maxChild\n",
    "\n",
    "        for index, num in enumerate(tinput):\n",
    "            if index + 1 <= k:\n",
    "                insert2Heap(binHeapLis, num)\n",
    "            else:\n",
    "                if num < binHeapLis[1]:\n",
    "                    binHeapLis[1] = num\n",
    "                    adjustHeap(binHeapLis)\n",
    "\n",
    "        return sorted(binHeapLis[1:])\n",
    "\n",
    "\n",
    "Solution.GetLeastNumbers_Solution([4, 5, 1, 6, 2, 7, 2, 8], 2)\n"
   ]
  },
  {
   "cell_type": "code",
   "execution_count": null,
   "metadata": {},
   "outputs": [],
   "source": []
  },
  {
   "cell_type": "code",
   "execution_count": null,
   "metadata": {},
   "outputs": [],
   "source": []
  }
 ],
 "metadata": {
  "kernelspec": {
   "display_name": "Python 3",
   "language": "python",
   "name": "python3"
  },
  "language_info": {
   "codemirror_mode": {
    "name": "ipython",
    "version": 3
   },
   "file_extension": ".py",
   "mimetype": "text/x-python",
   "name": "python",
   "nbconvert_exporter": "python",
   "pygments_lexer": "ipython3",
   "version": "3.6.7"
  }
 },
 "nbformat": 4,
 "nbformat_minor": 4
}
