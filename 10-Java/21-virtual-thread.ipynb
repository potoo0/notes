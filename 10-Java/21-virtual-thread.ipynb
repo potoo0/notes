{
 "cells": [
  {
   "cell_type": "code",
   "execution_count": 1,
   "id": "0a60913b-126e-4145-9ee8-654f1569d6c6",
   "metadata": {
    "tags": []
   },
   "outputs": [
    {
     "name": "stdout",
     "output_type": "stream",
     "text": [
      "WARNING: sun.reflect.Reflection.getCallerClass is not supported. This will impact performance.\n",
      "2023-04-26 17:17:15.894 [IJava-executor-0] DEBUG test-jshell-log - --------------- test-jshell-log debug ------------------\n",
      "2023-04-26 17:17:15.898 [IJava-executor-0] ERROR test-jshell-log - --------------- test-jshell-log error ------------------\n",
      "2023-04-26 17:17:15.901 [IJava-executor-0] INFO  test-jshell-log - log to file: /var/log/jshell/jshell-20230426_171715.390.log\n"
     ]
    },
    {
     "data": {
      "text/plain": [
       "\u001b[36mSystem.getProperty(\"java.version...\u001b[0m: 20.0.1"
      ]
     },
     "execution_count": 1,
     "metadata": {},
     "output_type": "execute_result"
    }
   ],
   "source": [
    "System.getProperty(\"java.version\")"
   ]
  },
  {
   "cell_type": "code",
   "execution_count": 2,
   "id": "13bbd43d-a613-433c-b7d0-8c247bd424ca",
   "metadata": {
    "tags": []
   },
   "outputs": [],
   "source": [
    "// System.getProperty(\"jdk.virtualThreadScheduler.parallelism\")"
   ]
  },
  {
   "cell_type": "code",
   "execution_count": 8,
   "id": "2cdd981d-c6d9-48e0-9e36-437a053ede8a",
   "metadata": {
    "tags": []
   },
   "outputs": [
    {
     "data": {
      "text/plain": [
       "\u001b[36mSystem.setProperty(\"jdk.virtualT...\u001b[0m: 1"
      ]
     },
     "execution_count": 8,
     "metadata": {},
     "output_type": "execute_result"
    }
   ],
   "source": [
    "// 限制虚拟线程的平台线程为一个，方便下面查看 synchronized 锁的缺点\n",
    "System.setProperty(\"jdk.virtualThreadScheduler.parallelism\", \"1\");\n",
    "System.setProperty(\"jdk.virtualThreadScheduler.maxPoolSize\", \"1\");"
   ]
  },
  {
   "cell_type": "markdown",
   "id": "104cb1e6-2200-468f-80da-4b4e03edcca3",
   "metadata": {},
   "source": [
    "## 1. base intro\n",
    "\n",
    "compare:\n",
    "- Platform thread:\n",
    "    - 创建和启动时间 ms 级别；\n",
    "    - jdk8 下需要 1MB 以上的 stack 内存;\n",
    "    - 与 OS 线程是一对一；\n",
    "    - 由 os 调度；\n",
    "- Virtual thread:\n",
    "    - 创建和启动时间 ns 级别；\n",
    "    - stack 内存动态伸缩；\n",
    "    - 使用一个特殊的 Platform thread 线程池（ForkJoinPool 的 FIFO 模式）来调度，称为 carrier threads；\n",
    "    - 由 jvm 调度，jdk 重写了阻塞，阻塞时最终会调用 `VirtualThread.park`，从 carrier threads 上卸载(`synchronized` 的阻塞是汇编实现，所以 VT 无法调度，最终会直接阻塞 carrier threads)\n",
    "\n",
    "[Virtual thread 的调度线程相关参数](https://docs.oracle.com/en/java/javase/19/docs/api/java.base/java/lang/Thread.html#inheritance):\n",
    "- `jdk.virtualThreadScheduler.parallelism`: Platform thread 数量，默认为处理器核数；\n",
    "- `jdk.virtualThreadScheduler.maxPoolSize`: 最大 Platform thread 数量，默认为 256\n",
    "\n",
    "使用时注意:\n",
    "- 虚拟线程 仅适合 io密集型，与 Fork Join 互补;\n",
    "- 虚拟线程 速度不会比 Platform thread 快，因为其调度在 Platform thread 之上；\n",
    "- 虚拟线程 中加锁尽量不使用 `synchronized`，因为其会阻塞底层的 Platform thread；\n",
    "- 虚拟线程 不可复用，所以不要使用线程池，为兼容旧的池化写法，使用 `Thread.ofVirtual().factory()` 或者直接使用 `Executors.newVirtualThreadPerTaskExecutor()`，其每个任务会新创建虚拟线程；\n",
    "- 虚拟线程 下使用 ThreadLocal 要注意，由于虚拟线程不复用数量大，每次创建 ThreadLocal 对象会非常耗费资源"
   ]
  },
  {
   "cell_type": "markdown",
   "id": "bc4406c5-7bbc-4fbb-b685-b4bff04a8c85",
   "metadata": {
    "jp-MarkdownHeadingCollapsed": true,
    "tags": []
   },
   "source": [
    "### 1.1 quick start"
   ]
  },
  {
   "cell_type": "code",
   "execution_count": 4,
   "id": "52b0d1a0-6dbf-4e6f-847c-ee007e00023a",
   "metadata": {
    "tags": []
   },
   "outputs": [
    {
     "name": "stdout",
     "output_type": "stream",
     "text": [
      "platform Thread[#28,platform-0,5,main]\n",
      "virtual VirtualThread[#29,virtual-0]/runnable@ForkJoinPool-1-worker-1\n"
     ]
    }
   ],
   "source": [
    "// platform thread\n",
    "var pthread = Thread.ofPlatform()\n",
    "        .name(\"platform-\", 0)\n",
    "        .start(() -> {\n",
    "            System.out.println(\"platform \" + Thread.currentThread());\n",
    "        });\n",
    "pthread.join();\n",
    "\n",
    "// virtual thread\n",
    "var vthread = Thread.ofVirtual()\n",
    "        .name(\"virtual-\", 0)\n",
    "        .start(() -> {\n",
    "            System.out.println(\"virtual \" + Thread.currentThread());\n",
    "        });\n",
    "vthread.join();"
   ]
  },
  {
   "cell_type": "code",
   "execution_count": 9,
   "id": "894c1fed-31f5-4c53-947e-a09e3ab6cfea",
   "metadata": {
    "tags": []
   },
   "outputs": [
    {
     "name": "stdout",
     "output_type": "stream",
     "text": [
      "VirtualThread[#232,vt-  0]/runnable@ForkJoinPool-1-worker-2\n",
      "VirtualThread[#233,vt-  1]/runnable@ForkJoinPool-1-worker-2\n",
      "VirtualThread[#234,vt-  2]/runnable@ForkJoinPool-1-worker-2\n",
      "VirtualThread[#235,vt-  3]/runnable@ForkJoinPool-1-worker-2\n",
      "VirtualThread[#236,vt-  4]/runnable@ForkJoinPool-1-worker-2\n",
      "VirtualThread[#237,vt-  5]/runnable@ForkJoinPool-1-worker-2\n",
      "VirtualThread[#238,vt-  6]/runnable@ForkJoinPool-1-worker-2\n",
      "VirtualThread[#239,vt-  7]/runnable@ForkJoinPool-1-worker-2\n",
      "VirtualThread[#240,vt-  8]/runnable@ForkJoinPool-1-worker-2\n",
      "VirtualThread[#241,vt-  9]/runnable@ForkJoinPool-1-worker-2\n",
      "VirtualThread[#242,vt- 10]/runnable@ForkJoinPool-1-worker-2\n",
      "VirtualThread[#243,vt- 11]/runnable@ForkJoinPool-1-worker-2\n",
      "VirtualThread[#244,vt- 12]/runnable@ForkJoinPool-1-worker-2\n",
      "VirtualThread[#245,vt- 13]/runnable@ForkJoinPool-1-worker-2\n",
      "VirtualThread[#246,vt- 14]/runnable@ForkJoinPool-1-worker-2\n",
      "VirtualThread[#247,vt- 15]/runnable@ForkJoinPool-1-worker-2\n",
      "VirtualThread[#248,vt- 16]/runnable@ForkJoinPool-1-worker-2\n",
      "VirtualThread[#249,vt- 17]/runnable@ForkJoinPool-1-worker-2\n",
      "VirtualThread[#250,vt- 18]/runnable@ForkJoinPool-1-worker-2\n",
      "VirtualThread[#251,vt- 19]/runnable@ForkJoinPool-1-worker-2\n"
     ]
    }
   ],
   "source": [
    "import java.util.stream.IntStream;\n",
    "\n",
    "\n",
    "var vtList = IntStream.range(0, 20).boxed()\n",
    "    .map(idx -> Thread.ofVirtual().name(String.format(\"vt-%3d\", idx)).unstarted(() -> System.out.println(Thread.currentThread())))\n",
    "    .toList();\n",
    "\n",
    "vtList.forEach(Thread::start);\n",
    "Thread.sleep(5000);"
   ]
  },
  {
   "cell_type": "markdown",
   "id": "a918a04b-396c-44d7-b407-05c115f70ccb",
   "metadata": {
    "tags": []
   },
   "source": [
    "### 1.2 lock"
   ]
  },
  {
   "cell_type": "code",
   "execution_count": 12,
   "id": "67b48023-4a84-4f30-a1cc-ec1bc1126d9b",
   "metadata": {
    "tags": []
   },
   "outputs": [],
   "source": [
    "import java.time.Duration;\n",
    "import java.time.LocalTime;\n",
    "import java.time.Instant;\n",
    "import java.time.temporal.ChronoUnit;\n",
    "import java.util.concurrent.locks.Lock;\n",
    "import java.util.concurrent.locks.ReentrantLock;\n",
    "\n",
    "\n",
    "void sleep(Duration duration) {\n",
    "    try {\n",
    "        Thread.sleep(duration.toMillis());\n",
    "    } catch (Exception e) {\n",
    "        throw new RuntimeException(e);\n",
    "    }\n",
    "}\n",
    "\n",
    "void lockAndCall(Lock lock, Runnable runable) {\n",
    "    lock.lock();\n",
    "    try {\n",
    "        runable.run();\n",
    "    } finally {\n",
    "        lock.unlock();\n",
    "    }\n",
    "}"
   ]
  },
  {
   "cell_type": "markdown",
   "id": "c26f5879-8a4f-46e4-ac63-3f1c1110345b",
   "metadata": {
    "tags": []
   },
   "source": [
    "#### a. ReentrantLock only lock current thread"
   ]
  },
  {
   "cell_type": "code",
   "execution_count": 13,
   "id": "703dd74c-f82f-4e29-9712-b234e37445ee",
   "metadata": {
    "tags": []
   },
   "outputs": [
    {
     "name": "stdout",
     "output_type": "stream",
     "text": [
      "sec=1682500883, virtual thread=vt_nolock-0\n",
      "sec=1682500883, virtual thread=vt-0\n",
      "sec=1682500884, virtual thread=vt_nolock-0\n",
      "sec=1682500885, virtual thread=vt_nolock-0\n",
      "sec=1682500886, virtual thread=vt-1\n",
      "sec=1682500886, virtual thread=vt-0\n",
      "sec=1682500886, virtual thread=vt_nolock-0\n",
      "sec=1682500887, virtual thread=vt-0\n",
      "sec=1682500887, virtual thread=vt_nolock-0\n",
      "sec=1682500888, virtual thread=vt-0\n",
      "sec=1682500888, virtual thread=vt_nolock-0\n",
      "sec=1682500889, virtual thread=vt-0\n",
      "Duration = PT7.757528651S\n"
     ]
    }
   ],
   "source": [
    "Lock lock = new ReentrantLock();\n",
    "int counter = 0;\n",
    "\n",
    "var vtList1 = List.of(\n",
    "    Thread.ofVirtual()\n",
    "        .name(\"vt_nolock-\", 0)\n",
    "        .unstarted(() -> {\n",
    "            while (counter < 5) {\n",
    "                System.out.printf(\"sec=%d, virtual thread=%s%n\", System.currentTimeMillis() / 1000, Thread.currentThread().getName());\n",
    "                sleep(Duration.ofSeconds(1));\n",
    "            }\n",
    "        }),\n",
    "\n",
    "    Thread.ofVirtual()\n",
    "        .name(\"vt-\", 0)\n",
    "        .unstarted(() -> {\n",
    "            while (counter < 5) {\n",
    "                lockAndCall(lock, () -> {\n",
    "                    System.out.printf(\"sec=%d, virtual thread=%s%n\", System.currentTimeMillis() / 1000, Thread.currentThread().getName());\n",
    "                    counter++;\n",
    "                });\n",
    "                sleep(Duration.ofSeconds(1));\n",
    "            }\n",
    "        }),\n",
    "\n",
    "    Thread.ofVirtual()\n",
    "        .name(\"vt-\", 1)\n",
    "        .unstarted(() -> {\n",
    "            lockAndCall(lock, () -> sleep(Duration.ofSeconds(3)));\n",
    "            System.out.printf(\"sec=%d, virtual thread=%s%n\", System.currentTimeMillis() / 1000, Thread.currentThread().getName());\n",
    "        })\n",
    ");\n",
    "\n",
    "Instant begin = Instant.now();\n",
    "vtList1.forEach(Thread::start);\n",
    "for (var vt : vtList1) vt.join();\n",
    "Instant end = Instant.now();\n",
    "System.out.println(\"Duration = \" + Duration.between(begin, end));"
   ]
  },
  {
   "cell_type": "markdown",
   "id": "91ebd049-a42b-45f8-8c59-ea33688b7a84",
   "metadata": {},
   "source": [
    "#### b. synchronized will lock carrier thread"
   ]
  },
  {
   "cell_type": "code",
   "execution_count": 14,
   "id": "53618e4f-f27f-46af-9154-217f31a9d7ea",
   "metadata": {},
   "outputs": [
    {
     "name": "stdout",
     "output_type": "stream",
     "text": [
      "sec=1682500891, virtual thread=vt_nolock-0\n",
      "sec=1682500891, virtual thread=vt-0\n",
      "sec=1682500894, virtual thread=vt-1\n",
      "sec=1682500894, virtual thread=vt_nolock-0\n",
      "sec=1682500894, virtual thread=vt-0\n",
      "sec=1682500895, virtual thread=vt_nolock-0\n",
      "sec=1682500895, virtual thread=vt-0\n",
      "sec=1682500896, virtual thread=vt_nolock-0\n",
      "sec=1682500896, virtual thread=vt-0\n",
      "sec=1682500897, virtual thread=vt_nolock-0\n",
      "sec=1682500897, virtual thread=vt-0\n",
      "Duration = PT7.213763751S\n"
     ]
    }
   ],
   "source": [
    "Object lock = new Object();\n",
    "int counter = 0;\n",
    "\n",
    "var vtList1 = List.of(\n",
    "    Thread.ofVirtual()\n",
    "        .name(\"vt_nolock-\", 0)\n",
    "        .unstarted(() -> {\n",
    "            while (counter < 5) {\n",
    "                System.out.printf(\"sec=%d, virtual thread=%s%n\", System.currentTimeMillis() / 1000, Thread.currentThread().getName());\n",
    "                sleep(Duration.ofSeconds(1));\n",
    "            }\n",
    "        }),\n",
    "\n",
    "    Thread.ofVirtual()\n",
    "        .name(\"vt-\", 0)\n",
    "        .unstarted(() -> {\n",
    "            while (counter < 5) {\n",
    "                synchronized (lock) {\n",
    "                    System.out.printf(\"sec=%d, virtual thread=%s%n\", System.currentTimeMillis() / 1000, Thread.currentThread().getName());\n",
    "                    counter++;\n",
    "                }\n",
    "                sleep(Duration.ofSeconds(1));\n",
    "            }\n",
    "        }),\n",
    "\n",
    "    Thread.ofVirtual()\n",
    "        .name(\"vt-\", 1)\n",
    "        .unstarted(() -> {\n",
    "            synchronized (lock) {\n",
    "                sleep(Duration.ofSeconds(3));\n",
    "            }\n",
    "            System.out.printf(\"sec=%d, virtual thread=%s%n\", System.currentTimeMillis() / 1000, Thread.currentThread().getName());\n",
    "        })\n",
    ");\n",
    "\n",
    "Instant begin = Instant.now();\n",
    "vtList1.forEach(Thread::start);\n",
    "for (var vt : vtList1) vt.join();\n",
    "Instant end = Instant.now();\n",
    "System.out.println(\"Duration = \" + Duration.between(begin, end));"
   ]
  },
  {
   "cell_type": "markdown",
   "id": "05e55faf-4a87-48f5-a6f7-68bf0bc78207",
   "metadata": {},
   "source": [
    "### 3. Executors"
   ]
  },
  {
   "cell_type": "code",
   "execution_count": 31,
   "id": "f106ec0f-e420-43e6-a7e7-b8879e467e0b",
   "metadata": {
    "tags": []
   },
   "outputs": [
    {
     "name": "stdout",
     "output_type": "stream",
     "text": [
      "VirtualThread[#278]/runnable@ForkJoinPool-1-worker-4\n"
     ]
    }
   ],
   "source": [
    "ExecutorService executor = Executors.newVirtualThreadPerTaskExecutor();\n",
    "executor.execute(() -> System.out.println(Thread.currentThread()));\n",
    "sleep(Duration.ofMillis(100));"
   ]
  },
  {
   "cell_type": "code",
   "execution_count": 30,
   "id": "86f59503-caef-4988-a26c-3497a8487832",
   "metadata": {
    "tags": []
   },
   "outputs": [
    {
     "name": "stdout",
     "output_type": "stream",
     "text": [
      "VirtualThread[#277]/runnable@ForkJoinPool-1-worker-4\n"
     ]
    }
   ],
   "source": []
  },
  {
   "cell_type": "code",
   "execution_count": null,
   "id": "6932bfdb-92db-469a-bcd8-98e7a4844a8d",
   "metadata": {},
   "outputs": [],
   "source": []
  }
 ],
 "metadata": {
  "kernelspec": {
   "display_name": "Java",
   "language": "java",
   "name": "java"
  },
  "language_info": {
   "codemirror_mode": "java",
   "file_extension": ".jshell",
   "mimetype": "text/x-java-source",
   "name": "Java",
   "pygments_lexer": "java",
   "version": "20.0.1+9-29"
  }
 },
 "nbformat": 4,
 "nbformat_minor": 5
}
