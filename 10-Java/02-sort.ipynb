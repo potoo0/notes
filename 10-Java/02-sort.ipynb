{
 "cells": [
  {
   "cell_type": "markdown",
   "metadata": {},
   "source": [
    "## 1. Comparator\n",
    "\n",
    "1. `Collections.sort(List list, Comparator c)` 实现是 `list.sort(c);`, 推荐使用后者;\n",
    "2. `List.of / Map.of` 等等创建的不可变集合不支持 sort，所以要转换成 ArrayList;\n",
    "2. `thenComparing` 前的 `Comparator.comparingXXX` 必须要类型转换"
   ]
  },
  {
   "cell_type": "code",
   "execution_count": 3,
   "metadata": {},
   "outputs": [
    {
     "data": {
      "text/plain": [
       "\u001b[36mpersons\u001b[0m: [{age=2, name=Bruce}, {age=2, require=true, name=Alice}, {age=1, name=Bob}]"
      ]
     },
     "execution_count": 3,
     "metadata": {},
     "output_type": "execute_result"
    }
   ],
   "source": [
    "var nameOrder = List.of(\"Alice\", \"Bob\", \"Bruce\");\n",
    "var persons = new java.util.ArrayList<>(List.of(\n",
    "    Map.of(\"name\", \"Bruce\", \"age\", \"2\"),\n",
    "    Map.of(\"name\", \"Alice\", \"age\", \"2\", \"require\", \"true\"),\n",
    "    Map.of(\"name\", \"Bob\", \"age\", \"1\")\n",
    "));\n",
    "persons"
   ]
  },
  {
   "cell_type": "markdown",
   "metadata": {},
   "source": [
    "### 1.1 simple comparator"
   ]
  },
  {
   "cell_type": "code",
   "execution_count": 4,
   "metadata": {},
   "outputs": [
    {
     "data": {
      "text/plain": [
       "\u001b[36midsIdxMap\u001b[0m: {Bruce=2, Bob=1, Alice=0}"
      ]
     },
     "execution_count": 4,
     "metadata": {},
     "output_type": "execute_result"
    }
   ],
   "source": [
    "Map<String, Integer> idsIdxMap = new HashMap<>();\n",
    "for (int idx = 0; idx < nameOrder.size(); idx++) idsIdxMap.put(nameOrder.get(idx), idx);\n",
    "idsIdxMap"
   ]
  },
  {
   "cell_type": "code",
   "execution_count": 5,
   "metadata": {},
   "outputs": [
    {
     "data": {
      "text/plain": [
       "\u001b[36mpersons\u001b[0m: [{age=2, require=true, name=Alice}, {age=1, name=Bob}, {age=2, name=Bruce}]"
      ]
     },
     "execution_count": 5,
     "metadata": {},
     "output_type": "execute_result"
    }
   ],
   "source": [
    "persons.sort(Comparator.comparingInt((Map<String, String> o) -> idsIdxMap.get(o.get(\"name\"))));\n",
    "persons"
   ]
  },
  {
   "cell_type": "markdown",
   "metadata": {},
   "source": [
    "### 1.2 chain comparator"
   ]
  },
  {
   "cell_type": "code",
   "execution_count": 6,
   "metadata": {},
   "outputs": [
    {
     "data": {
      "text/plain": [
       "\u001b[36mpersons\u001b[0m: [{age=2, require=true, name=Alice}, {age=2, name=Bruce}, {age=1, name=Bob}]"
      ]
     },
     "execution_count": 6,
     "metadata": {},
     "output_type": "execute_result"
    }
   ],
   "source": [
    "persons.sort(\n",
    "    Comparator.comparing((Map<String, String> m) -> m.get(\"age\"), Comparator.reverseOrder())\n",
    "        .thenComparing(m -> m.get(\"require\"), Comparator.nullsLast(Comparator.naturalOrder()))\n",
    ");\n",
    "persons"
   ]
  },
  {
   "cell_type": "markdown",
   "metadata": {},
   "source": [
    "### 1.3 自定义 comparator"
   ]
  },
  {
   "cell_type": "code",
   "execution_count": 8,
   "metadata": {},
   "outputs": [],
   "source": [
    "// first by length\n",
    "Comparator<String> stringComp = (a, b) -> a.length() == b.length() ? a.compareTo(b) : Integer.compare(a.length(), b.length());"
   ]
  },
  {
   "cell_type": "code",
   "execution_count": 10,
   "metadata": {},
   "outputs": [
    {
     "data": {
      "text/plain": [
       "\u001b[36mpersons\u001b[0m: [{age=1, name=Bob}, {age=2, require=true, name=Alice}, {age=2, name=Bruce}]"
      ]
     },
     "execution_count": 10,
     "metadata": {},
     "output_type": "execute_result"
    }
   ],
   "source": [
    "persons.sort(((o1, o2) -> stringComp.compare(o1.get(\"name\"), o2.get(\"name\"))));\n",
    "persons"
   ]
  },
  {
   "cell_type": "markdown",
   "metadata": {},
   "source": [
    "## 2. map by sort key"
   ]
  },
  {
   "cell_type": "code",
   "execution_count": 12,
   "metadata": {},
   "outputs": [
    {
     "data": {
      "text/plain": [
       "\u001b[36mmap\u001b[0m: {name=Alice, require=true, age=2}"
      ]
     },
     "execution_count": 12,
     "metadata": {},
     "output_type": "execute_result"
    }
   ],
   "source": [
    "var map = new HashMap<>(Map.of(\"name\", \"Alice\", \"age\", \"2\", \"require\", \"true\"));\n",
    "map"
   ]
  },
  {
   "cell_type": "code",
   "execution_count": 13,
   "metadata": {},
   "outputs": [
    {
     "data": {
      "text/plain": [
       "\u001b[36mresult\u001b[0m: {age=2, name=Alice, require=true}"
      ]
     },
     "execution_count": 13,
     "metadata": {},
     "output_type": "execute_result"
    }
   ],
   "source": [
    "Map<String, String> result = new LinkedHashMap<>();\n",
    "\n",
    "map.entrySet().stream()\n",
    "    .sorted(Map.Entry.comparingByKey())\n",
    "    .forEachOrdered(x -> result.put(x.getKey(), x.getValue()));\n",
    "\n",
    "result"
   ]
  },
  {
   "cell_type": "markdown",
   "metadata": {},
   "source": [
    "## 3. stream sorted"
   ]
  },
  {
   "cell_type": "code",
   "execution_count": 34,
   "metadata": {},
   "outputs": [
    {
     "data": {
      "text/plain": [
       "\u001b[36mlis\u001b[0m: [1, 2, 3, -1, -2]"
      ]
     },
     "execution_count": 34,
     "metadata": {},
     "output_type": "execute_result"
    }
   ],
   "source": [
    "var lis = new ArrayList<Integer>(List.of(1, 2, 3, -1, -2));\n",
    "lis"
   ]
  },
  {
   "cell_type": "code",
   "execution_count": 37,
   "metadata": {},
   "outputs": [
    {
     "data": {
      "text/plain": [
       "\u001b[36mlis.stream().sorted(Comparator.c...\u001b[0m: [-2, -1, 1, 2, 3]"
      ]
     },
     "execution_count": 37,
     "metadata": {},
     "output_type": "execute_result"
    }
   ],
   "source": [
    "lis\n",
    "    .stream()\n",
    "    .sorted(Comparator.comparingInt(i -> i))\n",
    "    .toList();"
   ]
  },
  {
   "cell_type": "code",
   "execution_count": null,
   "metadata": {},
   "outputs": [],
   "source": []
  }
 ],
 "metadata": {
  "kernelspec": {
   "display_name": "Java [conda env:root]",
   "language": "java",
   "name": "conda-root-java"
  },
  "language_info": {
   "codemirror_mode": "java",
   "file_extension": ".jshell",
   "mimetype": "text/x-java-source",
   "name": "Java",
   "pygments_lexer": "java",
   "version": "18.0.1+10"
  }
 },
 "nbformat": 4,
 "nbformat_minor": 4
}
