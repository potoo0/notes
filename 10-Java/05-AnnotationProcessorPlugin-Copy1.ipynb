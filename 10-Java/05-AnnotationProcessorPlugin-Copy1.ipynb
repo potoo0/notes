{
 "cells": [
  {
   "cell_type": "code",
   "execution_count": 1,
   "metadata": {},
   "outputs": [
    {
     "name": "stdout",
     "output_type": "stream",
     "text": [
      "\u001b[36mIJava.COMPILER_OPTS_KEY\u001b[0m: IJAVA_COMPILER_OPTS\n",
      "\u001b[36mSystem.getenv(IJava.COMPILER_OPTS_KEY)\u001b[0m: -g -parameters --add-exports=jdk.compiler/com.sun.tools.javac.processing=ALL-UNNAMED\n"
     ]
    }
   ],
   "source": [
    "print(IJava.COMPILER_OPTS_KEY);\n",
    "print(System.getenv(IJava.COMPILER_OPTS_KEY));"
   ]
  },
  {
   "cell_type": "code",
   "execution_count": 7,
   "metadata": {},
   "outputs": [],
   "source": [
    "%%loadFromPOM\n",
    "<repository>\n",
    "  <id>aliyun</id>\n",
    "  <url>https://maven.aliyun.com/repository/central</url>\n",
    "</repository>\n",
    "\n",
    "<dependency>\n",
    "    <groupId>org.projectlombok</groupId>\n",
    "    <artifactId>lombok</artifactId>\n",
    "    <version>1.18.20</version>\n",
    "</dependency>\n",
    "\n",
    "<dependency>\n",
    "    <groupId>org.mapstruct</groupId>\n",
    "    <artifactId>mapstruct</artifactId>\n",
    "    <version>1.5.2.Final</version>\n",
    "</dependency>"
   ]
  },
  {
   "cell_type": "markdown",
   "metadata": {},
   "source": [
    "## 0. Compile tool"
   ]
  },
  {
   "cell_type": "code",
   "execution_count": 1,
   "metadata": {
    "tags": []
   },
   "outputs": [],
   "source": [
    "import javax.annotation.processing.Processor;\n",
    "import javax.tools.*;\n",
    "import javax.tools.JavaCompiler.CompilationTask;\n",
    "import java.io.File;\n",
    "import java.io.FileWriter;\n",
    "import java.io.StringWriter;\n",
    "import java.lang.invoke.MethodHandles;\n",
    "import java.net.URISyntaxException;\n",
    "import java.net.URL;\n",
    "import java.net.URLClassLoader;\n",
    "import java.util.ArrayList;\n",
    "import java.util.Arrays;\n",
    "import java.util.Collections;\n",
    "import java.util.List;\n",
    "import java.util.stream.Collectors;\n",
    "\n",
    "\n",
    "public class RuntimeCompiler {\n",
    "    public static Class<?> compile(String className, String content) {\n",
    "        return compile(className, content, new CompileOptions(), false);\n",
    "    }\n",
    "\n",
    "    public static Class<?> compile(String className, String content, boolean forceCompile) {\n",
    "        return compile(className, content, new CompileOptions(), forceCompile);\n",
    "    }\n",
    "\n",
    "    public static Class<?> compile(String className, String content, CompileOptions compileOptions, boolean forceCompile) {\n",
    "        ClassLoader cl = MethodHandles.lookup().lookupClass().getClassLoader();\n",
    "\n",
    "        try {\n",
    "            Class<?> clzCompiled = cl.loadClass(className);\n",
    "            System.out.printf(\"%s already exist! Class: %s%n\", className, clzCompiled);\n",
    "            if (!forceCompile) return clzCompiled;\n",
    "        } catch (ClassNotFoundException ignore) {\n",
    "            // ignore\n",
    "        }\n",
    "\n",
    "        JavaCompiler compiler = ToolProvider.getSystemJavaCompiler();\n",
    "        if (compiler == null)\n",
    "            throw new RuntimeException(\"No compiler was provided by ToolProvider.getSystemJavaCompiler(). Make sure the jdk.compiler module is available.\");\n",
    "\n",
    "        // create source file\n",
    "        File sourceFile = new File(className.replace(\".\", File.separator) + \".java\");\n",
    "        if (!sourceFile.getParentFile().exists() && !sourceFile.getParentFile().mkdirs())\n",
    "            throw new RuntimeException(\"Cannot create parent folder: \" + sourceFile.getParentFile());\n",
    "\n",
    "        try {\n",
    "            // write source file\n",
    "            try (FileWriter writer = new FileWriter(sourceFile)) {\n",
    "                writer.write(content);\n",
    "                writer.flush();\n",
    "            }\n",
    "            // 1. compiler output, use System.err if null\n",
    "            StringWriter out = new StringWriter();\n",
    "            // 2. a diagnostic listener; if null use the compiler's default method for reporting diagnostics\n",
    "            DiagnosticCollector<JavaFileObject> diagnostics = new DiagnosticCollector<>();\n",
    "            // 3. a file manager; if null use the compiler's standard file manager\n",
    "            StandardJavaFileManager fileManager = compiler.getStandardFileManager(diagnostics, null, null);\n",
    "            // 4. compiler options, null means no options\n",
    "            List<String> options = buildCompileOptions(compileOptions);\n",
    "            // 5. the compilation units to compile, null means no compilation units\n",
    "            Iterable<? extends JavaFileObject> compilationUnit = fileManager.getJavaFileObjectsFromFiles(Collections.singletonList(sourceFile));\n",
    "\n",
    "            CompilationTask task = compiler.getTask(out, fileManager, diagnostics, options, null, compilationUnit);\n",
    "            if (!compileOptions.processors.isEmpty()) task.setProcessors(compileOptions.processors);\n",
    "            Boolean isCompileSuccess = task.call();\n",
    "            fileManager.close();\n",
    "\n",
    "            if (Boolean.FALSE.equals(isCompileSuccess)) {\n",
    "                diagnostics.getDiagnostics().forEach(System.err::println);\n",
    "                throw new RuntimeException(\"Error while compiling \" + className + \", System.err for more.\");\n",
    "            }\n",
    "\n",
    "            // Load compiled class\n",
    "            URL[] generatedClassUrls = {new File(\"./\").toURI().toURL()};\n",
    "            try (URLClassLoader classLoader = new URLClassLoader(generatedClassUrls)) {\n",
    "                return classLoader.loadClass(className);\n",
    "            }\n",
    "        } catch (RuntimeException e) {\n",
    "            throw e;\n",
    "        } catch (Exception e) {\n",
    "            throw new RuntimeException(\"Error while compiling \" + className, e);\n",
    "        }\n",
    "    }\n",
    "\n",
    "    private static List<String> buildCompileOptions(CompileOptions compileOptions) throws URISyntaxException {\n",
    "        List<String> options = new ArrayList<>(compileOptions.options);\n",
    "        if (!options.contains(\"-classpath\")) {\n",
    "            options.add(\"-classpath\");\n",
    "            options.add(getClassPath());\n",
    "        }\n",
    "        return options;\n",
    "    }\n",
    "\n",
    "    public static String getClassPath() throws URISyntaxException {\n",
    "        ClassLoader cl = MethodHandles.lookup().lookupClass().getClassLoader();\n",
    "\n",
    "        StringBuilder classpath = new StringBuilder();\n",
    "        String separator = System.getProperty(\"path.separator\");\n",
    "        String cp = System.getProperty(\"java.class.path\");\n",
    "        String mp = System.getProperty(\"jdk.module.path\");\n",
    "\n",
    "        if (cp != null && !\"\".equals(cp)) classpath.append(cp);\n",
    "        if (mp != null && !\"\".equals(mp)) classpath.append(mp);\n",
    "\n",
    "        /* [java-16] */\n",
    "        // if (cl instanceof URLClassLoader) {\n",
    "        //   for (URL url : ((URLClassLoader) cl).getURLs()) {\n",
    "        /* [/java-16] */\n",
    "        if (cl instanceof URLClassLoader urlClassLoader) {\n",
    "            for (URL url : urlClassLoader.getURLs()) {\n",
    "                if (classpath.length() > 0) classpath.append(separator);\n",
    "                if (\"file\".equals(url.getProtocol())) classpath.append(new File(url.toURI()));\n",
    "            }\n",
    "        }\n",
    "        return classpath.toString();\n",
    "    }\n",
    "\n",
    "    public static void main(String... args) {\n",
    "        test();\n",
    "    }\n",
    "\n",
    "    public static void test() {\n",
    "        String name = \"vo.Cat\";\n",
    "        String clzDef = \"\"\"\n",
    "                package vo;\n",
    "\n",
    "                //import lombok.*;\n",
    "                   \n",
    "                //@Builder\n",
    "                //@Data\n",
    "                public class Cat {\n",
    "                    private String name;\n",
    "                    private Integer age;\n",
    "                }\n",
    "                \"\"\";\n",
    "        Class<?> clz = compile(name, clzDef);\n",
    "        List<String> methods = Arrays.stream(clz.getDeclaredMethods())\n",
    "                .map(method -> method.getName() + \"(\" + Arrays.stream(method.getGenericParameterTypes())\n",
    "                        .map(type -> type.getTypeName().substring(type.getTypeName().lastIndexOf('.') + 1))\n",
    "                        .collect(Collectors.joining(\",\")) + \")\").toList();\n",
    "\n",
    "        System.out.printf(\"compile done, clz: %s, clz's declared methods: %s%n\", clz, methods);\n",
    "    }\n",
    "\n",
    "    public static final class CompileOptions {\n",
    "\n",
    "        final List<? extends Processor> processors;\n",
    "        final List<String> options;\n",
    "\n",
    "        public CompileOptions() {\n",
    "            this(\n",
    "                    Collections.emptyList(),\n",
    "                    Collections.emptyList()\n",
    "            );\n",
    "        }\n",
    "\n",
    "        private CompileOptions(\n",
    "                List<? extends Processor> processors,\n",
    "                List<String> options\n",
    "        ) {\n",
    "            this.processors = processors;\n",
    "            this.options = options;\n",
    "        }\n",
    "\n",
    "        public CompileOptions processors(Processor... newProcessors) {\n",
    "            return processors(Arrays.asList(newProcessors));\n",
    "        }\n",
    "\n",
    "        public CompileOptions processors(List<? extends Processor> newProcessors) {\n",
    "            return new CompileOptions(newProcessors, options);\n",
    "        }\n",
    "\n",
    "        public CompileOptions options(String... newOptions) {\n",
    "            return options(Arrays.asList(newOptions));\n",
    "        }\n",
    "\n",
    "        public CompileOptions options(List<String> newOptions) {\n",
    "            return new CompileOptions(processors, newOptions);\n",
    "        }\n",
    "\n",
    "        boolean hasOption(String opt) {\n",
    "            for (String option : options)\n",
    "                if (option.equalsIgnoreCase(opt))\n",
    "                    return true;\n",
    "\n",
    "            return false;\n",
    "        }\n",
    "    }\n",
    "\n",
    "    // get lombok AnnotationProcessor\n",
    "    //public static Processor createLombokAnnotationProcessor() {\n",
    "    //    printf(\"----%ncreate processor%n\");\n",
    "    //    Processor annotationProcessor = null;\n",
    "    //    ClassLoader classLoader = Lombok.class.getClassLoader();\n",
    "    //    try {\n",
    "    //        Class<?> aClass = classLoader.loadClass(\"lombok.launch.AnnotationProcessorHider\");\n",
    "    //        for (Class<?> declaredClass : aClass.getDeclaredClasses()) {\n",
    "    //            if (\"AnnotationProcessor\".equals(declaredClass.getSimpleName())) {\n",
    "    //                for (Constructor<?> declaredConstructor : declaredClass.getDeclaredConstructors()) {\n",
    "    //                    declaredConstructor.setAccessible(true);\n",
    "    //                    int parameterCount = declaredConstructor.getParameterCount();\n",
    "    //                    if (parameterCount == 0) {\n",
    "    //                        annotationProcessor = (Processor) declaredConstructor.newInstance();\n",
    "    //                        break;\n",
    "    //                    }\n",
    "    //                }\n",
    "    //            }\n",
    "    //        }\n",
    "    //        System.out.printf(\"found lombok annotation processor: %s%n\", annotationProcessor.getClass().getCanonicalName());\n",
    "    //    } catch (ClassNotFoundException | InstantiationException | IllegalAccessException | InvocationTargetException e) {\n",
    "    //        throw new RuntimeException(e);\n",
    "    //    }\n",
    "    //    return annotationProcessor;\n",
    "    //}\n",
    "}\n",
    "\n"
   ]
  },
  {
   "cell_type": "markdown",
   "metadata": {},
   "source": [
    "## 1. lombok\n",
    "\n",
    "![lombok_annotation_processor](./assets/lombok_annotation_processor.png)"
   ]
  },
  {
   "cell_type": "code",
   "execution_count": 3,
   "metadata": {},
   "outputs": [],
   "source": [
    "%%compile vo.Cat\n",
    "package vo;\n",
    "\n",
    "import lombok.*;\n",
    "\n",
    "@Builder\n",
    "@Data\n",
    "public class Cat {\n",
    "    private String name;\n",
    "    private Integer age;\n",
    "}"
   ]
  },
  {
   "cell_type": "code",
   "execution_count": 4,
   "metadata": {},
   "outputs": [],
   "source": [
    "import vo.*;"
   ]
  },
  {
   "cell_type": "code",
   "execution_count": 5,
   "metadata": {},
   "outputs": [
    {
     "data": {
      "text/plain": [
       "\u001b[36mCat.builder().age(2).build()\u001b[0m: Cat(name=null, age=2)"
      ]
     },
     "execution_count": 5,
     "metadata": {},
     "output_type": "execute_result"
    }
   ],
   "source": [
    "Cat.builder().age(2).build()"
   ]
  },
  {
   "cell_type": "code",
   "execution_count": 6,
   "metadata": {},
   "outputs": [],
   "source": [
    "%%compile vo.Pet\n",
    "package vo;\n",
    "\n",
    "import lombok.*;\n",
    "\n",
    "@Builder\n",
    "@Data\n",
    "public class Pet {\n",
    "    private String name;\n",
    "    private Integer age;\n",
    "    private String category;\n",
    "}"
   ]
  },
  {
   "cell_type": "code",
   "execution_count": 8,
   "metadata": {},
   "outputs": [
    {
     "data": {
      "text/plain": [
       "\u001b[36mpet1\u001b[0m: Pet(name=Tom, age=2, category=dog)"
      ]
     },
     "execution_count": 8,
     "metadata": {},
     "output_type": "execute_result"
    }
   ],
   "source": [
    "var pet1 = Pet.builder().age(2).name(\"Tom\").category(\"dog\").build();\n",
    "pet1"
   ]
  },
  {
   "cell_type": "markdown",
   "metadata": {},
   "source": [
    "## 2. mapstruct"
   ]
  },
  {
   "cell_type": "code",
   "execution_count": 9,
   "metadata": {},
   "outputs": [],
   "source": [
    "import org.mapstruct.Mapper;\n",
    "import org.mapstruct.Mapping;\n",
    "import org.mapstruct.Mappings;\n",
    "import org.mapstruct.factory.Mappers;\n",
    "\n",
    "import java.util.List;"
   ]
  },
  {
   "cell_type": "code",
   "execution_count": 10,
   "metadata": {},
   "outputs": [],
   "source": [
    "%%compile mapper.CatMapper\n",
    "package mapper;\n",
    "\n",
    "import org.mapstruct.*;\n",
    "import org.mapstruct.factory.Mappers;\n",
    "\n",
    "import vo.*;\n",
    "\n",
    "@Mapper\n",
    "public interface CatMapper {\n",
    "    CatMapper MAPPER = Mappers.getMapper(CatMapper.class);\n",
    "\n",
    "    Cat fromPet(Pet pet);\n",
    "\n",
    "    Pet toPet(Cat cat);\n",
    "}"
   ]
  },
  {
   "cell_type": "code",
   "execution_count": 11,
   "metadata": {},
   "outputs": [],
   "source": [
    "import mapper.*;"
   ]
  },
  {
   "cell_type": "code",
   "execution_count": 12,
   "metadata": {},
   "outputs": [
    {
     "ename": "EvalException",
     "evalue": "null",
     "output_type": "error",
     "traceback": [
      "\u001b[1m\u001b[31m---------------------------------------------------------------------------\u001b[0m",
      "\u001b[1m\u001b[31mjava.lang.ExceptionInInitializerError: null\u001b[0m",
      "\u001b[1m\u001b[31m\tat .(#67:1)\u001b[0m"
     ]
    }
   ],
   "source": [
    "CatMapper.MAPPER.fromPet(pet1)"
   ]
  },
  {
   "cell_type": "code",
   "execution_count": 3,
   "metadata": {},
   "outputs": [],
   "source": [
    "String source = \"\"\"\n",
    "package mapper;\n",
    "\n",
    "import org.mapstruct.*;\n",
    "import org.mapstruct.factory.Mappers;\n",
    "\n",
    "import vo.*;\n",
    "\n",
    "@Mapper\n",
    "public interface CatMapper {\n",
    "    CatMapper MAPPER = Mappers.getMapper(CatMapper.class);\n",
    "\n",
    "    Cat fromPet(Pet pet);\n",
    "\n",
    "    Pet toPet(Cat cat);\n",
    "}\n",
    "\"\"\""
   ]
  },
  {
   "cell_type": "code",
   "execution_count": 8,
   "metadata": {},
   "outputs": [
    {
     "data": {
      "text/plain": [
       "\u001b[36mRuntimeCompiler.getClassPath()\u001b[0m: /usr/local/miniconda3/share/jupyter/kernels/java/ijava-1.4.1-all.jar:/home/jupyter/notebooks/0-Java:/home/jupyter/.ivy2/cache/org.projectlombok/lombok/jars/lombok-1.18.20.jar:/home/jupyter/.ivy2/cache/org.mapstruct/mapstruct/jars/mapstruct-1.5.2.Final.jar"
      ]
     },
     "execution_count": 8,
     "metadata": {},
     "output_type": "execute_result"
    }
   ],
   "source": [
    "RuntimeCompiler.getClassPath()"
   ]
  },
  {
   "cell_type": "code",
   "execution_count": 10,
   "metadata": {},
   "outputs": [
    {
     "name": "stdout",
     "output_type": "stream",
     "text": [
      "mapper.CatMapper already exist! Class: interface mapper.CatMapper\n"
     ]
    }
   ],
   "source": [
    "var clz = RuntimeCompiler.compile(\"mapper.CatMapper\", source, true);"
   ]
  },
  {
   "cell_type": "code",
   "execution_count": 13,
   "metadata": {},
   "outputs": [],
   "source": []
  },
  {
   "cell_type": "markdown",
   "metadata": {},
   "source": [
    "### logger"
   ]
  },
  {
   "cell_type": "code",
   "execution_count": 1,
   "metadata": {},
   "outputs": [
    {
     "ename": "CompilationException",
     "evalue": "",
     "output_type": "error",
     "traceback": [
      "\u001b[1m\u001b[30m|   \u001b[1m\u001b[30mimport \u001b[0m\u001b[1m\u001b[30m\u001b[41morg.apache.logging.log4j.Level\u001b[0m\u001b[1m\u001b[30m;\u001b[0m",
      "\u001b[1m\u001b[31mpackage org.apache.logging.log4j does not exist\u001b[0m",
      ""
     ]
    }
   ],
   "source": []
  },
  {
   "cell_type": "code",
   "execution_count": null,
   "metadata": {},
   "outputs": [],
   "source": [
    "import org.apache.logging.log4j.Level;\n",
    "import org.apache.logging.log4j.Logger;\n",
    "import org.apache.logging.log4j.core.LoggerContext;\n",
    "import org.apache.logging.log4j.core.appender.ConsoleAppender;\n",
    "import org.apache.logging.log4j.core.config.Configurator;\n",
    "import org.apache.logging.log4j.core.config.builder.api.AppenderComponentBuilder;\n",
    "import org.apache.logging.log4j.core.config.builder.api.ConfigurationBuilder;\n",
    "import org.apache.logging.log4j.core.config.builder.api.ConfigurationBuilderFactory;\n",
    "import org.apache.logging.log4j.core.config.builder.impl.BuiltConfiguration;\n",
    "\n",
    "\n",
    "public Logger test2() {\n",
    "    // config doc https://logging.apache.org/log4j/2.x/manual/configuration.html\n",
    "    // demo from https://logging.apache.org/log4j/2.x/manual/customconfig.html\n",
    "    ConfigurationBuilder<BuiltConfiguration> builder = ConfigurationBuilderFactory.newConfigurationBuilder();\n",
    "    builder.setStatusLevel(Level.WARN);\n",
    "    builder.setConfigurationName(\"Jshell-Logger\");\n",
    "\n",
    "    AppenderComponentBuilder appenderBuilder = builder\n",
    "            .newAppender(\"Stdout\", \"CONSOLE\")\n",
    "            .addAttribute(\"target\", ConsoleAppender.Target.SYSTEM_OUT);\n",
    "    appenderBuilder.add(builder.newLayout(\"PatternLayout\")\n",
    "            .addAttribute(\"pattern\", \"%d{HH:mm:ss.SSS} [%t] %-5level %logger{36} - %msg%n\"));\n",
    "\n",
    "    builder.add(appenderBuilder);\n",
    "    builder.add(builder.newLogger(\"org.apache.logging.log4j\", Level.DEBUG)\n",
    "            .add(builder.newAppenderRef(\"Stdout\")).addAttribute(\"additivity\", false));\n",
    "    builder.add(builder.newRootLogger(Level.WARN).add(builder.newAppenderRef(\"Stdout\")));\n",
    "    LoggerContext ctx = Configurator.initialize(builder.build());\n",
    "    Logger logger = ctx.getLogger(\"aaa\");\n",
    "    logger.error(\"------ error--------\");\n",
    "    return logger;\n",
    "}"
   ]
  }
 ],
 "metadata": {
  "kernelspec": {
   "display_name": "Java",
   "language": "java",
   "name": "java"
  },
  "language_info": {
   "codemirror_mode": "java",
   "file_extension": ".jshell",
   "mimetype": "text/x-java-source",
   "name": "Java",
   "pygments_lexer": "java",
   "version": "17.0.5+9-LTS-191"
  }
 },
 "nbformat": 4,
 "nbformat_minor": 4
}
