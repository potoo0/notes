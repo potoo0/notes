{
 "cells": [
  {
   "cell_type": "markdown",
   "metadata": {},
   "source": [
    "## 利用反射根据字符串调方法"
   ]
  },
  {
   "cell_type": "code",
   "execution_count": 15,
   "metadata": {},
   "outputs": [
    {
     "name": "stdout",
     "output_type": "stream",
     "text": [
      "eat no arg ...\n"
     ]
    }
   ],
   "source": [
    "public class InvokeAction {\n",
    "    public void eat() {\n",
    "        System.out.println(\"eat no arg ...\");\n",
    "    }\n",
    "\n",
    "    public void sleep() {\n",
    "        System.out.println(\"speak no arg ...\");\n",
    "    }\n",
    "}\n",
    "\n",
    "public class InvokeTest {\n",
    "    private static InvokeAction invokeAction = new InvokeAction();  // 创建 InvokeAction 对象\n",
    "\n",
    "    /*\n",
    "     * 根据str字符串调用方法\n",
    "     */\n",
    "    public static void callByStr(String str) throws Exception {\n",
    "        // 调用没有参数的方法\n",
    "        invokeAction.getClass().getMethod(str).invoke(invokeAction, new Object[] {});\n",
    "        // 调用有一个参数的方法，参数为String类型的s\n",
    "        //invokeAction.getClass().getMethod(str, new Class[] { String.class }).invoke(invokeAction, new Object[] { \"s\" });\n",
    "        // 调用有两个参数的方法 参数分别为String类型的qw和int型的1\n",
    "        //invokeAction.getClass().getMethod(str, new Class[] { String.class, int.class }).invoke(invokeAction, new Object[] { \"qw\", 1 });\n",
    "    }\n",
    "\n",
    "    public static void main(String[] args) throws Exception {\n",
    "        callByStr(\"eat\");\n",
    "    }\n",
    "}\n",
    "\n",
    "InvokeTest.main(new String[0])"
   ]
  },
  {
   "cell_type": "code",
   "execution_count": null,
   "metadata": {},
   "outputs": [],
   "source": []
  }
 ],
 "metadata": {
  "kernelspec": {
   "display_name": "Java [conda env:root]",
   "language": "java",
   "name": "conda-root-java"
  },
  "language_info": {
   "codemirror_mode": "java",
   "file_extension": ".jshell",
   "mimetype": "text/x-java-source",
   "name": "Java",
   "pygments_lexer": "java",
   "version": "18.0.1+10"
  }
 },
 "nbformat": 4,
 "nbformat_minor": 4
}
