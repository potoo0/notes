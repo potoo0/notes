{
 "cells": [
  {
   "cell_type": "code",
   "execution_count": null,
   "metadata": {},
   "outputs": [],
   "source": [
    "// 饿汉模式"
   ]
  },
  {
   "cell_type": "code",
   "execution_count": 7,
   "metadata": {},
   "outputs": [],
   "source": [
    "class SingletonHungary {\n",
    "    private static SingletonHungary singletonHungary = new SingletonHungary();\n",
    "    //将构造器设置为 private 禁止通过new进行实例化\n",
    "    private SingletonHungary() {}\n",
    "    public static SingletonHungary getInstance() {\n",
    "        return singletonHungary;\n",
    "    }\n",
    "}"
   ]
  },
  {
   "cell_type": "code",
   "execution_count": 8,
   "metadata": {},
   "outputs": [],
   "source": [
    "// 懒汉"
   ]
  },
  {
   "cell_type": "code",
   "execution_count": 22,
   "metadata": {},
   "outputs": [],
   "source": [
    "// 单例模式的懒汉实现1--线程不安全\n",
    "class SingletonLazy1 {\n",
    "    private static SingletonLazy1 singletonLazy;\n",
    "\n",
    "    private SingletonLazy1() {}\n",
    "\n",
    "    public static SingletonLazy1 getInstance() {\n",
    "        if (null == singletonLazy) {\n",
    "            try {\n",
    "                // 模拟在创建对象之前做一些准备工作\n",
    "                Thread.sleep(100);\n",
    "            } catch (InterruptedException e) {\n",
    "                e.printStackTrace();\n",
    "            }\n",
    "\n",
    "            singletonLazy = new SingletonLazy1();\n",
    "        }\n",
    "\n",
    "        return singletonLazy;\n",
    "    }\n",
    "}\n"
   ]
  },
  {
   "cell_type": "code",
   "execution_count": 2,
   "metadata": {},
   "outputs": [],
   "source": [
    "// 测试"
   ]
  },
  {
   "cell_type": "code",
   "execution_count": 9,
   "metadata": {},
   "outputs": [],
   "source": [
    "public class SingletonLazyTest {\n",
    "    public static void main(String[] args) {\n",
    "        Thread2[] ThreadArr = new Thread2[10];\n",
    "\n",
    "        for (int i = 0; i < ThreadArr.length; i++) {\n",
    "            ThreadArr[i] = new Thread2();\n",
    "            ThreadArr[i].start();\n",
    "        }\n",
    "    }\n",
    "}\n",
    "\n",
    "\n",
    "// 测试线程\n",
    "class Thread2 extends Thread {\n",
    "    @Override\n",
    "    public void run() {\n",
    "        System.out.println(SingletonLazy1.getInstance().hashCode());\n",
    "    }\n",
    "}\n"
   ]
  },
  {
   "cell_type": "code",
   "execution_count": null,
   "metadata": {},
   "outputs": [],
   "source": []
  }
 ],
 "metadata": {
  "kernelspec": {
   "display_name": "Java [conda env:root]",
   "language": "java",
   "name": "conda-root-java"
  },
  "language_info": {
   "codemirror_mode": "java",
   "file_extension": ".jshell",
   "mimetype": "text/x-java-source",
   "name": "Java",
   "pygments_lexer": "java",
   "version": "18.0.1+10"
  }
 },
 "nbformat": 4,
 "nbformat_minor": 4
}
