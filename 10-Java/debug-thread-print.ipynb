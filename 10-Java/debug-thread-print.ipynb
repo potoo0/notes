{
 "cells": [
  {
   "cell_type": "code",
   "execution_count": 1,
   "metadata": {},
   "outputs": [
    {
     "name": "stdout",
     "output_type": "stream",
     "text": [
      "WARNING: sun.reflect.Reflection.getCallerClass is not supported. This will impact performance.\n",
      "2022-11-03 11:53:28.745 [IJava-executor-0] DEBUG test-jshell-log - --------------- test-jshell-log debug ------------------\n",
      "2022-11-03 11:53:28.748 [IJava-executor-0] ERROR test-jshell-log - --------------- test-jshell-log error ------------------\n",
      "2022-11-03 11:53:28.750 [IJava-executor-0] INFO  test-jshell-log - log to file: /var/log/jshell/jshell-20221103_115328.428.log\n"
     ]
    }
   ],
   "source": [
    "import java.time.Duration;\n",
    "import java.util.concurrent.atomic.AtomicInteger;\n",
    "\n",
    "void sleep(Duration duration) {\n",
    "    try {\n",
    "        Thread.sleep(duration.toMillis());\n",
    "    } catch (Exception e) {\n",
    "        throw new RuntimeException(e);\n",
    "    }\n",
    "}"
   ]
  },
  {
   "cell_type": "code",
   "execution_count": 2,
   "metadata": {},
   "outputs": [],
   "source": [
    "import io.github.spencerpark.ijava.runtime.Kernel;\n",
    "import io.github.spencerpark.jupyter.kernel.JupyterIO;\n",
    "import java.nio.charset.StandardCharsets;\n",
    "\n",
    "JavaKernel kernel = Kernel.getKernelInstance();\n",
    "JupyterIO io = kernel.getIO();\n",
    "\n",
    "var out = new ByteArrayOutputStream();"
   ]
  },
  {
   "cell_type": "code",
   "execution_count": 6,
   "metadata": {},
   "outputs": [
    {
     "data": {
      "text/plain": [
       "PT1S"
      ]
     },
     "metadata": {},
     "output_type": "display_data"
    }
   ],
   "source": [
    "var cellId = display(\"init\");"
   ]
  },
  {
   "cell_type": "code",
   "execution_count": 16,
   "metadata": {},
   "outputs": [],
   "source": [
    "var cnt = new AtomicInteger();\n",
    "var t1 = new Thread(() -> {\n",
    "    System.setOut(new PrintStream(out));\n",
    "    while (cnt.incrementAndGet() <= 5) {\n",
    "        //System.out.printf(\"idx: %s%n\", cnt.get());\n",
    "        updateDisplay(cellId, String.format(\"idx: %s%n\", cnt.get()));\n",
    "        sleep(Duration.ofSeconds(1));\n",
    "    }\n",
    "});\n",
    "\n",
    "t1.start();\n",
    "// t1.join();"
   ]
  },
  {
   "cell_type": "code",
   "execution_count": 20,
   "metadata": {},
   "outputs": [
    {
     "data": {
      "text/plain": [
       "\u001b[36mcnt.get();\u001b[0m: 6"
      ]
     },
     "execution_count": 20,
     "metadata": {},
     "output_type": "execute_result"
    }
   ],
   "source": [
    "updateDisplay(cellId, Duration.ofSeconds(1));\n",
    "cnt.get();"
   ]
  },
  {
   "cell_type": "code",
   "execution_count": 9,
   "metadata": {},
   "outputs": [
    {
     "data": {
      "text/plain": [
       "\u001b[36mout.toString(StandardCharsets.UT...\u001b[0m: idx: 1\n",
       "idx: 2\n",
       "idx: 3\n",
       "idx: 4\n",
       "idx: 5\n"
      ]
     },
     "execution_count": 9,
     "metadata": {},
     "output_type": "execute_result"
    }
   ],
   "source": [
    "out.toString(StandardCharsets.UTF_8);"
   ]
  },
  {
   "cell_type": "code",
   "execution_count": 10,
   "metadata": {},
   "outputs": [
    {
     "data": {
      "text/plain": [
       "\u001b[36mout.toString(StandardCharsets.UT...\u001b[0m: idx: 1\n",
       "\u001b[36m\"SASA\"\u001b[0m: SASA\n",
       "\u001b[36m\"SASA\"\u001b[0m: SASA\n",
       "\u001b[36m\"SASA\"\u001b[0m: SASA\n"
      ]
     },
     "execution_count": 10,
     "metadata": {},
     "output_type": "execute_result"
    }
   ],
   "source": [
    "System.setOut(new PrintStream(out));\n",
    "print(\"SASA\");\n",
    "print(\"SASA\");"
   ]
  },
  {
   "cell_type": "code",
   "execution_count": 11,
   "metadata": {},
   "outputs": [
    {
     "data": {
      "text/plain": [
       "\u001b[36mout.toString(StandardCharsets.UT...\u001b[0m: idx: 1\n",
       "\u001b[36m\"SASA\"\u001b[0m: SASA\n",
       "\u001b[36m\"SASA\"\u001b[0m: SASA\n",
       "\u001b[36m\"SASA\"\u001b[0m: SASA\n"
      ]
     },
     "execution_count": 11,
     "metadata": {},
     "output_type": "execute_result"
    }
   ],
   "source": [
    "out.toString(StandardCharsets.UTF_8);"
   ]
  },
  {
   "cell_type": "code",
   "execution_count": null,
   "metadata": {},
   "outputs": [],
   "source": []
  },
  {
   "cell_type": "code",
   "execution_count": 14,
   "metadata": {},
   "outputs": [],
   "source": []
  },
  {
   "cell_type": "code",
   "execution_count": null,
   "metadata": {},
   "outputs": [],
   "source": []
  }
 ],
 "metadata": {
  "kernelspec": {
   "display_name": "Java [conda env:root]",
   "language": "java",
   "name": "conda-root-java"
  },
  "language_info": {
   "codemirror_mode": "java",
   "file_extension": ".jshell",
   "mimetype": "text/x-java-source",
   "name": "Java",
   "pygments_lexer": "java",
   "version": "18.0.1+10"
  }
 },
 "nbformat": 4,
 "nbformat_minor": 4
}
