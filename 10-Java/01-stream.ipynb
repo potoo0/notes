{
 "cells": [
  {
   "cell_type": "code",
   "execution_count": 1,
   "metadata": {
    "tags": []
   },
   "outputs": [
    {
     "name": "stdout",
     "output_type": "stream",
     "text": [
      "WARNING: sun.reflect.Reflection.getCallerClass is not supported. This will impact performance.\n",
      "2023-05-25 12:42:24.486 [IJava-executor-0] DEBUG test-jshell-log - --------------- test-jshell-log debug ------------------\n",
      "2023-05-25 12:42:24.490 [IJava-executor-0] ERROR test-jshell-log - --------------- test-jshell-log error ------------------\n",
      "2023-05-25 12:42:24.492 [IJava-executor-0] INFO  test-jshell-log - log to file: /var/log/jshell/jshell-20230525_124223.851.log\n"
     ]
    },
    {
     "name": "stderr",
     "output_type": "stream",
     "text": [
      "SLF4J: Failed to load class \"org.slf4j.impl.StaticLoggerBinder\".\n",
      "SLF4J: Defaulting to no-operation (NOP) logger implementation\n",
      "SLF4J: See http://www.slf4j.org/codes.html#StaticLoggerBinder for further details.\n"
     ]
    }
   ],
   "source": [
    "%%loadFromPOM\n",
    "<repository>\n",
    "  <id>aliyun</id>\n",
    "  <url>https://maven.aliyun.com/repository/central</url>\n",
    "</repository>\n",
    "\n",
    "<dependency>\n",
    "    <groupId>org.projectlombok</groupId>\n",
    "    <artifactId>lombok</artifactId>\n",
    "    <version>1.18.22</version>\n",
    "</dependency>"
   ]
  },
  {
   "cell_type": "code",
   "execution_count": 12,
   "metadata": {},
   "outputs": [
    {
     "data": {
      "text/plain": [
       "\u001b[36mSTR.\"\\{a+10}\"\u001b[0m: 20"
      ]
     },
     "execution_count": 12,
     "metadata": {},
     "output_type": "execute_result"
    }
   ],
   "source": [
    "var a = 10;\n",
    "STR.\"\\{a + 10}\""
   ]
  },
  {
   "cell_type": "code",
   "execution_count": 2,
   "metadata": {},
   "outputs": [],
   "source": [
    "%%compile vo.AccountBaseVO\n",
    "package vo;\n",
    "\n",
    "@lombok.Builder\n",
    "@lombok.Data\n",
    "public class AccountBaseVO {\n",
    "    private Long id;\n",
    "    private String name;\n",
    "    private Integer age;\n",
    "}\n"
   ]
  },
  {
   "cell_type": "code",
   "execution_count": 3,
   "metadata": {},
   "outputs": [
    {
     "data": {
      "text/plain": [
       "\u001b[36maccList\u001b[0m: [AccountBaseVO(id=null, name=n0, age=0), AccountBaseVO(id=null, name=n1, age=1), AccountBaseVO(id=null, name=n2, age=0), AccountBaseVO(id=null, name=n3, age=1), AccountBaseVO(id=null, name=n4, age=0), AccountBaseVO(id=null, name=n5, age=1), AccountBaseVO(id=null, name=n6, age=0)]"
      ]
     },
     "execution_count": 3,
     "metadata": {},
     "output_type": "execute_result"
    }
   ],
   "source": [
    "import vo.AccountBaseVO;\n",
    "\n",
    "List<AccountBaseVO> accList = new ArrayList<>(10);\n",
    "for (int i = 0; i < 7; i++) {\n",
    "    accList.add(AccountBaseVO.builder().age(i % 2).name(\"n\" + i).build());\n",
    "}\n",
    "// renderAsJson(accList);\n",
    "accList"
   ]
  },
  {
   "cell_type": "markdown",
   "metadata": {},
   "source": [
    "## 0. import"
   ]
  },
  {
   "cell_type": "code",
   "execution_count": 4,
   "metadata": {},
   "outputs": [],
   "source": [
    "import java.util.*;\n",
    "import java.util.function.Function;\n",
    "import java.util.stream.Collectors;\n",
    "import java.util.Map.*;\n",
    "import java.util.stream.IntStream;  // eg IntStream.range(0, 5)\n",
    "\n",
    "// - Function.identity, 出等于入"
   ]
  },
  {
   "cell_type": "markdown",
   "metadata": {},
   "source": [
    "## 1. some `Collectors`"
   ]
  },
  {
   "cell_type": "markdown",
   "metadata": {},
   "source": [
    "### 1.1 toSet/List"
   ]
  },
  {
   "cell_type": "code",
   "execution_count": 12,
   "metadata": {},
   "outputs": [
    {
     "data": {
      "text/plain": [
       "\u001b[36maccList.stream().map(AccountBase...\u001b[0m: [0, 1]"
      ]
     },
     "execution_count": 12,
     "metadata": {},
     "output_type": "execute_result"
    }
   ],
   "source": [
    "accList.stream().map(AccountBaseVO::getAge).collect(Collectors.toSet());"
   ]
  },
  {
   "cell_type": "markdown",
   "metadata": {},
   "source": [
    "### 1.2 toMap\n",
    "\n",
    "*Duplicate key 0 (attempted merging values n0 and n2)* should give mergeFunction arg"
   ]
  },
  {
   "cell_type": "code",
   "execution_count": 21,
   "metadata": {},
   "outputs": [
    {
     "data": {
      "text/plain": [
       "\u001b[36maccList.stream().collect(Collect...\u001b[0m: {0=AccountBaseVO(id=null, name=n0, age=0), 1=AccountBaseVO(id=null, name=n1, age=1)}"
      ]
     },
     "execution_count": 21,
     "metadata": {},
     "output_type": "execute_result"
    }
   ],
   "source": [
    "accList.stream()\n",
    "    .collect(Collectors.toMap(AccountBaseVO::getAge, Function.identity(), (o1, o2) -> o1));"
   ]
  },
  {
   "cell_type": "markdown",
   "metadata": {},
   "source": [
    "### 1.3 summingInt"
   ]
  },
  {
   "cell_type": "code",
   "execution_count": 23,
   "metadata": {},
   "outputs": [
    {
     "data": {
      "text/plain": [
       "\u001b[36maccList.stream().collect(Collect...\u001b[0m: 3"
      ]
     },
     "execution_count": 23,
     "metadata": {},
     "output_type": "execute_result"
    }
   ],
   "source": [
    "accList.stream().collect(Collectors.summingInt(AccountBaseVO::getAge));"
   ]
  },
  {
   "cell_type": "markdown",
   "metadata": {},
   "source": [
    "### 1.4 joining"
   ]
  },
  {
   "cell_type": "code",
   "execution_count": 24,
   "metadata": {},
   "outputs": [
    {
     "data": {
      "text/plain": [
       "\u001b[36mList.of(\"a\",\"b\",\"c\").stream().co...\u001b[0m: a-b-c"
      ]
     },
     "execution_count": 24,
     "metadata": {},
     "output_type": "execute_result"
    }
   ],
   "source": [
    "List.of(\"a\",\"b\",\"c\").stream().collect(Collectors.joining(\"-\"));"
   ]
  },
  {
   "cell_type": "markdown",
   "metadata": {},
   "source": [
    "## 2. grouping\n",
    "\n",
    "1. groupingBy: 串行\n",
    "2. groupingByConcurrent: 并行"
   ]
  },
  {
   "cell_type": "markdown",
   "metadata": {},
   "source": [
    "### 2.1 basic"
   ]
  },
  {
   "cell_type": "code",
   "execution_count": 13,
   "metadata": {},
   "outputs": [
    {
     "data": {
      "text/plain": [
       "\u001b[36maccList.stream().collect(Collect...\u001b[0m: {0=[AccountBaseVO(id=null, name=n0, age=0), AccountBaseVO(id=null, name=n2, age=0), AccountBaseVO(id=null, name=n4, age=0), AccountBaseVO(id=null, name=n6, age=0)], 1=[AccountBaseVO(id=null, name=n1, age=1), AccountBaseVO(id=null, name=n3, age=1), AccountBaseVO(id=null, name=n5, age=1)]}"
      ]
     },
     "execution_count": 13,
     "metadata": {},
     "output_type": "execute_result"
    }
   ],
   "source": [
    "// 对象属性\n",
    "accList.stream()\n",
    "    .collect(Collectors.groupingBy(AccountBaseVO::getAge));"
   ]
  },
  {
   "cell_type": "code",
   "execution_count": 14,
   "metadata": {},
   "outputs": [
    {
     "data": {
      "text/plain": [
       "\u001b[36maMap.entrySet().stream().collect...\u001b[0m: {1=[c=1, a=1], 2=[b=2]}"
      ]
     },
     "execution_count": 14,
     "metadata": {},
     "output_type": "execute_result"
    }
   ],
   "source": [
    "// 按 `Map` 的 value 分组\n",
    "var aMap = Map.of(\"a\", 1, \"b\", 2, \"c\", 1);\n",
    "aMap.entrySet().stream().collect(Collectors.groupingBy(c -> c.getValue()))"
   ]
  },
  {
   "cell_type": "markdown",
   "metadata": {},
   "source": [
    "### 2.2 spec downstream collector\n",
    "\n",
    "default downstream collector is `toList`"
   ]
  },
  {
   "cell_type": "markdown",
   "metadata": {},
   "source": [
    "#### counting"
   ]
  },
  {
   "cell_type": "code",
   "execution_count": 18,
   "metadata": {},
   "outputs": [
    {
     "data": {
      "text/plain": [
       "\u001b[36maccList.stream().collect(Collect...\u001b[0m: {0=4, 1=3}"
      ]
     },
     "execution_count": 18,
     "metadata": {},
     "output_type": "execute_result"
    }
   ],
   "source": [
    "accList.stream()\n",
    "    .collect(Collectors.groupingBy(AccountBaseVO::getAge, Collectors.counting()));"
   ]
  },
  {
   "cell_type": "markdown",
   "metadata": {},
   "source": [
    "#### mapping"
   ]
  },
  {
   "cell_type": "code",
   "execution_count": 19,
   "metadata": {},
   "outputs": [
    {
     "data": {
      "text/plain": [
       "\u001b[36maccList.stream().collect(Collect...\u001b[0m: {0=[n0, n2, n4, n6], 1=[n1, n3, n5]}"
      ]
     },
     "execution_count": 19,
     "metadata": {},
     "output_type": "execute_result"
    }
   ],
   "source": [
    "accList.stream().collect(Collectors.groupingBy(AccountBaseVO::getAge, Collectors.mapping(AccountBaseVO::getName, Collectors.toSet())))"
   ]
  },
  {
   "cell_type": "markdown",
   "metadata": {},
   "source": [
    "### 2.3 spec mapFactory - store backend\n",
    "\n",
    "default mapFactory is `HashMap::new`"
   ]
  },
  {
   "cell_type": "markdown",
   "metadata": {},
   "source": [
    "#### `LinkedHashMap` keep order"
   ]
  },
  {
   "cell_type": "code",
   "execution_count": 20,
   "metadata": {},
   "outputs": [
    {
     "data": {
      "text/plain": [
       "\u001b[36maccList.stream().sorted(Comparat...\u001b[0m: {0=[AccountBaseVO(id=null, name=n6, age=0), AccountBaseVO(id=null, name=n4, age=0), AccountBaseVO(id=null, name=n2, age=0), AccountBaseVO(id=null, name=n0, age=0)], 1=[AccountBaseVO(id=null, name=n5, age=1), AccountBaseVO(id=null, name=n3, age=1), AccountBaseVO(id=null, name=n1, age=1)]}"
      ]
     },
     "execution_count": 20,
     "metadata": {},
     "output_type": "execute_result"
    }
   ],
   "source": [
    "accList.stream()\n",
    "    .sorted(Comparator.comparing(AccountBaseVO::getName).reversed())\n",
    "    .collect(Collectors.groupingBy(AccountBaseVO::getAge, LinkedHashMap::new, Collectors.toList()))"
   ]
  },
  {
   "cell_type": "code",
   "execution_count": null,
   "metadata": {},
   "outputs": [],
   "source": []
  }
 ],
 "metadata": {
  "kernelspec": {
   "display_name": "Java",
   "language": "java",
   "name": "java"
  },
  "language_info": {
   "codemirror_mode": "java",
   "file_extension": ".jshell",
   "mimetype": "text/x-java-source",
   "name": "Java",
   "pygments_lexer": "java",
   "version": "21-ea+22-1890"
  }
 },
 "nbformat": 4,
 "nbformat_minor": 4
}
