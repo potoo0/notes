{
 "cells": [
  {
   "cell_type": "code",
   "execution_count": 1,
   "metadata": {
    "editable": true,
    "slideshow": {
     "slide_type": ""
    },
    "tags": []
   },
   "outputs": [
    {
     "name": "stdout",
     "output_type": "stream",
     "text": [
      "WARNING: sun.reflect.Reflection.getCallerClass is not supported. This will impact performance.\n",
      "2023-05-18 14:19:08.506 [IJava-executor-0] DEBUG test-jshell-log - --------------- test-jshell-log debug ------------------\n",
      "2023-05-18 14:19:08.509 [IJava-executor-0] ERROR test-jshell-log - --------------- test-jshell-log error ------------------\n",
      "2023-05-18 14:19:08.512 [IJava-executor-0] INFO  test-jshell-log - log to file: /var/log/jshell/jshell-20230518_141907.531.log\n"
     ]
    },
    {
     "data": {
      "text/plain": [
       "\u001b[36mgson.toJson(newDate());\u001b[0m: \"2023-05-18 14:19:09\""
      ]
     },
     "execution_count": 1,
     "metadata": {},
     "output_type": "execute_result"
    }
   ],
   "source": [
    "import com.google.gson.Gson;\n",
    "import com.google.gson.GsonBuilder;\n",
    "import com.google.gson.JsonElement;\n",
    "import com.google.gson.JsonObject;\n",
    "\n",
    "import java.text.DateFormat;\n",
    "\n",
    "Gson gson = new GsonBuilder().setDateFormat(\"yyyy-MM-dd HH:mm:ss\").create();\n",
    "gson.toJson(new Date());"
   ]
  },
  {
   "cell_type": "code",
   "execution_count": 4,
   "metadata": {},
   "outputs": [
    {
     "data": {
      "text/plain": [
       "\u001b[36mgson.toJson(Map.of(\"k1\",\"v1\",\"k2...\u001b[0m: {\"k1\":\"v1\",\"k2\":[1,2,3]}"
      ]
     },
     "execution_count": 4,
     "metadata": {},
     "output_type": "execute_result"
    }
   ],
   "source": []
  },
  {
   "cell_type": "code",
   "execution_count": 2,
   "metadata": {},
   "outputs": [
    {
     "data": {
      "application/json": {
       "k1": "v1",
       "k2": [
        1,
        2,
        3
       ]
      },
      "text/plain": [
       "{\"k2\":[1,2,3],\"k1\":\"v1\"}"
      ]
     },
     "execution_count": 2,
     "metadata": {},
     "output_type": "execute_result"
    }
   ],
   "source": [
    "var json = gson.toJson(Map.of(\"k1\", \"v1\", \"k2\", List.of(1, 2, 3)));\n",
    "\n",
    "renderAsJson(json); // shortcut for render(json, \"application/json\");"
   ]
  },
  {
   "cell_type": "code",
   "execution_count": 3,
   "metadata": {},
   "outputs": [
    {
     "name": "stderr",
     "output_type": "stream",
     "text": [
      "SLF4J: Failed to load class \"org.slf4j.impl.StaticLoggerBinder\".\n",
      "SLF4J: Defaulting to no-operation (NOP) logger implementation\n",
      "SLF4J: See http://www.slf4j.org/codes.html#StaticLoggerBinder for further details.\n"
     ]
    }
   ],
   "source": [
    "%%loadFromPOM\n",
    "<repository>\n",
    "  <id>aliyun</id>\n",
    "  <url>https://maven.aliyun.com/repository/central</url>\n",
    "</repository>\n",
    "\n",
    "<dependency>\n",
    "    <groupId>org.projectlombok</groupId>\n",
    "    <artifactId>lombok</artifactId>\n",
    "    <version>1.18.22</version>\n",
    "</dependency>"
   ]
  },
  {
   "cell_type": "code",
   "execution_count": 5,
   "metadata": {},
   "outputs": [],
   "source": [
    "%%compile vo.Cat\n",
    "package vo;\n",
    "\n",
    "@lombok.Builder\n",
    "@lombok.Data\n",
    "public class Cat {\n",
    "    private String name;\n",
    "    private Integer age;\n",
    "}"
   ]
  },
  {
   "cell_type": "code",
   "execution_count": 6,
   "metadata": {},
   "outputs": [],
   "source": [
    "import vo.*;"
   ]
  },
  {
   "cell_type": "code",
   "execution_count": 8,
   "metadata": {},
   "outputs": [
    {
     "data": {
      "text/plain": [
       "\u001b[36mCat.builder().name(\"SnowBall\").b...\u001b[0m: Cat(name=SnowBall, age=null)"
      ]
     },
     "execution_count": 8,
     "metadata": {},
     "output_type": "execute_result"
    }
   ],
   "source": [
    "Cat.builder().name(\"SnowBall\").build()"
   ]
  },
  {
   "cell_type": "code",
   "execution_count": 15,
   "metadata": {},
   "outputs": [],
   "source": [
    "%%compile vo.AccountBaseVO\n",
    "package vo;\n",
    "\n",
    "@lombok.Builder\n",
    "@lombok.Data\n",
    "public class AccountBaseVO {\n",
    "    private Long id;\n",
    "    private String name;\n",
    "    private Integer age;\n",
    "}\n"
   ]
  },
  {
   "cell_type": "markdown",
   "metadata": {},
   "source": [
    "## 1. modify jsonObject"
   ]
  },
  {
   "cell_type": "code",
   "execution_count": 16,
   "metadata": {},
   "outputs": [],
   "source": [
    "import vo.*;"
   ]
  },
  {
   "cell_type": "code",
   "execution_count": 17,
   "metadata": {},
   "outputs": [],
   "source": [
    "var baseVO = AccountBaseVO.builder().id(1L).name(\"A\").age(20).build()"
   ]
  },
  {
   "cell_type": "code",
   "execution_count": 20,
   "metadata": {},
   "outputs": [
    {
     "data": {
      "text/plain": [
       "\u001b[36mjsonObject.toString();\u001b[0m: {\"id\":1,\"name\":\"A\",\"age\":20,\"aaa\":\"aaa\"}"
      ]
     },
     "execution_count": 20,
     "metadata": {},
     "output_type": "execute_result"
    }
   ],
   "source": [
    "JsonElement jsonElement = gson.toJsonTree(baseVO);\n",
    "JsonObject jsonObject = (JsonObject) jsonElement;\n",
    "// property removal\n",
    "jsonObject.addProperty(\"aaa\", \"aaa\");\n",
    "// serialization to String\n",
    "jsonObject.toString();"
   ]
  },
  {
   "cell_type": "markdown",
   "metadata": {},
   "source": [
    "## 2. spec complex type"
   ]
  },
  {
   "cell_type": "code",
   "execution_count": 29,
   "metadata": {},
   "outputs": [],
   "source": [
    "import java.lang.reflect.Type;\n",
    "import com.google.gson.reflect.TypeToken;\n",
    "\n",
    "import java.util.stream.LongStream;"
   ]
  },
  {
   "cell_type": "code",
   "execution_count": 40,
   "metadata": {},
   "outputs": [
    {
     "data": {
      "text/plain": [
       "\u001b[36maccStr\u001b[0m: [{\"id\":1,\"name\":\"name-1\",\"age\":20},{\"id\":2,\"name\":\"name-2\",\"age\":20},{\"id\":3,\"name\":\"name-3\",\"age\":20}]"
      ]
     },
     "execution_count": 40,
     "metadata": {},
     "output_type": "execute_result"
    }
   ],
   "source": [
    "var accList = LongStream\n",
    "    .range(1, 4)\n",
    "    .boxed()\n",
    "    .map(i -> AccountBaseVO.builder().id(i).name(\"name-\" + i).age(20).build())\n",
    "    .toList();\n",
    "var accStr = gson.toJson(accList);\n",
    "accStr"
   ]
  },
  {
   "cell_type": "code",
   "execution_count": 41,
   "metadata": {},
   "outputs": [
    {
     "data": {
      "text/plain": [
       "\u001b[36mgson.fromJson(accStr,typeToken);\u001b[0m: [AccountBaseVO(id=1, name=name-1, age=20), AccountBaseVO(id=2, name=name-2, age=20), AccountBaseVO(id=3, name=name-3, age=20)]"
      ]
     },
     "execution_count": 41,
     "metadata": {},
     "output_type": "execute_result"
    }
   ],
   "source": [
    "TypeToken<List<AccountBaseVO>> typeToken = new TypeToken<List<AccountBaseVO>>(){};\n",
    "gson.fromJson(accStr, typeToken);"
   ]
  },
  {
   "cell_type": "code",
   "execution_count": 42,
   "metadata": {},
   "outputs": [
    {
     "data": {
      "text/plain": [
       "\u001b[36mgson.fromJson(accStr,type);\u001b[0m: [AccountBaseVO(id=1, name=name-1, age=20), AccountBaseVO(id=2, name=name-2, age=20), AccountBaseVO(id=3, name=name-3, age=20)]"
      ]
     },
     "execution_count": 42,
     "metadata": {},
     "output_type": "execute_result"
    }
   ],
   "source": [
    "Type type = typeToken.getType();\n",
    "gson.fromJson(accStr, type);"
   ]
  },
  {
   "cell_type": "code",
   "execution_count": null,
   "metadata": {},
   "outputs": [],
   "source": []
  }
 ],
 "metadata": {
  "kernelspec": {
   "display_name": "Java",
   "language": "java",
   "name": "java"
  },
  "language_info": {
   "codemirror_mode": "java",
   "file_extension": ".jshell",
   "mimetype": "text/x-java-source",
   "name": "Java",
   "pygments_lexer": "java",
   "version": "19.0.1+10-21"
  }
 },
 "nbformat": 4,
 "nbformat_minor": 4
}
