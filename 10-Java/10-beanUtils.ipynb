{
 "cells": [
  {
   "cell_type": "code",
   "execution_count": 4,
   "metadata": {},
   "outputs": [],
   "source": [
    "%%loadFromPOM\n",
    "<repository>\n",
    "  <id>aliyun</id>\n",
    "  <url>https://maven.aliyun.com/repository/central</url>\n",
    "</repository>\n",
    "\n",
    "<dependency>\n",
    "    <groupId>org.projectlombok</groupId>\n",
    "    <artifactId>lombok</artifactId>\n",
    "    <version>1.18.22</version>\n",
    "</dependency>\n",
    "<dependency>\n",
    "    <groupId>commons-beanutils</groupId>\n",
    "    <artifactId>commons-beanutils</artifactId>\n",
    "    <version>1.9.4</version>\n",
    "</dependency>"
   ]
  },
  {
   "cell_type": "code",
   "execution_count": 5,
   "metadata": {},
   "outputs": [],
   "source": [
    "import org.apache.commons.beanutils.PropertyUtils;"
   ]
  },
  {
   "cell_type": "code",
   "execution_count": 6,
   "metadata": {},
   "outputs": [],
   "source": [
    "%%compile vo.TestVO\n",
    "\n",
    "package vo;\n",
    "\n",
    "@lombok.Data\n",
    "public class TestVO {\n",
    "    private String name;\n",
    "    private Integer age;\n",
    "}\n"
   ]
  },
  {
   "cell_type": "code",
   "execution_count": 7,
   "metadata": {},
   "outputs": [],
   "source": [
    "import vo.TestVO;"
   ]
  },
  {
   "cell_type": "code",
   "execution_count": 8,
   "metadata": {},
   "outputs": [],
   "source": [
    "class TestVO2 extends TestVO {\n",
    "    private String nick;\n",
    "    \n",
    "    public void setNick(String nick) {\n",
    "        this.nick = nick;\n",
    "    }\n",
    "    \n",
    "    public String getNick() {\n",
    "        return this.nick;\n",
    "    }\n",
    "}"
   ]
  },
  {
   "cell_type": "code",
   "execution_count": 9,
   "metadata": {},
   "outputs": [],
   "source": [
    "TestVO destination = new TestVO();\n",
    "destination.setName(\"aa\");\n",
    "destination.setAge(22);\n",
    "\n",
    "TestVO2 source = new TestVO2();\n",
    "source.setName(\"bb\");\n",
    "source.setNick(\"5555\");"
   ]
  },
  {
   "cell_type": "code",
   "execution_count": 10,
   "metadata": {},
   "outputs": [
    {
     "name": "stdout",
     "output_type": "stream",
     "text": [
      "Unknown property 'nick' on class 'class vo.TestVO'\n"
     ]
    }
   ],
   "source": [
    "PropertyUtils.describe(source).entrySet().stream()\n",
    "    .filter(mapEntity -> mapEntity.getValue() != null)\n",
    "    .filter(mapEntity -> !mapEntity.getKey().equals(\"class\"))\n",
    "    .forEach(mapEntity -> {\n",
    "        try {\n",
    "            PropertyUtils.setProperty(destination, mapEntity.getKey(), mapEntity.getValue());\n",
    "        } catch (Exception e) {\n",
    "            System.out.println(e.getMessage());\n",
    "            // log.error(\"Error setting properties : {}\", e22.getMessage());\n",
    "        }\n",
    "    });"
   ]
  },
  {
   "cell_type": "code",
   "execution_count": 11,
   "metadata": {},
   "outputs": [
    {
     "data": {
      "text/plain": [
       "\u001b[36mdestination\u001b[0m: TestVO(name=bb, age=22)"
      ]
     },
     "execution_count": 11,
     "metadata": {},
     "output_type": "execute_result"
    }
   ],
   "source": [
    "destination"
   ]
  },
  {
   "cell_type": "code",
   "execution_count": null,
   "metadata": {},
   "outputs": [],
   "source": []
  }
 ],
 "metadata": {
  "kernelspec": {
   "display_name": "Java [conda env:root]",
   "language": "java",
   "name": "conda-root-java"
  },
  "language_info": {
   "codemirror_mode": "java",
   "file_extension": ".jshell",
   "mimetype": "text/x-java-source",
   "name": "Java",
   "pygments_lexer": "java",
   "version": "18.0.1+10"
  }
 },
 "nbformat": 4,
 "nbformat_minor": 4
}
