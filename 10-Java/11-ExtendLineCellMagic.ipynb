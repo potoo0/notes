{
 "cells": [
  {
   "cell_type": "code",
   "execution_count": 2,
   "metadata": {},
   "outputs": [],
   "source": [
    "// doc: https://github.com/SpencerPark/IJava/blob/master/docs/magics.md#magics\n",
    "// <T> T lineMagic(java.util.List<String> args)\n",
    "// <T> T cellMagic(java.util.List<String> args, String body)"
   ]
  },
  {
   "cell_type": "code",
   "execution_count": 1,
   "metadata": {},
   "outputs": [
    {
     "name": "stdout",
     "output_type": "stream",
     "text": [
      "WARNING: sun.reflect.Reflection.getCallerClass is not supported. This will impact performance.\n",
      "2022-11-07 16:01:21.464 [IJava-executor-0] DEBUG test-jshell-log - --------------- test-jshell-log debug ------------------\n",
      "2022-11-07 16:01:21.466 [IJava-executor-0] ERROR test-jshell-log - --------------- test-jshell-log error ------------------\n",
      "2022-11-07 16:01:21.468 [IJava-executor-0] INFO  test-jshell-log - log to file: /var/log/jshell/jshell-20221107_160121.149.log\n"
     ]
    }
   ],
   "source": [
    "import io.github.spencerpark.jupyter.kernel.magic.registry.CellMagic;\n",
    "import io.github.spencerpark.jupyter.kernel.magic.registry.LineMagic;\n",
    "import io.github.spencerpark.ijava.IJava;\n",
    "import java.util.*;\n",
    "\n",
    "\n",
    "public class TestMagic {\n",
    "    @LineMagic\n",
    "    public String line(java.util.List<String> args) {\n",
    "        System.out.println(\"args: \" + args);\n",
    "        try {\n",
    "            Object res = IJava.getKernelInstance().evalRaw(\"1 + 1\");\n",
    "            System.out.println(\"eval res: \" + res);\n",
    "        } catch (Exception e) {\n",
    "            System.out.println(\"Exception: \" + e.getMessage());\n",
    "        }\n",
    "        return String.format(\"line return value %s\", args);\n",
    "    }\n",
    "\n",
    "    @CellMagic\n",
    "    public void cell(java.util.List<String> args, String body) {\n",
    "        System.out.println(\"args: \" + args);\n",
    "        try {\n",
    "            Object res = IJava.getKernelInstance().evalRaw(\"2 + 2\");\n",
    "            System.out.println(\"eval res: \" + res);\n",
    "        } catch (Exception e) {\n",
    "            System.out.println(\"Exception: \" + e.getMessage());\n",
    "        }\n",
    "        System.out.println(\"body: \" + body);\n",
    "    }\n",
    "}\n",
    "IJava.getKernelInstance().getMagics().registerMagics(new TestMagic());"
   ]
  },
  {
   "cell_type": "code",
   "execution_count": 2,
   "metadata": {},
   "outputs": [
    {
     "name": "stdout",
     "output_type": "stream",
     "text": [
      "args: [bbb   ]\n",
      "eval res: 2\n"
     ]
    }
   ],
   "source": [
    "String a = \"aaaa\";\n",
    "%line \"bbb   \""
   ]
  },
  {
   "cell_type": "code",
   "execution_count": 5,
   "metadata": {},
   "outputs": [
    {
     "name": "stdout",
     "output_type": "stream",
     "text": [
      "args: [argS1]\n",
      "eval res: 4\n",
      "body: \n",
      "bodyS1\n"
     ]
    }
   ],
   "source": [
    "%%cell argS1\n",
    "\n",
    "bodyS1"
   ]
  },
  {
   "cell_type": "code",
   "execution_count": null,
   "metadata": {},
   "outputs": [],
   "source": []
  }
 ],
 "metadata": {
  "kernelspec": {
   "display_name": "Java [conda env:root]",
   "language": "java",
   "name": "conda-root-java"
  },
  "language_info": {
   "codemirror_mode": "java",
   "file_extension": ".jshell",
   "mimetype": "text/x-java-source",
   "name": "Java",
   "pygments_lexer": "java",
   "version": "18.0.1+10"
  }
 },
 "nbformat": 4,
 "nbformat_minor": 4
}
