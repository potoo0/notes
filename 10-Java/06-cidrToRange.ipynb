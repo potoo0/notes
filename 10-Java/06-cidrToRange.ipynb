{
 "cells": [
  {
   "cell_type": "code",
   "execution_count": 1,
   "metadata": {},
   "outputs": [],
   "source": [
    "import java.net.InetAddress;\n",
    "import java.net.UnknownHostException;"
   ]
  },
  {
   "cell_type": "code",
   "execution_count": 10,
   "metadata": {},
   "outputs": [
    {
     "name": "stdout",
     "output_type": "stream",
     "text": [
      "3232235521\n",
      "192.168.0.1\n",
      "167772161\n"
     ]
    }
   ],
   "source": [
    "public class IpLongUtils {\n",
    "    /**\n",
    "     * 把字符串IP转换成long\n",
    "     *\n",
    "     * @param ipStr 字符串IP\n",
    "     * @return IP对应的long值\n",
    "     */\n",
    "    public static long ip2Long(String ipStr) {\n",
    "        String[] ip = ipStr.split(\"\\\\.\");\n",
    "        return (Long.valueOf(ip[0]) << 24) + (Long.valueOf(ip[1]) << 16)\n",
    "                + (Long.valueOf(ip[2]) << 8) + Long.valueOf(ip[3]);\n",
    "    }\n",
    "\n",
    "    /**\n",
    "     * 把IP的long值转换成字符串\n",
    "     *\n",
    "     * @param ipLong IP的long值\n",
    "     * @return long值对应的字符串\n",
    "     */\n",
    "    public static String long2Ip(long ipLong) {\n",
    "        StringBuilder ip = new StringBuilder();\n",
    "        ip.append(ipLong >>> 24).append(\".\");\n",
    "        ip.append((ipLong >>> 16) & 0xFF).append(\".\");\n",
    "        ip.append((ipLong >>> 8) & 0xFF).append(\".\");\n",
    "        ip.append(ipLong & 0xFF);\n",
    "        return ip.toString();\n",
    "    }\n",
    "\n",
    "    public static void main(String[] args) {\n",
    "        System.out.println(ip2Long(\"192.168.0.1\"));\n",
    "        System.out.println(long2Ip(3232235521L));\n",
    "        System.out.println(ip2Long(\"10.0.0.1\"));\n",
    "    }\n",
    "\n",
    "}\n",
    "\n",
    "IpLongUtils.main(new String[1])"
   ]
  },
  {
   "cell_type": "code",
   "execution_count": 8,
   "metadata": {},
   "outputs": [],
   "source": [
    "public class IpUtils {\n",
    "  public static void cidrToIpRange(String cidr) {\n",
    "    String[] parts = cidr.split(\"/\");\n",
    "    String ip = parts[0];\n",
    "    int prefix = parts.length < 2 ? 0 : Integer.parseInt(parts[1]);\n",
    "\n",
    "    int mask = 0xffffffff << (32 - prefix);\n",
    "    System.out.println(\"Prefix=\" + prefix);\n",
    "    System.out.println(\"Address=\" + ip);\n",
    "\n",
    "    byte[] bytes = new byte[]{\n",
    "        (byte)(mask >>> 24),\n",
    "        (byte)(mask >> 16 & 0xff),\n",
    "        (byte)(mask >> 8 & 0xff),\n",
    "        (byte)(mask & 0xff)\n",
    "    };\n",
    "    for (int i = 0; i < 4; i++) {\n",
    "        System.out.println(\"bytes=\" + bytes[i]);\n",
    "    }\n",
    "\n",
    "    InetAddress netAddr = null;\n",
    "    try {\n",
    "      netAddr = InetAddress.getByAddress(bytes);\n",
    "    } catch (UnknownHostException e) {\n",
    "      e.printStackTrace();\n",
    "    }\n",
    "  }\n",
    "}"
   ]
  },
  {
   "cell_type": "code",
   "execution_count": 9,
   "metadata": {},
   "outputs": [
    {
     "name": "stdout",
     "output_type": "stream",
     "text": [
      "Prefix=19\n",
      "Address=10.5.120.10\n",
      "bytes=-1\n",
      "bytes=-1\n",
      "bytes=-32\n",
      "bytes=0\n"
     ]
    }
   ],
   "source": [
    "IpUtils.cidrToIpRange(\"10.5.120.10/19\")"
   ]
  },
  {
   "cell_type": "code",
   "execution_count": 10,
   "metadata": {},
   "outputs": [],
   "source": [
    "int a = 10;"
   ]
  },
  {
   "cell_type": "code",
   "execution_count": 21,
   "metadata": {},
   "outputs": [],
   "source": [
    "String IPString = \"254.205.120.10\";\n",
    "import java.nio.ByteBuffer;\n"
   ]
  },
  {
   "cell_type": "code",
   "execution_count": 27,
   "metadata": {},
   "outputs": [],
   "source": [
    "//Converts a String that represents an IP to an int.\n",
    "InetAddress i = InetAddress.getByName(IPString);\n",
    "ByteBuffer buf = ByteBuffer.wrap(i.getAddress());\n"
   ]
  },
  {
   "cell_type": "code",
   "execution_count": 29,
   "metadata": {},
   "outputs": [
    {
     "ename": "CompilationException",
     "evalue": "",
     "output_type": "error",
     "traceback": [
      "\u001b[1m\u001b[30m|   \u001b[1m\u001b[30m\u001b[0m\u001b[1m\u001b[30m\u001b[41mbuf.getString\u001b[0m\u001b[1m\u001b[30m()\u001b[0m",
      "\u001b[1m\u001b[31mcannot find symbol\u001b[0m",
      "\u001b[1m\u001b[31m  symbol:   method getString()\u001b[0m",
      ""
     ]
    }
   ],
   "source": [
    "buf."
   ]
  },
  {
   "cell_type": "code",
   "execution_count": 20,
   "metadata": {},
   "outputs": [
    {
     "data": {
      "text/plain": [
       "10.5.120.10"
      ]
     },
     "execution_count": 20,
     "metadata": {},
     "output_type": "execute_result"
    }
   ],
   "source": [
    "//This converts an int representation of ip back to String\n",
    "i = InetAddress.getByName(String.valueOf(intRepresentation));\n",
    "String ip = i.getHostAddress();\n",
    "ip"
   ]
  },
  {
   "cell_type": "code",
   "execution_count": null,
   "metadata": {},
   "outputs": [],
   "source": []
  }
 ],
 "metadata": {
  "kernelspec": {
   "display_name": "Java [conda env:root]",
   "language": "java",
   "name": "conda-root-java"
  },
  "language_info": {
   "codemirror_mode": "java",
   "file_extension": ".jshell",
   "mimetype": "text/x-java-source",
   "name": "Java",
   "pygments_lexer": "java",
   "version": "18.0.1+10"
  }
 },
 "nbformat": 4,
 "nbformat_minor": 4
}
