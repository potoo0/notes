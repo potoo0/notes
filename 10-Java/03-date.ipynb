{
 "cells": [
  {
   "cell_type": "markdown",
   "metadata": {},
   "source": [
    "**after jdk1.8 should use new api: LocalDate, LocalDateTime, Instant**"
   ]
  },
  {
   "cell_type": "markdown",
   "metadata": {},
   "source": [
    "## 1. LocalDate, LocalDateTime, Instant"
   ]
  },
  {
   "cell_type": "code",
   "execution_count": 1,
   "metadata": {},
   "outputs": [
    {
     "name": "stdout",
     "output_type": "stream",
     "text": [
      "WARNING: sun.reflect.Reflection.getCallerClass is not supported. This will impact performance.\n",
      "2023-05-12 17:55:57.945 [IJava-executor-0] DEBUG test-jshell-log - --------------- test-jshell-log debug ------------------\n",
      "2023-05-12 17:55:57.949 [IJava-executor-0] ERROR test-jshell-log - --------------- test-jshell-log error ------------------\n",
      "2023-05-12 17:55:57.964 [IJava-executor-0] INFO  test-jshell-log - log to file: /var/log/jshell/jshell-20230512_175557.285.log\n"
     ]
    }
   ],
   "source": [
    "import java.time.*;"
   ]
  },
  {
   "cell_type": "code",
   "execution_count": 5,
   "metadata": {
    "tags": []
   },
   "outputs": [
    {
     "name": "stdout",
     "output_type": "stream",
     "text": [
      "Bill Duck\n",
      "{\n",
      "    \"firstName\": \"Bill\",\n",
      "    \"lastName\":  \"Duck\",\n",
      "    \"address\": \"---\"\n",
      "}\n",
      "\n"
     ]
    }
   ],
   "source": [
    "String firstName = \"Bill\";\n",
    "String lastName  = \"Duck\";\n",
    "String fullName  = STR.\"\\{firstName} \\{lastName}\";\n",
    "System.out.println(fullName);\n",
    "\n",
    "String json = STR.\"\"\"\n",
    "    {\n",
    "        \"firstName\": \"\\{firstName}\",\n",
    "        \"lastName\":  \"\\{lastName}\",\n",
    "        \"address\": \"---\"\n",
    "    }\n",
    "    \"\"\";\n",
    "System.out.println(json);"
   ]
  },
  {
   "cell_type": "code",
   "execution_count": 6,
   "metadata": {},
   "outputs": [
    {
     "name": "stdout",
     "output_type": "stream",
     "text": [
      "\u001b[36mtoday\u001b[0m: 2023-05-12\n"
     ]
    }
   ],
   "source": [
    "//Current Date\n",
    "LocalDate today = LocalDate.now();\n",
    "print(today);"
   ]
  },
  {
   "cell_type": "code",
   "execution_count": 7,
   "metadata": {},
   "outputs": [
    {
     "name": "stdout",
     "output_type": "stream",
     "text": [
      "\u001b[36mdate2\u001b[0m: 2023-01-01\n"
     ]
    }
   ],
   "source": [
    "// spec date\n",
    "LocalDate date2 = LocalDate.of(today.getYear(), Month.JANUARY, 1);\n",
    "print(date2);"
   ]
  },
  {
   "cell_type": "code",
   "execution_count": 8,
   "metadata": {},
   "outputs": [
    {
     "name": "stdout",
     "output_type": "stream",
     "text": [
      "\u001b[36minstantNow\u001b[0m: 2023-05-12T10:03:57.906729713Z\n",
      "\u001b[36minstantSpecMilli\u001b[0m: 2023-05-12T10:03:57.906Z\n"
     ]
    }
   ],
   "source": [
    "//Current timestamp\n",
    "Instant instantNow = Instant.now();\n",
    "print(instantNow);\n",
    "\n",
    "//Instant from timestamp\n",
    "Instant instantSpecMilli = Instant.ofEpochMilli(instantNow.toEpochMilli());\n",
    "print(instantSpecMilli);"
   ]
  },
  {
   "cell_type": "markdown",
   "metadata": {},
   "source": [
    "## 2. format"
   ]
  },
  {
   "cell_type": "markdown",
   "metadata": {},
   "source": [
    "### 2.1 jdk1.8 `DateTimeFormatter`(thread-safe)"
   ]
  },
  {
   "cell_type": "code",
   "execution_count": 9,
   "metadata": {},
   "outputs": [],
   "source": [
    "import java.time.format.DateTimeFormatter;\n",
    "import java.time.LocalDateTime;"
   ]
  },
  {
   "cell_type": "code",
   "execution_count": 10,
   "metadata": {},
   "outputs": [
    {
     "data": {
      "text/plain": [
       "\u001b[36mnow\u001b[0m: 2023-05-12T18:03:59.798453780"
      ]
     },
     "execution_count": 10,
     "metadata": {},
     "output_type": "execute_result"
    }
   ],
   "source": [
    "var now = LocalDateTime.now();\n",
    "now"
   ]
  },
  {
   "cell_type": "code",
   "execution_count": 11,
   "metadata": {},
   "outputs": [
    {
     "data": {
      "text/plain": [
       "\u001b[36mList.of(now.format(DateTimeForma...\u001b[0m: [2023-05-12, 2023-05-12 18:03:59]"
      ]
     },
     "execution_count": 11,
     "metadata": {},
     "output_type": "execute_result"
    }
   ],
   "source": [
    "var dateFormat1 = DateTimeFormatter.ofPattern(\"yyyy-MM-dd HH:mm:ss\");\n",
    "List.of(\n",
    "    now.format(DateTimeFormatter.ISO_DATE),\n",
    "    now.format(dateFormat1)\n",
    ");"
   ]
  },
  {
   "cell_type": "code",
   "execution_count": 15,
   "metadata": {
    "tags": []
   },
   "outputs": [
    {
     "data": {
      "text/plain": [
       "\u001b[36mtime\u001b[0m: The time is 18:04:27 right now"
      ]
     },
     "execution_count": 15,
     "metadata": {},
     "output_type": "execute_result"
    }
   ],
   "source": [
    "String time = STR.\"The time is \\{\n",
    "    // The java.time.format package is very useful\n",
    "    DateTimeFormatter\n",
    "      .ofPattern(\"HH:mm:ss\")\n",
    "      .format(LocalTime.now())\n",
    "} right now\";\n",
    "time"
   ]
  },
  {
   "cell_type": "code",
   "execution_count": null,
   "metadata": {
    "tags": []
   },
   "outputs": [],
   "source": []
  },
  {
   "cell_type": "code",
   "execution_count": 47,
   "metadata": {},
   "outputs": [
    {
     "name": "stdout",
     "output_type": "stream",
     "text": [
      "\u001b[36ms\u001b[0m: 2022-11-07 15:37:07\n"
     ]
    }
   ],
   "source": [
    "var s = dateFormat1.format(now);\n",
    "print(s);"
   ]
  },
  {
   "cell_type": "code",
   "execution_count": 49,
   "metadata": {},
   "outputs": [
    {
     "data": {
      "text/plain": [
       "\u001b[36mdateFormat1.parse(s)\u001b[0m: {},ISO resolved to 2022-11-07T15:37:07"
      ]
     },
     "execution_count": 49,
     "metadata": {},
     "output_type": "execute_result"
    }
   ],
   "source": [
    "dateFormat1.parse(s)"
   ]
  },
  {
   "cell_type": "markdown",
   "metadata": {},
   "source": [
    "### 2.2 `SimpleDateFormat`(not thread-safe)"
   ]
  },
  {
   "cell_type": "code",
   "execution_count": 50,
   "metadata": {},
   "outputs": [],
   "source": [
    "import java.text.SimpleDateFormat;\n",
    "\n",
    "SimpleDateFormat simpleDf = new SimpleDateFormat(\"yyyy-MM-dd HH:mm:ss\");"
   ]
  },
  {
   "cell_type": "code",
   "execution_count": 51,
   "metadata": {},
   "outputs": [
    {
     "data": {
      "text/plain": [
       "\u001b[36msimpleDf.parse(\"2022-11-0715:37:...\u001b[0m: Mon Nov 07 15:37:07 CST 2022"
      ]
     },
     "execution_count": 51,
     "metadata": {},
     "output_type": "execute_result"
    }
   ],
   "source": [
    "simpleDf.parse(\"2022-11-07 15:37:07\")"
   ]
  },
  {
   "cell_type": "code",
   "execution_count": 52,
   "metadata": {},
   "outputs": [
    {
     "data": {
      "text/plain": [
       "\u001b[36msimpleDf.format(newDate())\u001b[0m: 2022-11-07 15:50:57"
      ]
     },
     "execution_count": 52,
     "metadata": {},
     "output_type": "execute_result"
    }
   ],
   "source": [
    "simpleDf.format(new Date())"
   ]
  },
  {
   "cell_type": "code",
   "execution_count": null,
   "metadata": {},
   "outputs": [],
   "source": []
  }
 ],
 "metadata": {
  "kernelspec": {
   "display_name": "Java",
   "language": "java",
   "name": "java"
  },
  "language_info": {
   "codemirror_mode": "java",
   "file_extension": ".jshell",
   "mimetype": "text/x-java-source",
   "name": "Java",
   "pygments_lexer": "java",
   "version": "21-ea+22-1890"
  }
 },
 "nbformat": 4,
 "nbformat_minor": 4
}
