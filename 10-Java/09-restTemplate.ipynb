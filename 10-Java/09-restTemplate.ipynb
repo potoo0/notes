{
 "cells": [
  {
   "cell_type": "code",
   "execution_count": 1,
   "metadata": {},
   "outputs": [
    {
     "name": "stdout",
     "output_type": "stream",
     "text": [
      "\n",
      "----- printer init -----\n",
      "\n"
     ]
    }
   ],
   "source": [
    "%%loadFromPOM\n",
    "<!-- support http patch -->\n",
    "<dependency>\n",
    "    <groupId>org.apache.httpcomponents</groupId>\n",
    "    <artifactId>httpclient</artifactId>\n",
    "    <version>4.5.3</version>\n",
    "</dependency>\n",
    "\n",
    "<!-- https://mvnrepository.com/artifact/org.springframework/spring-web -->\n",
    "<dependency>\n",
    "    <groupId>org.springframework</groupId>\n",
    "    <artifactId>spring-web</artifactId>\n",
    "    <version>5.3.19</version>\n",
    "</dependency>"
   ]
  },
  {
   "cell_type": "code",
   "execution_count": 1,
   "metadata": {},
   "outputs": [
    {
     "name": "stdout",
     "output_type": "stream",
     "text": [
      "\n",
      "----- printer init -----\n",
      "\n"
     ]
    }
   ],
   "source": [
    "String a = \"a\""
   ]
  },
  {
   "cell_type": "code",
   "execution_count": 3,
   "metadata": {},
   "outputs": [],
   "source": [
    "var a = \"aaa\""
   ]
  },
  {
   "cell_type": "code",
   "execution_count": 4,
   "metadata": {},
   "outputs": [
    {
     "ename": "CompilationException",
     "evalue": "",
     "output_type": "error",
     "traceback": [
      "\u001b[1m\u001b[30m|   \u001b[1m\u001b[30ma = \u001b[0m\u001b[1m\u001b[30m\u001b[41m1\u001b[0m\u001b[1m\u001b[30m\u001b[0m",
      "\u001b[1m\u001b[31mincompatible types: int cannot be converted to java.lang.String\u001b[0m",
      ""
     ]
    }
   ],
   "source": [
    "a = 1"
   ]
  },
  {
   "cell_type": "code",
   "execution_count": 18,
   "metadata": {},
   "outputs": [
    {
     "data": {
      "text/plain": [
       "false"
      ]
     },
     "execution_count": 18,
     "metadata": {},
     "output_type": "execute_result"
    }
   ],
   "source": [
    "null instanceof Boolean"
   ]
  },
  {
   "cell_type": "markdown",
   "metadata": {},
   "source": [
    "### 1. url build"
   ]
  },
  {
   "cell_type": "code",
   "execution_count": 2,
   "metadata": {},
   "outputs": [],
   "source": [
    "import org.springframework.web.util.UriComponentsBuilder;"
   ]
  },
  {
   "cell_type": "code",
   "execution_count": 10,
   "metadata": {},
   "outputs": [
    {
     "name": "stdout",
     "output_type": "stream",
     "text": [
      "printer| var-7: http://host:8080/a1/2?a=a&b=b b\n"
     ]
    }
   ],
   "source": [
    "UriComponentsBuilder builder = UriComponentsBuilder.fromHttpUrl(\"http://host:8080/a\").path(\"1\").path(\"/2\");\n",
    "builder.queryParam(\"a\", \"a\").queryParam(\"b\", \"b b\");\n",
    "print(builder.build().toUriString())"
   ]
  },
  {
   "cell_type": "code",
   "execution_count": 6,
   "metadata": {},
   "outputs": [
    {
     "ename": "CompilationException",
     "evalue": "",
     "output_type": "error",
     "traceback": [
      "\u001b[1m\u001b[30m|   \u001b[1m\u001b[30mUriComponentsBuilder builder = UriComponentsBuilder.fromUri(\u001b[0m\u001b[1m\u001b[30m\u001b[41m\"host:8080/a/\"\u001b[0m\u001b[1m\u001b[30m).path(\"1\").path(\"/2\");\u001b[0m",
      "\u001b[1m\u001b[31mincompatible types: java.lang.String cannot be converted to java.net.URI\u001b[0m",
      ""
     ]
    }
   ],
   "source": [
    "UriComponentsBuilder builder = UriComponentsBuilder.fromHttpUrl(\"host:8080/a/\").path(\"1\").path(\"/2\");\n",
    "builder.queryParam(\"a\", \"a\").queryParam(\"b\", \"b b\");\n",
    "print(builder.toUriString())"
   ]
  },
  {
   "cell_type": "markdown",
   "metadata": {},
   "source": [
    "### 2. send"
   ]
  },
  {
   "cell_type": "code",
   "execution_count": null,
   "metadata": {},
   "outputs": [],
   "source": [
    "private static final ScheduledExecutorService scheduledExecutorService = Executors.newSingleThreadScheduledExecutor();\n",
    "    private static final int CONNECTION_MAX_TOTAL = 100;"
   ]
  },
  {
   "cell_type": "code",
   "execution_count": null,
   "metadata": {},
   "outputs": [],
   "source": [
    "//忽略HTTPS证书\n",
    "TrustStrategy trustStrategy = (x509Certificates, authType) -> true;\n",
    "SSLContext sslContext = null;\n",
    "try{\n",
    "    sslContext = SSLContexts.custom().loadTrustMaterial(null, trustStrategy).build();\n",
    "} catch (Exception e){\n",
    "    log.error(e.getMessage(), e);\n",
    "}\n",
    "Objects.requireNonNull(sslContext);\n",
    "Registry<ConnectionSocketFactory> registry = RegistryBuilder.<ConnectionSocketFactory>create()\n",
    "        .register(\"http\", PlainConnectionSocketFactory.getSocketFactory())\n",
    "        .register(\"https\", new SSLConnectionSocketFactory(sslContext, new NoopHostnameVerifier()))\n",
    "        .build();\n",
    "//使用连接池\n",
    "PoolingHttpClientConnectionManager connectionManager = new PoolingHttpClientConnectionManager(registry);\n",
    "connectionManager.setMaxTotal(CONNECTION_MAX_TOTAL);//总的最大连接数\n",
    "connectionManager.setDefaultMaxPerRoute(CONNECTION_MAX_TOTAL);//每host\n",
    "\n",
    "HttpClient httpClient = HttpClientBuilder.create()\n",
    "        .setSSLContext(sslContext).setSSLHostnameVerifier(new NoopHostnameVerifier())\n",
    "        .setConnectionManager(connectionManager).evictExpiredConnections()\n",
    "        .build();\n",
    "\n",
    "//SimpleClientHttpRequestFactory factory = new SimpleClientHttpRequestFactory();\n",
    "HttpComponentsClientHttpRequestFactory factory = new HttpComponentsClientHttpRequestFactory(httpClient);\n",
    "//建立连接后读取数据超时时间\n",
    "factory.setReadTimeout(60000);//ms\n",
    "//建立连接超时时间\n",
    "factory.setConnectTimeout(5000);//ms\n",
    "\n",
    "restTemplate = new RestTemplate(factory);\n",
    "MappingJackson2HttpMessageConverter converter = new MappingJackson2HttpMessageConverter();\n",
    "converter.getObjectMapper().setPropertyNamingStrategy(PropertyNamingStrategy.SNAKE_CASE);\n",
    "converter.getObjectMapper().setSerializationInclusion(JsonInclude.Include.NON_NULL);\n",
    "converter.getObjectMapper().configure(DeserializationFeature.FAIL_ON_UNKNOWN_PROPERTIES, false);\n",
    "restTemplate.getMessageConverters().add(0, converter);\n",
    "\n",
    "List<ClientHttpRequestInterceptor> interceptors = new ArrayList<>();\n",
    "interceptors.add((request, body, execution) -> {\n",
    "    log.debug(\"request stack url = {}\", request.getURI());\n",
    "    if (body.length > 0) {\n",
    "        log.debug(\"request stack body={}\", new String(body, \"utf-8\"));\n",
    "    }\n",
    "    request.getHeaders().setContentType(MediaType.APPLICATION_JSON);\n",
    "    if (isRequestNeedAuth(request)) {\n",
    "        addAuthTokenHeader(request);\n",
    "    }\n",
    "    ClientHttpResponse response = execution.execute(request, body);\n",
    "    return response;\n",
    "});\n",
    "restTemplate.setInterceptors(interceptors);\n",
    "//自动刷新token,每2分钟执行1次，token在过期时间前10分钟刷新\n",
    "scheduledExecutorService.scheduleWithFixedDelay(new Runnable() {\n",
    "    @Override\n",
    "    public void run() {\n",
    "        try {\n",
    "            refreshTokenIfNeed();\n",
    "        } catch (Exception e) {\n",
    "            log.error(e.getMessage(), e);\n",
    "        }\n",
    "    }\n",
    "}, 2, 120, TimeUnit.SECONDS);"
   ]
  },
  {
   "cell_type": "code",
   "execution_count": null,
   "metadata": {},
   "outputs": [],
   "source": [
    "ParameterizedTypeReference<List<JobInfo>> reference = new ParameterizedTypeReference<List<JobInfo>>() {\n",
    "};\n",
    "ResponseEntity<List<JobInfo>> forEntity = restTemplate.exchange(url, HttpMethod.GET, null, reference);"
   ]
  }
 ],
 "metadata": {
  "kernelspec": {
   "display_name": "Java [conda env:root]",
   "language": "java",
   "name": "conda-root-java"
  },
  "language_info": {
   "codemirror_mode": "java",
   "file_extension": ".jshell",
   "mimetype": "text/x-java-source",
   "name": "Java",
   "pygments_lexer": "java",
   "version": "18.0.1+10"
  }
 },
 "nbformat": 4,
 "nbformat_minor": 4
}
