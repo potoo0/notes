{
 "cells": [
  {
   "cell_type": "code",
   "execution_count": 1,
   "metadata": {},
   "outputs": [],
   "source": [
    "%%loadFromPOM\n",
    "<repository>\n",
    "  <id>aliyun</id>\n",
    "  <url>https://maven.aliyun.com/repository/central</url>\n",
    "</repository>\n",
    "\n",
    "<dependency>\n",
    "    <groupId>org.apache.commons</groupId>\n",
    "    <artifactId>commons-lang3</artifactId>\n",
    "    <version>3.9</version>\n",
    "</dependency>"
   ]
  },
  {
   "cell_type": "code",
   "execution_count": 3,
   "metadata": {},
   "outputs": [],
   "source": [
    "enum Alpha {\n",
    "    a,b,c\n",
    "}"
   ]
  },
  {
   "cell_type": "code",
   "execution_count": 7,
   "metadata": {},
   "outputs": [
    {
     "ename": "EvalException",
     "evalue": "No enum constant REPL.$JShell$26.Alpha.A",
     "output_type": "error",
     "traceback": [
      "\u001b[1m\u001b[31m---------------------------------------------------------------------------\u001b[0m",
      "\u001b[1m\u001b[31mjava.lang.IllegalArgumentException: No enum constant REPL.$JShell$26.Alpha.A\u001b[0m",
      "\u001b[1m\u001b[31m\tat java.base/java.lang.Enum.valueOf(Enum.java:240)\u001b[0m",
      "\u001b[1m\u001b[31m\tat Alpha.valueOf(#26:1)\u001b[0m",
      "\u001b[1m\u001b[31m\tat .(#30:1)\u001b[0m"
     ]
    }
   ],
   "source": [
    "Alpha.valueOf(\"A\")"
   ]
  },
  {
   "cell_type": "markdown",
   "metadata": {},
   "source": [
    "# 1. format"
   ]
  },
  {
   "cell_type": "markdown",
   "metadata": {},
   "source": [
    "## 1.1 String.format"
   ]
  },
  {
   "cell_type": "code",
   "execution_count": 9,
   "metadata": {},
   "outputs": [
    {
     "data": {
      "text/plain": [
       "name=rick, age='99999999999999'"
      ]
     },
     "execution_count": 9,
     "metadata": {},
     "output_type": "execute_result"
    }
   ],
   "source": [
    "String.format(\n",
    "    \"name=%s, age='%d'\",\n",
    "    \"rick\",\n",
    "    99999999999999L\n",
    ")"
   ]
  },
  {
   "cell_type": "markdown",
   "metadata": {},
   "source": [
    "## 1.2 MessageFormat.format"
   ]
  },
  {
   "cell_type": "code",
   "execution_count": 2,
   "metadata": {},
   "outputs": [],
   "source": [
    "import java.text.MessageFormat;"
   ]
  },
  {
   "cell_type": "code",
   "execution_count": 15,
   "metadata": {},
   "outputs": [
    {
     "data": {
      "text/plain": [
       "my name is rick, where 9,999 and 888 --- and where 9,999 and 888"
      ]
     },
     "execution_count": 15,
     "metadata": {},
     "output_type": "execute_result"
    }
   ],
   "source": [
    "String name = \"rick\";\n",
    "String base = \"my name is {0}, where {1} and {2} --- and where {1} and {2}\";\n",
    "MessageFormat.format(base, name, 9999, 888);"
   ]
  },
  {
   "cell_type": "code",
   "execution_count": 18,
   "metadata": {},
   "outputs": [
    {
     "data": {
      "text/plain": [
       "my name is 'rick', where 9,999 and 888 --- and where 9,999 and 888"
      ]
     },
     "execution_count": 18,
     "metadata": {},
     "output_type": "execute_result"
    }
   ],
   "source": [
    "String name = \"rick\";\n",
    "String base = \"my name is ''{0}'', where {1} and {2} --- and where {1} and {2}\";\n",
    "MessageFormat.format(base, name, 9999, 888);"
   ]
  },
  {
   "cell_type": "code",
   "execution_count": 23,
   "metadata": {},
   "outputs": [
    {
     "data": {
      "text/plain": [
       "{a=aaa, b=bbbb}"
      ]
     },
     "execution_count": 23,
     "metadata": {},
     "output_type": "execute_result"
    }
   ],
   "source": [
    "Map<String, String> param = new HashMap<String, String>(){{\n",
    "    put(\"a\", \"aaa\");\n",
    "    put(\"b\", \"bbbb\");\n",
    "}};\n",
    "param"
   ]
  },
  {
   "cell_type": "code",
   "execution_count": 13,
   "metadata": {},
   "outputs": [],
   "source": [
    "String baseSql = \"\" +\n",
    "                \"select * \\n\" +\n",
    "                \"from {0} \\n\" +\n",
    "                \"where op_date in ( \\n\" +\n",
    "                \"    select distinct op_date \\n\" +\n",
    "                \"    from thresh \\n\" +\n",
    "                \"    where biz_id = ''{1}'' \\n\" +\n",
    "                \"      and item_id = ''{2}'' \\n\" +\n",
    "                \"  ) \\n\" +\n",
    "                \"  and biz_id = ''{1}'' \\n\" +\n",
    "                \"  and item_id = ''{2}'' \\n\" +\n",
    "                \"order by op_date, thresh_time\";"
   ]
  },
  {
   "cell_type": "code",
   "execution_count": 24,
   "metadata": {},
   "outputs": [
    {
     "data": {
      "text/plain": [
       "select * \n",
       "from aaa \n",
       "where op_date in ( \n",
       "    select distinct op_date \n",
       "    from thresh \n",
       "    where biz_id = 'bbbb' \n",
       "      and item_id = '4444' \n",
       "  ) \n",
       "  and biz_id = 'bbbb' \n",
       "  and item_id = '4444' \n",
       "order by op_date, thresh_time"
      ]
     },
     "execution_count": 24,
     "metadata": {},
     "output_type": "execute_result"
    }
   ],
   "source": [
    "MessageFormat.format(baseSql, param.get(\"a\"), param.get(\"b\"), \"4444\");"
   ]
  },
  {
   "cell_type": "markdown",
   "metadata": {},
   "source": [
    "## 1.3 sql match"
   ]
  },
  {
   "cell_type": "code",
   "execution_count": 20,
   "metadata": {},
   "outputs": [
    {
     "data": {
      "text/plain": [
       "  show    \n",
       " \t       tables "
      ]
     },
     "execution_count": 20,
     "metadata": {},
     "output_type": "execute_result"
    }
   ],
   "source": [
    "String sql = \"  show    \\n \\t       tables \";\n",
    "sql"
   ]
  },
  {
   "cell_type": "code",
   "execution_count": 21,
   "metadata": {},
   "outputs": [
    {
     "data": {
      "text/plain": [
       "show tables"
      ]
     },
     "execution_count": 21,
     "metadata": {},
     "output_type": "execute_result"
    }
   ],
   "source": [
    "sql.trim().replaceAll(\"\\\\s+\", \" \").toLowerCase()"
   ]
  },
  {
   "cell_type": "markdown",
   "metadata": {},
   "source": [
    "# 2. replace"
   ]
  },
  {
   "cell_type": "markdown",
   "metadata": {},
   "source": [
    "## 2.1 replaceAll by regex"
   ]
  },
  {
   "cell_type": "code",
   "execution_count": 2,
   "metadata": {},
   "outputs": [
    {
     "data": {
      "text/plain": [
       "select * from a where op_date='tom' and id=23"
      ]
     },
     "execution_count": 2,
     "metadata": {},
     "output_type": "execute_result"
    }
   ],
   "source": [
    "String sql = \"select * from a where op_date='${opDate}' and id=${id}\";\n",
    "Map<String, String> arguments = new HashMap(){{\n",
    "    put(\"opDate\", \"tom\");\n",
    "    put(\"id\", \"23\");\n",
    "}};\n",
    "\n",
    "public static String format(String sql, Map<String, String> args){\n",
    "    for (Map.Entry<String, String> entry : args.entrySet()) {\n",
    "        sql = sql.replaceAll(\"\\\\$\\\\{\" + entry.getKey() + \"}\", entry.getValue());\n",
    "    }\n",
    "    return sql;\n",
    "}\n",
    "format(sql, arguments)"
   ]
  },
  {
   "cell_type": "code",
   "execution_count": 7,
   "metadata": {},
   "outputs": [
    {
     "data": {
      "text/plain": [
       "camel_case"
      ]
     },
     "execution_count": 7,
     "metadata": {},
     "output_type": "execute_result"
    }
   ],
   "source": [
    "String camelCase = \"camelCase\";\n",
    "camelCase.replaceAll(\"\\\\B([A-Z])\", \"_$1\").toLowerCase()"
   ]
  },
  {
   "cell_type": "markdown",
   "metadata": {},
   "source": [
    "#### example: only remain word"
   ]
  },
  {
   "cell_type": "code",
   "execution_count": null,
   "metadata": {},
   "outputs": [],
   "source": [
    "// String camelCase = \"camelCase\";\n",
    "// camelCase.replaceAll(\"\\\\B([A-Z])\", \"_$1\").toLowerCase()"
   ]
  },
  {
   "cell_type": "markdown",
   "metadata": {},
   "source": [
    "# 3. commons-lang3"
   ]
  },
  {
   "cell_type": "code",
   "execution_count": 3,
   "metadata": {},
   "outputs": [],
   "source": [
    "import org.apache.commons.lang3.StringUtils;"
   ]
  },
  {
   "cell_type": "code",
   "execution_count": 4,
   "metadata": {},
   "outputs": [
    {
     "data": {
      "text/plain": [
       "id_s"
      ]
     },
     "execution_count": 4,
     "metadata": {},
     "output_type": "execute_result"
    }
   ],
   "source": [
    "StringUtils.stripStart(\"parent.id_s\", \"parent.\")"
   ]
  },
  {
   "cell_type": "code",
   "execution_count": 9,
   "metadata": {},
   "outputs": [],
   "source": [
    "StringBuilder builder = new StringBuilder();\n",
    "builder.append('a');\n",
    "builder.append('b');\n",
    "builder.append('c');\n",
    "\n",
    "builder.setCharAt(0, Character.toUpperCase(builder.charAt(0)))"
   ]
  },
  {
   "cell_type": "code",
   "execution_count": null,
   "metadata": {},
   "outputs": [],
   "source": []
  }
 ],
 "metadata": {
  "kernelspec": {
   "display_name": "Java [conda env:root]",
   "language": "java",
   "name": "conda-root-java"
  },
  "language_info": {
   "codemirror_mode": "java",
   "file_extension": ".jshell",
   "mimetype": "text/x-java-source",
   "name": "Java",
   "pygments_lexer": "java",
   "version": "18.0.1+10"
  }
 },
 "nbformat": 4,
 "nbformat_minor": 4
}
