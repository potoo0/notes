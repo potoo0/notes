{
 "cells": [
  {
   "cell_type": "markdown",
   "metadata": {},
   "source": [
    "## add dep\n",
    "\n",
    "most common use:\n",
    "\n",
    "1. line magic: `jars`: `List<String> addedJars = %jars ./libs/*.jar`\n",
    "2. cell magic: `loadFromPOM`:\n",
    "    ```xml\n",
    "    %%loadFromPOM\n",
    "    <repository>\n",
    "      <id>aliyun</id>\n",
    "      <url>https://maven.aliyun.com/repository/central</url>\n",
    "    </repository>\n",
    "\n",
    "    <dependency>\n",
    "        <groupId>com.jcraft</groupId>\n",
    "        <artifactId>jsch</artifactId>\n",
    "        <version>0.1.55</version>\n",
    "    </dependency>\n",
    "    <dependency>\n",
    "        <groupId>org.projectlombok</groupId>\n",
    "        <artifactId>lombok</artifactId>\n",
    "        <version>1.18.22</version>\n",
    "    </dependency>\n",
    "    ```"
   ]
  },
  {
   "cell_type": "code",
   "execution_count": 1,
   "metadata": {
    "tags": []
   },
   "outputs": [
    {
     "name": "stdout",
     "output_type": "stream",
     "text": [
      "WARNING: sun.reflect.Reflection.getCallerClass is not supported. This will impact performance.\n",
      "2023-03-10 22:16:51.347 [IJava-executor-0] DEBUG test-jshell-log - --------------- test-jshell-log debug ------------------\n",
      "2023-03-10 22:16:51.350 [IJava-executor-0] ERROR test-jshell-log - --------------- test-jshell-log error ------------------\n",
      "2023-03-10 22:16:51.351 [IJava-executor-0] INFO  test-jshell-log - log to file: C:\\Users\\potoo\\AppData\\Local\\Temp\\/log/jshell/jshell-20230310_221651.107.log\n"
     ]
    },
    {
     "data": {
      "text/plain": [
       "\u001b[36maddedJars\u001b[0m: [G:\\0-code\\Python\\01-notebooks\\0-Java\\.\\.\\libs\\sdnc-0.0.1-SNAPSHOT.jar]"
      ]
     },
     "execution_count": 1,
     "metadata": {},
     "output_type": "execute_result"
    }
   ],
   "source": [
    "List<String> addedJars = %jars ./libs/*.jar\n",
    "\n",
    "addedJars"
   ]
  },
  {
   "cell_type": "code",
   "execution_count": 1,
   "metadata": {},
   "outputs": [
    {
     "name": "stdout",
     "output_type": "stream",
     "text": [
      "WARNING: sun.reflect.Reflection.getCallerClass is not supported. This will impact performance.\n",
      "2022-11-07 14:06:16.150 [IJava-executor-0] DEBUG test-jshell-log - --------------- test-jshell-log debug ------------------\n",
      "2022-11-07 14:06:16.153 [IJava-executor-0] ERROR test-jshell-log - --------------- test-jshell-log error ------------------\n",
      "2022-11-07 14:06:16.155 [IJava-executor-0] INFO  test-jshell-log - log to file: /var/log/jshell/jshell-20221107_140615.539.log\n"
     ]
    },
    {
     "name": "stderr",
     "output_type": "stream",
     "text": [
      "SLF4J: Failed to load class \"org.slf4j.impl.StaticLoggerBinder\".\n",
      "SLF4J: Defaulting to no-operation (NOP) logger implementation\n",
      "SLF4J: See http://www.slf4j.org/codes.html#StaticLoggerBinder for further details.\n"
     ]
    }
   ],
   "source": [
    "%%loadFromPOM\n",
    "<repository>\n",
    "  <id>aliyun</id>\n",
    "  <url>https://maven.aliyun.com/repository/central</url>\n",
    "</repository>\n",
    "\n",
    "<dependency>\n",
    "    <groupId>com.jcraft</groupId>\n",
    "    <artifactId>jsch</artifactId>\n",
    "    <version>0.1.55</version>\n",
    "</dependency>\n",
    "<dependency>\n",
    "    <groupId>org.projectlombok</groupId>\n",
    "    <artifactId>lombok</artifactId>\n",
    "    <version>1.18.22</version>\n",
    "</dependency>"
   ]
  },
  {
   "cell_type": "code",
   "execution_count": 14,
   "metadata": {
    "tags": []
   },
   "outputs": [
    {
     "ename": "CompilationException",
     "evalue": "",
     "output_type": "error",
     "traceback": [
      "\u001b[1m\u001b[30m|   \u001b[1m\u001b[30mimport \u001b[0m\u001b[1m\u001b[30m\u001b[41mcom.example\u001b[0m\u001b[1m\u001b[30m;\u001b[0m",
      "\u001b[1m\u001b[31m程序包com不存在\u001b[0m",
      ""
     ]
    }
   ],
   "source": [
    "import com.example."
   ]
  },
  {
   "cell_type": "code",
   "execution_count": null,
   "metadata": {},
   "outputs": [],
   "source": []
  }
 ],
 "metadata": {
  "kernelspec": {
   "display_name": "Java",
   "language": "java",
   "name": "java"
  },
  "language_info": {
   "codemirror_mode": "java",
   "file_extension": ".jshell",
   "mimetype": "text/x-java-source",
   "name": "Java",
   "pygments_lexer": "java",
   "version": "17.0.5+9-LTS-191"
  }
 },
 "nbformat": 4,
 "nbformat_minor": 4
}
