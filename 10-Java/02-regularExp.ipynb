{
 "cells": [
  {
   "cell_type": "code",
   "execution_count": 1,
   "metadata": {},
   "outputs": [
    {
     "name": "stdout",
     "output_type": "stream",
     "text": [
      "WARNING: sun.reflect.Reflection.getCallerClass is not supported. This will impact performance.\n",
      "2022-11-07 15:52:30.447 [IJava-executor-0] DEBUG test-jshell-log - --------------- test-jshell-log debug ------------------\n",
      "2022-11-07 15:52:30.452 [IJava-executor-0] ERROR test-jshell-log - --------------- test-jshell-log error ------------------\n",
      "2022-11-07 15:52:30.454 [IJava-executor-0] INFO  test-jshell-log - log to file: /var/log/jshell/jshell-20221107_155230.161.log\n"
     ]
    }
   ],
   "source": [
    "import java.util.regex.*;"
   ]
  },
  {
   "cell_type": "markdown",
   "metadata": {
    "tags": []
   },
   "source": [
    "## 1. extract\n",
    "\n",
    "捕获组说明:\n",
    "对于表达式 `( (A) (B (C) ) )`:\n",
    "\n",
    "0. group(0) 匹配整个表达式, 不包含在 groupCount 内\n",
    "1. group(1): (A)\n",
    "2. group(2): (B (C) )\n",
    "3. group(3): C\n",
    "\n",
    "\n",
    "捕获组可以命名：\n",
    "\n",
    "- `(?<groupName>regpattern)`"
   ]
  },
  {
   "cell_type": "code",
   "execution_count": 2,
   "metadata": {},
   "outputs": [],
   "source": [
    "Pattern idPattern = Pattern.compile(\"id=(?<id>\\\\w+)\");"
   ]
  },
  {
   "cell_type": "code",
   "execution_count": 3,
   "metadata": {},
   "outputs": [
    {
     "data": {
      "text/plain": [
       "\u001b[36mm.find()?m.group(\"id\"):-1\u001b[0m: a123"
      ]
     },
     "execution_count": 3,
     "metadata": {},
     "output_type": "execute_result"
    }
   ],
   "source": [
    "Matcher m = idPattern.matcher(\"id=a123\");\n",
    "m.find() ? m.group(\"id\") : -1"
   ]
  },
  {
   "cell_type": "markdown",
   "metadata": {},
   "source": [
    "## 2. 匹配模式\n",
    "\n",
    "multiple flags join by `|`\n",
    "\n",
    "| 编译标志                      | 效果                                                         |\n",
    "| ----------------------------- | ------------------------------------------------------------ |\n",
    "| Pattern.CANON_EQ              | 当且仅当两个字符的\"正规分解(canonical decomposition)\"都完全相同的情况下，才认定匹配。比如用了这个标志之后，表达式\"a/u030A\"会匹配\"?\"。默认情况下，不考虑\"规范相等性(canonical equivalence)\"。 |\n",
    "| Pattern.CASE_INSENSITIVE (?i) | 默认情况下，大小写不明感的匹配只适用于US-ASCII字符集。这个标志能让表达式忽略大小写进行匹配。要想对Unicode字符进行大小不明感的匹配，只要将UNICODE_CASE与这个标志合起来就行了。 |\n",
    "| Pattern.COMMENTS (?x)         | 在这种模式下，匹配时会忽略(正则表达式里的)空格字符(注：不是指表达式里的\"//s\"，而是指表达式里的空格，tab，回车之类)。注释从#开始，一直到这行结束。可以通过嵌入式的标志来启用Unix行模式。 |\n",
    "| Pattern.DOTALL (?s)           | 在这种模式下，表达式'.'可以匹配任意字符，包括表示一行的结束符。默认情况下，表达式'.'不匹配行的结束符。 |\n",
    "| Pattern.MULTILINE (?m)        | 在这种模式下，'^'和 '$' 分别匹配一行的开始和结束。此外，'^'仍然匹配字符串的开始，'$'也匹配字符串的结束。默认情况下，这两个表达式仅仅匹配字符串的开始和结束。 |\n",
    "| Pattern.UNICODE_CASE (?u)     | 在这个模式下，如果你还启用了CASE_INSENSITIVE标志，那么它会对Unicode字符进行大小写不明感的匹配。默认情况下，大小写不明感的匹配只适用于US-ASCII字符集。 |\n",
    "| Pattern.UNIX_LINES (?d)       | 在这个模式下，只有'/n'才被认作一行的中止，并且与'.'，'^'，以及'$'进行匹配。 |"
   ]
  },
  {
   "cell_type": "code",
   "execution_count": 6,
   "metadata": {},
   "outputs": [],
   "source": [
    "var pattern = Pattern.compile(\"id=(?<id>\\\\w+)\", Pattern.CASE_INSENSITIVE);\n",
    "\n",
    "// multi flags\n",
    "var pattern = Pattern.compile(\"id=(?<id>\\\\w+)\", Pattern.CASE_INSENSITIVE | Pattern.DOTALL);"
   ]
  },
  {
   "cell_type": "code",
   "execution_count": null,
   "metadata": {},
   "outputs": [],
   "source": []
  },
  {
   "cell_type": "code",
   "execution_count": null,
   "metadata": {},
   "outputs": [],
   "source": []
  }
 ],
 "metadata": {
  "kernelspec": {
   "display_name": "Java [conda env:root]",
   "language": "java",
   "name": "conda-root-java"
  },
  "language_info": {
   "codemirror_mode": "java",
   "file_extension": ".jshell",
   "mimetype": "text/x-java-source",
   "name": "Java",
   "pygments_lexer": "java",
   "version": "18.0.1+10"
  }
 },
 "nbformat": 4,
 "nbformat_minor": 4
}
